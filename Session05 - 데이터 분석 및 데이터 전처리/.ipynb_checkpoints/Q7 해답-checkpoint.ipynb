{
 "cells": [
  {
   "cell_type": "code",
   "execution_count": 1,
   "metadata": {},
   "outputs": [],
   "source": [
    "## 1\n",
    " ## A01지역의 2015년도 제품별 평균판매량이 가장 높은 상품 3개는?\n",
    " \n",
    " ## step1: 변수선언\n",
    "    # target\n",
    "\n",
    "\n",
    "\n",
    "## 2\n",
    "\n",
    "# step1: 변수선언\n",
    "  #  targetYear = 2015\n",
    "   # targetRegion: \"A01\"\n",
    "# step2: 데이터 필터: (변수선언조건 활용)\n",
    "# step3: 제품기준 distinct -> (drop_duplicates())\n",
    "         # or 제품키를 기준으로 그룹바이(count)\n",
    "    \n",
    "    \n",
    "## 3\n",
    "\n",
    "# step1: 변수선언\n",
    "    # targetYear = 2015\n",
    "    # targetTerm: 1~13\n",
    "# step2: 그룹키(지역) 그룹함수(mean)\n",
    "# step3: 데이터 필터: (변수선언조건 활용)\n",
    "# step4: 정렬 and rank\n",
    "# step5: rank >= targetRank"
   ]
  },
  {
   "cell_type": "code",
   "execution_count": 22,
   "metadata": {},
   "outputs": [],
   "source": [
    "import pandas as pd\n",
    "import numpy as np"
   ]
  },
  {
   "cell_type": "code",
   "execution_count": null,
   "metadata": {},
   "outputs": [],
   "source": [
    "selloutData = pd.read_csv(\"../dataset/kopo_channel_seasonality_new.csv\")"
   ]
  },
  {
   "cell_type": "code",
   "execution_count": 24,
   "metadata": {},
   "outputs": [
    {
     "data": {
      "text/html": [
       "<div>\n",
       "<style scoped>\n",
       "    .dataframe tbody tr th:only-of-type {\n",
       "        vertical-align: middle;\n",
       "    }\n",
       "\n",
       "    .dataframe tbody tr th {\n",
       "        vertical-align: top;\n",
       "    }\n",
       "\n",
       "    .dataframe thead th {\n",
       "        text-align: right;\n",
       "    }\n",
       "</style>\n",
       "<table border=\"1\" class=\"dataframe\">\n",
       "  <thead>\n",
       "    <tr style=\"text-align: right;\">\n",
       "      <th></th>\n",
       "      <th>REGIONID</th>\n",
       "      <th>PRODUCT</th>\n",
       "      <th>YEARWEEK</th>\n",
       "      <th>QTY</th>\n",
       "    </tr>\n",
       "  </thead>\n",
       "  <tbody>\n",
       "    <tr>\n",
       "      <th>0</th>\n",
       "      <td>A60</td>\n",
       "      <td>PRODUCT4</td>\n",
       "      <td>201402</td>\n",
       "      <td>71.0</td>\n",
       "    </tr>\n",
       "    <tr>\n",
       "      <th>1</th>\n",
       "      <td>A60</td>\n",
       "      <td>PRODUCT59</td>\n",
       "      <td>201402</td>\n",
       "      <td>22275.0</td>\n",
       "    </tr>\n",
       "    <tr>\n",
       "      <th>2</th>\n",
       "      <td>A60</td>\n",
       "      <td>PRODUCT34</td>\n",
       "      <td>201402</td>\n",
       "      <td>4463.0</td>\n",
       "    </tr>\n",
       "    <tr>\n",
       "      <th>3</th>\n",
       "      <td>A60</td>\n",
       "      <td>PRODUCT47</td>\n",
       "      <td>201402</td>\n",
       "      <td>0.0</td>\n",
       "    </tr>\n",
       "    <tr>\n",
       "      <th>4</th>\n",
       "      <td>A60</td>\n",
       "      <td>PRODUCT56</td>\n",
       "      <td>201402</td>\n",
       "      <td>23.0</td>\n",
       "    </tr>\n",
       "    <tr>\n",
       "      <th>...</th>\n",
       "      <td>...</td>\n",
       "      <td>...</td>\n",
       "      <td>...</td>\n",
       "      <td>...</td>\n",
       "    </tr>\n",
       "    <tr>\n",
       "      <th>124653</th>\n",
       "      <td>A10</td>\n",
       "      <td>PRODUCT60</td>\n",
       "      <td>201630</td>\n",
       "      <td>824.0</td>\n",
       "    </tr>\n",
       "    <tr>\n",
       "      <th>124654</th>\n",
       "      <td>A10</td>\n",
       "      <td>PRODUCT56</td>\n",
       "      <td>201630</td>\n",
       "      <td>275.0</td>\n",
       "    </tr>\n",
       "    <tr>\n",
       "      <th>124655</th>\n",
       "      <td>A10</td>\n",
       "      <td>PRODUCT61</td>\n",
       "      <td>201630</td>\n",
       "      <td>0.0</td>\n",
       "    </tr>\n",
       "    <tr>\n",
       "      <th>124656</th>\n",
       "      <td>A10</td>\n",
       "      <td>PRODUCT12</td>\n",
       "      <td>201630</td>\n",
       "      <td>15021.0</td>\n",
       "    </tr>\n",
       "    <tr>\n",
       "      <th>124657</th>\n",
       "      <td>A10</td>\n",
       "      <td>PRODUCT1</td>\n",
       "      <td>201630</td>\n",
       "      <td>568.0</td>\n",
       "    </tr>\n",
       "  </tbody>\n",
       "</table>\n",
       "<p>124658 rows × 4 columns</p>\n",
       "</div>"
      ],
      "text/plain": [
       "       REGIONID    PRODUCT  YEARWEEK      QTY\n",
       "0           A60   PRODUCT4    201402     71.0\n",
       "1           A60  PRODUCT59    201402  22275.0\n",
       "2           A60  PRODUCT34    201402   4463.0\n",
       "3           A60  PRODUCT47    201402      0.0\n",
       "4           A60  PRODUCT56    201402     23.0\n",
       "...         ...        ...       ...      ...\n",
       "124653      A10  PRODUCT60    201630    824.0\n",
       "124654      A10  PRODUCT56    201630    275.0\n",
       "124655      A10  PRODUCT61    201630      0.0\n",
       "124656      A10  PRODUCT12    201630  15021.0\n",
       "124657      A10   PRODUCT1    201630    568.0\n",
       "\n",
       "[124658 rows x 4 columns]"
      ]
     },
     "execution_count": 24,
     "metadata": {},
     "output_type": "execute_result"
    }
   ],
   "source": [
    "selloutData"
   ]
  },
  {
   "cell_type": "code",
   "execution_count": 7,
   "metadata": {},
   "outputs": [
    {
     "data": {
      "text/plain": [
       "REGIONID     object\n",
       "PRODUCT      object\n",
       "YEARWEEK      int64\n",
       "QTY         float64\n",
       "dtype: object"
      ]
     },
     "execution_count": 7,
     "metadata": {},
     "output_type": "execute_result"
    }
   ],
   "source": [
    "selloutData.dtypes"
   ]
  },
  {
   "cell_type": "code",
   "execution_count": 25,
   "metadata": {},
   "outputs": [],
   "source": [
    "targetYear = 2015\n",
    "targetRegion = \"A01\""
   ]
  },
  {
   "cell_type": "markdown",
   "metadata": {},
   "source": [
    "## 1번문제\n",
    "## A01지역의 2015년도 제품별 평균판매량을 구하자"
   ]
  },
  {
   "cell_type": "markdown",
   "metadata": {},
   "source": [
    "## step1 : A01 지역만 뽑는다"
   ]
  },
  {
   "cell_type": "code",
   "execution_count": 28,
   "metadata": {},
   "outputs": [],
   "source": [
    "selloutData = selloutData.loc[selloutData.REGIONID == targetRegion]"
   ]
  },
  {
   "cell_type": "code",
   "execution_count": 29,
   "metadata": {},
   "outputs": [
    {
     "data": {
      "text/html": [
       "<div>\n",
       "<style scoped>\n",
       "    .dataframe tbody tr th:only-of-type {\n",
       "        vertical-align: middle;\n",
       "    }\n",
       "\n",
       "    .dataframe tbody tr th {\n",
       "        vertical-align: top;\n",
       "    }\n",
       "\n",
       "    .dataframe thead th {\n",
       "        text-align: right;\n",
       "    }\n",
       "</style>\n",
       "<table border=\"1\" class=\"dataframe\">\n",
       "  <thead>\n",
       "    <tr style=\"text-align: right;\">\n",
       "      <th></th>\n",
       "      <th>REGIONID</th>\n",
       "      <th>PRODUCT</th>\n",
       "      <th>YEARWEEK</th>\n",
       "      <th>QTY</th>\n",
       "    </tr>\n",
       "  </thead>\n",
       "  <tbody>\n",
       "    <tr>\n",
       "      <th>47</th>\n",
       "      <td>A01</td>\n",
       "      <td>PRODUCT75</td>\n",
       "      <td>201403</td>\n",
       "      <td>23768.0</td>\n",
       "    </tr>\n",
       "    <tr>\n",
       "      <th>48</th>\n",
       "      <td>A01</td>\n",
       "      <td>PRODUCT8</td>\n",
       "      <td>201403</td>\n",
       "      <td>105.0</td>\n",
       "    </tr>\n",
       "    <tr>\n",
       "      <th>49</th>\n",
       "      <td>A01</td>\n",
       "      <td>PRODUCT19</td>\n",
       "      <td>201403</td>\n",
       "      <td>1513.0</td>\n",
       "    </tr>\n",
       "    <tr>\n",
       "      <th>50</th>\n",
       "      <td>A01</td>\n",
       "      <td>PRODUCT20</td>\n",
       "      <td>201403</td>\n",
       "      <td>59.0</td>\n",
       "    </tr>\n",
       "    <tr>\n",
       "      <th>51</th>\n",
       "      <td>A01</td>\n",
       "      <td>PRODUCT47</td>\n",
       "      <td>201403</td>\n",
       "      <td>4436.0</td>\n",
       "    </tr>\n",
       "    <tr>\n",
       "      <th>...</th>\n",
       "      <td>...</td>\n",
       "      <td>...</td>\n",
       "      <td>...</td>\n",
       "      <td>...</td>\n",
       "    </tr>\n",
       "    <tr>\n",
       "      <th>122490</th>\n",
       "      <td>A01</td>\n",
       "      <td>PRODUCT12</td>\n",
       "      <td>201632</td>\n",
       "      <td>215174.0</td>\n",
       "    </tr>\n",
       "    <tr>\n",
       "      <th>122491</th>\n",
       "      <td>A01</td>\n",
       "      <td>PRODUCT1</td>\n",
       "      <td>201632</td>\n",
       "      <td>1242.0</td>\n",
       "    </tr>\n",
       "    <tr>\n",
       "      <th>122492</th>\n",
       "      <td>A01</td>\n",
       "      <td>PRODUCT33</td>\n",
       "      <td>201632</td>\n",
       "      <td>14900.0</td>\n",
       "    </tr>\n",
       "    <tr>\n",
       "      <th>122493</th>\n",
       "      <td>A01</td>\n",
       "      <td>PRODUCT14</td>\n",
       "      <td>201632</td>\n",
       "      <td>24566.0</td>\n",
       "    </tr>\n",
       "    <tr>\n",
       "      <th>122494</th>\n",
       "      <td>A01</td>\n",
       "      <td>PRODUCT62</td>\n",
       "      <td>201632</td>\n",
       "      <td>16827.0</td>\n",
       "    </tr>\n",
       "  </tbody>\n",
       "</table>\n",
       "<p>3611 rows × 4 columns</p>\n",
       "</div>"
      ],
      "text/plain": [
       "       REGIONID    PRODUCT  YEARWEEK       QTY\n",
       "47          A01  PRODUCT75    201403   23768.0\n",
       "48          A01   PRODUCT8    201403     105.0\n",
       "49          A01  PRODUCT19    201403    1513.0\n",
       "50          A01  PRODUCT20    201403      59.0\n",
       "51          A01  PRODUCT47    201403    4436.0\n",
       "...         ...        ...       ...       ...\n",
       "122490      A01  PRODUCT12    201632  215174.0\n",
       "122491      A01   PRODUCT1    201632    1242.0\n",
       "122492      A01  PRODUCT33    201632   14900.0\n",
       "122493      A01  PRODUCT14    201632   24566.0\n",
       "122494      A01  PRODUCT62    201632   16827.0\n",
       "\n",
       "[3611 rows x 4 columns]"
      ]
     },
     "execution_count": 29,
     "metadata": {},
     "output_type": "execute_result"
    }
   ],
   "source": [
    "selloutData"
   ]
  },
  {
   "cell_type": "markdown",
   "metadata": {},
   "source": [
    "## step2: 2015년도만 뽑는다. 함수 활용"
   ]
  },
  {
   "cell_type": "code",
   "execution_count": 71,
   "metadata": {},
   "outputs": [],
   "source": [
    "def selectPeriod(inValue):\n",
    "    outValue = inValue\n",
    "\n",
    "    if outValue >= 201500 and outValue <= 201599:\n",
    "        return outValue\n",
    "    else: return False"
   ]
  },
  {
   "cell_type": "code",
   "execution_count": 72,
   "metadata": {},
   "outputs": [],
   "source": [
    "selloutData = selloutData.loc[selloutData.YEARWEEK.apply(selectPeriod) != False]"
   ]
  },
  {
   "cell_type": "code",
   "execution_count": 73,
   "metadata": {},
   "outputs": [],
   "source": [
    "sortKey = [\"QTY\"]\n",
    "groupKey = [\"PRODUCT\"]"
   ]
  },
  {
   "cell_type": "code",
   "execution_count": 74,
   "metadata": {},
   "outputs": [],
   "source": [
    "selloutData = selloutData.sort_values(sortKey)"
   ]
  },
  {
   "cell_type": "code",
   "execution_count": 75,
   "metadata": {},
   "outputs": [],
   "source": [
    "newData = selloutData.groupby(groupKey)[sortKey].agg(\"mean\").sort_values(sortKey)"
   ]
  },
  {
   "cell_type": "code",
   "execution_count": 76,
   "metadata": {},
   "outputs": [
    {
     "data": {
      "text/plain": [
       "23"
      ]
     },
     "execution_count": 76,
     "metadata": {},
     "output_type": "execute_result"
    }
   ],
   "source": [
    "newData.size"
   ]
  },
  {
   "cell_type": "markdown",
   "metadata": {},
   "source": [
    "## 2번문제\n",
    "## 2015년도 1사분기(1~13주) 평균 판매량이 가장 높은 지역 5개를 순서대로 적어보자"
   ]
  },
  {
   "cell_type": "code",
   "execution_count": 77,
   "metadata": {},
   "outputs": [],
   "source": [
    "selloutData = pd.read_csv(\"../dataset/kopo_channel_seasonality_new.csv\")"
   ]
  },
  {
   "cell_type": "code",
   "execution_count": 78,
   "metadata": {},
   "outputs": [
    {
     "data": {
      "text/html": [
       "<div>\n",
       "<style scoped>\n",
       "    .dataframe tbody tr th:only-of-type {\n",
       "        vertical-align: middle;\n",
       "    }\n",
       "\n",
       "    .dataframe tbody tr th {\n",
       "        vertical-align: top;\n",
       "    }\n",
       "\n",
       "    .dataframe thead th {\n",
       "        text-align: right;\n",
       "    }\n",
       "</style>\n",
       "<table border=\"1\" class=\"dataframe\">\n",
       "  <thead>\n",
       "    <tr style=\"text-align: right;\">\n",
       "      <th></th>\n",
       "      <th>REGIONID</th>\n",
       "      <th>PRODUCT</th>\n",
       "      <th>YEARWEEK</th>\n",
       "      <th>QTY</th>\n",
       "    </tr>\n",
       "  </thead>\n",
       "  <tbody>\n",
       "    <tr>\n",
       "      <th>0</th>\n",
       "      <td>A60</td>\n",
       "      <td>PRODUCT4</td>\n",
       "      <td>201402</td>\n",
       "      <td>71.0</td>\n",
       "    </tr>\n",
       "    <tr>\n",
       "      <th>1</th>\n",
       "      <td>A60</td>\n",
       "      <td>PRODUCT59</td>\n",
       "      <td>201402</td>\n",
       "      <td>22275.0</td>\n",
       "    </tr>\n",
       "    <tr>\n",
       "      <th>2</th>\n",
       "      <td>A60</td>\n",
       "      <td>PRODUCT34</td>\n",
       "      <td>201402</td>\n",
       "      <td>4463.0</td>\n",
       "    </tr>\n",
       "    <tr>\n",
       "      <th>3</th>\n",
       "      <td>A60</td>\n",
       "      <td>PRODUCT47</td>\n",
       "      <td>201402</td>\n",
       "      <td>0.0</td>\n",
       "    </tr>\n",
       "    <tr>\n",
       "      <th>4</th>\n",
       "      <td>A60</td>\n",
       "      <td>PRODUCT56</td>\n",
       "      <td>201402</td>\n",
       "      <td>23.0</td>\n",
       "    </tr>\n",
       "    <tr>\n",
       "      <th>...</th>\n",
       "      <td>...</td>\n",
       "      <td>...</td>\n",
       "      <td>...</td>\n",
       "      <td>...</td>\n",
       "    </tr>\n",
       "    <tr>\n",
       "      <th>124653</th>\n",
       "      <td>A10</td>\n",
       "      <td>PRODUCT60</td>\n",
       "      <td>201630</td>\n",
       "      <td>824.0</td>\n",
       "    </tr>\n",
       "    <tr>\n",
       "      <th>124654</th>\n",
       "      <td>A10</td>\n",
       "      <td>PRODUCT56</td>\n",
       "      <td>201630</td>\n",
       "      <td>275.0</td>\n",
       "    </tr>\n",
       "    <tr>\n",
       "      <th>124655</th>\n",
       "      <td>A10</td>\n",
       "      <td>PRODUCT61</td>\n",
       "      <td>201630</td>\n",
       "      <td>0.0</td>\n",
       "    </tr>\n",
       "    <tr>\n",
       "      <th>124656</th>\n",
       "      <td>A10</td>\n",
       "      <td>PRODUCT12</td>\n",
       "      <td>201630</td>\n",
       "      <td>15021.0</td>\n",
       "    </tr>\n",
       "    <tr>\n",
       "      <th>124657</th>\n",
       "      <td>A10</td>\n",
       "      <td>PRODUCT1</td>\n",
       "      <td>201630</td>\n",
       "      <td>568.0</td>\n",
       "    </tr>\n",
       "  </tbody>\n",
       "</table>\n",
       "<p>124658 rows × 4 columns</p>\n",
       "</div>"
      ],
      "text/plain": [
       "       REGIONID    PRODUCT  YEARWEEK      QTY\n",
       "0           A60   PRODUCT4    201402     71.0\n",
       "1           A60  PRODUCT59    201402  22275.0\n",
       "2           A60  PRODUCT34    201402   4463.0\n",
       "3           A60  PRODUCT47    201402      0.0\n",
       "4           A60  PRODUCT56    201402     23.0\n",
       "...         ...        ...       ...      ...\n",
       "124653      A10  PRODUCT60    201630    824.0\n",
       "124654      A10  PRODUCT56    201630    275.0\n",
       "124655      A10  PRODUCT61    201630      0.0\n",
       "124656      A10  PRODUCT12    201630  15021.0\n",
       "124657      A10   PRODUCT1    201630    568.0\n",
       "\n",
       "[124658 rows x 4 columns]"
      ]
     },
     "execution_count": 78,
     "metadata": {},
     "output_type": "execute_result"
    }
   ],
   "source": [
    "selloutData"
   ]
  },
  {
   "cell_type": "markdown",
   "metadata": {},
   "source": [
    "### 변수 선언 "
   ]
  },
  {
   "cell_type": "code",
   "execution_count": 80,
   "metadata": {},
   "outputs": [],
   "source": [
    "def selectFirstPeirod(inValue):\n",
    "    outValue = inValue\n",
    "\n",
    "    if outValue >= 201501 and outValue <= 201513:\n",
    "        return outValue\n",
    "    else: return False"
   ]
  },
  {
   "cell_type": "code",
   "execution_count": 81,
   "metadata": {},
   "outputs": [],
   "source": [
    "selloutData = selloutData.loc[selloutData.YEARWEEK.apply(selectFirstPeirod) != False]"
   ]
  },
  {
   "cell_type": "code",
   "execution_count": 83,
   "metadata": {},
   "outputs": [],
   "source": [
    "groupKey = [\"REGIONID\"]\n",
    "sortKey = [\"QTY\"]"
   ]
  },
  {
   "cell_type": "code",
   "execution_count": 84,
   "metadata": {},
   "outputs": [],
   "source": [
    "newData = selloutData.groupby(groupKey)[sortKey].agg(\"mean\").sort_values(sortKey)"
   ]
  },
  {
   "cell_type": "code",
   "execution_count": 85,
   "metadata": {},
   "outputs": [
    {
     "data": {
      "text/html": [
       "<div>\n",
       "<style scoped>\n",
       "    .dataframe tbody tr th:only-of-type {\n",
       "        vertical-align: middle;\n",
       "    }\n",
       "\n",
       "    .dataframe tbody tr th {\n",
       "        vertical-align: top;\n",
       "    }\n",
       "\n",
       "    .dataframe thead th {\n",
       "        text-align: right;\n",
       "    }\n",
       "</style>\n",
       "<table border=\"1\" class=\"dataframe\">\n",
       "  <thead>\n",
       "    <tr style=\"text-align: right;\">\n",
       "      <th></th>\n",
       "      <th>QTY</th>\n",
       "    </tr>\n",
       "    <tr>\n",
       "      <th>REGIONID</th>\n",
       "      <th></th>\n",
       "    </tr>\n",
       "  </thead>\n",
       "  <tbody>\n",
       "    <tr>\n",
       "      <th>A36</th>\n",
       "      <td>563.538462</td>\n",
       "    </tr>\n",
       "    <tr>\n",
       "      <th>A59</th>\n",
       "      <td>840.656410</td>\n",
       "    </tr>\n",
       "    <tr>\n",
       "      <th>A39</th>\n",
       "      <td>993.890819</td>\n",
       "    </tr>\n",
       "    <tr>\n",
       "      <th>A66</th>\n",
       "      <td>1011.230769</td>\n",
       "    </tr>\n",
       "    <tr>\n",
       "      <th>A65</th>\n",
       "      <td>1049.952663</td>\n",
       "    </tr>\n",
       "    <tr>\n",
       "      <th>...</th>\n",
       "      <td>...</td>\n",
       "    </tr>\n",
       "    <tr>\n",
       "      <th>A27</th>\n",
       "      <td>28716.201923</td>\n",
       "    </tr>\n",
       "    <tr>\n",
       "      <th>A29</th>\n",
       "      <td>29359.717949</td>\n",
       "    </tr>\n",
       "    <tr>\n",
       "      <th>A01</th>\n",
       "      <td>40121.414716</td>\n",
       "    </tr>\n",
       "    <tr>\n",
       "      <th>A47</th>\n",
       "      <td>52446.076923</td>\n",
       "    </tr>\n",
       "    <tr>\n",
       "      <th>A41</th>\n",
       "      <td>154823.096154</td>\n",
       "    </tr>\n",
       "  </tbody>\n",
       "</table>\n",
       "<p>70 rows × 1 columns</p>\n",
       "</div>"
      ],
      "text/plain": [
       "                    QTY\n",
       "REGIONID               \n",
       "A36          563.538462\n",
       "A59          840.656410\n",
       "A39          993.890819\n",
       "A66         1011.230769\n",
       "A65         1049.952663\n",
       "...                 ...\n",
       "A27        28716.201923\n",
       "A29        29359.717949\n",
       "A01        40121.414716\n",
       "A47        52446.076923\n",
       "A41       154823.096154\n",
       "\n",
       "[70 rows x 1 columns]"
      ]
     },
     "execution_count": 85,
     "metadata": {},
     "output_type": "execute_result"
    }
   ],
   "source": [
    "newData"
   ]
  },
  {
   "cell_type": "markdown",
   "metadata": {},
   "source": [
    "## 4번 생각해볼 문제\n",
    "## 지역, 상품, 분기별 평균 판매량을 산출하세요 \n",
    "## 분기는 1 ~ 13, 14 ~ 26, 27 ~ 39, 40 ~ 52로 구분. 53 제외"
   ]
  },
  {
   "cell_type": "markdown",
   "metadata": {},
   "source": [
    "### step 1 : week 컬럼 추출\n",
    "### step 2 : 함수 적용. 컬럼값 넣기. ex ) 24인 경우. peirod 2 값 줘서 Period 컬럼에 넣는다.\n",
    "### step 3 : Period 컬럼으로 groupby\n",
    "### step 4 : 평균 판매량(QTY.agg[mean]) 구하기"
   ]
  },
  {
   "cell_type": "code",
   "execution_count": 88,
   "metadata": {},
   "outputs": [],
   "source": [
    "selloutData = selloutData.astype( { \"REGIONID\":str, \n",
    "                                   \"PRODUCT\":str,\n",
    "                                    \"YEARWEEK\":str,\n",
    "                                    \"QTY\": float})"
   ]
  },
  {
   "cell_type": "markdown",
   "metadata": {},
   "source": [
    "### step 1 : week 컬럼 추출"
   ]
  },
  {
   "cell_type": "code",
   "execution_count": 89,
   "metadata": {},
   "outputs": [],
   "source": [
    "selloutData[\"WEEK\"] = selloutData.YEARWEEK.str[4:]"
   ]
  },
  {
   "cell_type": "code",
   "execution_count": 114,
   "metadata": {},
   "outputs": [],
   "source": [
    "selloutData = selloutData.astype( { \"REGIONID\":str, \n",
    "                                   \"PRODUCT\":str,\n",
    "                                    \"YEARWEEK\":str,\n",
    "                                    \"QTY\": float,\n",
    "                                    \"WEEK\": int})"
   ]
  },
  {
   "cell_type": "code",
   "execution_count": 116,
   "metadata": {},
   "outputs": [],
   "source": [
    "selloutData.reset_index(drop=True, inplace=True)"
   ]
  },
  {
   "cell_type": "code",
   "execution_count": 121,
   "metadata": {},
   "outputs": [
    {
     "data": {
      "text/html": [
       "<div>\n",
       "<style scoped>\n",
       "    .dataframe tbody tr th:only-of-type {\n",
       "        vertical-align: middle;\n",
       "    }\n",
       "\n",
       "    .dataframe tbody tr th {\n",
       "        vertical-align: top;\n",
       "    }\n",
       "\n",
       "    .dataframe thead th {\n",
       "        text-align: right;\n",
       "    }\n",
       "</style>\n",
       "<table border=\"1\" class=\"dataframe\">\n",
       "  <thead>\n",
       "    <tr style=\"text-align: right;\">\n",
       "      <th></th>\n",
       "      <th>REGIONID</th>\n",
       "      <th>PRODUCT</th>\n",
       "      <th>YEARWEEK</th>\n",
       "      <th>QTY</th>\n",
       "      <th>WEEK</th>\n",
       "    </tr>\n",
       "  </thead>\n",
       "  <tbody>\n",
       "    <tr>\n",
       "      <th>0</th>\n",
       "      <td>A47</td>\n",
       "      <td>PRODUCT2</td>\n",
       "      <td>201512</td>\n",
       "      <td>2.0</td>\n",
       "      <td>12</td>\n",
       "    </tr>\n",
       "    <tr>\n",
       "      <th>1</th>\n",
       "      <td>A47</td>\n",
       "      <td>PRODUCT58</td>\n",
       "      <td>201512</td>\n",
       "      <td>3546.0</td>\n",
       "      <td>12</td>\n",
       "    </tr>\n",
       "    <tr>\n",
       "      <th>2</th>\n",
       "      <td>A47</td>\n",
       "      <td>PRODUCT59</td>\n",
       "      <td>201512</td>\n",
       "      <td>148781.0</td>\n",
       "      <td>12</td>\n",
       "    </tr>\n",
       "    <tr>\n",
       "      <th>3</th>\n",
       "      <td>A47</td>\n",
       "      <td>PRODUCT34</td>\n",
       "      <td>201512</td>\n",
       "      <td>29332.0</td>\n",
       "      <td>12</td>\n",
       "    </tr>\n",
       "    <tr>\n",
       "      <th>4</th>\n",
       "      <td>A48</td>\n",
       "      <td>PRODUCT35</td>\n",
       "      <td>201512</td>\n",
       "      <td>4611.0</td>\n",
       "      <td>12</td>\n",
       "    </tr>\n",
       "    <tr>\n",
       "      <th>...</th>\n",
       "      <td>...</td>\n",
       "      <td>...</td>\n",
       "      <td>...</td>\n",
       "      <td>...</td>\n",
       "      <td>...</td>\n",
       "    </tr>\n",
       "    <tr>\n",
       "      <th>10317</th>\n",
       "      <td>A25</td>\n",
       "      <td>PRODUCT14</td>\n",
       "      <td>201510</td>\n",
       "      <td>0.0</td>\n",
       "      <td>10</td>\n",
       "    </tr>\n",
       "    <tr>\n",
       "      <th>10318</th>\n",
       "      <td>A25</td>\n",
       "      <td>PRODUCT62</td>\n",
       "      <td>201510</td>\n",
       "      <td>564.0</td>\n",
       "      <td>10</td>\n",
       "    </tr>\n",
       "    <tr>\n",
       "      <th>10319</th>\n",
       "      <td>A25</td>\n",
       "      <td>PRODUCT17</td>\n",
       "      <td>201510</td>\n",
       "      <td>115.0</td>\n",
       "      <td>10</td>\n",
       "    </tr>\n",
       "    <tr>\n",
       "      <th>10320</th>\n",
       "      <td>A28</td>\n",
       "      <td>PRODUCT58</td>\n",
       "      <td>201510</td>\n",
       "      <td>139.0</td>\n",
       "      <td>10</td>\n",
       "    </tr>\n",
       "    <tr>\n",
       "      <th>10321</th>\n",
       "      <td>A28</td>\n",
       "      <td>PRODUCT63</td>\n",
       "      <td>201510</td>\n",
       "      <td>258.0</td>\n",
       "      <td>10</td>\n",
       "    </tr>\n",
       "  </tbody>\n",
       "</table>\n",
       "<p>10322 rows × 5 columns</p>\n",
       "</div>"
      ],
      "text/plain": [
       "      REGIONID    PRODUCT YEARWEEK       QTY  WEEK\n",
       "0          A47   PRODUCT2   201512       2.0    12\n",
       "1          A47  PRODUCT58   201512    3546.0    12\n",
       "2          A47  PRODUCT59   201512  148781.0    12\n",
       "3          A47  PRODUCT34   201512   29332.0    12\n",
       "4          A48  PRODUCT35   201512    4611.0    12\n",
       "...        ...        ...      ...       ...   ...\n",
       "10317      A25  PRODUCT14   201510       0.0    10\n",
       "10318      A25  PRODUCT62   201510     564.0    10\n",
       "10319      A25  PRODUCT17   201510     115.0    10\n",
       "10320      A28  PRODUCT58   201510     139.0    10\n",
       "10321      A28  PRODUCT63   201510     258.0    10\n",
       "\n",
       "[10322 rows x 5 columns]"
      ]
     },
     "execution_count": 121,
     "metadata": {},
     "output_type": "execute_result"
    }
   ],
   "source": [
    "selloutData"
   ]
  },
  {
   "cell_type": "markdown",
   "metadata": {},
   "source": [
    "### step 2 : 함수 적용. 컬럼값 넣기. ex ) 24인 경우. peirod 2 값 줘서 Period 컬럼에 넣는다."
   ]
  },
  {
   "cell_type": "markdown",
   "metadata": {},
   "source": [
    "### 함수 만들기"
   ]
  },
  {
   "cell_type": "code",
   "execution_count": 153,
   "metadata": {},
   "outputs": [],
   "source": [
    "selloutData = selloutData.astype( { \"REGIONID\":str, \n",
    "                                   \"PRODUCT\":str,\n",
    "                                    \"YEARWEEK\":str,\n",
    "                                    \"QTY\": float,\n",
    "                                    \"WEEK\": int})"
   ]
  },
  {
   "cell_type": "code",
   "execution_count": 154,
   "metadata": {},
   "outputs": [],
   "source": [
    "def Peirod(inValue):\n",
    "    outValue = inValue\n",
    "\n",
    "    if outValue >= 1 and outValue <= 13:\n",
    "        return 1\n",
    "    elif outValue >= 26:\n",
    "        return 2\n",
    "    elif outValue >= 39:\n",
    "        return 3\n",
    "    elif outValue >= 52:\n",
    "        return 4\n",
    "    else: return 0"
   ]
  },
  {
   "cell_type": "code",
   "execution_count": null,
   "metadata": {},
   "outputs": [],
   "source": [
    "selloutData[\"ee\"] = selloutData.loc[selloutData.WEEK.apply(Peirod)]"
   ]
  },
  {
   "cell_type": "code",
   "execution_count": null,
   "metadata": {},
   "outputs": [],
   "source": [
    "selloutData"
   ]
  },
  {
   "cell_type": "code",
   "execution_count": 120,
   "metadata": {},
   "outputs": [
    {
     "data": {
      "text/html": [
       "<div>\n",
       "<style scoped>\n",
       "    .dataframe tbody tr th:only-of-type {\n",
       "        vertical-align: middle;\n",
       "    }\n",
       "\n",
       "    .dataframe tbody tr th {\n",
       "        vertical-align: top;\n",
       "    }\n",
       "\n",
       "    .dataframe thead th {\n",
       "        text-align: right;\n",
       "    }\n",
       "</style>\n",
       "<table border=\"1\" class=\"dataframe\">\n",
       "  <thead>\n",
       "    <tr style=\"text-align: right;\">\n",
       "      <th></th>\n",
       "      <th>WEEK</th>\n",
       "    </tr>\n",
       "  </thead>\n",
       "  <tbody>\n",
       "    <tr>\n",
       "      <th>0</th>\n",
       "      <td>firstPeirod</td>\n",
       "    </tr>\n",
       "    <tr>\n",
       "      <th>1</th>\n",
       "      <td>firstPeirod</td>\n",
       "    </tr>\n",
       "    <tr>\n",
       "      <th>2</th>\n",
       "      <td>firstPeirod</td>\n",
       "    </tr>\n",
       "    <tr>\n",
       "      <th>3</th>\n",
       "      <td>firstPeirod</td>\n",
       "    </tr>\n",
       "    <tr>\n",
       "      <th>4</th>\n",
       "      <td>firstPeirod</td>\n",
       "    </tr>\n",
       "    <tr>\n",
       "      <th>...</th>\n",
       "      <td>...</td>\n",
       "    </tr>\n",
       "    <tr>\n",
       "      <th>10317</th>\n",
       "      <td>firstPeirod</td>\n",
       "    </tr>\n",
       "    <tr>\n",
       "      <th>10318</th>\n",
       "      <td>firstPeirod</td>\n",
       "    </tr>\n",
       "    <tr>\n",
       "      <th>10319</th>\n",
       "      <td>firstPeirod</td>\n",
       "    </tr>\n",
       "    <tr>\n",
       "      <th>10320</th>\n",
       "      <td>firstPeirod</td>\n",
       "    </tr>\n",
       "    <tr>\n",
       "      <th>10321</th>\n",
       "      <td>firstPeirod</td>\n",
       "    </tr>\n",
       "  </tbody>\n",
       "</table>\n",
       "<p>10322 rows × 1 columns</p>\n",
       "</div>"
      ],
      "text/plain": [
       "              WEEK\n",
       "0      firstPeirod\n",
       "1      firstPeirod\n",
       "2      firstPeirod\n",
       "3      firstPeirod\n",
       "4      firstPeirod\n",
       "...            ...\n",
       "10317  firstPeirod\n",
       "10318  firstPeirod\n",
       "10319  firstPeirod\n",
       "10320  firstPeirod\n",
       "10321  firstPeirod\n",
       "\n",
       "[10322 rows x 1 columns]"
      ]
     },
     "execution_count": 120,
     "metadata": {},
     "output_type": "execute_result"
    }
   ],
   "source": [
    "pd.DataFrame(selloutData.WEEK.apply(Peirod))"
   ]
  },
  {
   "cell_type": "code",
   "execution_count": null,
   "metadata": {},
   "outputs": [],
   "source": []
  }
 ],
 "metadata": {
  "kernelspec": {
   "display_name": "Python 3",
   "language": "python",
   "name": "python3"
  },
  "language_info": {
   "codemirror_mode": {
    "name": "ipython",
    "version": 3
   },
   "file_extension": ".py",
   "mimetype": "text/x-python",
   "name": "python",
   "nbconvert_exporter": "python",
   "pygments_lexer": "ipython3",
   "version": "3.8.5"
  }
 },
 "nbformat": 4,
 "nbformat_minor": 4
}
