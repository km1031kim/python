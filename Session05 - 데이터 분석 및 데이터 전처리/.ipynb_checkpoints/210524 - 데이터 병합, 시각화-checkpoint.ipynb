{
 "cells": [
  {
   "cell_type": "markdown",
   "metadata": {},
   "source": [
    "## 데이터 분석\n",
    "#### 1. 웹 크롤링 - > 독립적 기술\n",
    "\n",
    "#### 2. 데이터 분석 (pandas) - > 데이터 조작을 자유롭게. 이 기종간의 데이터를 파이썬에서 데이터프레임으로~\n",
    "\n",
    "#### 3. 머신러닝 / 딥러닝 - > 데이터 분석을 잘해야 한다.\n",
    "\n",
    "#### 4. 시각화 / 영상다루기 - > 탐색적 데이터 분석(덜중요)"
   ]
  },
  {
   "cell_type": "markdown",
   "metadata": {},
   "source": [
    "## 1. 라이브러리 선언\n"
   ]
  },
  {
   "cell_type": "code",
   "execution_count": 181,
   "metadata": {},
   "outputs": [],
   "source": [
    "import pandas as pd\n",
    "import numpy as np"
   ]
  },
  {
   "cell_type": "code",
   "execution_count": 182,
   "metadata": {},
   "outputs": [],
   "source": [
    "import warnings"
   ]
  },
  {
   "cell_type": "code",
   "execution_count": 183,
   "metadata": {},
   "outputs": [],
   "source": [
    "warnings.filterwarnings(action=\"ignore\")"
   ]
  },
  {
   "cell_type": "markdown",
   "metadata": {},
   "source": [
    "## 2. 데이터 불러오기"
   ]
  },
  {
   "cell_type": "code",
   "execution_count": 184,
   "metadata": {},
   "outputs": [],
   "source": [
    "joinMaster = pd.read_csv(\"../dataset/join_region_master.csv\")"
   ]
  },
  {
   "cell_type": "code",
   "execution_count": 185,
   "metadata": {},
   "outputs": [],
   "source": [
    "selloutData = pd.read_csv(\"../dataset/join_kopo_product_volume.csv\")"
   ]
  },
  {
   "cell_type": "code",
   "execution_count": 186,
   "metadata": {},
   "outputs": [],
   "source": [
    "a01Data = selloutData.loc[selloutData.REGIONID == \"A01\"] ## loc 은 조건\n",
    "a02Data = selloutData.loc[selloutData.REGIONID == \"A02\"]"
   ]
  },
  {
   "cell_type": "markdown",
   "metadata": {},
   "source": [
    "## 3. 데이터 예측\n",
    "### a01지역은 통계적 예측, 02지역은 머신러닝 예측"
   ]
  },
  {
   "cell_type": "code",
   "execution_count": 187,
   "metadata": {},
   "outputs": [],
   "source": [
    "a01Data[\"PREDICT\"] = 10"
   ]
  },
  {
   "cell_type": "code",
   "execution_count": 188,
   "metadata": {},
   "outputs": [],
   "source": [
    "a02Data[\"PREDICT\"] = 30"
   ]
  },
  {
   "cell_type": "code",
   "execution_count": 189,
   "metadata": {},
   "outputs": [
    {
     "name": "stdout",
     "output_type": "stream",
     "text": [
      "  REGIONID PRODUCT  YEARWEEK   QTY  PREDICT\n",
      "0      A01  ST0001    201901  3000       10\n",
      "1      A01  ST0001    201902  3500       10\n",
      "  REGIONID PRODUCT  YEARWEEK   QTY  PREDICT\n",
      "2      A02  ST0002    201901  4000       30\n",
      "3      A02  ST0003    201902  7000       30\n"
     ]
    }
   ],
   "source": [
    "print(a01Data)\n",
    "print(a02Data)"
   ]
  },
  {
   "cell_type": "markdown",
   "metadata": {},
   "source": [
    "## 4. 데이터 병합"
   ]
  },
  {
   "cell_type": "code",
   "execution_count": 190,
   "metadata": {},
   "outputs": [
    {
     "data": {
      "text/html": [
       "<div>\n",
       "<style scoped>\n",
       "    .dataframe tbody tr th:only-of-type {\n",
       "        vertical-align: middle;\n",
       "    }\n",
       "\n",
       "    .dataframe tbody tr th {\n",
       "        vertical-align: top;\n",
       "    }\n",
       "\n",
       "    .dataframe thead th {\n",
       "        text-align: right;\n",
       "    }\n",
       "</style>\n",
       "<table border=\"1\" class=\"dataframe\">\n",
       "  <thead>\n",
       "    <tr style=\"text-align: right;\">\n",
       "      <th></th>\n",
       "      <th>PREDICT_DT</th>\n",
       "    </tr>\n",
       "  </thead>\n",
       "  <tbody>\n",
       "    <tr>\n",
       "      <th>0</th>\n",
       "      <td>10</td>\n",
       "    </tr>\n",
       "    <tr>\n",
       "      <th>1</th>\n",
       "      <td>15</td>\n",
       "    </tr>\n",
       "  </tbody>\n",
       "</table>\n",
       "</div>"
      ],
      "text/plain": [
       "   PREDICT_DT\n",
       "0          10\n",
       "1          15"
      ]
     },
     "execution_count": 190,
     "metadata": {},
     "output_type": "execute_result"
    }
   ],
   "source": [
    "## rbind, cbind = 그냥 옆에다 붙이고 싶을때..(로우끼리 그냥 합치기, 컬럼끼리 그냥 합치기)\n",
    "predict_dt = pd.DataFrame([10,15], columns=[\"PREDICT_DT\"])\n",
    "predict_dt"
   ]
  },
  {
   "cell_type": "markdown",
   "metadata": {},
   "source": [
    "#### pd.cacont([데이터프레임명1, 데이터프레임명2])"
   ]
  },
  {
   "cell_type": "code",
   "execution_count": 191,
   "metadata": {},
   "outputs": [
    {
     "data": {
      "text/html": [
       "<div>\n",
       "<style scoped>\n",
       "    .dataframe tbody tr th:only-of-type {\n",
       "        vertical-align: middle;\n",
       "    }\n",
       "\n",
       "    .dataframe tbody tr th {\n",
       "        vertical-align: top;\n",
       "    }\n",
       "\n",
       "    .dataframe thead th {\n",
       "        text-align: right;\n",
       "    }\n",
       "</style>\n",
       "<table border=\"1\" class=\"dataframe\">\n",
       "  <thead>\n",
       "    <tr style=\"text-align: right;\">\n",
       "      <th></th>\n",
       "      <th>REGIONID</th>\n",
       "      <th>PRODUCT</th>\n",
       "      <th>YEARWEEK</th>\n",
       "      <th>QTY</th>\n",
       "      <th>PREDICT</th>\n",
       "      <th>PREDICT_DT</th>\n",
       "    </tr>\n",
       "  </thead>\n",
       "  <tbody>\n",
       "    <tr>\n",
       "      <th>0</th>\n",
       "      <td>A01</td>\n",
       "      <td>ST0001</td>\n",
       "      <td>201901</td>\n",
       "      <td>3000</td>\n",
       "      <td>10</td>\n",
       "      <td>10</td>\n",
       "    </tr>\n",
       "    <tr>\n",
       "      <th>1</th>\n",
       "      <td>A01</td>\n",
       "      <td>ST0001</td>\n",
       "      <td>201902</td>\n",
       "      <td>3500</td>\n",
       "      <td>10</td>\n",
       "      <td>15</td>\n",
       "    </tr>\n",
       "  </tbody>\n",
       "</table>\n",
       "</div>"
      ],
      "text/plain": [
       "  REGIONID PRODUCT  YEARWEEK   QTY  PREDICT  PREDICT_DT\n",
       "0      A01  ST0001    201901  3000       10          10\n",
       "1      A01  ST0001    201902  3500       10          15"
      ]
     },
     "execution_count": 191,
     "metadata": {},
     "output_type": "execute_result"
    }
   ],
   "source": [
    "pd.concat([a01Data,predict_dt], axis = 1 )"
   ]
  },
  {
   "cell_type": "code",
   "execution_count": 192,
   "metadata": {},
   "outputs": [
    {
     "data": {
      "text/html": [
       "<div>\n",
       "<style scoped>\n",
       "    .dataframe tbody tr th:only-of-type {\n",
       "        vertical-align: middle;\n",
       "    }\n",
       "\n",
       "    .dataframe tbody tr th {\n",
       "        vertical-align: top;\n",
       "    }\n",
       "\n",
       "    .dataframe thead th {\n",
       "        text-align: right;\n",
       "    }\n",
       "</style>\n",
       "<table border=\"1\" class=\"dataframe\">\n",
       "  <thead>\n",
       "    <tr style=\"text-align: right;\">\n",
       "      <th></th>\n",
       "      <th>REGIONID</th>\n",
       "      <th>PRODUCT</th>\n",
       "      <th>YEARWEEK</th>\n",
       "      <th>QTY</th>\n",
       "      <th>PREDICT</th>\n",
       "    </tr>\n",
       "  </thead>\n",
       "  <tbody>\n",
       "    <tr>\n",
       "      <th>0</th>\n",
       "      <td>A01</td>\n",
       "      <td>ST0001</td>\n",
       "      <td>201901</td>\n",
       "      <td>3000</td>\n",
       "      <td>10</td>\n",
       "    </tr>\n",
       "    <tr>\n",
       "      <th>1</th>\n",
       "      <td>A01</td>\n",
       "      <td>ST0001</td>\n",
       "      <td>201902</td>\n",
       "      <td>3500</td>\n",
       "      <td>10</td>\n",
       "    </tr>\n",
       "    <tr>\n",
       "      <th>2</th>\n",
       "      <td>A02</td>\n",
       "      <td>ST0002</td>\n",
       "      <td>201901</td>\n",
       "      <td>4000</td>\n",
       "      <td>30</td>\n",
       "    </tr>\n",
       "    <tr>\n",
       "      <th>3</th>\n",
       "      <td>A02</td>\n",
       "      <td>ST0003</td>\n",
       "      <td>201902</td>\n",
       "      <td>7000</td>\n",
       "      <td>30</td>\n",
       "    </tr>\n",
       "  </tbody>\n",
       "</table>\n",
       "</div>"
      ],
      "text/plain": [
       "  REGIONID PRODUCT  YEARWEEK   QTY  PREDICT\n",
       "0      A01  ST0001    201901  3000       10\n",
       "1      A01  ST0001    201902  3500       10\n",
       "2      A02  ST0002    201901  4000       30\n",
       "3      A02  ST0003    201902  7000       30"
      ]
     },
     "execution_count": 192,
     "metadata": {},
     "output_type": "execute_result"
    }
   ],
   "source": [
    "pd.concat( [a01Data, a02Data], axis = 0 ) ## 위아래로 합치기. = 0, 좌우로합치기 = 1"
   ]
  },
  {
   "cell_type": "markdown",
   "metadata": {},
   "source": [
    "#### append  = 컬럼이 이름이 같은것끼리 위아래로 합쳐진다"
   ]
  },
  {
   "cell_type": "code",
   "execution_count": 193,
   "metadata": {},
   "outputs": [
    {
     "data": {
      "text/html": [
       "<div>\n",
       "<style scoped>\n",
       "    .dataframe tbody tr th:only-of-type {\n",
       "        vertical-align: middle;\n",
       "    }\n",
       "\n",
       "    .dataframe tbody tr th {\n",
       "        vertical-align: top;\n",
       "    }\n",
       "\n",
       "    .dataframe thead th {\n",
       "        text-align: right;\n",
       "    }\n",
       "</style>\n",
       "<table border=\"1\" class=\"dataframe\">\n",
       "  <thead>\n",
       "    <tr style=\"text-align: right;\">\n",
       "      <th></th>\n",
       "      <th>REGIONID</th>\n",
       "      <th>PRODUCT</th>\n",
       "      <th>YEARWEEK</th>\n",
       "      <th>QTY</th>\n",
       "      <th>PREDICT</th>\n",
       "    </tr>\n",
       "  </thead>\n",
       "  <tbody>\n",
       "    <tr>\n",
       "      <th>0</th>\n",
       "      <td>A01</td>\n",
       "      <td>ST0001</td>\n",
       "      <td>201901</td>\n",
       "      <td>3000</td>\n",
       "      <td>10</td>\n",
       "    </tr>\n",
       "    <tr>\n",
       "      <th>1</th>\n",
       "      <td>A01</td>\n",
       "      <td>ST0001</td>\n",
       "      <td>201902</td>\n",
       "      <td>3500</td>\n",
       "      <td>10</td>\n",
       "    </tr>\n",
       "    <tr>\n",
       "      <th>2</th>\n",
       "      <td>A02</td>\n",
       "      <td>ST0002</td>\n",
       "      <td>201901</td>\n",
       "      <td>4000</td>\n",
       "      <td>30</td>\n",
       "    </tr>\n",
       "    <tr>\n",
       "      <th>3</th>\n",
       "      <td>A02</td>\n",
       "      <td>ST0003</td>\n",
       "      <td>201902</td>\n",
       "      <td>7000</td>\n",
       "      <td>30</td>\n",
       "    </tr>\n",
       "  </tbody>\n",
       "</table>\n",
       "</div>"
      ],
      "text/plain": [
       "  REGIONID PRODUCT  YEARWEEK   QTY  PREDICT\n",
       "0      A01  ST0001    201901  3000       10\n",
       "1      A01  ST0001    201902  3500       10\n",
       "2      A02  ST0002    201901  4000       30\n",
       "3      A02  ST0003    201902  7000       30"
      ]
     },
     "execution_count": 193,
     "metadata": {},
     "output_type": "execute_result"
    }
   ],
   "source": [
    "a01Data.append(a02Data) "
   ]
  },
  {
   "cell_type": "code",
   "execution_count": null,
   "metadata": {},
   "outputs": [],
   "source": []
  },
  {
   "cell_type": "markdown",
   "metadata": {},
   "source": [
    "### weekData append"
   ]
  },
  {
   "cell_type": "code",
   "execution_count": 194,
   "metadata": {},
   "outputs": [
    {
     "data": {
      "text/html": [
       "<div>\n",
       "<style scoped>\n",
       "    .dataframe tbody tr th:only-of-type {\n",
       "        vertical-align: middle;\n",
       "    }\n",
       "\n",
       "    .dataframe tbody tr th {\n",
       "        vertical-align: top;\n",
       "    }\n",
       "\n",
       "    .dataframe thead th {\n",
       "        text-align: right;\n",
       "    }\n",
       "</style>\n",
       "<table border=\"1\" class=\"dataframe\">\n",
       "  <thead>\n",
       "    <tr style=\"text-align: right;\">\n",
       "      <th></th>\n",
       "      <th>REGIONID</th>\n",
       "      <th>PRODUCTGROUP</th>\n",
       "      <th>WEEK</th>\n",
       "      <th>MEAN_VOLUME</th>\n",
       "    </tr>\n",
       "  </thead>\n",
       "  <tbody>\n",
       "    <tr>\n",
       "      <th>0</th>\n",
       "      <td>A01</td>\n",
       "      <td>ST0001</td>\n",
       "      <td>1</td>\n",
       "      <td>559479</td>\n",
       "    </tr>\n",
       "    <tr>\n",
       "      <th>1</th>\n",
       "      <td>A01</td>\n",
       "      <td>ST0001</td>\n",
       "      <td>2</td>\n",
       "      <td>483233</td>\n",
       "    </tr>\n",
       "    <tr>\n",
       "      <th>2</th>\n",
       "      <td>A01</td>\n",
       "      <td>ST0001</td>\n",
       "      <td>3</td>\n",
       "      <td>457317</td>\n",
       "    </tr>\n",
       "    <tr>\n",
       "      <th>3</th>\n",
       "      <td>A01</td>\n",
       "      <td>ST0001</td>\n",
       "      <td>4</td>\n",
       "      <td>500629</td>\n",
       "    </tr>\n",
       "    <tr>\n",
       "      <th>4</th>\n",
       "      <td>A01</td>\n",
       "      <td>ST0001</td>\n",
       "      <td>5</td>\n",
       "      <td>541937</td>\n",
       "    </tr>\n",
       "    <tr>\n",
       "      <th>5</th>\n",
       "      <td>A01</td>\n",
       "      <td>ST0001</td>\n",
       "      <td>6</td>\n",
       "      <td>674120</td>\n",
       "    </tr>\n",
       "    <tr>\n",
       "      <th>6</th>\n",
       "      <td>A01</td>\n",
       "      <td>ST0001</td>\n",
       "      <td>7</td>\n",
       "      <td>677071</td>\n",
       "    </tr>\n",
       "    <tr>\n",
       "      <th>7</th>\n",
       "      <td>A01</td>\n",
       "      <td>ST0001</td>\n",
       "      <td>8</td>\n",
       "      <td>604892</td>\n",
       "    </tr>\n",
       "    <tr>\n",
       "      <th>8</th>\n",
       "      <td>A01</td>\n",
       "      <td>ST0001</td>\n",
       "      <td>9</td>\n",
       "      <td>591500</td>\n",
       "    </tr>\n",
       "    <tr>\n",
       "      <th>9</th>\n",
       "      <td>A01</td>\n",
       "      <td>ST0001</td>\n",
       "      <td>10</td>\n",
       "      <td>747184</td>\n",
       "    </tr>\n",
       "    <tr>\n",
       "      <th>10</th>\n",
       "      <td>A01</td>\n",
       "      <td>ST0001</td>\n",
       "      <td>11</td>\n",
       "      <td>687051</td>\n",
       "    </tr>\n",
       "    <tr>\n",
       "      <th>11</th>\n",
       "      <td>A01</td>\n",
       "      <td>ST0001</td>\n",
       "      <td>12</td>\n",
       "      <td>589143</td>\n",
       "    </tr>\n",
       "    <tr>\n",
       "      <th>12</th>\n",
       "      <td>A01</td>\n",
       "      <td>ST0001</td>\n",
       "      <td>13</td>\n",
       "      <td>608835</td>\n",
       "    </tr>\n",
       "    <tr>\n",
       "      <th>13</th>\n",
       "      <td>A01</td>\n",
       "      <td>ST0001</td>\n",
       "      <td>14</td>\n",
       "      <td>532122</td>\n",
       "    </tr>\n",
       "    <tr>\n",
       "      <th>14</th>\n",
       "      <td>A01</td>\n",
       "      <td>ST0001</td>\n",
       "      <td>15</td>\n",
       "      <td>766251</td>\n",
       "    </tr>\n",
       "    <tr>\n",
       "      <th>15</th>\n",
       "      <td>A01</td>\n",
       "      <td>ST0001</td>\n",
       "      <td>16</td>\n",
       "      <td>729374</td>\n",
       "    </tr>\n",
       "    <tr>\n",
       "      <th>16</th>\n",
       "      <td>A01</td>\n",
       "      <td>ST0001</td>\n",
       "      <td>17</td>\n",
       "      <td>696641</td>\n",
       "    </tr>\n",
       "    <tr>\n",
       "      <th>17</th>\n",
       "      <td>A01</td>\n",
       "      <td>ST0001</td>\n",
       "      <td>18</td>\n",
       "      <td>685200</td>\n",
       "    </tr>\n",
       "    <tr>\n",
       "      <th>18</th>\n",
       "      <td>A01</td>\n",
       "      <td>ST0001</td>\n",
       "      <td>19</td>\n",
       "      <td>686305</td>\n",
       "    </tr>\n",
       "    <tr>\n",
       "      <th>19</th>\n",
       "      <td>A01</td>\n",
       "      <td>ST0001</td>\n",
       "      <td>20</td>\n",
       "      <td>662370</td>\n",
       "    </tr>\n",
       "    <tr>\n",
       "      <th>20</th>\n",
       "      <td>A01</td>\n",
       "      <td>ST0001</td>\n",
       "      <td>21</td>\n",
       "      <td>654190</td>\n",
       "    </tr>\n",
       "    <tr>\n",
       "      <th>21</th>\n",
       "      <td>A01</td>\n",
       "      <td>ST0001</td>\n",
       "      <td>22</td>\n",
       "      <td>674695</td>\n",
       "    </tr>\n",
       "    <tr>\n",
       "      <th>22</th>\n",
       "      <td>A01</td>\n",
       "      <td>ST0001</td>\n",
       "      <td>23</td>\n",
       "      <td>663027</td>\n",
       "    </tr>\n",
       "    <tr>\n",
       "      <th>23</th>\n",
       "      <td>A01</td>\n",
       "      <td>ST0001</td>\n",
       "      <td>24</td>\n",
       "      <td>650644</td>\n",
       "    </tr>\n",
       "    <tr>\n",
       "      <th>24</th>\n",
       "      <td>A01</td>\n",
       "      <td>ST0001</td>\n",
       "      <td>25</td>\n",
       "      <td>674538</td>\n",
       "    </tr>\n",
       "    <tr>\n",
       "      <th>25</th>\n",
       "      <td>A01</td>\n",
       "      <td>ST0001</td>\n",
       "      <td>26</td>\n",
       "      <td>681563</td>\n",
       "    </tr>\n",
       "    <tr>\n",
       "      <th>26</th>\n",
       "      <td>A01</td>\n",
       "      <td>ST0001</td>\n",
       "      <td>27</td>\n",
       "      <td>599043</td>\n",
       "    </tr>\n",
       "    <tr>\n",
       "      <th>27</th>\n",
       "      <td>A01</td>\n",
       "      <td>ST0001</td>\n",
       "      <td>28</td>\n",
       "      <td>587529</td>\n",
       "    </tr>\n",
       "    <tr>\n",
       "      <th>28</th>\n",
       "      <td>A01</td>\n",
       "      <td>ST0001</td>\n",
       "      <td>29</td>\n",
       "      <td>620882</td>\n",
       "    </tr>\n",
       "    <tr>\n",
       "      <th>29</th>\n",
       "      <td>A01</td>\n",
       "      <td>ST0001</td>\n",
       "      <td>30</td>\n",
       "      <td>643984</td>\n",
       "    </tr>\n",
       "  </tbody>\n",
       "</table>\n",
       "</div>"
      ],
      "text/plain": [
       "   REGIONID PRODUCTGROUP  WEEK  MEAN_VOLUME\n",
       "0       A01       ST0001     1       559479\n",
       "1       A01       ST0001     2       483233\n",
       "2       A01       ST0001     3       457317\n",
       "3       A01       ST0001     4       500629\n",
       "4       A01       ST0001     5       541937\n",
       "5       A01       ST0001     6       674120\n",
       "6       A01       ST0001     7       677071\n",
       "7       A01       ST0001     8       604892\n",
       "8       A01       ST0001     9       591500\n",
       "9       A01       ST0001    10       747184\n",
       "10      A01       ST0001    11       687051\n",
       "11      A01       ST0001    12       589143\n",
       "12      A01       ST0001    13       608835\n",
       "13      A01       ST0001    14       532122\n",
       "14      A01       ST0001    15       766251\n",
       "15      A01       ST0001    16       729374\n",
       "16      A01       ST0001    17       696641\n",
       "17      A01       ST0001    18       685200\n",
       "18      A01       ST0001    19       686305\n",
       "19      A01       ST0001    20       662370\n",
       "20      A01       ST0001    21       654190\n",
       "21      A01       ST0001    22       674695\n",
       "22      A01       ST0001    23       663027\n",
       "23      A01       ST0001    24       650644\n",
       "24      A01       ST0001    25       674538\n",
       "25      A01       ST0001    26       681563\n",
       "26      A01       ST0001    27       599043\n",
       "27      A01       ST0001    28       587529\n",
       "28      A01       ST0001    29       620882\n",
       "29      A01       ST0001    30       643984"
      ]
     },
     "execution_count": 194,
     "metadata": {},
     "output_type": "execute_result"
    }
   ],
   "source": [
    "st01data = pd.read_csv(\"../dataset/st0001data.csv\")\n",
    "\n",
    "## 현재 데이터의 최대 주차정보 저장\n",
    "maxWeek = st01data.WEEK.max()\n",
    "\n",
    "columnInfo = st01data.columns\n",
    "\n",
    "fcstWindow = 1000\n",
    "columns = st01data.columns\n",
    "regionid = st01data.loc[0,].REGIONID\n",
    "productgroup = st01data.loc[0,].PRODUCTGROUP\n",
    "\n",
    "# 신규 주차 정보 생성\n",
    "\n",
    "for i in range(0, fcstWindow):\n",
    "    yearweek = maxDate + i + 1\n",
    "    volume = 0 ## 미래주차의 판매량\n",
    "    indf = pd.DataFrame( [[regionid,productgroup,yearweek,volume]], columns = columnInfo) ## 리스트로 두번을 감싸면 하나의 행이 된다.\n",
    "    st01data = st01data.append(indf)\n",
    "\n",
    "st01data.head(30)"
   ]
  },
  {
   "cell_type": "markdown",
   "metadata": {},
   "source": [
    "### 엑셀 데이터 불러오기"
   ]
  },
  {
   "cell_type": "code",
   "execution_count": 195,
   "metadata": {},
   "outputs": [],
   "source": [
    "excelData = pd.read_excel(\"../dataset/missingValue.xlsx\")"
   ]
  },
  {
   "cell_type": "code",
   "execution_count": 196,
   "metadata": {},
   "outputs": [
    {
     "data": {
      "text/html": [
       "<div>\n",
       "<style scoped>\n",
       "    .dataframe tbody tr th:only-of-type {\n",
       "        vertical-align: middle;\n",
       "    }\n",
       "\n",
       "    .dataframe tbody tr th {\n",
       "        vertical-align: top;\n",
       "    }\n",
       "\n",
       "    .dataframe thead th {\n",
       "        text-align: right;\n",
       "    }\n",
       "</style>\n",
       "<table border=\"1\" class=\"dataframe\">\n",
       "  <thead>\n",
       "    <tr style=\"text-align: right;\">\n",
       "      <th></th>\n",
       "      <th>regionid</th>\n",
       "      <th>product</th>\n",
       "      <th>week</th>\n",
       "      <th>qty</th>\n",
       "      <th>target</th>\n",
       "    </tr>\n",
       "  </thead>\n",
       "  <tbody>\n",
       "    <tr>\n",
       "      <th>0</th>\n",
       "      <td>A01</td>\n",
       "      <td>PRODUCT1</td>\n",
       "      <td>1</td>\n",
       "      <td>NaN</td>\n",
       "      <td>20.0</td>\n",
       "    </tr>\n",
       "    <tr>\n",
       "      <th>1</th>\n",
       "      <td>A01</td>\n",
       "      <td>PRODUCT1</td>\n",
       "      <td>2</td>\n",
       "      <td>2.0</td>\n",
       "      <td>NaN</td>\n",
       "    </tr>\n",
       "    <tr>\n",
       "      <th>2</th>\n",
       "      <td>A01</td>\n",
       "      <td>NaN</td>\n",
       "      <td>3</td>\n",
       "      <td>NaN</td>\n",
       "      <td>10.0</td>\n",
       "    </tr>\n",
       "    <tr>\n",
       "      <th>3</th>\n",
       "      <td>A01</td>\n",
       "      <td>PRODUCT1</td>\n",
       "      <td>3</td>\n",
       "      <td>4.0</td>\n",
       "      <td>NaN</td>\n",
       "    </tr>\n",
       "  </tbody>\n",
       "</table>\n",
       "</div>"
      ],
      "text/plain": [
       "  regionid   product  week  qty  target\n",
       "0      A01  PRODUCT1     1  NaN    20.0\n",
       "1      A01  PRODUCT1     2  2.0     NaN\n",
       "2      A01       NaN     3  NaN    10.0\n",
       "3      A01  PRODUCT1     3  4.0     NaN"
      ]
     },
     "execution_count": 196,
     "metadata": {},
     "output_type": "execute_result"
    }
   ],
   "source": [
    "excelData"
   ]
  },
  {
   "cell_type": "code",
   "execution_count": 197,
   "metadata": {},
   "outputs": [
    {
     "name": "stdout",
     "output_type": "stream",
     "text": [
      "<class 'pandas.core.frame.DataFrame'>\n",
      "RangeIndex: 4 entries, 0 to 3\n",
      "Data columns (total 5 columns):\n",
      " #   Column    Non-Null Count  Dtype  \n",
      "---  ------    --------------  -----  \n",
      " 0   regionid  4 non-null      object \n",
      " 1   product   3 non-null      object \n",
      " 2   week      4 non-null      int64  \n",
      " 3   qty       2 non-null      float64\n",
      " 4   target    2 non-null      float64\n",
      "dtypes: float64(2), int64(1), object(2)\n",
      "memory usage: 288.0+ bytes\n"
     ]
    }
   ],
   "source": [
    "excelData.info()"
   ]
  },
  {
   "cell_type": "code",
   "execution_count": 198,
   "metadata": {},
   "outputs": [
    {
     "data": {
      "text/plain": [
       "regionid    False\n",
       "product      True\n",
       "week        False\n",
       "qty          True\n",
       "target       True\n",
       "dtype: bool"
      ]
     },
     "execution_count": 198,
     "metadata": {},
     "output_type": "execute_result"
    }
   ],
   "source": [
    "## null 조회하기\n",
    "excelData.isnull().any()"
   ]
  },
  {
   "cell_type": "code",
   "execution_count": 199,
   "metadata": {},
   "outputs": [],
   "source": [
    "## 응용\n",
    "excelData.loc[~excelData.qty.isnull(), \"qty_new\"] = excelData.qty\n",
    "excelData.loc[excelData.qty.isnull(), \"qty_new\"] = 3"
   ]
  },
  {
   "cell_type": "code",
   "execution_count": 200,
   "metadata": {},
   "outputs": [
    {
     "data": {
      "text/html": [
       "<div>\n",
       "<style scoped>\n",
       "    .dataframe tbody tr th:only-of-type {\n",
       "        vertical-align: middle;\n",
       "    }\n",
       "\n",
       "    .dataframe tbody tr th {\n",
       "        vertical-align: top;\n",
       "    }\n",
       "\n",
       "    .dataframe thead th {\n",
       "        text-align: right;\n",
       "    }\n",
       "</style>\n",
       "<table border=\"1\" class=\"dataframe\">\n",
       "  <thead>\n",
       "    <tr style=\"text-align: right;\">\n",
       "      <th></th>\n",
       "      <th>regionid</th>\n",
       "      <th>product</th>\n",
       "      <th>week</th>\n",
       "      <th>qty</th>\n",
       "      <th>target</th>\n",
       "      <th>qty_new</th>\n",
       "    </tr>\n",
       "  </thead>\n",
       "  <tbody>\n",
       "    <tr>\n",
       "      <th>0</th>\n",
       "      <td>A01</td>\n",
       "      <td>PRODUCT1</td>\n",
       "      <td>1</td>\n",
       "      <td>NaN</td>\n",
       "      <td>20.0</td>\n",
       "      <td>3.0</td>\n",
       "    </tr>\n",
       "    <tr>\n",
       "      <th>1</th>\n",
       "      <td>A01</td>\n",
       "      <td>PRODUCT1</td>\n",
       "      <td>2</td>\n",
       "      <td>2.0</td>\n",
       "      <td>NaN</td>\n",
       "      <td>2.0</td>\n",
       "    </tr>\n",
       "    <tr>\n",
       "      <th>2</th>\n",
       "      <td>A01</td>\n",
       "      <td>NaN</td>\n",
       "      <td>3</td>\n",
       "      <td>NaN</td>\n",
       "      <td>10.0</td>\n",
       "      <td>3.0</td>\n",
       "    </tr>\n",
       "    <tr>\n",
       "      <th>3</th>\n",
       "      <td>A01</td>\n",
       "      <td>PRODUCT1</td>\n",
       "      <td>3</td>\n",
       "      <td>4.0</td>\n",
       "      <td>NaN</td>\n",
       "      <td>4.0</td>\n",
       "    </tr>\n",
       "  </tbody>\n",
       "</table>\n",
       "</div>"
      ],
      "text/plain": [
       "  regionid   product  week  qty  target  qty_new\n",
       "0      A01  PRODUCT1     1  NaN    20.0      3.0\n",
       "1      A01  PRODUCT1     2  2.0     NaN      2.0\n",
       "2      A01       NaN     3  NaN    10.0      3.0\n",
       "3      A01  PRODUCT1     3  4.0     NaN      4.0"
      ]
     },
     "execution_count": 200,
     "metadata": {},
     "output_type": "execute_result"
    }
   ],
   "source": [
    "excelData"
   ]
  },
  {
   "cell_type": "code",
   "execution_count": 201,
   "metadata": {},
   "outputs": [
    {
     "data": {
      "text/plain": [
       "regionid    0\n",
       "product     1\n",
       "week        0\n",
       "qty         2\n",
       "target      2\n",
       "qty_new     0\n",
       "dtype: int64"
      ]
     },
     "execution_count": 201,
     "metadata": {},
     "output_type": "execute_result"
    }
   ],
   "source": [
    "## null 값의 총 개수\n",
    "excelData.isnull().sum()"
   ]
  },
  {
   "cell_type": "code",
   "execution_count": 202,
   "metadata": {},
   "outputs": [
    {
     "data": {
      "text/html": [
       "<div>\n",
       "<style scoped>\n",
       "    .dataframe tbody tr th:only-of-type {\n",
       "        vertical-align: middle;\n",
       "    }\n",
       "\n",
       "    .dataframe tbody tr th {\n",
       "        vertical-align: top;\n",
       "    }\n",
       "\n",
       "    .dataframe thead th {\n",
       "        text-align: right;\n",
       "    }\n",
       "</style>\n",
       "<table border=\"1\" class=\"dataframe\">\n",
       "  <thead>\n",
       "    <tr style=\"text-align: right;\">\n",
       "      <th></th>\n",
       "      <th>결측값 갯수</th>\n",
       "    </tr>\n",
       "  </thead>\n",
       "  <tbody>\n",
       "    <tr>\n",
       "      <th>regionid</th>\n",
       "      <td>0</td>\n",
       "    </tr>\n",
       "    <tr>\n",
       "      <th>product</th>\n",
       "      <td>1</td>\n",
       "    </tr>\n",
       "    <tr>\n",
       "      <th>week</th>\n",
       "      <td>0</td>\n",
       "    </tr>\n",
       "    <tr>\n",
       "      <th>qty</th>\n",
       "      <td>2</td>\n",
       "    </tr>\n",
       "    <tr>\n",
       "      <th>target</th>\n",
       "      <td>2</td>\n",
       "    </tr>\n",
       "    <tr>\n",
       "      <th>qty_new</th>\n",
       "      <td>0</td>\n",
       "    </tr>\n",
       "  </tbody>\n",
       "</table>\n",
       "</div>"
      ],
      "text/plain": [
       "          결측값 갯수\n",
       "regionid       0\n",
       "product        1\n",
       "week           0\n",
       "qty            2\n",
       "target         2\n",
       "qty_new        0"
      ]
     },
     "execution_count": 202,
     "metadata": {},
     "output_type": "execute_result"
    }
   ],
   "source": [
    "pd.DataFrame( excelData.isnull().sum(), columns = [\"결측값 갯수\"])"
   ]
  },
  {
   "cell_type": "markdown",
   "metadata": {},
   "source": [
    "### 특정값으로 전체 null값 채우기\n",
    "### [데이터프레임명].fillna(0)"
   ]
  },
  {
   "cell_type": "code",
   "execution_count": 203,
   "metadata": {},
   "outputs": [],
   "source": [
    "excelData0fill = excelData.fillna(0)"
   ]
  },
  {
   "cell_type": "code",
   "execution_count": 204,
   "metadata": {},
   "outputs": [
    {
     "data": {
      "text/html": [
       "<div>\n",
       "<style scoped>\n",
       "    .dataframe tbody tr th:only-of-type {\n",
       "        vertical-align: middle;\n",
       "    }\n",
       "\n",
       "    .dataframe tbody tr th {\n",
       "        vertical-align: top;\n",
       "    }\n",
       "\n",
       "    .dataframe thead th {\n",
       "        text-align: right;\n",
       "    }\n",
       "</style>\n",
       "<table border=\"1\" class=\"dataframe\">\n",
       "  <thead>\n",
       "    <tr style=\"text-align: right;\">\n",
       "      <th></th>\n",
       "      <th>regionid</th>\n",
       "      <th>product</th>\n",
       "      <th>week</th>\n",
       "      <th>qty</th>\n",
       "      <th>target</th>\n",
       "      <th>qty_new</th>\n",
       "    </tr>\n",
       "  </thead>\n",
       "  <tbody>\n",
       "    <tr>\n",
       "      <th>0</th>\n",
       "      <td>A01</td>\n",
       "      <td>PRODUCT1</td>\n",
       "      <td>1</td>\n",
       "      <td>0.0</td>\n",
       "      <td>20.0</td>\n",
       "      <td>3.0</td>\n",
       "    </tr>\n",
       "    <tr>\n",
       "      <th>1</th>\n",
       "      <td>A01</td>\n",
       "      <td>PRODUCT1</td>\n",
       "      <td>2</td>\n",
       "      <td>2.0</td>\n",
       "      <td>0.0</td>\n",
       "      <td>2.0</td>\n",
       "    </tr>\n",
       "    <tr>\n",
       "      <th>2</th>\n",
       "      <td>A01</td>\n",
       "      <td>0</td>\n",
       "      <td>3</td>\n",
       "      <td>0.0</td>\n",
       "      <td>10.0</td>\n",
       "      <td>3.0</td>\n",
       "    </tr>\n",
       "    <tr>\n",
       "      <th>3</th>\n",
       "      <td>A01</td>\n",
       "      <td>PRODUCT1</td>\n",
       "      <td>3</td>\n",
       "      <td>4.0</td>\n",
       "      <td>0.0</td>\n",
       "      <td>4.0</td>\n",
       "    </tr>\n",
       "  </tbody>\n",
       "</table>\n",
       "</div>"
      ],
      "text/plain": [
       "  regionid   product  week  qty  target  qty_new\n",
       "0      A01  PRODUCT1     1  0.0    20.0      3.0\n",
       "1      A01  PRODUCT1     2  2.0     0.0      2.0\n",
       "2      A01         0     3  0.0    10.0      3.0\n",
       "3      A01  PRODUCT1     3  4.0     0.0      4.0"
      ]
     },
     "execution_count": 204,
     "metadata": {},
     "output_type": "execute_result"
    }
   ],
   "source": [
    "excelData0fill\n"
   ]
  },
  {
   "cell_type": "code",
   "execution_count": 205,
   "metadata": {},
   "outputs": [],
   "source": [
    "excelData[\"QTY_NEW\"] = excelData.qty.fillna(0)"
   ]
  },
  {
   "cell_type": "code",
   "execution_count": 206,
   "metadata": {},
   "outputs": [
    {
     "data": {
      "text/html": [
       "<div>\n",
       "<style scoped>\n",
       "    .dataframe tbody tr th:only-of-type {\n",
       "        vertical-align: middle;\n",
       "    }\n",
       "\n",
       "    .dataframe tbody tr th {\n",
       "        vertical-align: top;\n",
       "    }\n",
       "\n",
       "    .dataframe thead th {\n",
       "        text-align: right;\n",
       "    }\n",
       "</style>\n",
       "<table border=\"1\" class=\"dataframe\">\n",
       "  <thead>\n",
       "    <tr style=\"text-align: right;\">\n",
       "      <th></th>\n",
       "      <th>regionid</th>\n",
       "      <th>product</th>\n",
       "      <th>week</th>\n",
       "      <th>qty</th>\n",
       "      <th>target</th>\n",
       "      <th>qty_new</th>\n",
       "      <th>QTY_NEW</th>\n",
       "    </tr>\n",
       "  </thead>\n",
       "  <tbody>\n",
       "    <tr>\n",
       "      <th>0</th>\n",
       "      <td>A01</td>\n",
       "      <td>PRODUCT1</td>\n",
       "      <td>1</td>\n",
       "      <td>NaN</td>\n",
       "      <td>20.0</td>\n",
       "      <td>3.0</td>\n",
       "      <td>0.0</td>\n",
       "    </tr>\n",
       "    <tr>\n",
       "      <th>1</th>\n",
       "      <td>A01</td>\n",
       "      <td>PRODUCT1</td>\n",
       "      <td>2</td>\n",
       "      <td>2.0</td>\n",
       "      <td>NaN</td>\n",
       "      <td>2.0</td>\n",
       "      <td>2.0</td>\n",
       "    </tr>\n",
       "    <tr>\n",
       "      <th>2</th>\n",
       "      <td>A01</td>\n",
       "      <td>NaN</td>\n",
       "      <td>3</td>\n",
       "      <td>NaN</td>\n",
       "      <td>10.0</td>\n",
       "      <td>3.0</td>\n",
       "      <td>0.0</td>\n",
       "    </tr>\n",
       "    <tr>\n",
       "      <th>3</th>\n",
       "      <td>A01</td>\n",
       "      <td>PRODUCT1</td>\n",
       "      <td>3</td>\n",
       "      <td>4.0</td>\n",
       "      <td>NaN</td>\n",
       "      <td>4.0</td>\n",
       "      <td>4.0</td>\n",
       "    </tr>\n",
       "  </tbody>\n",
       "</table>\n",
       "</div>"
      ],
      "text/plain": [
       "  regionid   product  week  qty  target  qty_new  QTY_NEW\n",
       "0      A01  PRODUCT1     1  NaN    20.0      3.0      0.0\n",
       "1      A01  PRODUCT1     2  2.0     NaN      2.0      2.0\n",
       "2      A01       NaN     3  NaN    10.0      3.0      0.0\n",
       "3      A01  PRODUCT1     3  4.0     NaN      4.0      4.0"
      ]
     },
     "execution_count": 206,
     "metadata": {},
     "output_type": "execute_result"
    }
   ],
   "source": [
    "excelData"
   ]
  },
  {
   "cell_type": "markdown",
   "metadata": {},
   "source": [
    "### 특정 순서로 채우기\n",
    "### [데이터프레임명].fillna(method=\"bfill\") *ffill"
   ]
  },
  {
   "cell_type": "code",
   "execution_count": 207,
   "metadata": {},
   "outputs": [
    {
     "data": {
      "text/html": [
       "<div>\n",
       "<style scoped>\n",
       "    .dataframe tbody tr th:only-of-type {\n",
       "        vertical-align: middle;\n",
       "    }\n",
       "\n",
       "    .dataframe tbody tr th {\n",
       "        vertical-align: top;\n",
       "    }\n",
       "\n",
       "    .dataframe thead th {\n",
       "        text-align: right;\n",
       "    }\n",
       "</style>\n",
       "<table border=\"1\" class=\"dataframe\">\n",
       "  <thead>\n",
       "    <tr style=\"text-align: right;\">\n",
       "      <th></th>\n",
       "      <th>regionid</th>\n",
       "      <th>product</th>\n",
       "      <th>week</th>\n",
       "      <th>qty</th>\n",
       "      <th>target</th>\n",
       "      <th>qty_new</th>\n",
       "      <th>QTY_NEW</th>\n",
       "    </tr>\n",
       "  </thead>\n",
       "  <tbody>\n",
       "    <tr>\n",
       "      <th>0</th>\n",
       "      <td>A01</td>\n",
       "      <td>PRODUCT1</td>\n",
       "      <td>1</td>\n",
       "      <td>2.0</td>\n",
       "      <td>20.0</td>\n",
       "      <td>3.0</td>\n",
       "      <td>0.0</td>\n",
       "    </tr>\n",
       "    <tr>\n",
       "      <th>1</th>\n",
       "      <td>A01</td>\n",
       "      <td>PRODUCT1</td>\n",
       "      <td>2</td>\n",
       "      <td>2.0</td>\n",
       "      <td>10.0</td>\n",
       "      <td>2.0</td>\n",
       "      <td>2.0</td>\n",
       "    </tr>\n",
       "    <tr>\n",
       "      <th>2</th>\n",
       "      <td>A01</td>\n",
       "      <td>PRODUCT1</td>\n",
       "      <td>3</td>\n",
       "      <td>4.0</td>\n",
       "      <td>10.0</td>\n",
       "      <td>3.0</td>\n",
       "      <td>0.0</td>\n",
       "    </tr>\n",
       "    <tr>\n",
       "      <th>3</th>\n",
       "      <td>A01</td>\n",
       "      <td>PRODUCT1</td>\n",
       "      <td>3</td>\n",
       "      <td>4.0</td>\n",
       "      <td>NaN</td>\n",
       "      <td>4.0</td>\n",
       "      <td>4.0</td>\n",
       "    </tr>\n",
       "  </tbody>\n",
       "</table>\n",
       "</div>"
      ],
      "text/plain": [
       "  regionid   product  week  qty  target  qty_new  QTY_NEW\n",
       "0      A01  PRODUCT1     1  2.0    20.0      3.0      0.0\n",
       "1      A01  PRODUCT1     2  2.0    10.0      2.0      2.0\n",
       "2      A01  PRODUCT1     3  4.0    10.0      3.0      0.0\n",
       "3      A01  PRODUCT1     3  4.0     NaN      4.0      4.0"
      ]
     },
     "execution_count": 207,
     "metadata": {},
     "output_type": "execute_result"
    }
   ],
   "source": [
    "excelData.fillna(method=\"bfill\") ## forward filling. 앞의 값이나 뒤의값으로 null값을 채운다. "
   ]
  },
  {
   "cell_type": "markdown",
   "metadata": {},
   "source": [
    "#### 앞뒤로 다 채우면 null값이 사라진다"
   ]
  },
  {
   "cell_type": "code",
   "execution_count": 208,
   "metadata": {},
   "outputs": [],
   "source": [
    "aa = excelData.fillna(method=\"ffill\")"
   ]
  },
  {
   "cell_type": "code",
   "execution_count": 209,
   "metadata": {},
   "outputs": [
    {
     "data": {
      "text/html": [
       "<div>\n",
       "<style scoped>\n",
       "    .dataframe tbody tr th:only-of-type {\n",
       "        vertical-align: middle;\n",
       "    }\n",
       "\n",
       "    .dataframe tbody tr th {\n",
       "        vertical-align: top;\n",
       "    }\n",
       "\n",
       "    .dataframe thead th {\n",
       "        text-align: right;\n",
       "    }\n",
       "</style>\n",
       "<table border=\"1\" class=\"dataframe\">\n",
       "  <thead>\n",
       "    <tr style=\"text-align: right;\">\n",
       "      <th></th>\n",
       "      <th>regionid</th>\n",
       "      <th>product</th>\n",
       "      <th>week</th>\n",
       "      <th>qty</th>\n",
       "      <th>target</th>\n",
       "      <th>qty_new</th>\n",
       "      <th>QTY_NEW</th>\n",
       "    </tr>\n",
       "  </thead>\n",
       "  <tbody>\n",
       "    <tr>\n",
       "      <th>0</th>\n",
       "      <td>A01</td>\n",
       "      <td>PRODUCT1</td>\n",
       "      <td>1</td>\n",
       "      <td>2.0</td>\n",
       "      <td>20.0</td>\n",
       "      <td>3.0</td>\n",
       "      <td>0.0</td>\n",
       "    </tr>\n",
       "    <tr>\n",
       "      <th>1</th>\n",
       "      <td>A01</td>\n",
       "      <td>PRODUCT1</td>\n",
       "      <td>2</td>\n",
       "      <td>2.0</td>\n",
       "      <td>20.0</td>\n",
       "      <td>2.0</td>\n",
       "      <td>2.0</td>\n",
       "    </tr>\n",
       "    <tr>\n",
       "      <th>2</th>\n",
       "      <td>A01</td>\n",
       "      <td>PRODUCT1</td>\n",
       "      <td>3</td>\n",
       "      <td>2.0</td>\n",
       "      <td>10.0</td>\n",
       "      <td>3.0</td>\n",
       "      <td>0.0</td>\n",
       "    </tr>\n",
       "    <tr>\n",
       "      <th>3</th>\n",
       "      <td>A01</td>\n",
       "      <td>PRODUCT1</td>\n",
       "      <td>3</td>\n",
       "      <td>4.0</td>\n",
       "      <td>10.0</td>\n",
       "      <td>4.0</td>\n",
       "      <td>4.0</td>\n",
       "    </tr>\n",
       "  </tbody>\n",
       "</table>\n",
       "</div>"
      ],
      "text/plain": [
       "  regionid   product  week  qty  target  qty_new  QTY_NEW\n",
       "0      A01  PRODUCT1     1  2.0    20.0      3.0      0.0\n",
       "1      A01  PRODUCT1     2  2.0    20.0      2.0      2.0\n",
       "2      A01  PRODUCT1     3  2.0    10.0      3.0      0.0\n",
       "3      A01  PRODUCT1     3  4.0    10.0      4.0      4.0"
      ]
     },
     "execution_count": 209,
     "metadata": {},
     "output_type": "execute_result"
    }
   ],
   "source": [
    "aa.fillna(method=\"bfill\")"
   ]
  },
  {
   "cell_type": "markdown",
   "metadata": {},
   "source": [
    "### 평균 값으로 채우기\n",
    "### [데이터프레임명].fillna([데이터프레임명.mean())"
   ]
  },
  {
   "cell_type": "code",
   "execution_count": 210,
   "metadata": {},
   "outputs": [
    {
     "data": {
      "text/html": [
       "<div>\n",
       "<style scoped>\n",
       "    .dataframe tbody tr th:only-of-type {\n",
       "        vertical-align: middle;\n",
       "    }\n",
       "\n",
       "    .dataframe tbody tr th {\n",
       "        vertical-align: top;\n",
       "    }\n",
       "\n",
       "    .dataframe thead th {\n",
       "        text-align: right;\n",
       "    }\n",
       "</style>\n",
       "<table border=\"1\" class=\"dataframe\">\n",
       "  <thead>\n",
       "    <tr style=\"text-align: right;\">\n",
       "      <th></th>\n",
       "      <th>regionid</th>\n",
       "      <th>product</th>\n",
       "      <th>week</th>\n",
       "      <th>qty</th>\n",
       "      <th>target</th>\n",
       "      <th>qty_new</th>\n",
       "      <th>QTY_NEW</th>\n",
       "    </tr>\n",
       "  </thead>\n",
       "  <tbody>\n",
       "    <tr>\n",
       "      <th>0</th>\n",
       "      <td>A01</td>\n",
       "      <td>PRODUCT1</td>\n",
       "      <td>1</td>\n",
       "      <td>3.0</td>\n",
       "      <td>20.0</td>\n",
       "      <td>3.0</td>\n",
       "      <td>0.0</td>\n",
       "    </tr>\n",
       "    <tr>\n",
       "      <th>1</th>\n",
       "      <td>A01</td>\n",
       "      <td>PRODUCT1</td>\n",
       "      <td>2</td>\n",
       "      <td>2.0</td>\n",
       "      <td>15.0</td>\n",
       "      <td>2.0</td>\n",
       "      <td>2.0</td>\n",
       "    </tr>\n",
       "    <tr>\n",
       "      <th>2</th>\n",
       "      <td>A01</td>\n",
       "      <td>NaN</td>\n",
       "      <td>3</td>\n",
       "      <td>3.0</td>\n",
       "      <td>10.0</td>\n",
       "      <td>3.0</td>\n",
       "      <td>0.0</td>\n",
       "    </tr>\n",
       "    <tr>\n",
       "      <th>3</th>\n",
       "      <td>A01</td>\n",
       "      <td>PRODUCT1</td>\n",
       "      <td>3</td>\n",
       "      <td>4.0</td>\n",
       "      <td>15.0</td>\n",
       "      <td>4.0</td>\n",
       "      <td>4.0</td>\n",
       "    </tr>\n",
       "  </tbody>\n",
       "</table>\n",
       "</div>"
      ],
      "text/plain": [
       "  regionid   product  week  qty  target  qty_new  QTY_NEW\n",
       "0      A01  PRODUCT1     1  3.0    20.0      3.0      0.0\n",
       "1      A01  PRODUCT1     2  2.0    15.0      2.0      2.0\n",
       "2      A01       NaN     3  3.0    10.0      3.0      0.0\n",
       "3      A01  PRODUCT1     3  4.0    15.0      4.0      4.0"
      ]
     },
     "execution_count": 210,
     "metadata": {},
     "output_type": "execute_result"
    }
   ],
   "source": [
    "excelData.fillna(excelData.mean())"
   ]
  },
  {
   "cell_type": "markdown",
   "metadata": {},
   "source": [
    "#### 다른 언어에서는 함수를 만들어서 null값을 변경한다"
   ]
  },
  {
   "cell_type": "markdown",
   "metadata": {},
   "source": [
    "## 시각화 라이브러리 사용. 데이터 시각화하기"
   ]
  },
  {
   "cell_type": "markdown",
   "metadata": {},
   "source": [
    "#### matplotlib 활용 데이터 시각화"
   ]
  },
  {
   "cell_type": "markdown",
   "metadata": {},
   "source": [
    "### 1. 라이브러리 선언"
   ]
  },
  {
   "cell_type": "code",
   "execution_count": 211,
   "metadata": {},
   "outputs": [],
   "source": [
    "import pandas as pd\n",
    "import matplotlib.pyplot as plt ## pyplot - 차트 그리는 라이브러리"
   ]
  },
  {
   "cell_type": "code",
   "execution_count": 212,
   "metadata": {},
   "outputs": [],
   "source": [
    "## jupyter 환경에서 차트를 show 없이 그림으로 그려주는 매직명령어 (주의 : .py 실행파이로 변환 시 주석 처리 해야한다.)\n",
    "%matplotlib inline"
   ]
  },
  {
   "cell_type": "markdown",
   "metadata": {},
   "source": [
    "### 2. 데이터 불러오기"
   ]
  },
  {
   "cell_type": "code",
   "execution_count": 213,
   "metadata": {},
   "outputs": [],
   "source": [
    "st01Data = pd.read_csv(\"../dataset/st0001data.csv\")\n",
    "st02Data = pd.read_csv(\"../dataset/st0002data.csv\")"
   ]
  },
  {
   "cell_type": "code",
   "execution_count": 214,
   "metadata": {},
   "outputs": [
    {
     "data": {
      "text/html": [
       "<div>\n",
       "<style scoped>\n",
       "    .dataframe tbody tr th:only-of-type {\n",
       "        vertical-align: middle;\n",
       "    }\n",
       "\n",
       "    .dataframe tbody tr th {\n",
       "        vertical-align: top;\n",
       "    }\n",
       "\n",
       "    .dataframe thead th {\n",
       "        text-align: right;\n",
       "    }\n",
       "</style>\n",
       "<table border=\"1\" class=\"dataframe\">\n",
       "  <thead>\n",
       "    <tr style=\"text-align: right;\">\n",
       "      <th></th>\n",
       "      <th>REGIONID</th>\n",
       "      <th>PRODUCTGROUP</th>\n",
       "      <th>WEEK</th>\n",
       "      <th>MEAN_VOLUME</th>\n",
       "    </tr>\n",
       "  </thead>\n",
       "  <tbody>\n",
       "    <tr>\n",
       "      <th>0</th>\n",
       "      <td>A01</td>\n",
       "      <td>ST0001</td>\n",
       "      <td>1</td>\n",
       "      <td>559479</td>\n",
       "    </tr>\n",
       "    <tr>\n",
       "      <th>1</th>\n",
       "      <td>A01</td>\n",
       "      <td>ST0001</td>\n",
       "      <td>2</td>\n",
       "      <td>483233</td>\n",
       "    </tr>\n",
       "    <tr>\n",
       "      <th>2</th>\n",
       "      <td>A01</td>\n",
       "      <td>ST0001</td>\n",
       "      <td>3</td>\n",
       "      <td>457317</td>\n",
       "    </tr>\n",
       "    <tr>\n",
       "      <th>3</th>\n",
       "      <td>A01</td>\n",
       "      <td>ST0001</td>\n",
       "      <td>4</td>\n",
       "      <td>500629</td>\n",
       "    </tr>\n",
       "    <tr>\n",
       "      <th>4</th>\n",
       "      <td>A01</td>\n",
       "      <td>ST0001</td>\n",
       "      <td>5</td>\n",
       "      <td>541937</td>\n",
       "    </tr>\n",
       "    <tr>\n",
       "      <th>5</th>\n",
       "      <td>A01</td>\n",
       "      <td>ST0001</td>\n",
       "      <td>6</td>\n",
       "      <td>674120</td>\n",
       "    </tr>\n",
       "    <tr>\n",
       "      <th>6</th>\n",
       "      <td>A01</td>\n",
       "      <td>ST0001</td>\n",
       "      <td>7</td>\n",
       "      <td>677071</td>\n",
       "    </tr>\n",
       "    <tr>\n",
       "      <th>7</th>\n",
       "      <td>A01</td>\n",
       "      <td>ST0001</td>\n",
       "      <td>8</td>\n",
       "      <td>604892</td>\n",
       "    </tr>\n",
       "    <tr>\n",
       "      <th>8</th>\n",
       "      <td>A01</td>\n",
       "      <td>ST0001</td>\n",
       "      <td>9</td>\n",
       "      <td>591500</td>\n",
       "    </tr>\n",
       "    <tr>\n",
       "      <th>9</th>\n",
       "      <td>A01</td>\n",
       "      <td>ST0001</td>\n",
       "      <td>10</td>\n",
       "      <td>747184</td>\n",
       "    </tr>\n",
       "    <tr>\n",
       "      <th>10</th>\n",
       "      <td>A01</td>\n",
       "      <td>ST0001</td>\n",
       "      <td>11</td>\n",
       "      <td>687051</td>\n",
       "    </tr>\n",
       "    <tr>\n",
       "      <th>11</th>\n",
       "      <td>A01</td>\n",
       "      <td>ST0001</td>\n",
       "      <td>12</td>\n",
       "      <td>589143</td>\n",
       "    </tr>\n",
       "    <tr>\n",
       "      <th>12</th>\n",
       "      <td>A01</td>\n",
       "      <td>ST0001</td>\n",
       "      <td>13</td>\n",
       "      <td>608835</td>\n",
       "    </tr>\n",
       "    <tr>\n",
       "      <th>13</th>\n",
       "      <td>A01</td>\n",
       "      <td>ST0001</td>\n",
       "      <td>14</td>\n",
       "      <td>532122</td>\n",
       "    </tr>\n",
       "    <tr>\n",
       "      <th>14</th>\n",
       "      <td>A01</td>\n",
       "      <td>ST0001</td>\n",
       "      <td>15</td>\n",
       "      <td>766251</td>\n",
       "    </tr>\n",
       "    <tr>\n",
       "      <th>15</th>\n",
       "      <td>A01</td>\n",
       "      <td>ST0001</td>\n",
       "      <td>16</td>\n",
       "      <td>729374</td>\n",
       "    </tr>\n",
       "    <tr>\n",
       "      <th>16</th>\n",
       "      <td>A01</td>\n",
       "      <td>ST0001</td>\n",
       "      <td>17</td>\n",
       "      <td>696641</td>\n",
       "    </tr>\n",
       "    <tr>\n",
       "      <th>17</th>\n",
       "      <td>A01</td>\n",
       "      <td>ST0001</td>\n",
       "      <td>18</td>\n",
       "      <td>685200</td>\n",
       "    </tr>\n",
       "    <tr>\n",
       "      <th>18</th>\n",
       "      <td>A01</td>\n",
       "      <td>ST0001</td>\n",
       "      <td>19</td>\n",
       "      <td>686305</td>\n",
       "    </tr>\n",
       "    <tr>\n",
       "      <th>19</th>\n",
       "      <td>A01</td>\n",
       "      <td>ST0001</td>\n",
       "      <td>20</td>\n",
       "      <td>662370</td>\n",
       "    </tr>\n",
       "    <tr>\n",
       "      <th>20</th>\n",
       "      <td>A01</td>\n",
       "      <td>ST0001</td>\n",
       "      <td>21</td>\n",
       "      <td>654190</td>\n",
       "    </tr>\n",
       "    <tr>\n",
       "      <th>21</th>\n",
       "      <td>A01</td>\n",
       "      <td>ST0001</td>\n",
       "      <td>22</td>\n",
       "      <td>674695</td>\n",
       "    </tr>\n",
       "    <tr>\n",
       "      <th>22</th>\n",
       "      <td>A01</td>\n",
       "      <td>ST0001</td>\n",
       "      <td>23</td>\n",
       "      <td>663027</td>\n",
       "    </tr>\n",
       "    <tr>\n",
       "      <th>23</th>\n",
       "      <td>A01</td>\n",
       "      <td>ST0001</td>\n",
       "      <td>24</td>\n",
       "      <td>650644</td>\n",
       "    </tr>\n",
       "    <tr>\n",
       "      <th>24</th>\n",
       "      <td>A01</td>\n",
       "      <td>ST0001</td>\n",
       "      <td>25</td>\n",
       "      <td>674538</td>\n",
       "    </tr>\n",
       "    <tr>\n",
       "      <th>25</th>\n",
       "      <td>A01</td>\n",
       "      <td>ST0001</td>\n",
       "      <td>26</td>\n",
       "      <td>681563</td>\n",
       "    </tr>\n",
       "    <tr>\n",
       "      <th>26</th>\n",
       "      <td>A01</td>\n",
       "      <td>ST0001</td>\n",
       "      <td>27</td>\n",
       "      <td>599043</td>\n",
       "    </tr>\n",
       "    <tr>\n",
       "      <th>27</th>\n",
       "      <td>A01</td>\n",
       "      <td>ST0001</td>\n",
       "      <td>28</td>\n",
       "      <td>587529</td>\n",
       "    </tr>\n",
       "    <tr>\n",
       "      <th>28</th>\n",
       "      <td>A01</td>\n",
       "      <td>ST0001</td>\n",
       "      <td>29</td>\n",
       "      <td>620882</td>\n",
       "    </tr>\n",
       "    <tr>\n",
       "      <th>29</th>\n",
       "      <td>A01</td>\n",
       "      <td>ST0001</td>\n",
       "      <td>30</td>\n",
       "      <td>643984</td>\n",
       "    </tr>\n",
       "    <tr>\n",
       "      <th>30</th>\n",
       "      <td>A01</td>\n",
       "      <td>ST0001</td>\n",
       "      <td>31</td>\n",
       "      <td>671138</td>\n",
       "    </tr>\n",
       "    <tr>\n",
       "      <th>31</th>\n",
       "      <td>A01</td>\n",
       "      <td>ST0001</td>\n",
       "      <td>32</td>\n",
       "      <td>677509</td>\n",
       "    </tr>\n",
       "    <tr>\n",
       "      <th>32</th>\n",
       "      <td>A01</td>\n",
       "      <td>ST0001</td>\n",
       "      <td>33</td>\n",
       "      <td>679332</td>\n",
       "    </tr>\n",
       "    <tr>\n",
       "      <th>33</th>\n",
       "      <td>A01</td>\n",
       "      <td>ST0001</td>\n",
       "      <td>34</td>\n",
       "      <td>846123</td>\n",
       "    </tr>\n",
       "    <tr>\n",
       "      <th>34</th>\n",
       "      <td>A01</td>\n",
       "      <td>ST0001</td>\n",
       "      <td>35</td>\n",
       "      <td>833345</td>\n",
       "    </tr>\n",
       "    <tr>\n",
       "      <th>35</th>\n",
       "      <td>A01</td>\n",
       "      <td>ST0001</td>\n",
       "      <td>36</td>\n",
       "      <td>826981</td>\n",
       "    </tr>\n",
       "    <tr>\n",
       "      <th>36</th>\n",
       "      <td>A01</td>\n",
       "      <td>ST0001</td>\n",
       "      <td>37</td>\n",
       "      <td>717281</td>\n",
       "    </tr>\n",
       "    <tr>\n",
       "      <th>37</th>\n",
       "      <td>A01</td>\n",
       "      <td>ST0001</td>\n",
       "      <td>38</td>\n",
       "      <td>693449</td>\n",
       "    </tr>\n",
       "    <tr>\n",
       "      <th>38</th>\n",
       "      <td>A01</td>\n",
       "      <td>ST0001</td>\n",
       "      <td>39</td>\n",
       "      <td>636169</td>\n",
       "    </tr>\n",
       "    <tr>\n",
       "      <th>39</th>\n",
       "      <td>A01</td>\n",
       "      <td>ST0001</td>\n",
       "      <td>40</td>\n",
       "      <td>647135</td>\n",
       "    </tr>\n",
       "    <tr>\n",
       "      <th>40</th>\n",
       "      <td>A01</td>\n",
       "      <td>ST0001</td>\n",
       "      <td>41</td>\n",
       "      <td>665177</td>\n",
       "    </tr>\n",
       "    <tr>\n",
       "      <th>41</th>\n",
       "      <td>A01</td>\n",
       "      <td>ST0001</td>\n",
       "      <td>42</td>\n",
       "      <td>639179</td>\n",
       "    </tr>\n",
       "    <tr>\n",
       "      <th>42</th>\n",
       "      <td>A01</td>\n",
       "      <td>ST0001</td>\n",
       "      <td>43</td>\n",
       "      <td>627906</td>\n",
       "    </tr>\n",
       "    <tr>\n",
       "      <th>43</th>\n",
       "      <td>A01</td>\n",
       "      <td>ST0001</td>\n",
       "      <td>44</td>\n",
       "      <td>623132</td>\n",
       "    </tr>\n",
       "    <tr>\n",
       "      <th>44</th>\n",
       "      <td>A01</td>\n",
       "      <td>ST0001</td>\n",
       "      <td>45</td>\n",
       "      <td>621592</td>\n",
       "    </tr>\n",
       "    <tr>\n",
       "      <th>45</th>\n",
       "      <td>A01</td>\n",
       "      <td>ST0001</td>\n",
       "      <td>46</td>\n",
       "      <td>644949</td>\n",
       "    </tr>\n",
       "    <tr>\n",
       "      <th>46</th>\n",
       "      <td>A01</td>\n",
       "      <td>ST0001</td>\n",
       "      <td>47</td>\n",
       "      <td>681873</td>\n",
       "    </tr>\n",
       "    <tr>\n",
       "      <th>47</th>\n",
       "      <td>A01</td>\n",
       "      <td>ST0001</td>\n",
       "      <td>48</td>\n",
       "      <td>1103665</td>\n",
       "    </tr>\n",
       "    <tr>\n",
       "      <th>48</th>\n",
       "      <td>A01</td>\n",
       "      <td>ST0001</td>\n",
       "      <td>49</td>\n",
       "      <td>835398</td>\n",
       "    </tr>\n",
       "    <tr>\n",
       "      <th>49</th>\n",
       "      <td>A01</td>\n",
       "      <td>ST0001</td>\n",
       "      <td>50</td>\n",
       "      <td>752613</td>\n",
       "    </tr>\n",
       "    <tr>\n",
       "      <th>50</th>\n",
       "      <td>A01</td>\n",
       "      <td>ST0001</td>\n",
       "      <td>51</td>\n",
       "      <td>863189</td>\n",
       "    </tr>\n",
       "    <tr>\n",
       "      <th>51</th>\n",
       "      <td>A01</td>\n",
       "      <td>ST0001</td>\n",
       "      <td>52</td>\n",
       "      <td>1197170</td>\n",
       "    </tr>\n",
       "    <tr>\n",
       "      <th>52</th>\n",
       "      <td>A01</td>\n",
       "      <td>ST0001</td>\n",
       "      <td>53</td>\n",
       "      <td>757241</td>\n",
       "    </tr>\n",
       "  </tbody>\n",
       "</table>\n",
       "</div>"
      ],
      "text/plain": [
       "   REGIONID PRODUCTGROUP  WEEK  MEAN_VOLUME\n",
       "0       A01       ST0001     1       559479\n",
       "1       A01       ST0001     2       483233\n",
       "2       A01       ST0001     3       457317\n",
       "3       A01       ST0001     4       500629\n",
       "4       A01       ST0001     5       541937\n",
       "5       A01       ST0001     6       674120\n",
       "6       A01       ST0001     7       677071\n",
       "7       A01       ST0001     8       604892\n",
       "8       A01       ST0001     9       591500\n",
       "9       A01       ST0001    10       747184\n",
       "10      A01       ST0001    11       687051\n",
       "11      A01       ST0001    12       589143\n",
       "12      A01       ST0001    13       608835\n",
       "13      A01       ST0001    14       532122\n",
       "14      A01       ST0001    15       766251\n",
       "15      A01       ST0001    16       729374\n",
       "16      A01       ST0001    17       696641\n",
       "17      A01       ST0001    18       685200\n",
       "18      A01       ST0001    19       686305\n",
       "19      A01       ST0001    20       662370\n",
       "20      A01       ST0001    21       654190\n",
       "21      A01       ST0001    22       674695\n",
       "22      A01       ST0001    23       663027\n",
       "23      A01       ST0001    24       650644\n",
       "24      A01       ST0001    25       674538\n",
       "25      A01       ST0001    26       681563\n",
       "26      A01       ST0001    27       599043\n",
       "27      A01       ST0001    28       587529\n",
       "28      A01       ST0001    29       620882\n",
       "29      A01       ST0001    30       643984\n",
       "30      A01       ST0001    31       671138\n",
       "31      A01       ST0001    32       677509\n",
       "32      A01       ST0001    33       679332\n",
       "33      A01       ST0001    34       846123\n",
       "34      A01       ST0001    35       833345\n",
       "35      A01       ST0001    36       826981\n",
       "36      A01       ST0001    37       717281\n",
       "37      A01       ST0001    38       693449\n",
       "38      A01       ST0001    39       636169\n",
       "39      A01       ST0001    40       647135\n",
       "40      A01       ST0001    41       665177\n",
       "41      A01       ST0001    42       639179\n",
       "42      A01       ST0001    43       627906\n",
       "43      A01       ST0001    44       623132\n",
       "44      A01       ST0001    45       621592\n",
       "45      A01       ST0001    46       644949\n",
       "46      A01       ST0001    47       681873\n",
       "47      A01       ST0001    48      1103665\n",
       "48      A01       ST0001    49       835398\n",
       "49      A01       ST0001    50       752613\n",
       "50      A01       ST0001    51       863189\n",
       "51      A01       ST0001    52      1197170\n",
       "52      A01       ST0001    53       757241"
      ]
     },
     "execution_count": 214,
     "metadata": {},
     "output_type": "execute_result"
    }
   ],
   "source": []
  },
  {
   "cell_type": "code",
   "execution_count": 216,
   "metadata": {},
   "outputs": [],
   "source": [
    "xValue = st01Data.WEEK\n",
    "yValue = st01Data.MEAN_VOLUME"
   ]
  },
  {
   "cell_type": "code",
   "execution_count": 217,
   "metadata": {},
   "outputs": [
    {
     "data": {
      "text/plain": [
       "[<matplotlib.lines.Line2D at 0x2947f119ee0>]"
      ]
     },
     "execution_count": 217,
     "metadata": {},
     "output_type": "execute_result"
    },
    {
     "data": {
      "image/png": "[encoded data removed]",
      "text/plain": [
       "<Figure size 432x288 with 1 Axes>"
      ]
     },
     "metadata": {
      "needs_background": "light"
     },
     "output_type": "display_data"
    }
   ],
   "source": [
    "plt.plot(xValue,yValue)"
   ]
  },
  {
   "cell_type": "markdown",
   "metadata": {},
   "source": [
    "### x 축 값 범위 지정\n",
    "\n",
    "\n",
    "\n",
    "\n",
    "\n",
    "\n",
    "\n",
    "\n",
    "\n",
    "\n",
    "\n",
    "\n",
    "\n",
    "\n",
    "\n",
    "\n",
    "\n",
    "\n",
    "\n",
    "\n",
    "\n",
    "\n",
    "\n",
    "\n",
    "\n",
    "\n",
    "\n",
    "\n",
    "\n",
    "\n",
    "\n",
    "\n",
    "\n",
    "\n",
    "\n",
    "\n",
    "\n",
    "\n",
    "\n",
    "\n",
    "\n",
    "\n",
    "\n",
    "\n",
    "\n",
    "\n",
    "\n",
    "\n",
    "\n",
    "\n",
    "\n",
    "\n",
    "\n",
    "\n",
    "\n",
    "\n",
    "\n",
    "\n",
    "\n",
    "\n",
    "\n",
    "\n",
    "\n",
    "\n",
    "\n",
    "\n",
    "\n",
    "\n",
    "\n",
    "\n",
    "\n",
    "\n",
    "\n",
    "\n",
    "\n",
    "\n",
    "\n",
    "\n"
   ]
  },
  {
   "cell_type": "code",
   "execution_count": 220,
   "metadata": {},
   "outputs": [
    {
     "data": {
      "text/plain": [
       "[<matplotlib.lines.Line2D at 0x2947f01f5b0>]"
      ]
     },
     "execution_count": 220,
     "metadata": {},
     "output_type": "execute_result"
    },
    {
     "data": {
      "image/png": "[encoded data removed]",
      "text/plain": [
       "<Figure size 432x288 with 1 Axes>"
      ]
     },
     "metadata": {
      "needs_background": "light"
     },
     "output_type": "display_data"
    }
   ],
   "source": [
    "plt.xticks( range( min(x), max(x), 3))\n",
    "plt.plot(xValue,yValue)"
   ]
  },
  {
   "cell_type": "markdown",
   "metadata": {},
   "source": [
    "### 차트 꾸미기"
   ]
  },
  {
   "cell_type": "code",
   "execution_count": 291,
   "metadata": {},
   "outputs": [
    {
     "data": {
      "text/plain": [
       "[<matplotlib.lines.Line2D at 0x29404998760>]"
      ]
     },
     "execution_count": 291,
     "metadata": {},
     "output_type": "execute_result"
    },
    {
     "data": {
      "image/png": "[encoded data removed]",
      "text/plain": [
       "<Figure size 432x288 with 1 Axes>"
      ]
     },
     "metadata": {
      "needs_background": "light"
     },
     "output_type": "display_data"
    }
   ],
   "source": [
    "# x, y 축 라벨\n",
    "plt.xlabel(\"week\")\n",
    "plt.ylabel(\"avg_volume\")\n",
    "# 차트 제목\n",
    "plt.title(\"weekly trend\")\n",
    "# 선색상 종류 굴기\n",
    "plt.plot(xValue,yValue, \"g--\", lw=1.5) # line weight 굵기"
   ]
  },
  {
   "cell_type": "code",
   "execution_count": 292,
   "metadata": {},
   "outputs": [],
   "source": [
    "x2Value = st02Data.WEEK\n",
    "\n",
    "y2Value = st02Data.MEAN_VOLUME"
   ]
  },
  {
   "cell_type": "code",
   "execution_count": 293,
   "metadata": {},
   "outputs": [
    {
     "data": {
      "text/plain": [
       "Text(0.5, 1.0, 'volume by week')"
      ]
     },
     "execution_count": 293,
     "metadata": {},
     "output_type": "execute_result"
    },
    {
     "data": {
      "image/png": "[encoded data removed]",
      "text/plain": [
       "<Figure size 432x288 with 1 Axes>"
      ]
     },
     "metadata": {
      "needs_background": "light"
     },
     "output_type": "display_data"
    }
   ],
   "source": [
    "## x 값이 같으니까 같은 차트에 그려준다.\n",
    "plt.xlabel(\"WEEK\")\n",
    "plt.ylabel(\"AVG_VOLUME\")\n",
    "plt.plot(xValue,yValue, \"g--\", label = \"ST0001\")\n",
    "plt.plot(xValue,y2Value, \"m:\", label = \"ST0002\")\n",
    "plt.legend(loc = 0) ## best = 0\n",
    "plt.grid(True)\n",
    "plt.title('volume by week')"
   ]
  },
  {
   "cell_type": "code",
   "execution_count": 294,
   "metadata": {},
   "outputs": [],
   "source": [
    "## 실습"
   ]
  },
  {
   "cell_type": "code",
   "execution_count": 295,
   "metadata": {},
   "outputs": [],
   "source": [
    "featuresData = pd.read_csv(\"../dataset/feature_regression_example.csv\")"
   ]
  },
  {
   "cell_type": "code",
   "execution_count": 296,
   "metadata": {},
   "outputs": [
    {
     "data": {
      "text/html": [
       "<div>\n",
       "<style scoped>\n",
       "    .dataframe tbody tr th:only-of-type {\n",
       "        vertical-align: middle;\n",
       "    }\n",
       "\n",
       "    .dataframe tbody tr th {\n",
       "        vertical-align: top;\n",
       "    }\n",
       "\n",
       "    .dataframe thead th {\n",
       "        text-align: right;\n",
       "    }\n",
       "</style>\n",
       "<table border=\"1\" class=\"dataframe\">\n",
       "  <thead>\n",
       "    <tr style=\"text-align: right;\">\n",
       "      <th></th>\n",
       "      <th>REGIONID</th>\n",
       "      <th>PRODUCTGROUP</th>\n",
       "      <th>PRODUCT</th>\n",
       "      <th>ITEM</th>\n",
       "      <th>YEARWEEK</th>\n",
       "      <th>YEAR</th>\n",
       "      <th>WEEK</th>\n",
       "      <th>QTY</th>\n",
       "      <th>HOLIDAY</th>\n",
       "      <th>HCLUS</th>\n",
       "      <th>PROMOTION</th>\n",
       "      <th>PRO_PERCENT</th>\n",
       "    </tr>\n",
       "  </thead>\n",
       "  <tbody>\n",
       "    <tr>\n",
       "      <th>0</th>\n",
       "      <td>SEOUL_BANK_001</td>\n",
       "      <td>PG02</td>\n",
       "      <td>PRODUCT0010</td>\n",
       "      <td>ITEM0115</td>\n",
       "      <td>201501</td>\n",
       "      <td>2015</td>\n",
       "      <td>1</td>\n",
       "      <td>1225</td>\n",
       "      <td>Y</td>\n",
       "      <td>1</td>\n",
       "      <td>Y</td>\n",
       "      <td>0.209442</td>\n",
       "    </tr>\n",
       "    <tr>\n",
       "      <th>1</th>\n",
       "      <td>SEOUL_BANK_001</td>\n",
       "      <td>PG02</td>\n",
       "      <td>PRODUCT0010</td>\n",
       "      <td>ITEM0115</td>\n",
       "      <td>201502</td>\n",
       "      <td>2015</td>\n",
       "      <td>2</td>\n",
       "      <td>968</td>\n",
       "      <td>N</td>\n",
       "      <td>4</td>\n",
       "      <td>Y</td>\n",
       "      <td>0.209442</td>\n",
       "    </tr>\n",
       "    <tr>\n",
       "      <th>2</th>\n",
       "      <td>SEOUL_BANK_001</td>\n",
       "      <td>PG02</td>\n",
       "      <td>PRODUCT0010</td>\n",
       "      <td>ITEM0115</td>\n",
       "      <td>201503</td>\n",
       "      <td>2015</td>\n",
       "      <td>3</td>\n",
       "      <td>1209</td>\n",
       "      <td>N</td>\n",
       "      <td>4</td>\n",
       "      <td>Y</td>\n",
       "      <td>0.208155</td>\n",
       "    </tr>\n",
       "    <tr>\n",
       "      <th>3</th>\n",
       "      <td>SEOUL_BANK_001</td>\n",
       "      <td>PG02</td>\n",
       "      <td>PRODUCT0010</td>\n",
       "      <td>ITEM0115</td>\n",
       "      <td>201504</td>\n",
       "      <td>2015</td>\n",
       "      <td>4</td>\n",
       "      <td>1810</td>\n",
       "      <td>Y</td>\n",
       "      <td>2</td>\n",
       "      <td>Y</td>\n",
       "      <td>0.208155</td>\n",
       "    </tr>\n",
       "    <tr>\n",
       "      <th>4</th>\n",
       "      <td>SEOUL_BANK_001</td>\n",
       "      <td>PG02</td>\n",
       "      <td>PRODUCT0010</td>\n",
       "      <td>ITEM0115</td>\n",
       "      <td>201505</td>\n",
       "      <td>2015</td>\n",
       "      <td>5</td>\n",
       "      <td>1773</td>\n",
       "      <td>N</td>\n",
       "      <td>4</td>\n",
       "      <td>Y</td>\n",
       "      <td>0.208155</td>\n",
       "    </tr>\n",
       "    <tr>\n",
       "      <th>...</th>\n",
       "      <td>...</td>\n",
       "      <td>...</td>\n",
       "      <td>...</td>\n",
       "      <td>...</td>\n",
       "      <td>...</td>\n",
       "      <td>...</td>\n",
       "      <td>...</td>\n",
       "      <td>...</td>\n",
       "      <td>...</td>\n",
       "      <td>...</td>\n",
       "      <td>...</td>\n",
       "      <td>...</td>\n",
       "    </tr>\n",
       "    <tr>\n",
       "      <th>100</th>\n",
       "      <td>SEOUL_BANK_001</td>\n",
       "      <td>PG02</td>\n",
       "      <td>PRODUCT0010</td>\n",
       "      <td>ITEM0115</td>\n",
       "      <td>201648</td>\n",
       "      <td>2016</td>\n",
       "      <td>48</td>\n",
       "      <td>2412</td>\n",
       "      <td>Y</td>\n",
       "      <td>0</td>\n",
       "      <td>Y</td>\n",
       "      <td>0.421888</td>\n",
       "    </tr>\n",
       "    <tr>\n",
       "      <th>101</th>\n",
       "      <td>SEOUL_BANK_001</td>\n",
       "      <td>PG02</td>\n",
       "      <td>PRODUCT0010</td>\n",
       "      <td>ITEM0115</td>\n",
       "      <td>201649</td>\n",
       "      <td>2016</td>\n",
       "      <td>49</td>\n",
       "      <td>1955</td>\n",
       "      <td>N</td>\n",
       "      <td>4</td>\n",
       "      <td>Y</td>\n",
       "      <td>0.421888</td>\n",
       "    </tr>\n",
       "    <tr>\n",
       "      <th>102</th>\n",
       "      <td>SEOUL_BANK_001</td>\n",
       "      <td>PG02</td>\n",
       "      <td>PRODUCT0010</td>\n",
       "      <td>ITEM0115</td>\n",
       "      <td>201650</td>\n",
       "      <td>2016</td>\n",
       "      <td>50</td>\n",
       "      <td>1800</td>\n",
       "      <td>N</td>\n",
       "      <td>4</td>\n",
       "      <td>Y</td>\n",
       "      <td>0.352361</td>\n",
       "    </tr>\n",
       "    <tr>\n",
       "      <th>103</th>\n",
       "      <td>SEOUL_BANK_001</td>\n",
       "      <td>PG02</td>\n",
       "      <td>PRODUCT0010</td>\n",
       "      <td>ITEM0115</td>\n",
       "      <td>201651</td>\n",
       "      <td>2016</td>\n",
       "      <td>51</td>\n",
       "      <td>1173</td>\n",
       "      <td>N</td>\n",
       "      <td>4</td>\n",
       "      <td>Y</td>\n",
       "      <td>0.352361</td>\n",
       "    </tr>\n",
       "    <tr>\n",
       "      <th>104</th>\n",
       "      <td>SEOUL_BANK_001</td>\n",
       "      <td>PG02</td>\n",
       "      <td>PRODUCT0010</td>\n",
       "      <td>ITEM0115</td>\n",
       "      <td>201652</td>\n",
       "      <td>2016</td>\n",
       "      <td>52</td>\n",
       "      <td>332</td>\n",
       "      <td>Y</td>\n",
       "      <td>1</td>\n",
       "      <td>Y</td>\n",
       "      <td>0.352361</td>\n",
       "    </tr>\n",
       "  </tbody>\n",
       "</table>\n",
       "<p>105 rows × 12 columns</p>\n",
       "</div>"
      ],
      "text/plain": [
       "           REGIONID PRODUCTGROUP      PRODUCT      ITEM  YEARWEEK  YEAR  WEEK  \\\n",
       "0    SEOUL_BANK_001         PG02  PRODUCT0010  ITEM0115    201501  2015     1   \n",
       "1    SEOUL_BANK_001         PG02  PRODUCT0010  ITEM0115    201502  2015     2   \n",
       "2    SEOUL_BANK_001         PG02  PRODUCT0010  ITEM0115    201503  2015     3   \n",
       "3    SEOUL_BANK_001         PG02  PRODUCT0010  ITEM0115    201504  2015     4   \n",
       "4    SEOUL_BANK_001         PG02  PRODUCT0010  ITEM0115    201505  2015     5   \n",
       "..              ...          ...          ...       ...       ...   ...   ...   \n",
       "100  SEOUL_BANK_001         PG02  PRODUCT0010  ITEM0115    201648  2016    48   \n",
       "101  SEOUL_BANK_001         PG02  PRODUCT0010  ITEM0115    201649  2016    49   \n",
       "102  SEOUL_BANK_001         PG02  PRODUCT0010  ITEM0115    201650  2016    50   \n",
       "103  SEOUL_BANK_001         PG02  PRODUCT0010  ITEM0115    201651  2016    51   \n",
       "104  SEOUL_BANK_001         PG02  PRODUCT0010  ITEM0115    201652  2016    52   \n",
       "\n",
       "      QTY HOLIDAY  HCLUS PROMOTION  PRO_PERCENT  \n",
       "0    1225       Y      1         Y     0.209442  \n",
       "1     968       N      4         Y     0.209442  \n",
       "2    1209       N      4         Y     0.208155  \n",
       "3    1810       Y      2         Y     0.208155  \n",
       "4    1773       N      4         Y     0.208155  \n",
       "..    ...     ...    ...       ...          ...  \n",
       "100  2412       Y      0         Y     0.421888  \n",
       "101  1955       N      4         Y     0.421888  \n",
       "102  1800       N      4         Y     0.352361  \n",
       "103  1173       N      4         Y     0.352361  \n",
       "104   332       Y      1         Y     0.352361  \n",
       "\n",
       "[105 rows x 12 columns]"
      ]
     },
     "execution_count": 296,
     "metadata": {},
     "output_type": "execute_result"
    }
   ],
   "source": [
    "featuresData"
   ]
  },
  {
   "cell_type": "code",
   "execution_count": 297,
   "metadata": {},
   "outputs": [],
   "source": [
    "featuresData2015 = featuresData.loc[featuresData.YEAR == 2015]"
   ]
  },
  {
   "cell_type": "code",
   "execution_count": 298,
   "metadata": {},
   "outputs": [
    {
     "data": {
      "text/plain": [
       "<matplotlib.legend.Legend at 0x2940485efd0>"
      ]
     },
     "execution_count": 298,
     "metadata": {},
     "output_type": "execute_result"
    },
    {
     "data": {
      "image/png": "[encoded data removed]",
      "text/plain": [
       "<Figure size 432x288 with 1 Axes>"
      ]
     },
     "metadata": {
      "needs_background": "light"
     },
     "output_type": "display_data"
    }
   ],
   "source": [
    "plt.xlabel(\"WEEK\")\n",
    "plt.ylabel(\"QTY\")\n",
    "xValue = featuresData2015.WEEK\n",
    "yValue = featuresData2015.QTY\n",
    "plt.plot(xValue,yValue, \"g:\", lw=1.5, label = \"2015\") \n",
    "plt.legend(loc = 0)"
   ]
  },
  {
   "cell_type": "markdown",
   "metadata": {},
   "source": [
    "### 서브플롯"
   ]
  },
  {
   "cell_type": "code",
   "execution_count": 299,
   "metadata": {},
   "outputs": [
    {
     "data": {
      "text/plain": [
       "<matplotlib.legend.Legend at 0x29404923a90>"
      ]
     },
     "execution_count": 299,
     "metadata": {},
     "output_type": "execute_result"
    },
    {
     "data": {
      "image/png": "[encoded data removed]",
      "text/plain": [
       "<Figure size 720x360 with 2 Axes>"
      ]
     },
     "metadata": {
      "needs_background": "light"
     },
     "output_type": "display_data"
    }
   ],
   "source": [
    "## 도화지 만들기\n",
    "fig = plt.figure(figsize=(10,5)) # 10은 x축, 5는 y축 길이\n",
    "\n",
    "ax1 = fig.add_subplot(211) # 1행 2열의 첫번째를 ax1이라는 그림을 그리겠다\n",
    "\n",
    "ax1.plot(xValue, yValue, \"b--\", label=\"ST0001\")\n",
    "ax1.legend(loc=0)\n",
    "ax2 = fig.add_subplot(212)\n",
    "ax2.plot(x2Value, y2Value, \"g--\", label=\"st0002\")\n",
    "ax2.legend(loc=0)"
   ]
  },
  {
   "cell_type": "markdown",
   "metadata": {},
   "source": [
    "### 이중축"
   ]
  },
  {
   "cell_type": "code",
   "execution_count": 290,
   "metadata": {},
   "outputs": [
    {
     "data": {
      "text/plain": [
       "<matplotlib.legend.Legend at 0x29404778130>"
      ]
     },
     "execution_count": 290,
     "metadata": {},
     "output_type": "execute_result"
    },
    {
     "data": {
      "image/png": "[encoded data removed]",
      "text/plain": [
       "<Figure size 1080x360 with 2 Axes>"
      ]
     },
     "metadata": {
      "needs_background": "light"
     },
     "output_type": "display_data"
    }
   ],
   "source": [
    "## 도화지 만들기\n",
    "fig = plt.figure(figsize=(15,5)) # 10은 x축, 5는 y축 길이\n",
    "\n",
    "ax1 = fig.add_subplot(211) # 1행 2열의 첫번째를 ax1이라는 그림을 그리겠다\n",
    "\n",
    "ax1.plot(xValue, yValue, \"b--\", label=\"ST0001\")\n",
    "ax1.legend(loc=1)\n",
    "ax2 = ax1.twinx() ## twinx 지정 후 xValue를 같게 만든다.\n",
    "ax2.plot(xValue, y2Value, \"g--\", label=\"st0002\")\n",
    "ax2.legend(loc=0)"
   ]
  },
  {
   "cell_type": "markdown",
   "metadata": {},
   "source": [
    "## 2015년도 자료만 활용 x축:week 이중축으로 qty, pro_percent 차트로 그리기"
   ]
  },
  {
   "cell_type": "code",
   "execution_count": 308,
   "metadata": {},
   "outputs": [],
   "source": [
    "featureData = pd.read_csv(\"../dataset/feature_regression_example.csv\")"
   ]
  },
  {
   "cell_type": "code",
   "execution_count": 309,
   "metadata": {},
   "outputs": [],
   "source": [
    "featuresData2015 = featuresData.loc[featuresData.YEAR == 2015]"
   ]
  },
  {
   "cell_type": "code",
   "execution_count": 310,
   "metadata": {},
   "outputs": [],
   "source": [
    "xValue = featuresData2015.WEEK\n",
    "yValue = featuresData2015.QTY\n",
    "y2Value = featuresData2015.PRO_PERCENT"
   ]
  },
  {
   "cell_type": "code",
   "execution_count": 312,
   "metadata": {},
   "outputs": [
    {
     "data": {
      "text/plain": [
       "<matplotlib.legend.Legend at 0x29405d20640>"
      ]
     },
     "execution_count": 312,
     "metadata": {},
     "output_type": "execute_result"
    },
    {
     "data": {
      "image/png": "[encoded data removed]",
      "text/plain": [
       "<Figure size 720x360 with 2 Axes>"
      ]
     },
     "metadata": {
      "needs_background": "light"
     },
     "output_type": "display_data"
    }
   ],
   "source": [
    "fig = plt.figure(figsize=(10,5))\n",
    "ax1 = fig.add_subplot(211)\n",
    "ax1.plot(xValue, yValue, \"b--\", label = \"week, qty\")\n",
    "ax1.legend(loc=1)\n",
    "ax2 = ax1.twinx()\n",
    "ax2.plot(xValue, y2Value, \"g--\", label = \"week, pro_percent\")\n",
    "ax2.legend(loc=0)"
   ]
  },
  {
   "cell_type": "code",
   "execution_count": null,
   "metadata": {},
   "outputs": [],
   "source": []
  }
 ],
 "metadata": {
  "kernelspec": {
   "display_name": "Python 3",
   "language": "python",
   "name": "python3"
  },
  "language_info": {
   "codemirror_mode": {
    "name": "ipython",
    "version": 3
   },
   "file_extension": ".py",
   "mimetype": "text/x-python",
   "name": "python",
   "nbconvert_exporter": "python",
   "pygments_lexer": "ipython3",
   "version": "3.8.5"
  }
 },
 "nbformat": 4,
 "nbformat_minor": 4
}
