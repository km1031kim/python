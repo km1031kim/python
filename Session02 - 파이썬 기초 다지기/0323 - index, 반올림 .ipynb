{
 "cells": [
  {
   "cell_type": "markdown",
   "metadata": {},
   "source": [
    "# 최솟값과 최댓값을 뺀 리스트의 평균 구하기"
   ]
  },
  {
   "cell_type": "code",
   "execution_count": null,
   "metadata": {},
   "outputs": [],
   "source": [
    "# 최소값과 최대값을 뺀 평균을 average 이름의 변수에 담아라!\n",
    "homeworkList = [100, 100, 100, 120, 150, 100, 300, 500, 1000, 100, 2000, 2000, 2000, 2000]\n",
    "\n",
    "#최소값과 최대값을 뺀 배열을 만들기. 중복 수 제거하기.\n",
    "\n",
    "\n",
    "#오름차순으로 배열 후 최대값과 최소값의 인덱스 추출\n",
    "\n",
    "#오름차순 배열\n",
    "homeworkList.sort()\n",
    "\n",
    "# 리스트에서 최솟값, 최댓값 지정\n",
    "\n",
    "##최솟값의 인덱스\n",
    "minValue = min(homeworkList)\n",
    "print(minValue)\n",
    "newMin = homeworkList.index(minValue)\n",
    "print(newMin)\n",
    "\n",
    "##최댓값의 인덱스\n",
    "maxValue = max(homeworkList)\n",
    "print(maxValue)\n",
    "newMax = homeworkList.index(maxValue)\n",
    "print(newMax)\n",
    "\n",
    "\n",
    "\n",
    "#최솟값. 최댓값의  중복된 값(갯수) 구해보기\n",
    "countMinValue = homeworkList.count(minValue)\n",
    "countMaxValue = homeworkList.count(maxValue)\n",
    "\n",
    "#중복된 값 제외한 리스트 구하기\n",
    "newHomeworkList = homeworkList[countMinValue : -countMaxValue]\n",
    "print(newHomeworkList)\n",
    "\n",
    "# 평균 구하기\n",
    "\n",
    "average = sum(newHomeworkList) / len(newHomeworkList)\n",
    "print(average)\n"
   ]
  },
  {
   "cell_type": "code",
   "execution_count": null,
   "metadata": {},
   "outputs": [],
   "source": []
  },
  {
   "cell_type": "markdown",
   "metadata": {},
   "source": [
    "#함수화"
   ]
  },
  {
   "cell_type": "code",
   "execution_count": 1,
   "metadata": {},
   "outputs": [],
   "source": [
    "a = 10\n",
    "b = 5.3"
   ]
  },
  {
   "cell_type": "code",
   "execution_count": 2,
   "metadata": {},
   "outputs": [],
   "source": [
    "revenue = a / b"
   ]
  },
  {
   "cell_type": "code",
   "execution_count": 3,
   "metadata": {},
   "outputs": [
    {
     "data": {
      "text/plain": [
       "1.8867924528301887"
      ]
     },
     "execution_count": 3,
     "metadata": {},
     "output_type": "execute_result"
    }
   ],
   "source": [
    "revenue"
   ]
  },
  {
   "cell_type": "code",
   "execution_count": 4,
   "metadata": {},
   "outputs": [
    {
     "data": {
      "text/plain": [
       "1.89"
      ]
     },
     "execution_count": 4,
     "metadata": {},
     "output_type": "execute_result"
    }
   ],
   "source": [
    "round(revenue,2)"
   ]
  },
  {
   "cell_type": "code",
   "execution_count": null,
   "metadata": {},
   "outputs": [],
   "source": []
  },
  {
   "cell_type": "markdown",
   "metadata": {},
   "source": [
    "# 미션. 소수점 둘째자리 반올림"
   ]
  },
  {
   "cell_type": "code",
   "execution_count": 34,
   "metadata": {},
   "outputs": [],
   "source": [
    "def roundFunction(inValue):\n",
    "\n",
    "    #step1: 입력받은 데이터를 반올림 자리수만큼 곱해준다. \n",
    "\n",
    "    ## 함수를 개발하기 위한 디버깅 코드\n",
    "    ##inValue = 1.892430903490\n",
    "\n",
    "\n",
    "    step1 = inValue * userdata\n",
    "\n",
    "    \n",
    "\n",
    "    #step2: 곱해준 결과에 0.5를 더한 후 소수점 이하 버림\n",
    "\n",
    "    step2 = int(step1 + 0.5)\n",
    "\n",
    "    #step3: 100으로 나누어준다\n",
    "\n",
    "    step3 = step2 / 100\n",
    "\n",
    "    outValue = step3\n",
    "    \n",
    "    \n",
    "    return outValue\n",
    "\n"
   ]
  },
  {
   "cell_type": "code",
   "execution_count": 35,
   "metadata": {},
   "outputs": [
    {
     "data": {
      "text/plain": [
       "1.35"
      ]
     },
     "execution_count": 35,
     "metadata": {},
     "output_type": "execute_result"
    }
   ],
   "source": [
    "roundFunction(1.3456789)"
   ]
  },
  {
   "cell_type": "code",
   "execution_count": 36,
   "metadata": {},
   "outputs": [],
   "source": [
    "revenue = 1.45654565454"
   ]
  },
  {
   "cell_type": "code",
   "execution_count": 37,
   "metadata": {},
   "outputs": [],
   "source": [
    "displatedRevenue = roundFunction(revenue)"
   ]
  },
  {
   "cell_type": "code",
   "execution_count": 38,
   "metadata": {},
   "outputs": [
    {
     "data": {
      "text/plain": [
       "1.46"
      ]
     },
     "execution_count": 38,
     "metadata": {},
     "output_type": "execute_result"
    }
   ],
   "source": [
    "displatedRevenue"
   ]
  },
  {
   "cell_type": "code",
   "execution_count": 41,
   "metadata": {},
   "outputs": [],
   "source": [
    "globalMeanValue = 0.0\n",
    "# 전역변수"
   ]
  },
  {
   "cell_type": "code",
   "execution_count": 42,
   "metadata": {},
   "outputs": [],
   "source": [
    "def simpleFunction(inValue1, inValue2):\n",
    "#\n",
    "#     inValue1 = 0.5\n",
    "#     inValue2 = 0.3\n",
    "    defaultValue = globalMeanValue                   ## 지역(함수 안) 에서만 작동하는 변수\n",
    "    # 분모가 0인경우 기본값 1\n",
    "    if inValue2 !=0:\n",
    "        meanValue = inValue1 / inValue2\n",
    "    else:\n",
    "        meanValue = globalMeanValue\n",
    "    outValue = meanValue\n",
    "\n",
    "    return outValue\n"
   ]
  },
  {
   "cell_type": "code",
   "execution_count": 43,
   "metadata": {},
   "outputs": [
    {
     "ename": "TypeError",
     "evalue": "simpleFunction() missing 1 required positional argument: 'inValue2'",
     "output_type": "error",
     "traceback": [
      "\u001b[1;31m---------------------------------------------------------------------------\u001b[0m",
      "\u001b[1;31mTypeError\u001b[0m                                 Traceback (most recent call last)",
      "\u001b[1;32m<ipython-input-43-3dd2c38a94e6>\u001b[0m in \u001b[0;36m<module>\u001b[1;34m\u001b[0m\n\u001b[1;32m----> 1\u001b[1;33m \u001b[0msimpleFunction\u001b[0m\u001b[1;33m(\u001b[0m\u001b[1;36m5.0\u001b[0m\u001b[1;33m)\u001b[0m\u001b[1;33m\u001b[0m\u001b[1;33m\u001b[0m\u001b[0m\n\u001b[0m",
      "\u001b[1;31mTypeError\u001b[0m: simpleFunction() missing 1 required positional argument: 'inValue2'"
     ]
    }
   ],
   "source": [
    "simpleFunction(5.0)"
   ]
  },
  {
   "cell_type": "code",
   "execution_count": null,
   "metadata": {},
   "outputs": [],
   "source": [
    "\n",
    "\n",
    "\n"
   ]
  },
  {
   "cell_type": "code",
   "execution_count": null,
   "metadata": {},
   "outputs": [],
   "source": []
  },
  {
   "cell_type": "markdown",
   "metadata": {},
   "source": [
    "## 함수 입력변수에 따라 소수점 2자리 수, 3자리 수 반올림이 가능하도록 해보자\n",
    "## ex) myRound(1.22324343,3)"
   ]
  },
  {
   "cell_type": "code",
   "execution_count": 64,
   "metadata": {},
   "outputs": [
    {
     "data": {
      "text/plain": [
       "12.25554"
      ]
     },
     "execution_count": 64,
     "metadata": {},
     "output_type": "execute_result"
    }
   ],
   "source": [
    "# step1 : 디버깅 값 생성\n",
    "\n",
    "myNum = 12.2225\n",
    "standard = 10\n",
    "\n",
    "# step2 : 소수점 2번째 자리에서 반올림 해보기(*100), 4번째는 *1000\n",
    "# 100 먼저 곱하기\n",
    "\n",
    "for i in range(0, usernumber):\n",
    "    standard\n",
    "\n",
    "step2 = myNum * \n",
    "step2\n",
    "\n",
    "\n",
    "    \n",
    "    \n",
    "\n"
   ]
  },
  {
   "cell_type": "code",
   "execution_count": 65,
   "metadata": {},
   "outputs": [
    {
     "data": {
      "text/plain": [
       "12"
      ]
     },
     "execution_count": 65,
     "metadata": {},
     "output_type": "execute_result"
    }
   ],
   "source": [
    "# step3 : 반올림 가능/불가능 여부 판단하기\n",
    "\n"
   ]
  },
  {
   "cell_type": "code",
   "execution_count": 66,
   "metadata": {},
   "outputs": [],
   "source": [
    "#step4 : 100으로 나누어주기\n",
    "step4 = step3 / 10"
   ]
  },
  {
   "cell_type": "code",
   "execution_count": 67,
   "metadata": {},
   "outputs": [
    {
     "data": {
      "text/plain": [
       "1.2"
      ]
     },
     "execution_count": 67,
     "metadata": {},
     "output_type": "execute_result"
    }
   ],
   "source": [
    "step4"
   ]
  },
  {
   "cell_type": "markdown",
   "metadata": {},
   "source": [
    "# 반올림 함수 만들기"
   ]
  },
  {
   "cell_type": "code",
   "execution_count": 7,
   "metadata": {},
   "outputs": [],
   "source": [
    "def roundOption(inValue,optionValue):\n",
    "\n",
    "#디버깅코드    inValue = 1.2225\n",
    "#             optionValue = 3\n",
    "\n",
    "    step1 = inValue * 10**optionValue\n",
    "\n",
    "    step2 = int(step1 + 0.5)\n",
    "\n",
    "    step3 = step2 / 10**optionValue\n",
    "\n",
    "    outValue = step3\n",
    "    \n",
    "    return outValue\n",
    "\n",
    " "
   ]
  },
  {
   "cell_type": "code",
   "execution_count": 14,
   "metadata": {},
   "outputs": [
    {
     "data": {
      "text/plain": [
       "1.54"
      ]
     },
     "execution_count": 14,
     "metadata": {},
     "output_type": "execute_result"
    }
   ],
   "source": [
    "roundOption(1.541,2)"
   ]
  },
  {
   "cell_type": "code",
   "execution_count": 76,
   "metadata": {},
   "outputs": [
    {
     "ename": "SyntaxError",
     "evalue": "'return' outside function (<ipython-input-76-add24eeb06ff>, line 12)",
     "output_type": "error",
     "traceback": [
      "\u001b[1;36m  File \u001b[1;32m\"<ipython-input-76-add24eeb06ff>\"\u001b[1;36m, line \u001b[1;32m12\u001b[0m\n\u001b[1;33m    return outValue\u001b[0m\n\u001b[1;37m    ^\u001b[0m\n\u001b[1;31mSyntaxError\u001b[0m\u001b[1;31m:\u001b[0m 'return' outside function\n"
     ]
    }
   ],
   "source": [
    "    #step2: 곱해준 결과에 0.5를 더한 후 소수점 이하 버림\n",
    "\n",
    "    \n",
    "\n",
    "    #step3: 100으로 나누어준다\n",
    "\n",
    "    \n",
    "   \n",
    "    return outValue"
   ]
  },
  {
   "cell_type": "code",
   "execution_count": 104,
   "metadata": {},
   "outputs": [],
   "source": [
    "mergedSet = []"
   ]
  },
  {
   "cell_type": "code",
   "execution_count": 105,
   "metadata": {},
   "outputs": [],
   "source": [
    "import pandas as pd"
   ]
  },
  {
   "cell_type": "code",
   "execution_count": 106,
   "metadata": {},
   "outputs": [
    {
     "name": "stdout",
     "output_type": "stream",
     "text": [
      "[Errno 2] No such file or directory: './a2.txt'\n"
     ]
    }
   ],
   "source": [
    "for i in range(1, 4):\n",
    "    try: #예외가 발생 가능한 코드\n",
    "        mergedSet.append( pd.read_csv(\"./a\"+str(i)+\".txt\") )\n",
    "     \n",
    "    except Exception as e:\n",
    "        print(e)"
   ]
  },
  {
   "cell_type": "code",
   "execution_count": null,
   "metadata": {},
   "outputs": [],
   "source": []
  },
  {
   "cell_type": "code",
   "execution_count": null,
   "metadata": {},
   "outputs": [],
   "source": []
  }
 ],
 "metadata": {
  "kernelspec": {
   "display_name": "Python 3",
   "language": "python",
   "name": "python3"
  },
  "language_info": {
   "codemirror_mode": {
    "name": "ipython",
    "version": 3
   },
   "file_extension": ".py",
   "mimetype": "text/x-python",
   "name": "python",
   "nbconvert_exporter": "python",
   "pygments_lexer": "ipython3",
   "version": "3.8.5"
  }
 },
 "nbformat": 4,
 "nbformat_minor": 4
}
