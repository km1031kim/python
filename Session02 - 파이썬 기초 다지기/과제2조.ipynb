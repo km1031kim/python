{
 "cells": [
  {
   "cell_type": "code",
   "execution_count": 3,
   "metadata": {},
   "outputs": [
    {
     "ename": "ModuleNotFoundError",
     "evalue": "No module named 'isoweek'",
     "output_type": "error",
     "traceback": [
      "\u001b[1;31m---------------------------------------------------------------------------\u001b[0m",
      "\u001b[1;31mModuleNotFoundError\u001b[0m                       Traceback (most recent call last)",
      "\u001b[1;32m<ipython-input-3-a4b51e2f08ad>\u001b[0m in \u001b[0;36m<module>\u001b[1;34m\u001b[0m\n\u001b[1;32m----> 1\u001b[1;33m \u001b[1;32mfrom\u001b[0m \u001b[0misoweek\u001b[0m \u001b[1;32mimport\u001b[0m \u001b[0mWeek\u001b[0m\u001b[1;33m\u001b[0m\u001b[1;33m\u001b[0m\u001b[0m\n\u001b[0m",
      "\u001b[1;31mModuleNotFoundError\u001b[0m: No module named 'isoweek'"
     ]
    }
   ],
   "source": [
    "from isoweek import Week"
   ]
  },
  {
   "cell_type": "code",
   "execution_count": null,
   "metadata": {},
   "outputs": [],
   "source": []
  },
  {
   "cell_type": "code",
   "execution_count": null,
   "metadata": {},
   "outputs": [],
   "source": []
  },
  {
   "cell_type": "code",
   "execution_count": 4,
   "metadata": {},
   "outputs": [
    {
     "ename": "ModuleNotFoundError",
     "evalue": "No module named 'isoweek'",
     "output_type": "error",
     "traceback": [
      "\u001b[1;31m---------------------------------------------------------------------------\u001b[0m",
      "\u001b[1;31mModuleNotFoundError\u001b[0m                       Traceback (most recent call last)",
      "\u001b[1;32m<ipython-input-4-a4b51e2f08ad>\u001b[0m in \u001b[0;36m<module>\u001b[1;34m\u001b[0m\n\u001b[1;32m----> 1\u001b[1;33m \u001b[1;32mfrom\u001b[0m \u001b[0misoweek\u001b[0m \u001b[1;32mimport\u001b[0m \u001b[0mWeek\u001b[0m\u001b[1;33m\u001b[0m\u001b[1;33m\u001b[0m\u001b[0m\n\u001b[0m",
      "\u001b[1;31mModuleNotFoundError\u001b[0m: No module named 'isoweek'"
     ]
    }
   ],
   "source": [
    "from isoweek import Week\n"
   ]
  },
  {
   "cell_type": "code",
   "execution_count": 5,
   "metadata": {},
   "outputs": [],
   "source": [
    "def pastWeek2(inputYearWeek,minusWeek):\n",
    "\n",
    " \n",
    "\n",
    "    inputYearStr = inputYearWeek.index[0:3]\n",
    "    inputYear = int(inputYearStr)\n",
    "    inputWeekStr = inputYearWeek.index[4:]\n",
    "    inputWeek = int(inputWeekStr)"
   ]
  },
  {
   "cell_type": "code",
   "execution_count": 6,
   "metadata": {},
   "outputs": [
    {
     "ename": "NameError",
     "evalue": "name 'inputYear' is not defined",
     "output_type": "error",
     "traceback": [
      "\u001b[1;31m---------------------------------------------------------------------------\u001b[0m",
      "\u001b[1;31mNameError\u001b[0m                                 Traceback (most recent call last)",
      "\u001b[1;32m<ipython-input-6-5a22723c4173>\u001b[0m in \u001b[0;36m<module>\u001b[1;34m\u001b[0m\n\u001b[1;32m----> 1\u001b[1;33m \u001b[0minputYear\u001b[0m\u001b[1;33m\u001b[0m\u001b[1;33m\u001b[0m\u001b[0m\n\u001b[0m",
      "\u001b[1;31mNameError\u001b[0m: name 'inputYear' is not defined"
     ]
    }
   ],
   "source": [
    "inputYear"
   ]
  },
  {
   "cell_type": "code",
   "execution_count": 7,
   "metadata": {},
   "outputs": [
    {
     "ename": "NameError",
     "evalue": "name 'Week' is not defined",
     "output_type": "error",
     "traceback": [
      "\u001b[1;31m---------------------------------------------------------------------------\u001b[0m",
      "\u001b[1;31mNameError\u001b[0m                                 Traceback (most recent call last)",
      "\u001b[1;32m<ipython-input-7-8ab7e6b9c15e>\u001b[0m in \u001b[0;36m<module>\u001b[1;34m\u001b[0m\n\u001b[0;32m      3\u001b[0m \u001b[1;31m# inputWeek = 15\u001b[0m\u001b[1;33m\u001b[0m\u001b[1;33m\u001b[0m\u001b[1;33m\u001b[0m\u001b[0m\n\u001b[0;32m      4\u001b[0m \u001b[1;31m# minusWeek = 67\u001b[0m\u001b[1;33m\u001b[0m\u001b[1;33m\u001b[0m\u001b[1;33m\u001b[0m\u001b[0m\n\u001b[1;32m----> 5\u001b[1;33m \u001b[0myearWeek\u001b[0m \u001b[1;33m=\u001b[0m \u001b[0mWeek\u001b[0m\u001b[1;33m.\u001b[0m\u001b[0mlast_week_of_year\u001b[0m\u001b[1;33m(\u001b[0m\u001b[0minputYear\u001b[0m\u001b[1;33m)\u001b[0m\u001b[1;33m.\u001b[0m\u001b[0mweek\u001b[0m\u001b[1;33m\u001b[0m\u001b[1;33m\u001b[0m\u001b[0m\n\u001b[0m\u001b[0;32m      6\u001b[0m \u001b[1;31m#print(yearWeek)\u001b[0m\u001b[1;33m\u001b[0m\u001b[1;33m\u001b[0m\u001b[1;33m\u001b[0m\u001b[0m\n\u001b[0;32m      7\u001b[0m \u001b[1;33m\u001b[0m\u001b[0m\n",
      "\u001b[1;31mNameError\u001b[0m: name 'Week' is not defined"
     ]
    }
   ],
   "source": [
    "    # # 디버깅 코드.\n",
    "    # inputYear = 2021\n",
    "    # inputWeek = 15\n",
    "    # minusWeek = 67\n",
    "    yearWeek = Week.last_week_of_year(inputYear).week\n",
    "    #print(yearWeek)\n",
    "\n",
    "\n",
    "    if inputWeek<=yearWeek:\n",
    "\n",
    "        # inputWeek < minusWeek 일 때\n",
    "        # 2020년의 15주차에서, 70주차를 빼보자\n",
    "\n",
    "        JudgeWeek = minusWeek - inputWeek\n",
    "\n",
    "        if JudgeWeek < 0:\n",
    "                print(inputYear)\n",
    "                print(inputWeek - minusWeek)\n",
    "\n",
    "        ## judgeWeek = 0 일 때.\n",
    "\n",
    "        elif inputWeek == minusWeek:\n",
    "                print(inputYear-1)\n",
    "                print(Week.last_week_of_year(inputYear-1).week)\n",
    "\n",
    "        elif JudgeWeek > 0:\n",
    "\n",
    "            for i in range (1, inputYear):\n",
    "\n",
    "                calcYear = inputYear - i\n",
    "                calcWeek = Week.last_week_of_year(inputYear-i).week\n",
    "                if JudgeWeek > calcWeek:\n",
    "\n",
    "                    JudgeWeek = JudgeWeek - calcWeek\n",
    "\n",
    "\n",
    "                elif JudgeWeek < calcWeek: \n",
    "\n",
    "                    print(calcWeek - JudgeWeek), print(calcYear)\n",
    "                    break;\n",
    "\n",
    "                elif JudgeWeek == calcWeek:\n",
    "                    print(inputYear-(i+1))\n",
    "                    print(Week.last_week_of_year(inputYear-(i+1)).week)\n",
    "                    break;\n",
    "\n",
    "\n",
    "\n",
    "    else: print('해당 연도의 총 주차 = ', yearWeek,'\\ninputWeek 입력값이 해당 연도의 최대 주차를 넘었습니다')\n",
    "           "
   ]
  },
  {
   "cell_type": "code",
   "execution_count": 12,
   "metadata": {},
   "outputs": [
    {
     "ename": "AttributeError",
     "evalue": "'int' object has no attribute 'index'",
     "output_type": "error",
     "traceback": [
      "\u001b[1;31m---------------------------------------------------------------------------\u001b[0m",
      "\u001b[1;31mAttributeError\u001b[0m                            Traceback (most recent call last)",
      "\u001b[1;32m<ipython-input-12-923f94e98712>\u001b[0m in \u001b[0;36m<module>\u001b[1;34m\u001b[0m\n\u001b[1;32m----> 1\u001b[1;33m \u001b[0mpastWeek2\u001b[0m\u001b[1;33m(\u001b[0m\u001b[1;36m201953\u001b[0m\u001b[1;33m,\u001b[0m\u001b[1;36m53\u001b[0m\u001b[1;33m)\u001b[0m\u001b[1;33m\u001b[0m\u001b[1;33m\u001b[0m\u001b[0m\n\u001b[0m",
      "\u001b[1;32m<ipython-input-11-c96bf4e087fd>\u001b[0m in \u001b[0;36mpastWeek2\u001b[1;34m(inputYearWeek, minusWeek)\u001b[0m\n\u001b[0;32m      3\u001b[0m \u001b[1;33m\u001b[0m\u001b[0m\n\u001b[0;32m      4\u001b[0m \u001b[1;33m\u001b[0m\u001b[0m\n\u001b[1;32m----> 5\u001b[1;33m     \u001b[0minputYearStr\u001b[0m \u001b[1;33m=\u001b[0m \u001b[0minputYearWeek\u001b[0m\u001b[1;33m.\u001b[0m\u001b[0mindex\u001b[0m\u001b[1;33m[\u001b[0m\u001b[1;36m0\u001b[0m\u001b[1;33m:\u001b[0m\u001b[1;36m3\u001b[0m\u001b[1;33m]\u001b[0m\u001b[1;33m\u001b[0m\u001b[1;33m\u001b[0m\u001b[0m\n\u001b[0m\u001b[0;32m      6\u001b[0m     \u001b[0minputYear\u001b[0m \u001b[1;33m=\u001b[0m \u001b[0mint\u001b[0m\u001b[1;33m.\u001b[0m\u001b[0minputYearStr\u001b[0m\u001b[1;33m\u001b[0m\u001b[1;33m\u001b[0m\u001b[0m\n\u001b[0;32m      7\u001b[0m     \u001b[0minputWeekStr\u001b[0m \u001b[1;33m=\u001b[0m \u001b[0minputYearWeek\u001b[0m\u001b[1;33m.\u001b[0m\u001b[0mindex\u001b[0m\u001b[1;33m[\u001b[0m\u001b[1;36m4\u001b[0m\u001b[1;33m:\u001b[0m\u001b[1;33m]\u001b[0m\u001b[1;33m\u001b[0m\u001b[1;33m\u001b[0m\u001b[0m\n",
      "\u001b[1;31mAttributeError\u001b[0m: 'int' object has no attribute 'index'"
     ]
    }
   ],
   "source": [
    "pastWeek2(201953,53)"
   ]
  },
  {
   "cell_type": "code",
   "execution_count": null,
   "metadata": {},
   "outputs": [],
   "source": []
  }
 ],
 "metadata": {
  "kernelspec": {
   "display_name": "Python 3",
   "language": "python",
   "name": "python3"
  },
  "language_info": {
   "codemirror_mode": {
    "name": "ipython",
    "version": 3
   },
   "file_extension": ".py",
   "mimetype": "text/x-python",
   "name": "python",
   "nbconvert_exporter": "python",
   "pygments_lexer": "ipython3",
   "version": "3.8.5"
  }
 },
 "nbformat": 4,
 "nbformat_minor": 4
}
