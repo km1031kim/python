{
 "cells": [
  {
   "cell_type": "code",
   "execution_count": 41,
   "metadata": {},
   "outputs": [
    {
     "name": "stdout",
     "output_type": "stream",
     "text": [
      "20215\n"
     ]
    }
   ],
   "source": [
    "def postWeek(inputYearWeek,plusWeek):\n",
    "\n",
    "\n",
    "\n",
    "\n",
    "    from isoweek import Week\n",
    "\n",
    "    inputYear = int(str(inputYearWeek)[:4])\n",
    "    inputWeek = int(str(inputYearWeek)[4:])\n",
    "\n",
    "    yearWeek = Week.last_week_of_year(inputYear).week\n",
    "  \n",
    "    JudgeWeek = inputWeek + plusWeek     # \n",
    "    #년도가 바뀌지 않을때\n",
    "    if JudgeWeek <= yearWeek:   \n",
    "        print(str(inputYear)+str(JudgeWeek)) \n",
    "    #년도가 바뀔떼\n",
    "    elif JudgeWeek > yearWeek:   \n",
    "            for i in range (1, inputYear):\n",
    "                calcYear = inputYear + i\n",
    "                calcWeek = Week.last_week_of_year(calcYear).week\n",
    "                \n",
    "                if JudgeWeek > calcWeek:\n",
    "                    JudgeWeek = JudgeWeek - calcWeek\n",
    "\n",
    "                elif JudgeWeek < calcWeek: \n",
    "                    print(str(calcYear)+str(JudgeWeek))\n",
    "                    break;\n",
    "\n",
    "postWeek(201810,100)"
   ]
  },
  {
   "cell_type": "code",
   "execution_count": 72,
   "metadata": {},
   "outputs": [],
   "source": [
    "inputYearWeek = \"201810\"\n",
    "plusWeek = 43"
   ]
  },
  {
   "cell_type": "code",
   "execution_count": 73,
   "metadata": {},
   "outputs": [
    {
     "data": {
      "text/plain": [
       "'201810'"
      ]
     },
     "execution_count": 73,
     "metadata": {},
     "output_type": "execute_result"
    }
   ],
   "source": [
    "from isoweek import Week\n",
    "inputYear = int(str(inputYearWeek)[:4])\n",
    "inputWeek = int(str(inputYearWeek)[4:])\n",
    "    \n",
    "inputYearWeek"
   ]
  },
  {
   "cell_type": "code",
   "execution_count": 74,
   "metadata": {},
   "outputs": [],
   "source": [
    "yearWeek = Week.last_week_of_year(inputYear).week\n",
    "JudgeWeek = inputWeek + plusWeek \n",
    "\n",
    "#년도가 바뀌지 않을 때\n",
    "if JudgeWeek <= yearWeek:   \n",
    "    print(str(inputYear)+str(JudgeWeek)) "
   ]
  },
  {
   "cell_type": "code",
   "execution_count": 75,
   "metadata": {},
   "outputs": [
    {
     "name": "stdout",
     "output_type": "stream",
     "text": [
      "20201\n"
     ]
    }
   ],
   "source": [
    "#년도가 바뀔 때\n",
    "if JudgeWeek > yearWeek:\n",
    "    for i in range (1, inputYear):\n",
    "        \n",
    "        calcYear = inputYear + i\n",
    "        calcWeek = Week.last_week_of_year(calcYear).week\n",
    "\n",
    "        if JudgeWeek > calcWeek:\n",
    "            JudgeWeek = JudgeWeek - calcWeek\n",
    "\n",
    "        elif JudgeWeek < calcWeek: \n",
    "            print(str(calcYear)+str(JudgeWeek))\n",
    "            break;"
   ]
  },
  {
   "cell_type": "code",
   "execution_count": null,
   "metadata": {},
   "outputs": [],
   "source": []
  }
 ],
 "metadata": {
  "kernelspec": {
   "display_name": "Python 3",
   "language": "python",
   "name": "python3"
  },
  "language_info": {
   "codemirror_mode": {
    "name": "ipython",
    "version": 3
   },
   "file_extension": ".py",
   "mimetype": "text/x-python",
   "name": "python",
   "nbconvert_exporter": "python",
   "pygments_lexer": "ipython3",
   "version": "3.8.5"
  }
 },
 "nbformat": 4,
 "nbformat_minor": 4
}
