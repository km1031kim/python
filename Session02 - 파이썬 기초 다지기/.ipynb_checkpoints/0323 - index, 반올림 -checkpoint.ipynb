{
 "cells": [
  {
   "cell_type": "markdown",
   "metadata": {},
   "source": [
    "# 최솟값과 최댓값을 뺀 리스트의 평균 구하기"
   ]
  },
  {
   "cell_type": "code",
   "execution_count": null,
   "metadata": {},
   "outputs": [],
   "source": [
    "# 최소값과 최대값을 뺀 평균을 average 이름의 변수에 담아라!\n",
    "homeworkList = [100, 100, 100, 120, 150, 100, 300, 500, 1000, 100, 2000, 2000, 2000, 2000]\n",
    "\n",
    "#최소값과 최대값을 뺀 배열을 만들기. 중복 수 제거하기.\n",
    "\n",
    "\n",
    "#오름차순으로 배열 후 최대값과 최소값의 인덱스 추출\n",
    "\n",
    "#오름차순 배열\n",
    "homeworkList.sort()\n",
    "\n",
    "# 리스트에서 최솟값, 최댓값 지정\n",
    "\n",
    "##최솟값의 인덱스\n",
    "minValue = min(homeworkList)\n",
    "print(minValue)\n",
    "newMin = homeworkList.index(minValue)\n",
    "print(newMin)\n",
    "\n",
    "##최댓값의 인덱스\n",
    "maxValue = max(homeworkList)\n",
    "print(maxValue)\n",
    "newMax = homeworkList.index(maxValue)\n",
    "print(newMax)\n",
    "\n",
    "\n",
    "\n",
    "#최솟값. 최댓값의  중복된 값(갯수) 구해보기\n",
    "countMinValue = homeworkList.count(minValue)\n",
    "countMaxValue = homeworkList.count(maxValue)\n",
    "\n",
    "#중복된 값 제외한 리스트 구하기\n",
    "newHomeworkList = homeworkList[countMinValue : -countMaxValue]\n",
    "print(newHomeworkList)\n",
    "\n",
    "# 평균 구하기\n",
    "\n",
    "average = sum(newHomeworkList) / len(newHomeworkList)\n",
    "print(average)\n"
   ]
  }
 ],
 "metadata": {
  "kernelspec": {
   "display_name": "Python 3",
   "language": "python",
   "name": "python3"
  },
  "language_info": {
   "codemirror_mode": {
    "name": "ipython",
    "version": 3
   },
   "file_extension": ".py",
   "mimetype": "text/x-python",
   "name": "python",
   "nbconvert_exporter": "python",
   "pygments_lexer": "ipython3",
   "version": "3.8.5"
  }
 },
 "nbformat": 4,
 "nbformat_minor": 4
}
