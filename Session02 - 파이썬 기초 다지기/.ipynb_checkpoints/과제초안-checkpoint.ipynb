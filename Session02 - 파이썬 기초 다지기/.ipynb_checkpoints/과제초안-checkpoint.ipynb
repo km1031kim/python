{
 "cells": [
  {
   "cell_type": "markdown",
   "metadata": {},
   "source": [
    "## 2021년 10주차에서 7주를 뺀다면??"
   ]
  },
  {
   "cell_type": "code",
   "execution_count": 25,
   "metadata": {},
   "outputs": [],
   "source": [
    "yearweek = '2021W10'\n",
    "\n",
    "splitWeek=yearweek.split(\"W\")"
   ]
  },
  {
   "cell_type": "code",
   "execution_count": 26,
   "metadata": {},
   "outputs": [],
   "source": [
    "# year = splitWeek[0]\n",
    "\n",
    "\n",
    "# intYear = int(year)\n",
    "# intYear\n",
    "\n",
    "# weeks = splitWeek[1]\n",
    "\n",
    "\n",
    "# intWeeks = int(weeks)\n",
    "# print(intYear)\n",
    "# print(intWeeks)"
   ]
  },
  {
   "cell_type": "code",
   "execution_count": 28,
   "metadata": {},
   "outputs": [
    {
     "name": "stdout",
     "output_type": "stream",
     "text": [
      "2021\n",
      "10\n"
     ]
    }
   ],
   "source": [
    "from isoweek import Week \n",
    " \n",
    "year = splitWeek[0]\n",
    "\n",
    "\n",
    "intYear = int(year)\n",
    "intYear\n",
    "\n",
    "weeks = splitWeek[1]\n",
    "\n",
    "\n",
    "intWeeks = int(weeks)\n",
    "\n",
    "print(intYear)\n",
    "print(intWeeks)"
   ]
  },
  {
   "cell_type": "code",
   "execution_count": 53,
   "metadata": {},
   "outputs": [],
   "source": []
  },
  {
   "cell_type": "code",
   "execution_count": 57,
   "metadata": {},
   "outputs": [],
   "source": [
    "currentYear=intYear\n",
    "\n",
    "totalWeek=Week.last_week_of_year(currentYear).week\n",
    "totalWeek"
   ]
  },
  {
   "cell_type": "code",
   "execution_count": null,
   "metadata": {},
   "outputs": [],
   "source": []
  },
  {
   "cell_type": "code",
   "execution_count": null,
   "metadata": {},
   "outputs": [],
   "source": []
  },
  {
   "cell_type": "code",
   "execution_count": null,
   "metadata": {},
   "outputs": [],
   "source": []
  },
  {
   "cell_type": "code",
   "execution_count": 49,
   "metadata": {},
   "outputs": [],
   "source": [
    "if (intWeeks > intWeeks2):\n",
    "    intWeeks3 = intWeeks - intWeeks2\n",
    "    intWeeks3\n",
    "elif (intWeeks < intWeeks2):\n",
    "    if w.thisweek (). week == 52:\n",
    "        intWeeks3 = intWeeks - intWeeks2\n",
    "        intWeeks3 = intWeeks3 + 52\n",
    "        intWeeks3 = 52 - intWeeks3\n",
    "        intWeeks3\n",
    "        year = year - (option//52)    \n",
    "        year"
   ]
  },
  {
   "cell_type": "code",
   "execution_count": 4,
   "metadata": {},
   "outputs": [
    {
     "ename": "TypeError",
     "evalue": "unsupported operand type(s) for -: 'str' and 'int'",
     "output_type": "error",
     "traceback": [
      "\u001b[1;31m---------------------------------------------------------------------------\u001b[0m",
      "\u001b[1;31mTypeError\u001b[0m                                 Traceback (most recent call last)",
      "\u001b[1;32m<ipython-input-4-886c8dff6a19>\u001b[0m in \u001b[0;36m<module>\u001b[1;34m\u001b[0m\n\u001b[0;32m      1\u001b[0m \u001b[0mweek2\u001b[0m \u001b[1;33m=\u001b[0m \u001b[1;36m7\u001b[0m\u001b[1;33m\u001b[0m\u001b[1;33m\u001b[0m\u001b[0m\n\u001b[0;32m      2\u001b[0m \u001b[1;33m\u001b[0m\u001b[0m\n\u001b[1;32m----> 3\u001b[1;33m \u001b[0mweek3\u001b[0m \u001b[1;33m=\u001b[0m \u001b[0myearweek\u001b[0m \u001b[1;33m-\u001b[0m \u001b[0mweek2\u001b[0m\u001b[1;33m\u001b[0m\u001b[1;33m\u001b[0m\u001b[0m\n\u001b[0m\u001b[0;32m      4\u001b[0m \u001b[1;33m\u001b[0m\u001b[0m\n\u001b[0;32m      5\u001b[0m \u001b[0mresult\u001b[0m \u001b[1;33m=\u001b[0m \u001b[0myear\u001b[0m \u001b[1;33m+\u001b[0m \u001b[0mweek3\u001b[0m\u001b[1;33m\u001b[0m\u001b[1;33m\u001b[0m\u001b[0m\n",
      "\u001b[1;31mTypeError\u001b[0m: unsupported operand type(s) for -: 'str' and 'int'"
     ]
    }
   ],
   "source": [
    "week2 = 7\n",
    "\n",
    "week3 = yearweek - week2\n",
    "\n",
    "result = year + week3\n",
    "result "
   ]
  },
  {
   "cell_type": "code",
   "execution_count": null,
   "metadata": {},
   "outputs": [],
   "source": []
  },
  {
   "cell_type": "code",
   "execution_count": null,
   "metadata": {},
   "outputs": [],
   "source": []
  },
  {
   "cell_type": "code",
   "execution_count": 22,
   "metadata": {},
   "outputs": [],
   "source": [
    "from isoweek import Week \n",
    "w = Week (intYear, intWeeks) "
   ]
  },
  {
   "cell_type": "code",
   "execution_count": 23,
   "metadata": {},
   "outputs": [
    {
     "name": "stdout",
     "output_type": "stream",
     "text": [
      "2021W10\n"
     ]
    }
   ],
   "source": [
    "print(w)"
   ]
  },
  {
   "cell_type": "code",
   "execution_count": null,
   "metadata": {},
   "outputs": [],
   "source": []
  },
  {
   "cell_type": "code",
   "execution_count": 50,
   "metadata": {},
   "outputs": [],
   "source": [
    "#yyyy가 최대 몇주차인지..\n"
   ]
  },
  {
   "cell_type": "code",
   "execution_count": null,
   "metadata": {},
   "outputs": [],
   "source": [
    "j =  "
   ]
  },
  {
   "cell_type": "code",
   "execution_count": 157,
   "metadata": {},
   "outputs": [
    {
     "name": "stdout",
     "output_type": "stream",
     "text": [
      "2020\n",
      "10\n"
     ]
    }
   ],
   "source": [
    "yearweek = '2020W10'\n",
    "\n",
    "splitWeek=yearweek.split(\"W\")\n",
    "\n",
    "from isoweek import Week \n",
    " \n",
    "year = splitWeek[0]\n",
    "\n",
    "\n",
    "intYear = int(year)\n",
    "intYear\n",
    "\n",
    "weeks = splitWeek[1]\n",
    "\n",
    "\n",
    "intWeeks = int(weeks)\n",
    "\n",
    "print(intYear)\n",
    "print(intWeeks)"
   ]
  },
  {
   "cell_type": "code",
   "execution_count": 167,
   "metadata": {},
   "outputs": [],
   "source": [
    "#intWeek1 10\n",
    "intWeeks2 = 200"
   ]
  },
  {
   "cell_type": "code",
   "execution_count": 168,
   "metadata": {},
   "outputs": [
    {
     "name": "stdout",
     "output_type": "stream",
     "text": [
      "3\n",
      "41\n",
      "10\n"
     ]
    }
   ],
   "source": [
    "totalWeek=Week.last_week_of_year(intYear).week\n",
    "\n",
    "\n",
    "if (intWeeks > intWeeks2):\n",
    "    intWeeks3 = intWeeks - intWeeks2\n",
    "    intWeeks3\n",
    "    print(intYear)\n",
    "    print(intWeeks3)\n",
    "\n",
    "# elif (intWeeks < intWeeks2) and totalWeek == 53:\n",
    "#     intWeeks3 = intWeeks - intWeeks2\n",
    "#     intWeeks3 = intWeeks3 + totalWeek\n",
    "#     intWeeks3 = totalWeek - intWeeks3\n",
    "#     intWeeks3\n",
    "#     intYear = intYear - (intWeeks2//totalWeek)    \n",
    "       \n",
    "elif (intWeeks < intWeeks2) and totalWeek == 53:\n",
    "    addDate = intWeeks2//totalWeek\n",
    "    modDate = intWeeks2%totalWeek\n",
    "    print(addDate)\n",
    "    print(modDate)\n",
    "    intWeeks3 = intWeeks + (addDate*totalWeek) - intWeeks2 + modDate\n",
    "    print(intWeeks3)\n",
    "    \n",
    "        \n",
    "\n",
    "#     print(intYear)\n",
    "#     print(intWeeks3)"
   ]
  },
  {
   "cell_type": "code",
   "execution_count": 141,
   "metadata": {},
   "outputs": [],
   "source": [
    "else:\n",
    "# elif totalWeek == 52: \n",
    "    addDate = (intWeeks2//totalWeek) + 1\n",
    "    intWeeks3 = intWeeks + (addDate*totalWeek) - intWeeks2\n",
    "    intYear = intYear - (addDate) \n",
    "    \n",
    "    print(intYear)\n",
    "    print(intWeeks3)"
   ]
  },
  {
   "cell_type": "code",
   "execution_count": null,
   "metadata": {},
   "outputs": [],
   "source": []
  },
  {
   "cell_type": "code",
   "execution_count": null,
   "metadata": {},
   "outputs": [],
   "source": []
  }
 ],
 "metadata": {
  "kernelspec": {
   "display_name": "Python 3",
   "language": "python",
   "name": "python3"
  },
  "language_info": {
   "codemirror_mode": {
    "name": "ipython",
    "version": 3
   },
   "file_extension": ".py",
   "mimetype": "text/x-python",
   "name": "python",
   "nbconvert_exporter": "python",
   "pygments_lexer": "ipython3",
   "version": "3.8.5"
  }
 },
 "nbformat": 4,
 "nbformat_minor": 4
}
