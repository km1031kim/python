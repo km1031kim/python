{
 "cells": [
  {
   "cell_type": "code",
   "execution_count": 35,
   "metadata": {},
   "outputs": [
    {
     "name": "stdout",
     "output_type": "stream",
     "text": [
      "['LEDTV_UN40EN001', 'LEDTV_UN40EN002', 'LEDTV_UN40EN003', 'LEDTV_UN40EN004']\n"
     ]
    }
   ],
   "source": [
    "tvList2 = [ \"UN40EN001\", \"LEDTV_UN40EN002\", \"LEDTV_LEDTV_UN40EN003\", \"ledtv_UN40EN004\"]\n",
    "\n",
    "# Step1: 리스트에 있는 데이터를 하나씩 확인하자\n",
    "#        LEDTV_ 가 붙지 않은것, 붙어있는 것, 두개 붙은 것, 소문자로 붙은 것 각각 하나씩 존재\n",
    "\n",
    "# Step2: preFix, preFixLow 변수 설정\n",
    "\n",
    "tvList2Len = len(tvList2)\n",
    "preFix = \"LEDTV_\"\n",
    "preFixLow = preFix.lower()\n",
    "\n",
    "# Step3: 반복문 설정\n",
    "for i in range(0, tvList2Len, 1):\n",
    " # preFixLow 치환 후 preFix 추가\n",
    "    if tvList2[i].count(preFixLow) >= 1:\n",
    "        tvList2[i] = tvList2[i].replace(preFixLow,\"\")\n",
    "        tvList2[i] = preFix + tvList2[i]\n",
    "            \n",
    " # preFix = 1 일때 pass          \n",
    "    elif tvList2[i].count(preFix) == 1:\n",
    "        pass\n",
    " # preFix가 2개 이상일 때       \n",
    "    elif tvList2[i].count(preFix) >= 2:\n",
    "        tvList2[i] = tvList2[i].replace(preFix,\"\")\n",
    "        tvList2[i] = preFix + tvList2[i]\n",
    " # preFix가 없을 때               \n",
    "    else: tvList2[i] = preFix + tvList2[i]  \n",
    "    \n",
    "print(tvList2)"
   ]
  },
  {
   "cell_type": "code",
   "execution_count": 11,
   "metadata": {},
   "outputs": [
    {
     "ename": "IndentationError",
     "evalue": "expected an indented block (<ipython-input-11-d567e2721324>, line 17)",
     "output_type": "error",
     "traceback": [
      "\u001b[1;36m  File \u001b[1;32m\"<ipython-input-11-d567e2721324>\"\u001b[1;36m, line \u001b[1;32m17\u001b[0m\n\u001b[1;33m    if tvList2[i].count(preFixLow) >= 1:\u001b[0m\n\u001b[1;37m    ^\u001b[0m\n\u001b[1;31mIndentationError\u001b[0m\u001b[1;31m:\u001b[0m expected an indented block\n"
     ]
    }
   ],
   "source": [
    "\n",
    "\n",
    "\n",
    " # 2개 이상일때\n",
    "    \n",
    "\n",
    "  \n",
    "    \n",
    "    print(tvList2)\n",
    "\n",
    "  \n",
    "   \n",
    "\n",
    "    "
   ]
  },
  {
   "cell_type": "code",
   "execution_count": 4,
   "metadata": {},
   "outputs": [
    {
     "name": "stdout",
     "output_type": "stream",
     "text": [
      "LEDTV_UN40EN004\n"
     ]
    }
   ],
   "source": [
    "# 소문자일때\n",
    "\n",
    "tvList2[3] = tvList2[3].replace(preFixLow,\"\")\n",
    "tvList2[3] = preFix + tvList2[3]\n",
    "print(tvList2[3])"
   ]
  },
  {
   "cell_type": "code",
   "execution_count": null,
   "metadata": {},
   "outputs": [],
   "source": []
  },
  {
   "cell_type": "code",
   "execution_count": 55,
   "metadata": {},
   "outputs": [
    {
     "name": "stdout",
     "output_type": "stream",
     "text": [
      "     brands   price  size material\n",
      "0      NIKE  400000   260   lether\n",
      "1    ADIDAS  350000   255  pigment\n",
      "2      VANS   69000   265   cotton\n",
      "3  CONVERSE   80000   260   cotton\n"
     ]
    }
   ],
   "source": [
    "\n",
    "import pandas as pd\n",
    "data = {'brands': ['NIKE','ADIDAS','VANS','CONVERSE'],\n",
    "           'price(KRW)': [400000, 350000, 69000, 80000],\n",
    "           'size': [260, 255, 265, 260],\n",
    "           'material': ['lether', 'pigment', 'cotton', 'cotton']}\n",
    "jingyuShoes = pd.DataFrame(data)\n",
    "print(dataFrame)"
   ]
  },
  {
   "cell_type": "code",
   "execution_count": 56,
   "metadata": {},
   "outputs": [],
   "source": []
  },
  {
   "cell_type": "code",
   "execution_count": 64,
   "metadata": {},
   "outputs": [
    {
     "name": "stdout",
     "output_type": "stream",
     "text": [
      "     brands  price(KRW)  size(UK) material  count\n",
      "0      NIKE      400000       260   lether      7\n",
      "1    ADIDAS      350000       255  pigment      1\n",
      "2      VANS       69000       265   cotton      1\n",
      "3  CONVERSE       80000       260   cotton      9\n"
     ]
    }
   ],
   "source": [
    "# 가지고 있는 신발에 대한 데이터\n",
    "import pandas as pd\n",
    "data = {'brands': ['NIKE','ADIDAS','VANS','CONVERSE'],\n",
    "           'price(KRW)': [400000, 350000, 69000, 80000],\n",
    "           'size(UK)': [260, 255, 265, 260],\n",
    "           'material': ['lether', 'pigment', 'cotton', 'cotton'],\n",
    "           'count' : [7, 1, 1, 9]}\n",
    "dataFrame = pd.DataFrame(data)\n",
    "print(dataFrame)"
   ]
  },
  {
   "cell_type": "code",
   "execution_count": 65,
   "metadata": {},
   "outputs": [
    {
     "name": "stdout",
     "output_type": "stream",
     "text": [
      "{'brands': 'nike', 'price(KRW)': 400000, 'size(UK)': 260, 'material': 'lether', 'count': 7}\n"
     ]
    }
   ],
   "source": [
    "dic = {\"brands\":\"nike\",\"price(KRW)\":400000,\"size(UK)\":260,\"material\":\"lether\",\"count\":7}\n",
    "print(dic)"
   ]
  },
  {
   "cell_type": "code",
   "execution_count": 71,
   "metadata": {},
   "outputs": [
    {
     "ename": "SyntaxError",
     "evalue": "invalid syntax (<ipython-input-71-dc4d416ceed4>, line 10)",
     "output_type": "error",
     "traceback": [
      "\u001b[1;36m  File \u001b[1;32m\"<ipython-input-71-dc4d416ceed4>\"\u001b[1;36m, line \u001b[1;32m10\u001b[0m\n\u001b[1;33m    price(KRW)_df = pd.DataFrame(price(KRW), columns=['shoesprice(KRW)'])\u001b[0m\n\u001b[1;37m              ^\u001b[0m\n\u001b[1;31mSyntaxError\u001b[0m\u001b[1;31m:\u001b[0m invalid syntax\n"
     ]
    }
   ],
   "source": [
    "import pandas as pd\n",
    "\n",
    "brands = ['NKIE', 'ADIDAS', 'VANS', 'CONVERSE']\n",
    "price(KRW) = ['400000', '350000', '69000', '80000']\n",
    "size(UK) = ['260', '255', '265', '260']\n",
    "material = ['lether', 'pigment', 'cotton', 'cotton']\n",
    "count = ['7', '1', '1', '9']\n",
    "\n",
    "brands_df = pd.DataFrame(brands, columns=['mybrands'])\n",
    "price(KRW)_df = pd.DataFrame(price(KRW), columns=['shoesprice(KRW)'])\n",
    "size(UK)_df = pd.DataFrame(size(UK), columns=['mysize(UK)'])\n",
    "material_df = pd.DataFrame(material, columns=['shoesmaterial'])    \n",
    "count_df = pd.DataFrame(count, columns=['shoescount'])\n",
    "\n",
    "final = pd.concat([brands_df,price(KRW)_df,size(UK)_df,material_df,count_df], axis = 1)\n",
    "final\n",
    "                                             "
   ]
  },
  {
   "cell_type": "code",
   "execution_count": 79,
   "metadata": {},
   "outputs": [],
   "source": [
    "\n"
   ]
  },
  {
   "cell_type": "code",
   "execution_count": 83,
   "metadata": {},
   "outputs": [
    {
     "data": {
      "text/html": [
       "<div>\n",
       "<style scoped>\n",
       "    .dataframe tbody tr th:only-of-type {\n",
       "        vertical-align: middle;\n",
       "    }\n",
       "\n",
       "    .dataframe tbody tr th {\n",
       "        vertical-align: top;\n",
       "    }\n",
       "\n",
       "    .dataframe thead th {\n",
       "        text-align: right;\n",
       "    }\n",
       "</style>\n",
       "<table border=\"1\" class=\"dataframe\">\n",
       "  <thead>\n",
       "    <tr style=\"text-align: right;\">\n",
       "      <th></th>\n",
       "      <th>mybrands</th>\n",
       "      <th>shoesprice</th>\n",
       "      <th>mysize</th>\n",
       "      <th>shoesmaterial</th>\n",
       "      <th>shoescount</th>\n",
       "    </tr>\n",
       "  </thead>\n",
       "  <tbody>\n",
       "    <tr>\n",
       "      <th>0</th>\n",
       "      <td>NKIE</td>\n",
       "      <td>400000</td>\n",
       "      <td>260</td>\n",
       "      <td>lether</td>\n",
       "      <td>7</td>\n",
       "    </tr>\n",
       "    <tr>\n",
       "      <th>1</th>\n",
       "      <td>ADIDAS</td>\n",
       "      <td>350000</td>\n",
       "      <td>255</td>\n",
       "      <td>pigment</td>\n",
       "      <td>1</td>\n",
       "    </tr>\n",
       "    <tr>\n",
       "      <th>2</th>\n",
       "      <td>VANS</td>\n",
       "      <td>69000</td>\n",
       "      <td>265</td>\n",
       "      <td>cotton</td>\n",
       "      <td>1</td>\n",
       "    </tr>\n",
       "    <tr>\n",
       "      <th>3</th>\n",
       "      <td>CONVERSE</td>\n",
       "      <td>80000</td>\n",
       "      <td>260</td>\n",
       "      <td>cotton</td>\n",
       "      <td>9</td>\n",
       "    </tr>\n",
       "  </tbody>\n",
       "</table>\n",
       "</div>"
      ],
      "text/plain": [
       "   mybrands shoesprice mysize shoesmaterial shoescount\n",
       "0      NKIE     400000    260        lether          7\n",
       "1    ADIDAS     350000    255       pigment          1\n",
       "2      VANS      69000    265        cotton          1\n",
       "3  CONVERSE      80000    260        cotton          9"
      ]
     },
     "execution_count": 83,
     "metadata": {},
     "output_type": "execute_result"
    }
   ],
   "source": [
    "\n",
    "# concat 활용하기.\n",
    "\n",
    "import pandas as pd\n",
    "\n",
    "brands = ['NKIE', 'ADIDAS', 'VANS', 'CONVERSE']\n",
    "price = ['400000', '350000', '69000', '80000']\n",
    "size = ['260', '255', '265', '260']\n",
    "material = ['lether', 'pigment', 'cotton', 'cotton']\n",
    "count = ['7', '1', '1', '9']\n",
    "\n",
    "\n",
    "brands_df = pd.DataFrame(brands, columns=['mybrands'])\n",
    "price_df = pd.DataFrame(price, columns=['shoesprice'])\n",
    "size_df = pd.DataFrame(size, columns=['mysize'])\n",
    "material_df = pd.DataFrame(material, columns=['shoesmaterial'])    \n",
    "count_df = pd.DataFrame(count, columns=['shoescount'])\n",
    "\n",
    "final = pd.concat([brands_df,price_df,size_df,material_df,count_df], axis = 1)\n",
    "final"
   ]
  },
  {
   "cell_type": "code",
   "execution_count": null,
   "metadata": {},
   "outputs": [],
   "source": []
  }
 ],
 "metadata": {
  "kernelspec": {
   "display_name": "Python 3",
   "language": "python",
   "name": "python3"
  },
  "language_info": {
   "codemirror_mode": {
    "name": "ipython",
    "version": 3
   },
   "file_extension": ".py",
   "mimetype": "text/x-python",
   "name": "python",
   "nbconvert_exporter": "python",
   "pygments_lexer": "ipython3",
   "version": "3.8.5"
  }
 },
 "nbformat": 4,
 "nbformat_minor": 4
}
