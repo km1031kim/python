{
 "cells": [
  {
   "cell_type": "code",
   "execution_count": 27,
   "metadata": {},
   "outputs": [],
   "source": [
    "targetList = [\"UN001\", \"UN002\", \"UN003\", \"UN004\"]\n"
   ]
  },
  {
   "cell_type": "code",
   "execution_count": 28,
   "metadata": {},
   "outputs": [],
   "source": [
    "prefix = \"LEDTV_\""
   ]
  },
  {
   "cell_type": "code",
   "execution_count": null,
   "metadata": {},
   "outputs": [],
   "source": [
    "targetListLen = len(targetList)"
   ]
  },
  {
   "cell_type": "code",
   "execution_count": null,
   "metadata": {},
   "outputs": [],
   "source": [
    "i=0"
   ]
  },
  {
   "cell_type": "code",
   "execution_count": null,
   "metadata": {},
   "outputs": [],
   "source": [
    "# while문의 헤더의 종결점은 \":\" 써줘야 한다.\n",
    "# 구문은 tab 들여쓰기를 해야한다.\n",
    "while(i < targetListLen):\n",
    "    targetList[i] = prefix + targetList[i]\n",
    "    # while 문은 반복문 마지막에 자동증가 안해줌!\n",
    "    i = i + 1\n",
    "    "
   ]
  },
  {
   "cell_type": "code",
   "execution_count": 39,
   "metadata": {},
   "outputs": [
    {
     "data": {
      "text/plain": [
       "['LEDTV_LEDTV_UN001',\n",
       " 'LEDTV_LEDTV_UN002',\n",
       " 'LEDTV_LEDTV_UN003',\n",
       " 'LEDTV_LEDTV_UN004']"
      ]
     },
     "execution_count": 39,
     "metadata": {},
     "output_type": "execute_result"
    }
   ],
   "source": [
    "targetList"
   ]
  },
  {
   "cell_type": "code",
   "execution_count": null,
   "metadata": {},
   "outputs": [],
   "source": []
  },
  {
   "cell_type": "code",
   "execution_count": 15,
   "metadata": {},
   "outputs": [],
   "source": [
    "tvList2 = [\"UN40EN001\",\"UN40EN002\",\"UN40EN003\",\"UN40EN004\"]"
   ]
  },
  {
   "cell_type": "code",
   "execution_count": 16,
   "metadata": {},
   "outputs": [],
   "source": [
    "tvList2Len = len(tvList2)"
   ]
  },
  {
   "cell_type": "code",
   "execution_count": 17,
   "metadata": {},
   "outputs": [
    {
     "name": "stdout",
     "output_type": "stream",
     "text": [
      "UN40EN001\n",
      "UN40EN002\n",
      "UN40EN003\n",
      "UN40EN004\n"
     ]
    }
   ],
   "source": [
    "\n",
    "tvList2 = [\"UN40EN001\",\"UN40EN002\",\"UN40EN003\",\"UN40EN004\"]\n",
    "\n",
    "## 리스트의 길이 구하기\n",
    "tvList2Len = len(tvList2) \n",
    "\n",
    "for i in range(0, tvList2Len,1): #for 문 헤더\n",
    "     print(tvList2[i])"
   ]
  },
  {
   "cell_type": "code",
   "execution_count": null,
   "metadata": {},
   "outputs": [],
   "source": []
  },
  {
   "cell_type": "code",
   "execution_count": null,
   "metadata": {},
   "outputs": [],
   "source": []
  },
  {
   "cell_type": "code",
   "execution_count": null,
   "metadata": {},
   "outputs": [],
   "source": []
  },
  {
   "cell_type": "code",
   "execution_count": null,
   "metadata": {},
   "outputs": [],
   "source": []
  },
  {
   "cell_type": "code",
   "execution_count": 36,
   "metadata": {},
   "outputs": [],
   "source": [
    "targetListLen = len(targetList)"
   ]
  },
  {
   "cell_type": "code",
   "execution_count": 37,
   "metadata": {},
   "outputs": [],
   "source": [
    "# i 를 0부터 4까지 1씩 증가\n",
    "# for문의 헤더가 끝나는지점 \":\" 을 써줘야한다.\n",
    "# 구문은 tab 들여쓰기로 컴퓨터가 인식하게 해준다.\n",
    "for i in range (0, targetListLen, 1): # for문 헤더\n",
    "    targetList[i] = prefix + targetList[i]"
   ]
  },
  {
   "cell_type": "code",
   "execution_count": 38,
   "metadata": {},
   "outputs": [
    {
     "data": {
      "text/plain": [
       "['LEDTV_LEDTV_UN001',\n",
       " 'LEDTV_LEDTV_UN002',\n",
       " 'LEDTV_LEDTV_UN003',\n",
       " 'LEDTV_LEDTV_UN004']"
      ]
     },
     "execution_count": 38,
     "metadata": {},
     "output_type": "execute_result"
    }
   ],
   "source": [
    "targetList"
   ]
  },
  {
   "cell_type": "code",
   "execution_count": null,
   "metadata": {},
   "outputs": [],
   "source": [
    "\n",
    "\n",
    "# 공통된 prefix = \"UN40E00\"\n",
    "\n",
    "prefix = \"UN40E00\"\n",
    "\n",
    "listLen = 4\n",
    "\n",
    "for i in range (0, listLen, 1):\n",
    "    tvList2[i] = tvList2[i]+  \n",
    "\n",
    "\n",
    "\n",
    "\n",
    "tvList = [\"UN40E001\",\"UN40E002\", \"UN40E001\", \"UN40E001\"]]"
   ]
  },
  {
   "cell_type": "code",
   "execution_count": null,
   "metadata": {},
   "outputs": [],
   "source": []
  },
  {
   "cell_type": "code",
   "execution_count": null,
   "metadata": {},
   "outputs": [],
   "source": [
    "scoreLabel"
   ]
  },
  {
   "cell_type": "code",
   "execution_count": null,
   "metadata": {},
   "outputs": [],
   "source": []
  },
  {
   "cell_type": "code",
   "execution_count": null,
   "metadata": {},
   "outputs": [],
   "source": [
    "# Step1: 리스트에 있는 데이터를 하나씩 확인하자\n",
    "# Step2: 리스트 아이템 별 prefix 개수를 확인하자\n",
    "# Step3: preFix >= 2 \"LEDTV_LEDTV_\"\n",
    "#        preFix == 1 -> pass\n",
    "#        preFix < 1 -> preFix 붙이기"
   ]
  },
  {
   "cell_type": "code",
   "execution_count": null,
   "metadata": {},
   "outputs": [],
   "source": [
    "# SCORE  변수를 80으로 선언 후\n",
    "# 90점이상 A, 80~90점 B, 이외 C 점수로\n",
    "# GRADE변수에 할당하는 프로그램을 구현하세요"
   ]
  },
  {
   "cell_type": "code",
   "execution_count": 28,
   "metadata": {},
   "outputs": [
    {
     "name": "stdout",
     "output_type": "stream",
     "text": [
      "B\n"
     ]
    }
   ],
   "source": [
    "# score 변수 설정\n",
    "score = 80\n",
    "\n",
    "# GRADE변수 기본값 생성\n",
    "\n",
    "GRADE = \"A\"\n",
    "\n",
    "# 조건문 생성\n",
    "\n",
    "# score가 90 이상인 경우 pass\n",
    "if score >= 90:\n",
    "    pass\n",
    "#  score가 80 이상인 경우 GRADE=\"B\"\n",
    "elif score >= 80:\n",
    "        GRADE = \"B\"\n",
    "# 앞 조건 모두 불일치 시 GRADE = \"C\"\n",
    "else: GRADE = \"C\"\n",
    "        \n",
    "print(GRADE)        "
   ]
  },
  {
   "cell_type": "code",
   "execution_count": 80,
   "metadata": {},
   "outputs": [
    {
     "ename": "IndentationError",
     "evalue": "unexpected indent (<ipython-input-80-41902a083093>, line 22)",
     "output_type": "error",
     "traceback": [
      "\u001b[1;36m  File \u001b[1;32m\"<ipython-input-80-41902a083093>\"\u001b[1;36m, line \u001b[1;32m22\u001b[0m\n\u001b[1;33m    tvList2[3] = tvList2[3].replace(preFixLow,\"\")\u001b[0m\n\u001b[1;37m    ^\u001b[0m\n\u001b[1;31mIndentationError\u001b[0m\u001b[1;31m:\u001b[0m unexpected indent\n"
     ]
    }
   ],
   "source": [
    "# 리스트에서 LEDTV_가 한 개만 앞에 붙도록 하세요\n",
    "# (* 대소문자 구분없이 전부 처리!)\n",
    "tvList2 = [ \"UN40EN001\", \"LEDTV_UN40EN002\", \"LEDTV_LEDTV_UN40EN003\", \"ledtv_UN40EN004\"]\n",
    "\n",
    "# Step1: 리스트에 있는 데이터를 하나씩 확인하자\n",
    "#        LEDTV_ 가 붙지 않은것, 붙어있는 것, 두개 붙은 것, 소문자로 붙은 것 각각 하나씩 존재\n",
    "\n",
    "# Step2: preFix, preFixLow 변수 설정\n",
    "\n",
    "tvList2Len = len(tvList2)\n",
    "preFix = \"LEDTV_\"\n",
    "preFixLow = preFix.lower()\n",
    "\n",
    "\n",
    "\n",
    "#for i in range (0, tvList2Len, 1):\n",
    "  \n",
    "   \n",
    "\n",
    "    # 소문자일때\n",
    "\n",
    "        tvList2[3] = tvList2[3].replace(preFixLow,\"\")\n",
    "        tvList2[3] = preFix + tvList2[3]\n",
    "        print(tvList2[3])\n",
    "    \n",
    "#     # 두개 있을때\n",
    "    \n",
    "#     elif tvList2[i].count(preFix) >= 2:\n",
    "#         tvList2[i] = tvList2[i].replace[preFix,\"\"]\n",
    "#             tvList2[i] = preFix + tvList2[i]\n",
    "        \n",
    "           \n",
    "        \n",
    "#      # 없을 때\n",
    "    \n",
    "#     elif: tvList2[i].count(preFix) == 0:\n",
    "#             tvList2[i] = preFix + tvList2[i]\n",
    "            \n",
    "#              # 한개 있을 때\n",
    "#     else tvList2[i].count(preFix) == 1:\n",
    "#             pass\n",
    "            \n",
    "# print(tvList2)\n",
    "            \n",
    "            \n",
    "    \n",
    "        \n",
    "     \n",
    "\n",
    "\n",
    "\n",
    "\n",
    "           \n",
    "           "
   ]
  },
  {
   "cell_type": "code",
   "execution_count": 54,
   "metadata": {},
   "outputs": [
    {
     "ename": "AttributeError",
     "evalue": "'list' object has no attribute 'upper'",
     "output_type": "error",
     "traceback": [
      "\u001b[1;31m---------------------------------------------------------------------------\u001b[0m",
      "\u001b[1;31mAttributeError\u001b[0m                            Traceback (most recent call last)",
      "\u001b[1;32m<ipython-input-54-51107caf71f4>\u001b[0m in \u001b[0;36m<module>\u001b[1;34m\u001b[0m\n\u001b[0;32m      8\u001b[0m \u001b[1;31m# Step2: 전체 리스트 대문자로 변환 수 prefix 변수 설정\u001b[0m\u001b[1;33m\u001b[0m\u001b[1;33m\u001b[0m\u001b[1;33m\u001b[0m\u001b[0m\n\u001b[0;32m      9\u001b[0m \u001b[1;33m\u001b[0m\u001b[0m\n\u001b[1;32m---> 10\u001b[1;33m \u001b[0mnewList\u001b[0m \u001b[1;33m=\u001b[0m \u001b[0mtvList2\u001b[0m\u001b[1;33m.\u001b[0m\u001b[0mupper\u001b[0m\u001b[1;33m(\u001b[0m\u001b[1;33m)\u001b[0m\u001b[1;33m\u001b[0m\u001b[1;33m\u001b[0m\u001b[0m\n\u001b[0m\u001b[0;32m     11\u001b[0m \u001b[0mprint\u001b[0m\u001b[1;33m(\u001b[0m\u001b[0mnewList\u001b[0m\u001b[1;33m)\u001b[0m\u001b[1;33m\u001b[0m\u001b[1;33m\u001b[0m\u001b[0m\n",
      "\u001b[1;31mAttributeError\u001b[0m: 'list' object has no attribute 'upper'"
     ]
    }
   ],
   "source": []
  },
  {
   "cell_type": "code",
   "execution_count": 81,
   "metadata": {},
   "outputs": [
    {
     "name": "stdout",
     "output_type": "stream",
     "text": [
      "LEDTV_LEDTV_LEDTV_LEDTV_UN40EN004\n"
     ]
    }
   ],
   "source": [
    "tvList2[3] = tvList2[3].replace(preFixLow,\"\")\n",
    "tvList2[3] = preFix + tvList2[3]\n",
    "print(tvList2[3])"
   ]
  },
  {
   "cell_type": "code",
   "execution_count": null,
   "metadata": {},
   "outputs": [],
   "source": []
  }
 ],
 "metadata": {
  "kernelspec": {
   "display_name": "Python 3",
   "language": "python",
   "name": "python3"
  },
  "language_info": {
   "codemirror_mode": {
    "name": "ipython",
    "version": 3
   },
   "file_extension": ".py",
   "mimetype": "text/x-python",
   "name": "python",
   "nbconvert_exporter": "python",
   "pygments_lexer": "ipython3",
   "version": "3.8.5"
  }
 },
 "nbformat": 4,
 "nbformat_minor": 4
}
