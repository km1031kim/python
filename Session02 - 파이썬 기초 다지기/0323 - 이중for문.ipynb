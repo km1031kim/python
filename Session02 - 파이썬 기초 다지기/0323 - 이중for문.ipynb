{
 "cells": [
  {
   "cell_type": "code",
   "execution_count": 9,
   "metadata": {},
   "outputs": [],
   "source": [
    "tvList = [\"LEDTV_UN40EN001\", \"LEDTV_UN40EN002\", \"LEDTV_UN40EN003\"]\n",
    "mobileList = [\"G3_MO001\", \"G3_MO002\", \"G3_MO003\"]\n",
    "speakerList = [\"BL_SP001\", \"BL_SP002\", \"BL_SP003\"]\n",
    "\n",
    "productList = [tvList, mobileList, speakerList]\n",
    "          \n",
    "        "
   ]
  },
  {
   "cell_type": "markdown",
   "metadata": {},
   "source": [
    "# tvList를 제외, 003이 붙은 list를 제외하고 productList 출력"
   ]
  },
  {
   "cell_type": "code",
   "execution_count": null,
   "metadata": {},
   "outputs": [],
   "source": []
  },
  {
   "cell_type": "code",
   "execution_count": 10,
   "metadata": {},
   "outputs": [
    {
     "ename": "SyntaxError",
     "evalue": "invalid syntax (<ipython-input-10-a2c740000f79>, line 1)",
     "output_type": "error",
     "traceback": [
      "\u001b[1;36m  File \u001b[1;32m\"<ipython-input-10-a2c740000f79>\"\u001b[1;36m, line \u001b[1;32m1\u001b[0m\n\u001b[1;33m    mobileList[] = [\"G3_MO001\", \"G3_MO002\", \"G3_MO003\"]\u001b[0m\n\u001b[1;37m               ^\u001b[0m\n\u001b[1;31mSyntaxError\u001b[0m\u001b[1;31m:\u001b[0m invalid syntax\n"
     ]
    }
   ],
   "source": [
    "mobileList[] = [\"G3_MO001\", \"G3_MO002\", \"G3_MO003\"]"
   ]
  },
  {
   "cell_type": "code",
   "execution_count": 30,
   "metadata": {},
   "outputs": [
    {
     "ename": "IndentationError",
     "evalue": "unexpected indent (<ipython-input-30-13351bb3bfd2>, line 25)",
     "output_type": "error",
     "traceback": [
      "\u001b[1;36m  File \u001b[1;32m\"<ipython-input-30-13351bb3bfd2>\"\u001b[1;36m, line \u001b[1;32m25\u001b[0m\n\u001b[1;33m    continue\u001b[0m\n\u001b[1;37m    ^\u001b[0m\n\u001b[1;31mIndentationError\u001b[0m\u001b[1;31m:\u001b[0m unexpected indent\n"
     ]
    }
   ],
   "source": [
    "# for j in range(0, len(productList)):\n",
    "    \n",
    "\n",
    "#     mobileList = productList[j]\n",
    "\n",
    "\n",
    "\n",
    "\n",
    "\n",
    "#     for i in range(0, len(mobileList)):\n",
    "\n",
    "#         eachList = mobileList[i]\n",
    "\n",
    "#         exceptTag = \"003\"\n",
    "\n",
    "#         tagCount = eachList.count(exceptTag)\n",
    "        \n",
    "#         includeTag = \"LEDTV_\"\n",
    "\n",
    "#         tagcounT = eachList.count(includeTag)\n",
    "\n",
    "#         if tagcounT >= 1:\n",
    "            \n",
    "#             print(eachList)\n",
    "#                 continue\n",
    "\n",
    "#         if tagCount >= 1:\n",
    "#             pass\n",
    "#         else:\n",
    "#             print(eachList)"
   ]
  },
  {
   "cell_type": "code",
   "execution_count": 26,
   "metadata": {},
   "outputs": [
    {
     "name": "stdout",
     "output_type": "stream",
     "text": [
      "LEDTV_UN40EN003\n"
     ]
    }
   ],
   "source": [
    "tvList = [\"LEDTV_UN40EN001\", \"LEDTV_UN40EN002\", \"LEDTV_UN40EN003\"]\n",
    "\n",
    "eachList = tvList[2]\n",
    "\n",
    "eachList\n",
    "\n",
    "\n",
    "includeTag = \"LEDTV_\"\n",
    "\n",
    "tagcounT = eachList.count(includeTag)\n",
    "\n",
    "if tagcounT >= 1:\n",
    "    print(eachList)"
   ]
  },
  {
   "cell_type": "code",
   "execution_count": 53,
   "metadata": {},
   "outputs": [],
   "source": [
    "tvList = [\"LEDTV_UN40EN001\", \"LEDTV_UN40EN002\", \"LEDTV_UN40EN003\"]\n",
    "mobileList = [\"G3_MO001\", \"G3_MO002\", \"G3_MO003\"]\n",
    "speakerList = [\"BL_SP001\", \"BL_SP002\", \"BL_SP003\"]\n",
    "\n",
    "productList = [tvList, mobileList, speakerList]\n",
    "          \n",
    "        \n",
    "        \n",
    "        \n",
    "        \n"
   ]
  },
  {
   "cell_type": "code",
   "execution_count": null,
   "metadata": {},
   "outputs": [],
   "source": []
  },
  {
   "cell_type": "code",
   "execution_count": null,
   "metadata": {},
   "outputs": [],
   "source": []
  },
  {
   "cell_type": "code",
   "execution_count": null,
   "metadata": {},
   "outputs": [],
   "source": []
  },
  {
   "cell_type": "code",
   "execution_count": null,
   "metadata": {},
   "outputs": [],
   "source": []
  },
  {
   "cell_type": "code",
   "execution_count": null,
   "metadata": {},
   "outputs": [],
   "source": []
  },
  {
   "cell_type": "markdown",
   "metadata": {},
   "source": [
    "# 말아올리기 - 1"
   ]
  },
  {
   "cell_type": "code",
   "execution_count": 78,
   "metadata": {},
   "outputs": [
    {
     "name": "stdout",
     "output_type": "stream",
     "text": [
      "LEDTV_UN40EN001\n",
      "LEDTV_UN40EN002\n",
      "LEDTV_UN40EN003\n",
      "G3_MO001\n",
      "G3_MO002\n",
      "BL_SP001\n",
      "BL_SP002\n"
     ]
    }
   ],
   "source": [
    "for j in range(0, len(productList)):\n",
    "\n",
    "    mobileList = productList[j]\n",
    "\n",
    "\n",
    "\n",
    "\n",
    "    # 003이 들어있는 리스트 제외하고 출력\n",
    "\n",
    "    for i in range(0, len(mobileList)):\n",
    "\n",
    "        eachList = mobileList[i]\n",
    "\n",
    "        exceptTag = \"003\"\n",
    "\n",
    "        tagCount = eachList.count(exceptTag)\n",
    "\n",
    "        # 단 LEDTV_는 제외\n",
    "        includeTag = \"LEDTV_\"\n",
    "        inTagCount = eachList.count(includeTag)\n",
    "\n",
    "        if inTagCount >= 1:\n",
    "        \n",
    "            print(eachList)\n",
    "            continue\n",
    "\n",
    "\n",
    "        # \"003\" 제외 조건 만들기\n",
    "        if tagCount >= 1:\n",
    "            pass\n",
    "        else: \n",
    "            print(eachList)"
   ]
  },
  {
   "cell_type": "code",
   "execution_count": null,
   "metadata": {},
   "outputs": [],
   "source": []
  },
  {
   "cell_type": "code",
   "execution_count": null,
   "metadata": {},
   "outputs": [],
   "source": []
  },
  {
   "cell_type": "markdown",
   "metadata": {},
   "source": [
    "# 말아올리기 - 2"
   ]
  },
  {
   "cell_type": "code",
   "execution_count": 1,
   "metadata": {},
   "outputs": [],
   "source": [
    "tvList = [\"LEDTV_UN40EN001\", \"LEDTV_UN40EN002\", \"LEDTV_UN40EN003\"]\n",
    "mobileList = [\"G3_MO001\", \"G3_MO002\", \"G3_MO003\"]\n",
    "speakerList = [\"BL_SP001\", \"BL_SP002\", \"BL_SP003\"]\n",
    "\n",
    "productList = [tvList, mobileList, speakerList]\n",
    "          "
   ]
  },
  {
   "cell_type": "code",
   "execution_count": null,
   "metadata": {},
   "outputs": [],
   "source": []
  },
  {
   "cell_type": "code",
   "execution_count": null,
   "metadata": {},
   "outputs": [],
   "source": []
  },
  {
   "cell_type": "code",
   "execution_count": null,
   "metadata": {},
   "outputs": [],
   "source": []
  },
  {
   "cell_type": "markdown",
   "metadata": {},
   "source": [
    "### 003 을 제외한 리스트 출력해보기"
   ]
  },
  {
   "cell_type": "code",
   "execution_count": 4,
   "metadata": {},
   "outputs": [
    {
     "name": "stdout",
     "output_type": "stream",
     "text": [
      "LEDTV_UN40EN001\n",
      "LEDTV_UN40EN002\n",
      "LEDTV_UN40EN003\n",
      "G3_MO001\n",
      "G3_MO002\n",
      "BL_SP001\n",
      "BL_SP002\n"
     ]
    }
   ],
   "source": [
    "for j in range(0, len(productList)):\n",
    "\n",
    "    mobileList = productList[j]\n",
    "\n",
    "\n",
    "    for i in range(0, len(mobileList)):\n",
    "\n",
    "        eachList = mobileList[i]\n",
    "\n",
    "        eachList\n",
    "        \n",
    "        includeTag = \"LEDTV_\"\n",
    "        tagCount = eachList.count(includeTag)\n",
    "        if tagCount >= 1:\n",
    "            print(eachList)\n",
    "            continue\n",
    "\n",
    "        # 003을 정의하자\n",
    "        exceptTag = \"003\"\n",
    "\n",
    "        Tagcount = eachList.count(exceptTag)\n",
    "        Tagcount\n",
    "        \n",
    "        \n",
    "\n",
    "        if Tagcount >= 1:\n",
    "            pass\n",
    "        else:\n",
    "            print(eachList)"
   ]
  },
  {
   "cell_type": "code",
   "execution_count": null,
   "metadata": {},
   "outputs": [],
   "source": []
  },
  {
   "cell_type": "code",
   "execution_count": null,
   "metadata": {},
   "outputs": [],
   "source": []
  },
  {
   "cell_type": "markdown",
   "metadata": {},
   "source": [
    "## tvList에서의 003은 제외시켜야 함"
   ]
  },
  {
   "cell_type": "code",
   "execution_count": 27,
   "metadata": {},
   "outputs": [],
   "source": []
  },
  {
   "cell_type": "code",
   "execution_count": null,
   "metadata": {},
   "outputs": [],
   "source": []
  }
 ],
 "metadata": {
  "kernelspec": {
   "display_name": "Python 3",
   "language": "python",
   "name": "python3"
  },
  "language_info": {
   "codemirror_mode": {
    "name": "ipython",
    "version": 3
   },
   "file_extension": ".py",
   "mimetype": "text/x-python",
   "name": "python",
   "nbconvert_exporter": "python",
   "pygments_lexer": "ipython3",
   "version": "3.8.5"
  }
 },
 "nbformat": 4,
 "nbformat_minor": 4
}
