{
 "cells": [
  {
   "cell_type": "code",
   "execution_count": 1,
   "metadata": {},
   "outputs": [
    {
     "ename": "ModuleNotFoundError",
     "evalue": "No module named 'isoweek'",
     "output_type": "error",
     "traceback": [
      "\u001b[1;31m---------------------------------------------------------------------------\u001b[0m",
      "\u001b[1;31mModuleNotFoundError\u001b[0m                       Traceback (most recent call last)",
      "\u001b[1;32m<ipython-input-1-0c2920be5492>\u001b[0m in \u001b[0;36m<module>\u001b[1;34m\u001b[0m\n\u001b[1;32m----> 1\u001b[1;33m \u001b[1;32mfrom\u001b[0m \u001b[0misoweek\u001b[0m \u001b[1;32mimport\u001b[0m \u001b[0mWeek\u001b[0m\u001b[1;33m\u001b[0m\u001b[1;33m\u001b[0m\u001b[0m\n\u001b[0m\u001b[0;32m      2\u001b[0m \u001b[1;33m\u001b[0m\u001b[0m\n",
      "\u001b[1;31mModuleNotFoundError\u001b[0m: No module named 'isoweek'"
     ]
    }
   ],
   "source": [
    "from isoweek import Week\n",
    "\n"
   ]
  },
  {
   "cell_type": "code",
   "execution_count": 13,
   "metadata": {},
   "outputs": [],
   "source": [
    "import pandas as pd"
   ]
  },
  {
   "cell_type": "code",
   "execution_count": 14,
   "metadata": {},
   "outputs": [],
   "source": [
    "def pastWeek2(inputYear,inputWeek,minusWeek):\n",
    "\n",
    "    from isoweek import Week\n",
    "    \n",
    "\n",
    "\n",
    "\n",
    "    # # 디버깅 코드.\n",
    "    # inputYear = 2021\n",
    "    # inputWeek = 15\n",
    "    # minusWeek = 67\n",
    "    yearWeek = Week.last_week_of_year(inputYear).week\n",
    "    #print(yearWeek)\n",
    "\n",
    "\n",
    "    if inputWeek<=yearWeek:\n",
    "\n",
    "        # inputWeek < minusWeek 일 때\n",
    "        # 2020년의 15주차에서, 70주차를 빼보자\n",
    "\n",
    "        JudgeWeek = minusWeek - inputWeek\n",
    "\n",
    "        if JudgeWeek < 0:\n",
    "                print(inputYear)\n",
    "                print(inputWeek - minusWeek)\n",
    "\n",
    "        ## judgeWeek = 0 일 때.\n",
    "\n",
    "        elif inputWeek == minusWeek:\n",
    "                print(inputYear-1)\n",
    "                print(Week.last_week_of_year(inputYear-1).week)\n",
    "\n",
    "        elif JudgeWeek > 0:\n",
    "\n",
    "            for i in range (1, inputYear):\n",
    "\n",
    "                calcYear = inputYear - i\n",
    "                calcWeek = Week.last_week_of_year(inputYear-i).week\n",
    "                if JudgeWeek > calcWeek:\n",
    "\n",
    "                    JudgeWeek = JudgeWeek - calcWeek\n",
    "\n",
    "\n",
    "                elif JudgeWeek < calcWeek: \n",
    "\n",
    "                    print(calcWeek - JudgeWeek), print(calcYear)\n",
    "                    break;\n",
    "\n",
    "                elif JudgeWeek == calcWeek:\n",
    "                    print(inputYear-(i+1))\n",
    "                    print(Week.last_week_of_year(inputYear-(i+1)).week)\n",
    "                    break;\n",
    "\n",
    "\n",
    "\n",
    "    else: print('해당 연도의 총 주차 = ', yearWeek,'\\ninputWeek 입력값이 해당 연도의 최대 주차를 넘었습니다')\n",
    "           \n"
   ]
  },
  {
   "cell_type": "code",
   "execution_count": 11,
   "metadata": {},
   "outputs": [
    {
     "ename": "ModuleNotFoundError",
     "evalue": "No module named 'isoweek'",
     "output_type": "error",
     "traceback": [
      "\u001b[1;31m---------------------------------------------------------------------------\u001b[0m",
      "\u001b[1;31mModuleNotFoundError\u001b[0m                       Traceback (most recent call last)",
      "\u001b[1;32m<ipython-input-11-d6dab9232421>\u001b[0m in \u001b[0;36m<module>\u001b[1;34m\u001b[0m\n\u001b[1;32m----> 1\u001b[1;33m \u001b[0mpastWeek2\u001b[0m\u001b[1;33m(\u001b[0m\u001b[1;36m2017\u001b[0m\u001b[1;33m,\u001b[0m\u001b[1;36m20\u001b[0m\u001b[1;33m,\u001b[0m\u001b[1;36m10\u001b[0m\u001b[1;33m)\u001b[0m\u001b[1;33m\u001b[0m\u001b[1;33m\u001b[0m\u001b[0m\n\u001b[0m",
      "\u001b[1;32m<ipython-input-10-e469e450924b>\u001b[0m in \u001b[0;36mpastWeek2\u001b[1;34m(inputYear, inputWeek, minusWeek)\u001b[0m\n\u001b[0;32m      1\u001b[0m \u001b[1;32mdef\u001b[0m \u001b[0mpastWeek2\u001b[0m\u001b[1;33m(\u001b[0m\u001b[0minputYear\u001b[0m\u001b[1;33m,\u001b[0m\u001b[0minputWeek\u001b[0m\u001b[1;33m,\u001b[0m\u001b[0mminusWeek\u001b[0m\u001b[1;33m)\u001b[0m\u001b[1;33m:\u001b[0m\u001b[1;33m\u001b[0m\u001b[1;33m\u001b[0m\u001b[0m\n\u001b[0;32m      2\u001b[0m \u001b[1;33m\u001b[0m\u001b[0m\n\u001b[1;32m----> 3\u001b[1;33m     \u001b[1;32mfrom\u001b[0m \u001b[0misoweek\u001b[0m \u001b[1;32mimport\u001b[0m \u001b[0mWeek\u001b[0m\u001b[1;33m\u001b[0m\u001b[1;33m\u001b[0m\u001b[0m\n\u001b[0m\u001b[0;32m      4\u001b[0m \u001b[1;33m\u001b[0m\u001b[0m\n\u001b[0;32m      5\u001b[0m \u001b[1;33m\u001b[0m\u001b[0m\n",
      "\u001b[1;31mModuleNotFoundError\u001b[0m: No module named 'isoweek'"
     ]
    }
   ],
   "source": [
    "pastWeek2(2017,20,10)"
   ]
  },
  {
   "cell_type": "code",
   "execution_count": 15,
   "metadata": {},
   "outputs": [],
   "source": [
    "def pastWeek2(inputYear,inputWeek,minusWeek):\n",
    "\n",
    "    from isoweek import Week\n",
    "\n",
    "\n",
    "\n",
    "\n",
    "    # # 디버깅 코드.\n",
    "    # inputYear = 2021\n",
    "    # inputWeek = 15\n",
    "    # minusWeek = 67\n",
    "    yearWeek = Week.last_week_of_year(inputYear).week\n",
    "    #print(yearWeek)\n",
    "\n",
    "\n",
    "    if inputWeek<=yearWeek:\n",
    "\n",
    "        # inputWeek < minusWeek 일 때\n",
    "        # 2020년의 15주차에서, 70주차를 빼보자\n",
    "\n",
    "        JudgeWeek = minusWeek - inputWeek\n",
    "\n",
    "        if JudgeWeek < 0:\n",
    "                print(inputYear)\n",
    "                print(inputWeek - minusWeek)\n",
    "\n",
    "        ## judgeWeek = 0 일 때.\n",
    "\n",
    "        elif inputWeek == minusWeek:\n",
    "                print(inputYear-1)\n",
    "                print(Week.last_week_of_year(inputYear-1).week)\n",
    "\n",
    "        elif JudgeWeek > 0:\n",
    "\n",
    "            for i in range (1, inputYear):\n",
    "\n",
    "                calcYear = inputYear - i\n",
    "                calcWeek = Week.last_week_of_year(inputYear-i).week\n",
    "                if JudgeWeek > calcWeek:\n",
    "\n",
    "                    JudgeWeek = JudgeWeek - calcWeek\n",
    "\n",
    "\n",
    "                elif JudgeWeek < calcWeek: \n",
    "\n",
    "                    print(calcWeek - JudgeWeek), print(calcYear)\n",
    "                    break;\n",
    "\n",
    "                elif JudgeWeek == calcWeek:\n",
    "                    print(inputYear-(i+1))\n",
    "                    print(Week.last_week_of_year(inputYear-(i+1)).week)\n",
    "                    break;\n",
    "\n",
    "\n",
    "\n",
    "    else: print('해당 연도의 총 주차 = ', yearWeek,'\\ninputWeek 입력값이 해당 연도의 최대 주차를 넘었습니다')\n",
    "           "
   ]
  },
  {
   "cell_type": "code",
   "execution_count": 16,
   "metadata": {},
   "outputs": [
    {
     "ename": "NameError",
     "evalue": "name 'pastWeek' is not defined",
     "output_type": "error",
     "traceback": [
      "\u001b[1;31m---------------------------------------------------------------------------\u001b[0m",
      "\u001b[1;31mNameError\u001b[0m                                 Traceback (most recent call last)",
      "\u001b[1;32m<ipython-input-16-675582e41fbc>\u001b[0m in \u001b[0;36m<module>\u001b[1;34m\u001b[0m\n\u001b[1;32m----> 1\u001b[1;33m \u001b[0mpastWeek\u001b[0m\u001b[1;33m(\u001b[0m\u001b[1;36m2020\u001b[0m\u001b[1;33m,\u001b[0m\u001b[1;36m10\u001b[0m\u001b[1;33m,\u001b[0m\u001b[1;36m30\u001b[0m\u001b[1;33m)\u001b[0m\u001b[1;33m\u001b[0m\u001b[1;33m\u001b[0m\u001b[0m\n\u001b[0m",
      "\u001b[1;31mNameError\u001b[0m: name 'pastWeek' is not defined"
     ]
    }
   ],
   "source": [
    "pastWeek(2020,10,30)"
   ]
  },
  {
   "cell_type": "code",
   "execution_count": null,
   "metadata": {},
   "outputs": [],
   "source": []
  }
 ],
 "metadata": {
  "kernelspec": {
   "display_name": "Python 3",
   "language": "python",
   "name": "python3"
  },
  "language_info": {
   "codemirror_mode": {
    "name": "ipython",
    "version": 3
   },
   "file_extension": ".py",
   "mimetype": "text/x-python",
   "name": "python",
   "nbconvert_exporter": "python",
   "pygments_lexer": "ipython3",
   "version": "3.8.5"
  }
 },
 "nbformat": 4,
 "nbformat_minor": 4
}
