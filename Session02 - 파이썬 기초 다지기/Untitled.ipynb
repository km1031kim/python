{
 "cells": [
  {
   "cell_type": "markdown",
   "metadata": {},
   "source": [
    "## 100부터 200까지의 합을 재귀함수로 표현해보자"
   ]
  },
  {
   "cell_type": "code",
   "execution_count": null,
   "metadata": {},
   "outputs": [],
   "source": [
    "## f(n) = f(n + 1)\n",
    "\n",
    "def Plus(a): \n",
    "    if a >= 200: \n",
    "        return a\n",
    "    else: \n",
    "        return (a + Plus(a+1))\n",
    "        \n",
    "\n",
    "\n",
    "\n",
    "\n",
    "Plus(100)"
   ]
  },
  {
   "cell_type": "markdown",
   "metadata": {},
   "source": [
    "## 5!을 재귀함수로 표현해보자"
   ]
  },
  {
   "cell_type": "code",
   "execution_count": null,
   "metadata": {},
   "outputs": [],
   "source": [
    "#f(n) = f(n) * f(n-1)\n",
    "\n",
    "def factorial(number):\n",
    "    if number == 1:\n",
    "        return number\n",
    "    else: return (number * factorial(number-1))\n",
    "    \n",
    "\n",
    "factorial(5)"
   ]
  },
  {
   "cell_type": "markdown",
   "metadata": {},
   "source": [
    "## 피보나치 수열을 재귀함수로 표현해보자"
   ]
  },
  {
   "cell_type": "code",
   "execution_count": 24,
   "metadata": {},
   "outputs": [],
   "source": [
    "#f(n) = f(n - 1) + f(n - 2)\n",
    "\n",
    "def pibo(number):\n",
    "    if number == 0:\n",
    "        return 0\n",
    "    elif number == 1:\n",
    "        return 1\n",
    "    else: return pibo(number - 1) + pibo(number - 2)\n",
    "\n",
    "pibo(10)"
   ]
  },
  {
   "cell_type": "code",
   "execution_count": 3,
   "metadata": {},
   "outputs": [
    {
     "ename": "ModuleNotFoundError",
     "evalue": "No module named 'isoweek'",
     "output_type": "error",
     "traceback": [
      "\u001b[1;31m---------------------------------------------------------------------------\u001b[0m",
      "\u001b[1;31mModuleNotFoundError\u001b[0m                       Traceback (most recent call last)",
      "\u001b[1;32m<ipython-input-3-a4b51e2f08ad>\u001b[0m in \u001b[0;36m<module>\u001b[1;34m\u001b[0m\n\u001b[1;32m----> 1\u001b[1;33m \u001b[1;32mfrom\u001b[0m \u001b[0misoweek\u001b[0m \u001b[1;32mimport\u001b[0m \u001b[0mWeek\u001b[0m\u001b[1;33m\u001b[0m\u001b[1;33m\u001b[0m\u001b[0m\n\u001b[0m",
      "\u001b[1;31mModuleNotFoundError\u001b[0m: No module named 'isoweek'"
     ]
    }
   ],
   "source": [
    "from isoweek import Week"
   ]
  },
  {
   "cell_type": "code",
   "execution_count": null,
   "metadata": {},
   "outputs": [],
   "source": [
    "from isoweek import Week"
   ]
  },
  {
   "cell_type": "code",
   "execution_count": 1,
   "metadata": {},
   "outputs": [
    {
     "ename": "ModuleNotFoundError",
     "evalue": "No module named 'isoweek'",
     "output_type": "error",
     "traceback": [
      "\u001b[1;31m---------------------------------------------------------------------------\u001b[0m",
      "\u001b[1;31mModuleNotFoundError\u001b[0m                       Traceback (most recent call last)",
      "\u001b[1;32m<ipython-input-1-dc78eafb50e8>\u001b[0m in \u001b[0;36m<module>\u001b[1;34m\u001b[0m\n\u001b[0;32m     35\u001b[0m     \u001b[1;32mreturn\u001b[0m \u001b[0manswer\u001b[0m\u001b[1;33m\u001b[0m\u001b[1;33m\u001b[0m\u001b[0m\n\u001b[0;32m     36\u001b[0m \u001b[1;33m\u001b[0m\u001b[0m\n\u001b[1;32m---> 37\u001b[1;33m \u001b[0mpostWeek\u001b[0m\u001b[1;33m(\u001b[0m\u001b[1;36m201920\u001b[0m\u001b[1;33m,\u001b[0m\u001b[1;36m100\u001b[0m\u001b[1;33m)\u001b[0m\u001b[1;33m\u001b[0m\u001b[1;33m\u001b[0m\u001b[0m\n\u001b[0m",
      "\u001b[1;32m<ipython-input-1-dc78eafb50e8>\u001b[0m in \u001b[0;36mpostWeek\u001b[1;34m(inputYearWeek, plusWeek)\u001b[0m\n\u001b[0;32m      1\u001b[0m \u001b[1;32mdef\u001b[0m \u001b[0mpostWeek\u001b[0m\u001b[1;33m(\u001b[0m\u001b[0minputYearWeek\u001b[0m\u001b[1;33m,\u001b[0m\u001b[0mplusWeek\u001b[0m\u001b[1;33m)\u001b[0m\u001b[1;33m:\u001b[0m\u001b[1;33m\u001b[0m\u001b[1;33m\u001b[0m\u001b[0m\n\u001b[1;32m----> 2\u001b[1;33m     \u001b[1;32mfrom\u001b[0m \u001b[0misoweek\u001b[0m \u001b[1;32mimport\u001b[0m \u001b[0mWeek\u001b[0m\u001b[1;33m\u001b[0m\u001b[1;33m\u001b[0m\u001b[0m\n\u001b[0m\u001b[0;32m      3\u001b[0m \u001b[1;33m\u001b[0m\u001b[0m\n\u001b[0;32m      4\u001b[0m     \u001b[1;31m# 형 변환\u001b[0m\u001b[1;33m\u001b[0m\u001b[1;33m\u001b[0m\u001b[1;33m\u001b[0m\u001b[0m\n\u001b[0;32m      5\u001b[0m     \u001b[0minputYear\u001b[0m \u001b[1;33m=\u001b[0m \u001b[0mint\u001b[0m\u001b[1;33m(\u001b[0m\u001b[0mstr\u001b[0m\u001b[1;33m(\u001b[0m\u001b[0minputYearWeek\u001b[0m\u001b[1;33m)\u001b[0m\u001b[1;33m[\u001b[0m\u001b[1;33m:\u001b[0m\u001b[1;36m4\u001b[0m\u001b[1;33m]\u001b[0m\u001b[1;33m)\u001b[0m\u001b[1;33m\u001b[0m\u001b[1;33m\u001b[0m\u001b[0m\n",
      "\u001b[1;31mModuleNotFoundError\u001b[0m: No module named 'isoweek'"
     ]
    }
   ],
   "source": [
    "def postWeek(inputYearWeek,plusWeek):\n",
    "    from isoweek import Week\n",
    "\n",
    "    # 형 변환\n",
    "    inputYear = int(str(inputYearWeek)[:4])\n",
    "    inputWeek = int(str(inputYearWeek)[4:])\n",
    "    yearWeek = Week.last_week_of_year(inputYear).week\n",
    "    \n",
    "    # 기준주차 \n",
    "    \n",
    "    \n",
    "    JudgeWeek = inputWeek + plusWeek  \n",
    "    \n",
    "    # 기준주차 <= 초기년도 총 주차 (년도가 바뀌지 않을 때)\n",
    "    if JudgeWeek <= yearWeek:   \n",
    "        resultYear = str(inputYear)\n",
    "        resultWeek = str(JudgeWeek)        \n",
    "    \n",
    "    # 기준주차 > 초기년도 총 주차 (년도가 바뀔 때)\n",
    "    elif JudgeWeek > yearWeek:  \n",
    "        JudgeWeek = JudgeWeek - inputWewek\n",
    "        for i in range (1, inputYear):\n",
    "            calcYear = inputYear + i  #초기년도에 반복한 횟수만큼 년도 추가\n",
    "            calcWeek = Week.last_week_of_year(calcYear).week  #추가년도의 총 주차\n",
    "\n",
    "            if JudgeWeek > calcWeek:\n",
    "                JudgeWeek = JudgeWeek - calcWeek\n",
    "                resultYear = str(calcYear)\n",
    "                resultWeek = str(JudgeWeek)\n",
    "                \n",
    "    if JudgeWeek < 10:  # 기준주차 < 10\n",
    "        resultWeek = \"0\" + resultWeek\n",
    "        \n",
    "    answer = resultYear + resultWeek\n",
    "    return answer \n",
    "\n",
    "postWeek(201920,100)"
   ]
  },
  {
   "cell_type": "code",
   "execution_count": 5,
   "metadata": {},
   "outputs": [],
   "source": [
    "from random import randint"
   ]
  },
  {
   "cell_type": "code",
   "execution_count": 50,
   "metadata": {},
   "outputs": [
    {
     "ename": "SyntaxError",
     "evalue": "invalid syntax (<ipython-input-50-1cabeb5bbb04>, line 1)",
     "output_type": "error",
     "traceback": [
      "\u001b[1;36m  File \u001b[1;32m\"<ipython-input-50-1cabeb5bbb04>\"\u001b[1;36m, line \u001b[1;32m1\u001b[0m\n\u001b[1;33m    randList =\u001b[0m\n\u001b[1;37m              ^\u001b[0m\n\u001b[1;31mSyntaxError\u001b[0m\u001b[1;31m:\u001b[0m invalid syntax\n"
     ]
    }
   ],
   "source": [
    "\n",
    "\n",
    "randList =\n",
    "randint(0,5)"
   ]
  },
  {
   "cell_type": "code",
   "execution_count": 77,
   "metadata": {},
   "outputs": [
    {
     "name": "stdout",
     "output_type": "stream",
     "text": [
      "[None, None, None, None, None, None, None, None, None, None, None, None, None, None, None, None, None, None, None, None, 4, 1, 2, 4, 2, 1, 19, 5, 4, 17, 6, 15, 14, 13, 7, 9, 20, 3, 7, 2, 12, 17, 13, 20, 15, 8, 4, 20, 13, 15, 17, 11, 17, 3, 16, 10, 6, 19, 19, 3, 11, 1, 5, 0, 7, 18, 19, 10, 19, 16, 15, 8, 6, 12, 3, 10, 16, 14, 0, 3, 3, 5, 6, 11, 7, 18, 2, 5, 2, 5, 5, 4, 1, 1, 5, 4, 1, 4, 5, 1, 4, 5, 3, 4, 3, 2, 3, 1, 2, 2, 2, 1, 3, 3, 4, 1, 1, 1, 4, 1, 1, 1, 5, 4, 3, 3, 3, 1, 1, 4, 1]\n"
     ]
    }
   ],
   "source": [
    "for i in range(0, 5):\n",
    "    randNum = randint(1,5)\n",
    "    randList[i] = randList.append(randNum)\n",
    "print(randList)"
   ]
  },
  {
   "cell_type": "code",
   "execution_count": 16,
   "metadata": {},
   "outputs": [],
   "source": [
    "for i in range(5):\n"
   ]
  },
  {
   "cell_type": "code",
   "execution_count": 74,
   "metadata": {},
   "outputs": [],
   "source": [
    "randList[5]"
   ]
  },
  {
   "cell_type": "code",
   "execution_count": 70,
   "metadata": {},
   "outputs": [],
   "source": [
    "randList = []\n",
    "\n",
    "for i in range(0, 20):\n",
    "    randList.append(randint(0,50))\n",
    "print(randList)\n",
    "\n",
    "for j in range (0, len(randList)-1):\n",
    "    for k in range (j+1, len(randList)):\n",
    "        if randList[j] < randList[k]:\n",
    "            temp = randList[j]\n",
    "            randList[j] = randList[k]\n",
    "            randList[k] = temp\n",
    "print(randList)"
   ]
  },
  {
   "cell_type": "code",
   "execution_count": 14,
   "metadata": {},
   "outputs": [
    {
     "data": {
      "text/plain": [
       "0"
      ]
     },
     "execution_count": 14,
     "metadata": {},
     "output_type": "execute_result"
    }
   ],
   "source": []
  },
  {
   "cell_type": "code",
   "execution_count": null,
   "metadata": {},
   "outputs": [],
   "source": []
  },
  {
   "cell_type": "code",
   "execution_count": null,
   "metadata": {},
   "outputs": [],
   "source": []
  },
  {
   "cell_type": "code",
   "execution_count": 1,
   "metadata": {},
   "outputs": [],
   "source": [
    "from random import randint"
   ]
  },
  {
   "cell_type": "code",
   "execution_count": 6,
   "metadata": {},
   "outputs": [
    {
     "data": {
      "text/plain": [
       "4"
      ]
     },
     "execution_count": 6,
     "metadata": {},
     "output_type": "execute_result"
    }
   ],
   "source": [
    "randint(0,5)"
   ]
  },
  {
   "cell_type": "code",
   "execution_count": 11,
   "metadata": {},
   "outputs": [
    {
     "data": {
      "text/plain": [
       "[4, 1, 0, 5, 1]"
      ]
     },
     "execution_count": 11,
     "metadata": {},
     "output_type": "execute_result"
    }
   ],
   "source": [
    "randList = []\n",
    "for i in range(0, 5):\n",
    "    randNum = randint(0,5)\n",
    "    randList.append(randNum)\n",
    "randList    "
   ]
  },
  {
   "cell_type": "code",
   "execution_count": null,
   "metadata": {},
   "outputs": [],
   "source": [
    "for j in range(0, len(randList)-1):\n",
    "    for k in range(0, len(randList)):\n",
    "        if randList[j] < randList[k]:\n",
    "            temp = randList[j]\n",
    "            randList[j] = randList[k]\n",
    "            rand"
   ]
  }
 ],
 "metadata": {
  "kernelspec": {
   "display_name": "Python 3",
   "language": "python",
   "name": "python3"
  },
  "language_info": {
   "codemirror_mode": {
    "name": "ipython",
    "version": 3
   },
   "file_extension": ".py",
   "mimetype": "text/x-python",
   "name": "python",
   "nbconvert_exporter": "python",
   "pygments_lexer": "ipython3",
   "version": "3.8.5"
  }
 },
 "nbformat": 4,
 "nbformat_minor": 4
}
