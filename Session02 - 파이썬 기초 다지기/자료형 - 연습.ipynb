{
 "cells": [
  {
   "cell_type": "markdown",
   "metadata": {},
   "source": [
    "#자료형 = 변수의유형"
   ]
  },
  {
   "cell_type": "markdown",
   "metadata": {},
   "source": [
    "#변수는 값을 저장하는 저장소"
   ]
  },
  {
   "cell_type": "markdown",
   "metadata": {},
   "source": [
    "#변수는 숫자가 처음으로 올 수 없다. 단어는 붙여쓰거나, _로 구분한다."
   ]
  },
  {
   "cell_type": "markdown",
   "metadata": {},
   "source": [
    "#Mod 연산(나머지연산) 은 패턴을 만드는데 유용하다."
   ]
  },
  {
   "cell_type": "code",
   "execution_count": 23,
   "metadata": {},
   "outputs": [],
   "source": [
    "import datetime as dt\n",
    "#현재 날짜정보 불러오기\n",
    "currentDate = dt.datetime.now()\n",
    "\n"
   ]
  },
  {
   "cell_type": "code",
   "execution_count": 31,
   "metadata": {},
   "outputs": [],
   "source": [
    "#현재 시간 및 분 정보 저장\n",
    "currentMin = currentDate.minute\n",
    "currentHour = currentDate.hour\n"
   ]
  },
  {
   "cell_type": "code",
   "execution_count": 37,
   "metadata": {},
   "outputs": [
    {
     "name": "stdout",
     "output_type": "stream",
     "text": [
      "64\n"
     ]
    }
   ],
   "source": [
    "# 현재 시간 및 분 정보 합 계산 및 출력\n",
    "sum_time = currentMin + currentHour\n",
    "print(sum_time)"
   ]
  },
  {
   "cell_type": "code",
   "execution_count": 40,
   "metadata": {},
   "outputs": [
    {
     "data": {
      "text/plain": [
       "'현재시간은 : 50 현재 분은 : 14'"
      ]
     },
     "execution_count": 40,
     "metadata": {},
     "output_type": "execute_result"
    }
   ],
   "source": [
    "\"현재시간은 : {} 현재 분은 : {}\"\\ \n",
    ".format(currentMin, currentHour)"
   ]
  },
  {
   "cell_type": "code",
   "execution_count": null,
   "metadata": {},
   "outputs": [],
   "source": []
  },
  {
   "cell_type": "code",
   "execution_count": 44,
   "metadata": {},
   "outputs": [
    {
     "data": {
      "text/plain": [
       "'smart \\'fintech\\' \"aa\" lecture'"
      ]
     },
     "execution_count": 44,
     "metadata": {},
     "output_type": "execute_result"
    }
   ],
   "source": [
    "firstLetter = \"\"\"smart 'fintech' \"aa\" lecture\"\"\"\n",
    "secondLetter = \"fintech\"\n",
    "firstLetter"
   ]
  },
  {
   "cell_type": "code",
   "execution_count": 41,
   "metadata": {},
   "outputs": [
    {
     "ename": "NameError",
     "evalue": "name 'firstLetter' is not defined",
     "output_type": "error",
     "traceback": [
      "\u001b[1;31m---------------------------------------------------------------------------\u001b[0m",
      "\u001b[1;31mNameError\u001b[0m                                 Traceback (most recent call last)",
      "\u001b[1;32m<ipython-input-41-8d6679e3abed>\u001b[0m in \u001b[0;36m<module>\u001b[1;34m\u001b[0m\n\u001b[1;32m----> 1\u001b[1;33m \u001b[0mfirstLetter\u001b[0m \u001b[1;33m+\u001b[0m \u001b[0msecondLetter\u001b[0m\u001b[1;33m\u001b[0m\u001b[1;33m\u001b[0m\u001b[0m\n\u001b[0m",
      "\u001b[1;31mNameError\u001b[0m: name 'firstLetter' is not defined"
     ]
    }
   ],
   "source": [
    "firstLetter + secondLetter"
   ]
  },
  {
   "cell_type": "code",
   "execution_count": 46,
   "metadata": {},
   "outputs": [
    {
     "data": {
      "text/plain": [
       "int"
      ]
     },
     "execution_count": 46,
     "metadata": {},
     "output_type": "execute_result"
    }
   ],
   "source": [
    "inputVal1 = 1\n",
    "inputVal2 = \"1\"\n",
    "type(inputVal1)"
   ]
  },
  {
   "cell_type": "code",
   "execution_count": 50,
   "metadata": {},
   "outputs": [
    {
     "data": {
      "text/plain": [
       "str"
      ]
     },
     "execution_count": 50,
     "metadata": {},
     "output_type": "execute_result"
    }
   ],
   "source": [
    "type(inputVal2)"
   ]
  },
  {
   "cell_type": "code",
   "execution_count": 52,
   "metadata": {},
   "outputs": [],
   "source": [
    "commentMulti = 20\n",
    "startFlag = \"START\"\n",
    "endFlag = \"END\""
   ]
  },
  {
   "cell_type": "code",
   "execution_count": 55,
   "metadata": {},
   "outputs": [
    {
     "ename": "SyntaxError",
     "evalue": "unexpected character after line continuation character (<ipython-input-55-6180b4a43c00>, line 1)",
     "output_type": "error",
     "traceback": [
      "\u001b[1;36m  File \u001b[1;32m\"<ipython-input-55-6180b4a43c00>\"\u001b[1;36m, line \u001b[1;32m1\u001b[0m\n\u001b[1;33m    print(\"*\"*commenMulti+\\startFlag+\\\"*\"*commentMulti)\u001b[0m\n\u001b[1;37m                                                       ^\u001b[0m\n\u001b[1;31mSyntaxError\u001b[0m\u001b[1;31m:\u001b[0m unexpected character after line continuation character\n"
     ]
    }
   ],
   "source": [
    "print(\"*\"*commenMulti+\\startFlag+\\\"*\"*commentMulti)\n"
   ]
  },
  {
   "cell_type": "code",
   "execution_count": 51,
   "metadata": {},
   "outputs": [
    {
     "name": "stdout",
     "output_type": "stream",
     "text": [
      "********************star\n"
     ]
    }
   ],
   "source": [
    "print(\"*\"*20+\"star\")"
   ]
  },
  {
   "cell_type": "code",
   "execution_count": 59,
   "metadata": {},
   "outputs": [],
   "source": [
    "# 연, 주차 정보 길이 설정\n",
    "YEARLEN = 4\n",
    "WEEKLEN = 2\n",
    "\n",
    "# 입력 데이터\n",
    "inValue = \"202103\"\n",
    "\n"
   ]
  },
  {
   "cell_type": "code",
   "execution_count": 60,
   "metadata": {},
   "outputs": [
    {
     "data": {
      "text/plain": [
       "'2021'"
      ]
     },
     "execution_count": 60,
     "metadata": {},
     "output_type": "execute_result"
    }
   ],
   "source": [
    "inValue[0:YEARLEN]"
   ]
  },
  {
   "cell_type": "code",
   "execution_count": 62,
   "metadata": {},
   "outputs": [
    {
     "name": "stdout",
     "output_type": "stream",
     "text": [
      "2021\n"
     ]
    }
   ],
   "source": [
    "yearInfo = inValue[:YEARLEN] #처음부터 끝까지 #첫번 인덱스는 포함, 마지막 인덱스는 포함하지 않는다.\n",
    "print(yearInfo)"
   ]
  },
  {
   "cell_type": "code",
   "execution_count": 63,
   "metadata": {},
   "outputs": [
    {
     "data": {
      "text/plain": [
       "'18'"
      ]
     },
     "execution_count": 63,
     "metadata": {},
     "output_type": "execute_result"
    }
   ],
   "source": [
    "yearweek = \"201801\"\n",
    "yearweek[2:4]"
   ]
  },
  {
   "cell_type": "code",
   "execution_count": 61,
   "metadata": {},
   "outputs": [],
   "source": [
    "weekInfo = inValue[YEARLEN:]\n"
   ]
  },
  {
   "cell_type": "code",
   "execution_count": 65,
   "metadata": {},
   "outputs": [
    {
     "name": "stdout",
     "output_type": "stream",
     "text": [
      "1\n"
     ]
    }
   ],
   "source": [
    "# 문자열 개수세기 (count)\n",
    "yearweek= \"2017W28w\"\n",
    "print(yearweek.count('W'))"
   ]
  },
  {
   "cell_type": "markdown",
   "metadata": {},
   "source": [
    "#index 문자열 위치확인"
   ]
  },
  {
   "cell_type": "code",
   "execution_count": 66,
   "metadata": {},
   "outputs": [
    {
     "data": {
      "text/plain": [
       "4"
      ]
     },
     "execution_count": 66,
     "metadata": {},
     "output_type": "execute_result"
    }
   ],
   "source": [
    "inValue = \"2017W28\" #인덱스 W의 위치를 알려줘.\n",
    "inValue.index(\"W\")  "
   ]
  },
  {
   "cell_type": "code",
   "execution_count": 67,
   "metadata": {},
   "outputs": [],
   "source": [
    "letters = \"LeD_tv\""
   ]
  },
  {
   "cell_type": "code",
   "execution_count": 68,
   "metadata": {},
   "outputs": [
    {
     "data": {
      "text/plain": [
       "'led_tv'"
      ]
     },
     "execution_count": 68,
     "metadata": {},
     "output_type": "execute_result"
    }
   ],
   "source": [
    "letters.lower()"
   ]
  },
  {
   "cell_type": "code",
   "execution_count": null,
   "metadata": {},
   "outputs": [],
   "source": [
    "userInput = \"haiteam\" \n",
    "dbValue =  \"HAITEAM\""
   ]
  },
  {
   "cell_type": "code",
   "execution_count": 87,
   "metadata": {},
   "outputs": [
    {
     "ename": "NameError",
     "evalue": "name 'userInput' is not defined",
     "output_type": "error",
     "traceback": [
      "\u001b[1;31m---------------------------------------------------------------------------\u001b[0m",
      "\u001b[1;31mNameError\u001b[0m                                 Traceback (most recent call last)",
      "\u001b[1;32m<ipython-input-87-3075363d1e8f>\u001b[0m in \u001b[0;36m<module>\u001b[1;34m\u001b[0m\n\u001b[1;32m----> 1\u001b[1;33m \u001b[0muserInput\u001b[0m\u001b[1;33m.\u001b[0m\u001b[0mupper\u001b[0m\u001b[1;33m(\u001b[0m\u001b[1;33m)\u001b[0m \u001b[1;33m==\u001b[0m \u001b[0mdbValue\u001b[0m\u001b[1;33m(\u001b[0m\u001b[1;33m)\u001b[0m\u001b[1;33m\u001b[0m\u001b[1;33m\u001b[0m\u001b[0m\n\u001b[0m",
      "\u001b[1;31mNameError\u001b[0m: name 'userInput' is not defined"
     ]
    }
   ],
   "source": [
    "userInput.upper() == dbValue()"
   ]
  },
  {
   "cell_type": "code",
   "execution_count": null,
   "metadata": {},
   "outputs": [],
   "source": [
    "#만약 로그인정보가 데이트베이스에 있는 정보와 같다면 로그인 해라 틀리면 \"로그인정보가 없다고 출력\""
   ]
  },
  {
   "cell_type": "code",
   "execution_count": 76,
   "metadata": {},
   "outputs": [
    {
     "name": "stdout",
     "output_type": "stream",
     "text": [
      "2017_28\n"
     ]
    }
   ],
   "source": [
    "repLetters = \"2017W28\"\n",
    "print(repLetters.replace(\"W\",\"_\"))"
   ]
  },
  {
   "cell_type": "code",
   "execution_count": 78,
   "metadata": {},
   "outputs": [
    {
     "data": {
      "text/plain": [
       "['2018', '01']"
      ]
     },
     "execution_count": 78,
     "metadata": {},
     "output_type": "execute_result"
    }
   ],
   "source": [
    "\"2018W01\".split(\"W\")"
   ]
  },
  {
   "cell_type": "code",
   "execution_count": 79,
   "metadata": {},
   "outputs": [],
   "source": [
    "orgValue = \"1234\""
   ]
  },
  {
   "cell_type": "code",
   "execution_count": 80,
   "metadata": {},
   "outputs": [],
   "source": [
    "newValue = int(orgValue)"
   ]
  },
  {
   "cell_type": "code",
   "execution_count": 81,
   "metadata": {},
   "outputs": [
    {
     "data": {
      "text/plain": [
       "str"
      ]
     },
     "execution_count": 81,
     "metadata": {},
     "output_type": "execute_result"
    }
   ],
   "source": [
    "type(orgValue)"
   ]
  },
  {
   "cell_type": "code",
   "execution_count": 82,
   "metadata": {},
   "outputs": [
    {
     "data": {
      "text/plain": [
       "int"
      ]
     },
     "execution_count": 82,
     "metadata": {},
     "output_type": "execute_result"
    }
   ],
   "source": [
    "type(newValue)"
   ]
  },
  {
   "cell_type": "code",
   "execution_count": 83,
   "metadata": {},
   "outputs": [],
   "source": [
    "orgValu = \"23\"\n"
   ]
  },
  {
   "cell_type": "code",
   "execution_count": 84,
   "metadata": {},
   "outputs": [
    {
     "data": {
      "text/plain": [
       "1234.0"
      ]
     },
     "execution_count": 84,
     "metadata": {},
     "output_type": "execute_result"
    }
   ],
   "source": [
    "float(orgValue)"
   ]
  },
  {
   "cell_type": "code",
   "execution_count": 123,
   "metadata": {},
   "outputs": [
    {
     "name": "stdout",
     "output_type": "stream",
     "text": [
      "상품명 = SEC\n",
      "판매일 = 201828 \n",
      "상품가치 = 250\n"
     ]
    }
   ],
   "source": [
    "## productDb 문자열 입력\n",
    "productDb = \"Sec 2018W28 250\"\n",
    "\n",
    "## 데이터 단순화를 위한 \"W\" 삭제\n",
    "productDb = productDb.replace(\"W\",\"\")\n",
    "print(productDb)\n",
    "\n",
    "## 가독성 향상을 위한 대문자 변환\n",
    "newProductDb = productDb.upper()\n",
    "print(newProductDb)\n",
    "\n",
    "## index를 통한 데이터 추출\n",
    "stock_name = newProductDb[0:3] # 상품명\n",
    "date = newProductDb[4:11] # 판매날짜\n",
    "value = newProductDb[-3:] # 상품가치\n",
    "\n",
    "## 결과값 출력\n",
    "print(\"상품명 = \" + stock_name)\n",
    "print(\"판매일 = \" + date)\n",
    "print(\"상품가치 = \" + value)"
   ]
  },
  {
   "cell_type": "code",
   "execution_count": 135,
   "metadata": {},
   "outputs": [
    {
     "name": "stdout",
     "output_type": "stream",
     "text": [
      "Sec 201828 250\n",
      "SEC 201828 250\n",
      "상품명 = SEC\n",
      "판매일 = 201828 \n",
      "상품가치 = 250\n"
     ]
    }
   ],
   "source": [
    "\n",
    "## 가독성 향상을 위한 대문자 변환\n",
    "newProductDb = productDb.upper()\n",
    "print(newProductDb)\n",
    "\n",
    "## index를 통한 데이터 추출\n",
    "stock_name = newProductDb[0:3] # 상품명\n",
    "date = newProductDb[4:11] # 판매날짜\n",
    "value = newProductDb[-3:] # 상품가치\n",
    "\n",
    "## 결과값 출력\n",
    "print(\"상품명 = \" + stock_name)\n",
    "print(\"판매일 = \" + date)\n",
    "print(\"상품가치 = \" + value)"
   ]
  },
  {
   "cell_type": "code",
   "execution_count": null,
   "metadata": {},
   "outputs": [],
   "source": [
    "\n",
    "## 가독성 향상을 위한 대문자 변환\n",
    "newProductDb = productDb.upper()\n",
    "print(newProductDb)\n",
    "\n",
    "## index를 통한 데이터 추출\n",
    "stock_name = newProductDb[0:3] # 상품명\n",
    "date = newProductDb[4:11] # 판매날짜\n",
    "value = newProductDb[-3:] # 상품가치\n",
    "\n",
    "## 결과값 출력\n",
    "print(\"상품명 = \" + stock_name)\n",
    "print(\"판매일 = \" + date)\n",
    "print(\"상품가치 = \" + value)"
   ]
  },
  {
   "cell_type": "code",
   "execution_count": null,
   "metadata": {},
   "outputs": [],
   "source": []
  },
  {
   "cell_type": "code",
   "execution_count": 137,
   "metadata": {},
   "outputs": [
    {
     "name": "stdout",
     "output_type": "stream",
     "text": [
      "상품명 = SEC\n",
      "판매일 = 201828 \n",
      "상품가치 = 250\n"
     ]
    }
   ],
   "source": [
    "## productDb 문자열 입력\n",
    "productDb = \"Sec 2018W28 250\"\n",
    "\n",
    "## 데이터 단순화를 위한 \"W\" 삭제\n",
    "productDb = productDb.replace(\"W\",\"\")\n",
    "\n",
    "\n",
    "## 가독성 향상을 위한 대문자 변환\n",
    "newProductDb = productDb.upper()\n",
    "\n",
    "\n",
    "## index를 통한 데이터 추출\n",
    "stock_name = newProductDb[0:3] # 상품명\n",
    "date = newProductDb[4:11] # 판매날짜\n",
    "value = newProductDb[-3:] # 상품가치\n",
    "\n",
    "## 결과값 출력\n",
    "print(\"상품명 = \" + stock_name)\n",
    "print(\"판매일 = \" + date)\n",
    "print(\"상품가치 = \" + value)"
   ]
  },
  {
   "cell_type": "code",
   "execution_count": 170,
   "metadata": {},
   "outputs": [
    {
     "ename": "TypeError",
     "evalue": "'str' object does not support item assignment",
     "output_type": "error",
     "traceback": [
      "\u001b[1;31m---------------------------------------------------------------------------\u001b[0m",
      "\u001b[1;31mTypeError\u001b[0m                                 Traceback (most recent call last)",
      "\u001b[1;32m<ipython-input-170-8ac1efd1dcce>\u001b[0m in \u001b[0;36m<module>\u001b[1;34m\u001b[0m\n\u001b[0;32m      4\u001b[0m \u001b[1;31m## 데이터 단순화를 위한 \"W\" 삭제\u001b[0m\u001b[1;33m\u001b[0m\u001b[1;33m\u001b[0m\u001b[1;33m\u001b[0m\u001b[0m\n\u001b[0;32m      5\u001b[0m \u001b[0mnewproductDb\u001b[0m \u001b[1;33m=\u001b[0m \u001b[0mproductDb\u001b[0m\u001b[1;33m.\u001b[0m\u001b[0msplit\u001b[0m\u001b[1;33m(\u001b[0m\u001b[1;34m\"W\"\u001b[0m\u001b[1;33m)\u001b[0m\u001b[1;33m\u001b[0m\u001b[1;33m\u001b[0m\u001b[0m\n\u001b[1;32m----> 6\u001b[1;33m \u001b[0mnewProductDb\u001b[0m\u001b[1;33m[\u001b[0m\u001b[1;36m1\u001b[0m\u001b[1;33m]\u001b[0m \u001b[1;33m=\u001b[0m \u001b[0mproductDb\u001b[0m\u001b[1;33m.\u001b[0m\u001b[0msplit\u001b[0m\u001b[1;33m(\u001b[0m\u001b[1;34m\" \"\u001b[0m\u001b[1;33m)\u001b[0m\u001b[1;33m\u001b[0m\u001b[1;33m\u001b[0m\u001b[0m\n\u001b[0m\u001b[0;32m      7\u001b[0m \u001b[0mprint\u001b[0m\u001b[1;33m(\u001b[0m\u001b[0mnewProductDb\u001b[0m\u001b[1;33m)\u001b[0m\u001b[1;33m\u001b[0m\u001b[1;33m\u001b[0m\u001b[0m\n",
      "\u001b[1;31mTypeError\u001b[0m: 'str' object does not support item assignment"
     ]
    }
   ],
   "source": [
    "## productDb 문자열 입력     stockname오류가 나거나 글자갯수가 다를때는 어떻게 해야하지? ##데이터분석가는 데이터가 어떻게 들어오는지 알아야 한다. 물어보기.\n",
    "productDb = \"Sec 2018W28 250\"\n",
    "\n",
    "## 데이터 단순화를 위한 \"W\" 삭제\n",
    "newproductDb = productDb.split(\"W\")\n",
    "newProductDb[1] = productDb.split(\" \")\n",
    "print(newProductDb)"
   ]
  },
  {
   "cell_type": "code",
   "execution_count": 169,
   "metadata": {},
   "outputs": [
    {
     "name": "stdout",
     "output_type": "stream",
     "text": [
      "상품명 = SEC\n",
      "판매일 = 201828 \n",
      "상품가치 = 250\n"
     ]
    }
   ],
   "source": [
    "## productDb 문자열 입력\n",
    "productDb = \"Sec 2018W28 250\"\n",
    "\n",
    "## 데이터 단순화를 위한 \"\"W\"\" 삭제\n",
    "productDb = productDb.replace(\"W\",\"\")\n",
    "\n",
    "\n",
    "## 가독성 향상을 위한 대문자 변환\n",
    "newProductDb = productDb.upper()\n",
    "\n",
    "\n",
    "## index를 통한 데이터 추출\n",
    "stock_name = newProductDb[0:3] # 상품명\n",
    "date = newProductDb[4:11] # 판매날짜\n",
    "value = newProductDb[-3:] # 상품가치\n",
    "\n",
    "## 결과값 출력\n",
    "print(\"상품명 = \" + stock_name)\n",
    "print(\"판매일 = \" + date)\n",
    "print(\"상품가치 = \" + value)\n",
    "\n",
    "\n"
   ]
  },
  {
   "cell_type": "code",
   "execution_count": 171,
   "metadata": {},
   "outputs": [],
   "source": [
    "# 샘플데이터                                                  #무슨 데이터인지 정보 파악이 중요하고, 초기값이 바뀌었을 때 원하는 결과값이 나오는지 확인.\n",
    "targetValue = \"Sec 2018W28 250\" #삼성전자, 거래일, 거래량\n",
    "\n",
    "#대문자 변환\n",
    "targetValue = targetValue.upper()\n",
    "\n",
    "#데이트 컬럼 내 삭제 문자열 및 구분자를 선언한다.\n",
    "delChar = \"W\"\n",
    "delimeter = \" \"\n",
    "\n",
    "#stockNmae, date, value 값을 추출한다\n",
    "delimeterIndex - targetValue.index(delimeter)\n",
    "stockName - targetValue[:delimterIndex]\n",
    "liftedValue = targetValue[delimterIndex+1:]\n",
    "delimterIndex = leftedValue.index(delimeter)\n",
    "\n",
    "\n",
    "date = leftedValue[:delimeterIndex]"
   ]
  },
  {
   "cell_type": "code",
   "execution_count": null,
   "metadata": {},
   "outputs": [],
   "source": [
    "#구분자 정의"
   ]
  },
  {
   "cell_type": "code",
   "execution_count": 172,
   "metadata": {},
   "outputs": [],
   "source": [
    "delimeter = \" \""
   ]
  },
  {
   "cell_type": "code",
   "execution_count": 173,
   "metadata": {},
   "outputs": [
    {
     "data": {
      "text/plain": [
       "3"
      ]
     },
     "execution_count": 173,
     "metadata": {},
     "output_type": "execute_result"
    }
   ],
   "source": [
    "delimeterIndex = targetValue.index(delimeter)\n",
    "delimeterIndex"
   ]
  },
  {
   "cell_type": "code",
   "execution_count": 177,
   "metadata": {},
   "outputs": [
    {
     "data": {
      "text/plain": [
       "'Sec'"
      ]
     },
     "execution_count": 177,
     "metadata": {},
     "output_type": "execute_result"
    }
   ],
   "source": [
    "stockName = targetValue[:delimeterIndex]\n",
    "stockName"
   ]
  },
  {
   "cell_type": "code",
   "execution_count": 179,
   "metadata": {},
   "outputs": [
    {
     "data": {
      "text/plain": [
       "'2018W28 250'"
      ]
     },
     "execution_count": 179,
     "metadata": {},
     "output_type": "execute_result"
    }
   ],
   "source": [
    "leftedValue = targetValue[delimeterIndex:].lstrip() #targetValue[delimeterIndex+1:]"
   ]
  },
  {
   "cell_type": "code",
   "execution_count": 180,
   "metadata": {},
   "outputs": [
    {
     "ename": "NameError",
     "evalue": "name 'leftedValue' is not defined",
     "output_type": "error",
     "traceback": [
      "\u001b[1;31m---------------------------------------------------------------------------\u001b[0m",
      "\u001b[1;31mNameError\u001b[0m                                 Traceback (most recent call last)",
      "\u001b[1;32m<ipython-input-180-e2c413b284ca>\u001b[0m in \u001b[0;36m<module>\u001b[1;34m\u001b[0m\n\u001b[1;32m----> 1\u001b[1;33m \u001b[0mleftedValue\u001b[0m\u001b[1;33m.\u001b[0m\u001b[0mindex\u001b[0m\u001b[1;33m(\u001b[0m\u001b[0mdelimter\u001b[0m\u001b[1;33m)\u001b[0m\u001b[1;33m\u001b[0m\u001b[1;33m\u001b[0m\u001b[0m\n\u001b[0m",
      "\u001b[1;31mNameError\u001b[0m: name 'leftedValue' is not defined"
     ]
    }
   ],
   "source": [
    "leftedValue.index(delimter)"
   ]
  },
  {
   "cell_type": "code",
   "execution_count": null,
   "metadata": {},
   "outputs": [],
   "source": [
    "# 샘플데이터\n"
   ]
  },
  {
   "cell_type": "code",
   "execution_count": null,
   "metadata": {},
   "outputs": [],
   "source": []
  },
  {
   "cell_type": "code",
   "execution_count": null,
   "metadata": {},
   "outputs": [],
   "source": []
  },
  {
   "cell_type": "markdown",
   "metadata": {},
   "source": [
    "##리스트 \n",
    "#특정 집합 모음을 표현\n"
   ]
  },
  {
   "cell_type": "code",
   "execution_count": 181,
   "metadata": {},
   "outputs": [],
   "source": [
    "emptyList = [10, 20, 30]\n"
   ]
  },
  {
   "cell_type": "code",
   "execution_count": 182,
   "metadata": {},
   "outputs": [],
   "source": [
    "priceList = [100,150,300,1000]"
   ]
  },
  {
   "cell_type": "code",
   "execution_count": 184,
   "metadata": {},
   "outputs": [
    {
     "data": {
      "text/plain": [
       "100"
      ]
     },
     "execution_count": 184,
     "metadata": {},
     "output_type": "execute_result"
    }
   ],
   "source": [
    "priceList[0]"
   ]
  },
  {
   "cell_type": "code",
   "execution_count": 189,
   "metadata": {},
   "outputs": [],
   "source": [
    "stockList = [ [\"sec\",\"201801\",100],\n",
    "             [\"posco\",\"201801\",200]] \n"
   ]
  },
  {
   "cell_type": "code",
   "execution_count": 190,
   "metadata": {},
   "outputs": [
    {
     "data": {
      "text/plain": [
       "'posco'"
      ]
     },
     "execution_count": 190,
     "metadata": {},
     "output_type": "execute_result"
    }
   ],
   "source": [
    "stockList[1][0]"
   ]
  },
  {
   "cell_type": "code",
   "execution_count": 191,
   "metadata": {},
   "outputs": [
    {
     "data": {
      "text/plain": [
       "4"
      ]
     },
     "execution_count": 191,
     "metadata": {},
     "output_type": "execute_result"
    }
   ],
   "source": [
    "len(priceList)"
   ]
  },
  {
   "cell_type": "code",
   "execution_count": 192,
   "metadata": {},
   "outputs": [
    {
     "data": {
      "text/plain": [
       "1550"
      ]
     },
     "execution_count": 192,
     "metadata": {},
     "output_type": "execute_result"
    }
   ],
   "source": [
    "sum(priceList)"
   ]
  },
  {
   "cell_type": "code",
   "execution_count": 193,
   "metadata": {},
   "outputs": [
    {
     "data": {
      "text/plain": [
       "100"
      ]
     },
     "execution_count": 193,
     "metadata": {},
     "output_type": "execute_result"
    }
   ],
   "source": [
    "min(priceList)"
   ]
  },
  {
   "cell_type": "code",
   "execution_count": 194,
   "metadata": {},
   "outputs": [
    {
     "data": {
      "text/plain": [
       "1000"
      ]
     },
     "execution_count": 194,
     "metadata": {},
     "output_type": "execute_result"
    }
   ],
   "source": [
    "max(priceList)"
   ]
  },
  {
   "cell_type": "code",
   "execution_count": 201,
   "metadata": {},
   "outputs": [],
   "source": [
    "initList = [100,200,300,400]"
   ]
  },
  {
   "cell_type": "code",
   "execution_count": 202,
   "metadata": {},
   "outputs": [
    {
     "ename": "NameError",
     "evalue": "name 'initlist' is not defined",
     "output_type": "error",
     "traceback": [
      "\u001b[1;31m---------------------------------------------------------------------------\u001b[0m",
      "\u001b[1;31mNameError\u001b[0m                                 Traceback (most recent call last)",
      "\u001b[1;32m<ipython-input-202-69cd83a469b9>\u001b[0m in \u001b[0;36m<module>\u001b[1;34m\u001b[0m\n\u001b[0;32m      4\u001b[0m \u001b[0msum\u001b[0m\u001b[1;33m(\u001b[0m\u001b[0minitList\u001b[0m\u001b[1;33m)\u001b[0m\u001b[1;33m\u001b[0m\u001b[1;33m\u001b[0m\u001b[0m\n\u001b[0;32m      5\u001b[0m \u001b[1;31m#리스트는 수정가능하다.\u001b[0m\u001b[1;33m\u001b[0m\u001b[1;33m\u001b[0m\u001b[1;33m\u001b[0m\u001b[0m\n\u001b[1;32m----> 6\u001b[1;33m \u001b[0minitlist\u001b[0m\u001b[1;33m[\u001b[0m\u001b[1;36m2\u001b[0m\u001b[1;33m]\u001b[0m \u001b[1;33m=\u001b[0m \u001b[1;36m1000000\u001b[0m\u001b[1;33m\u001b[0m\u001b[1;33m\u001b[0m\u001b[0m\n\u001b[0m\u001b[0;32m      7\u001b[0m \u001b[0minitList\u001b[0m\u001b[1;33m\u001b[0m\u001b[1;33m\u001b[0m\u001b[0m\n",
      "\u001b[1;31mNameError\u001b[0m: name 'initlist' is not defined"
     ]
    }
   ],
   "source": [
    "#인덱스 활용\n",
    "initList[0:3]\n",
    "# 리스트는 집합이기떄문에 집합연산이 필수. #sum, len, min, max\n",
    "sum(initList)\n",
    "#리스트는 수정가능하다.\n",
    "initlist[2] = 1000000\n",
    "initList"
   ]
  },
  {
   "cell_type": "code",
   "execution_count": 203,
   "metadata": {},
   "outputs": [],
   "source": [
    "initList.remove(400)"
   ]
  },
  {
   "cell_type": "code",
   "execution_count": 204,
   "metadata": {},
   "outputs": [
    {
     "data": {
      "text/plain": [
       "[100, 200, 300]"
      ]
     },
     "execution_count": 204,
     "metadata": {},
     "output_type": "execute_result"
    }
   ],
   "source": [
    "initList"
   ]
  },
  {
   "cell_type": "code",
   "execution_count": 205,
   "metadata": {},
   "outputs": [],
   "source": [
    "initList.append(30)"
   ]
  },
  {
   "cell_type": "code",
   "execution_count": 206,
   "metadata": {},
   "outputs": [
    {
     "data": {
      "text/plain": [
       "[100, 200, 300, 30]"
      ]
     },
     "execution_count": 206,
     "metadata": {},
     "output_type": "execute_result"
    }
   ],
   "source": [
    "initList\n",
    "\n"
   ]
  },
  {
   "cell_type": "code",
   "execution_count": 207,
   "metadata": {},
   "outputs": [
    {
     "ename": "AttributeError",
     "evalue": "'list' object has no attribute 'appned'",
     "output_type": "error",
     "traceback": [
      "\u001b[1;31m---------------------------------------------------------------------------\u001b[0m",
      "\u001b[1;31mAttributeError\u001b[0m                            Traceback (most recent call last)",
      "\u001b[1;32m<ipython-input-207-1750ea3411b6>\u001b[0m in \u001b[0;36m<module>\u001b[1;34m\u001b[0m\n\u001b[1;32m----> 1\u001b[1;33m \u001b[0minitList\u001b[0m\u001b[1;33m.\u001b[0m\u001b[0mappned\u001b[0m\u001b[1;33m(\u001b[0m\u001b[1;36m30\u001b[0m\u001b[1;33m)\u001b[0m\u001b[1;33m\u001b[0m\u001b[1;33m\u001b[0m\u001b[0m\n\u001b[0m",
      "\u001b[1;31mAttributeError\u001b[0m: 'list' object has no attribute 'appned'"
     ]
    }
   ],
   "source": [
    "initList.appned(30)"
   ]
  },
  {
   "cell_type": "code",
   "execution_count": 208,
   "metadata": {},
   "outputs": [
    {
     "data": {
      "text/plain": [
       "0"
      ]
     },
     "execution_count": 208,
     "metadata": {},
     "output_type": "execute_result"
    }
   ],
   "source": [
    "initList.count(2500000)\n"
   ]
  },
  {
   "cell_type": "code",
   "execution_count": 209,
   "metadata": {},
   "outputs": [
    {
     "data": {
      "text/plain": [
       "0"
      ]
     },
     "execution_count": 209,
     "metadata": {},
     "output_type": "execute_result"
    }
   ],
   "source": [
    "initList.count(5500)\n"
   ]
  },
  {
   "cell_type": "code",
   "execution_count": null,
   "metadata": {},
   "outputs": [],
   "source": [
    "csData = pd.read_csv(\"../dataset/kopo_customerdata.csv\")"
   ]
  },
  {
   "cell_type": "code",
   "execution_count": 4,
   "metadata": {},
   "outputs": [],
   "source": [
    "import pandas as pd"
   ]
  },
  {
   "cell_type": "code",
   "execution_count": 5,
   "metadata": {},
   "outputs": [],
   "source": [
    "csData = pd.read_csv(\"../dataset/kopo_customerdata.csv\")"
   ]
  },
  {
   "cell_type": "code",
   "execution_count": 6,
   "metadata": {},
   "outputs": [
    {
     "data": {
      "text/html": [
       "<div>\n",
       "<style scoped>\n",
       "    .dataframe tbody tr th:only-of-type {\n",
       "        vertical-align: middle;\n",
       "    }\n",
       "\n",
       "    .dataframe tbody tr th {\n",
       "        vertical-align: top;\n",
       "    }\n",
       "\n",
       "    .dataframe thead th {\n",
       "        text-align: right;\n",
       "    }\n",
       "</style>\n",
       "<table border=\"1\" class=\"dataframe\">\n",
       "  <thead>\n",
       "    <tr style=\"text-align: right;\">\n",
       "      <th></th>\n",
       "      <th>CUSTOMERCODE</th>\n",
       "      <th>STATENAME</th>\n",
       "      <th>ST</th>\n",
       "      <th>GENDER</th>\n",
       "      <th>DOB</th>\n",
       "      <th>GENDER1</th>\n",
       "      <th>EMAIL</th>\n",
       "      <th>FEST_CNT</th>\n",
       "      <th>TOTAL_AMOUNT</th>\n",
       "      <th>AC_AMOUNT</th>\n",
       "      <th>AV_AMOUNT</th>\n",
       "      <th>HA_AMOUNT</th>\n",
       "      <th>EMI_CE_AMOUNT</th>\n",
       "      <th>IS_HIGHEND</th>\n",
       "      <th>CNT_VIST</th>\n",
       "      <th>GAP_VISIT</th>\n",
       "    </tr>\n",
       "  </thead>\n",
       "  <tbody>\n",
       "    <tr>\n",
       "      <th>0</th>\n",
       "      <td>1503989</td>\n",
       "      <td>State2</td>\n",
       "      <td>2</td>\n",
       "      <td>Male</td>\n",
       "      <td>0</td>\n",
       "      <td>1</td>\n",
       "      <td>1</td>\n",
       "      <td>0</td>\n",
       "      <td>30300</td>\n",
       "      <td>0</td>\n",
       "      <td>30300</td>\n",
       "      <td>0</td>\n",
       "      <td>0</td>\n",
       "      <td>0</td>\n",
       "      <td>1</td>\n",
       "      <td>0</td>\n",
       "    </tr>\n",
       "    <tr>\n",
       "      <th>1</th>\n",
       "      <td>1190338</td>\n",
       "      <td>State2</td>\n",
       "      <td>2</td>\n",
       "      <td>Male</td>\n",
       "      <td>0</td>\n",
       "      <td>1</td>\n",
       "      <td>0</td>\n",
       "      <td>1</td>\n",
       "      <td>46500</td>\n",
       "      <td>0</td>\n",
       "      <td>46500</td>\n",
       "      <td>0</td>\n",
       "      <td>0</td>\n",
       "      <td>0</td>\n",
       "      <td>1</td>\n",
       "      <td>0</td>\n",
       "    </tr>\n",
       "    <tr>\n",
       "      <th>2</th>\n",
       "      <td>1424715</td>\n",
       "      <td>State2</td>\n",
       "      <td>2</td>\n",
       "      <td>Female</td>\n",
       "      <td>0</td>\n",
       "      <td>2</td>\n",
       "      <td>0</td>\n",
       "      <td>0</td>\n",
       "      <td>22700</td>\n",
       "      <td>0</td>\n",
       "      <td>0</td>\n",
       "      <td>22700</td>\n",
       "      <td>0</td>\n",
       "      <td>0</td>\n",
       "      <td>1</td>\n",
       "      <td>0</td>\n",
       "    </tr>\n",
       "    <tr>\n",
       "      <th>3</th>\n",
       "      <td>2483305</td>\n",
       "      <td>State2</td>\n",
       "      <td>2</td>\n",
       "      <td>Male</td>\n",
       "      <td>0</td>\n",
       "      <td>1</td>\n",
       "      <td>0</td>\n",
       "      <td>1</td>\n",
       "      <td>31400</td>\n",
       "      <td>0</td>\n",
       "      <td>31400</td>\n",
       "      <td>0</td>\n",
       "      <td>0</td>\n",
       "      <td>0</td>\n",
       "      <td>1</td>\n",
       "      <td>0</td>\n",
       "    </tr>\n",
       "    <tr>\n",
       "      <th>4</th>\n",
       "      <td>1178802</td>\n",
       "      <td>State2</td>\n",
       "      <td>2</td>\n",
       "      <td>Male</td>\n",
       "      <td>0</td>\n",
       "      <td>1</td>\n",
       "      <td>0</td>\n",
       "      <td>1</td>\n",
       "      <td>44900</td>\n",
       "      <td>0</td>\n",
       "      <td>0</td>\n",
       "      <td>44900</td>\n",
       "      <td>0</td>\n",
       "      <td>0</td>\n",
       "      <td>1</td>\n",
       "      <td>0</td>\n",
       "    </tr>\n",
       "    <tr>\n",
       "      <th>...</th>\n",
       "      <td>...</td>\n",
       "      <td>...</td>\n",
       "      <td>...</td>\n",
       "      <td>...</td>\n",
       "      <td>...</td>\n",
       "      <td>...</td>\n",
       "      <td>...</td>\n",
       "      <td>...</td>\n",
       "      <td>...</td>\n",
       "      <td>...</td>\n",
       "      <td>...</td>\n",
       "      <td>...</td>\n",
       "      <td>...</td>\n",
       "      <td>...</td>\n",
       "      <td>...</td>\n",
       "      <td>...</td>\n",
       "    </tr>\n",
       "    <tr>\n",
       "      <th>299995</th>\n",
       "      <td>465757</td>\n",
       "      <td>State1</td>\n",
       "      <td>1</td>\n",
       "      <td>Male</td>\n",
       "      <td>0</td>\n",
       "      <td>1</td>\n",
       "      <td>0</td>\n",
       "      <td>0</td>\n",
       "      <td>40600</td>\n",
       "      <td>0</td>\n",
       "      <td>40600</td>\n",
       "      <td>0</td>\n",
       "      <td>0</td>\n",
       "      <td>0</td>\n",
       "      <td>1</td>\n",
       "      <td>0</td>\n",
       "    </tr>\n",
       "    <tr>\n",
       "      <th>299996</th>\n",
       "      <td>1890264</td>\n",
       "      <td>State1</td>\n",
       "      <td>1</td>\n",
       "      <td>Male</td>\n",
       "      <td>0</td>\n",
       "      <td>1</td>\n",
       "      <td>0</td>\n",
       "      <td>1</td>\n",
       "      <td>48000</td>\n",
       "      <td>48000</td>\n",
       "      <td>0</td>\n",
       "      <td>0</td>\n",
       "      <td>0</td>\n",
       "      <td>0</td>\n",
       "      <td>1</td>\n",
       "      <td>0</td>\n",
       "    </tr>\n",
       "    <tr>\n",
       "      <th>299997</th>\n",
       "      <td>1857537</td>\n",
       "      <td>State1</td>\n",
       "      <td>1</td>\n",
       "      <td>Female</td>\n",
       "      <td>0</td>\n",
       "      <td>2</td>\n",
       "      <td>0</td>\n",
       "      <td>0</td>\n",
       "      <td>32300</td>\n",
       "      <td>0</td>\n",
       "      <td>0</td>\n",
       "      <td>32300</td>\n",
       "      <td>0</td>\n",
       "      <td>0</td>\n",
       "      <td>1</td>\n",
       "      <td>0</td>\n",
       "    </tr>\n",
       "    <tr>\n",
       "      <th>299998</th>\n",
       "      <td>2209324</td>\n",
       "      <td>State1</td>\n",
       "      <td>1</td>\n",
       "      <td>Male</td>\n",
       "      <td>0</td>\n",
       "      <td>1</td>\n",
       "      <td>0</td>\n",
       "      <td>1</td>\n",
       "      <td>48500</td>\n",
       "      <td>0</td>\n",
       "      <td>48500</td>\n",
       "      <td>0</td>\n",
       "      <td>0</td>\n",
       "      <td>0</td>\n",
       "      <td>1</td>\n",
       "      <td>0</td>\n",
       "    </tr>\n",
       "    <tr>\n",
       "      <th>299999</th>\n",
       "      <td>1875146</td>\n",
       "      <td>State1</td>\n",
       "      <td>1</td>\n",
       "      <td>Male</td>\n",
       "      <td>0</td>\n",
       "      <td>1</td>\n",
       "      <td>0</td>\n",
       "      <td>1</td>\n",
       "      <td>16500</td>\n",
       "      <td>0</td>\n",
       "      <td>0</td>\n",
       "      <td>16500</td>\n",
       "      <td>0</td>\n",
       "      <td>0</td>\n",
       "      <td>1</td>\n",
       "      <td>0</td>\n",
       "    </tr>\n",
       "  </tbody>\n",
       "</table>\n",
       "<p>300000 rows × 16 columns</p>\n",
       "</div>"
      ],
      "text/plain": [
       "        CUSTOMERCODE STATENAME  ST  GENDER  DOB  GENDER1  EMAIL  FEST_CNT  \\\n",
       "0            1503989    State2   2    Male    0        1      1         0   \n",
       "1            1190338    State2   2    Male    0        1      0         1   \n",
       "2            1424715    State2   2  Female    0        2      0         0   \n",
       "3            2483305    State2   2    Male    0        1      0         1   \n",
       "4            1178802    State2   2    Male    0        1      0         1   \n",
       "...              ...       ...  ..     ...  ...      ...    ...       ...   \n",
       "299995        465757    State1   1    Male    0        1      0         0   \n",
       "299996       1890264    State1   1    Male    0        1      0         1   \n",
       "299997       1857537    State1   1  Female    0        2      0         0   \n",
       "299998       2209324    State1   1    Male    0        1      0         1   \n",
       "299999       1875146    State1   1    Male    0        1      0         1   \n",
       "\n",
       "        TOTAL_AMOUNT  AC_AMOUNT  AV_AMOUNT  HA_AMOUNT  EMI_CE_AMOUNT  \\\n",
       "0              30300          0      30300          0              0   \n",
       "1              46500          0      46500          0              0   \n",
       "2              22700          0          0      22700              0   \n",
       "3              31400          0      31400          0              0   \n",
       "4              44900          0          0      44900              0   \n",
       "...              ...        ...        ...        ...            ...   \n",
       "299995         40600          0      40600          0              0   \n",
       "299996         48000      48000          0          0              0   \n",
       "299997         32300          0          0      32300              0   \n",
       "299998         48500          0      48500          0              0   \n",
       "299999         16500          0          0      16500              0   \n",
       "\n",
       "        IS_HIGHEND  CNT_VIST  GAP_VISIT  \n",
       "0                0         1          0  \n",
       "1                0         1          0  \n",
       "2                0         1          0  \n",
       "3                0         1          0  \n",
       "4                0         1          0  \n",
       "...            ...       ...        ...  \n",
       "299995           0         1          0  \n",
       "299996           0         1          0  \n",
       "299997           0         1          0  \n",
       "299998           0         1          0  \n",
       "299999           0         1          0  \n",
       "\n",
       "[300000 rows x 16 columns]"
      ]
     },
     "execution_count": 6,
     "metadata": {},
     "output_type": "execute_result"
    }
   ],
   "source": [
    "csData"
   ]
  },
  {
   "cell_type": "code",
   "execution_count": null,
   "metadata": {},
   "outputs": [],
   "source": [
    "customerTotalList = csData[\"TOTAL_AMOUNT\"].tolist()"
   ]
  },
  {
   "cell_type": "code",
   "execution_count": 8,
   "metadata": {},
   "outputs": [],
   "source": [
    "customerTotalList = csData[\"TOTAL_AMOUNT\"].tolist()"
   ]
  },
  {
   "cell_type": "code",
   "execution_count": 11,
   "metadata": {},
   "outputs": [
    {
     "data": {
      "text/plain": [
       "[30300,\n",
       " 46500,\n",
       " 22700,\n",
       " 31400,\n",
       " 44900,\n",
       " 38300,\n",
       " 19900,\n",
       " 14800,\n",
       " 24400,\n",
       " 30400,\n",
       " 30300,\n",
       " 34300,\n",
       " 14900,\n",
       " 16300,\n",
       " 25000,\n",
       " 27500,\n",
       " 18200,\n",
       " 40200,\n",
       " 74600,\n",
       " 42700,\n",
       " 14900,\n",
       " 58700,\n",
       " 16000,\n",
       " 17800,\n",
       " 26800,\n",
       " 14000,\n",
       " 31800,\n",
       " 16000,\n",
       " 37600,\n",
       " 32800,\n",
       " 176600,\n",
       " 16200,\n",
       " 102000,\n",
       " 56800,\n",
       " 14700,\n",
       " 14800,\n",
       " 2500,\n",
       " 23600,\n",
       " 38100,\n",
       " 82300,\n",
       " 62900,\n",
       " 5000,\n",
       " 16100,\n",
       " 40900,\n",
       " 14600,\n",
       " 28600,\n",
       " 12300,\n",
       " 37800,\n",
       " 32600,\n",
       " 16100,\n",
       " 18400,\n",
       " 17700,\n",
       " 9400,\n",
       " 37400,\n",
       " 8800,\n",
       " 26600,\n",
       " 20900,\n",
       " 15800,\n",
       " 14800,\n",
       " 20500,\n",
       " 19700,\n",
       " 39900,\n",
       " 122900,\n",
       " 33000,\n",
       " 12100,\n",
       " 14700,\n",
       " 48400,\n",
       " 51900,\n",
       " 17400,\n",
       " 26500,\n",
       " 12800,\n",
       " 15500,\n",
       " 21400,\n",
       " 15300,\n",
       " 36000,\n",
       " 49000,\n",
       " 35800,\n",
       " 16900,\n",
       " 43000,\n",
       " 28200,\n",
       " 45100,\n",
       " 18200,\n",
       " 20600,\n",
       " 23900,\n",
       " 14500,\n",
       " 70000,\n",
       " 15800,\n",
       " 6600,\n",
       " 40500,\n",
       " 17000,\n",
       " 43800,\n",
       " 146800,\n",
       " 86900,\n",
       " 19200,\n",
       " 17100,\n",
       " 18800,\n",
       " 24700,\n",
       " 17500,\n",
       " 25100,\n",
       " 19000,\n",
       " 18800,\n",
       " 55700,\n",
       " 31500,\n",
       " 27800,\n",
       " 16000,\n",
       " 14100,\n",
       " 17100,\n",
       " 20600,\n",
       " 19100,\n",
       " 14500,\n",
       " 29400,\n",
       " 17700,\n",
       " 54400,\n",
       " 13100,\n",
       " 33700,\n",
       " 17600,\n",
       " 29000,\n",
       " 41300,\n",
       " 27700,\n",
       " 25900,\n",
       " 21900,\n",
       " 41100,\n",
       " 15000,\n",
       " 67100,\n",
       " 29600,\n",
       " 13900,\n",
       " 21700,\n",
       " 15200,\n",
       " 13100,\n",
       " 25600,\n",
       " 12500,\n",
       " 18600,\n",
       " 30700,\n",
       " 23000,\n",
       " 41400,\n",
       " 29400,\n",
       " 40400,\n",
       " 50600,\n",
       " 34700,\n",
       " 12800,\n",
       " 26300,\n",
       " 14900,\n",
       " 14500,\n",
       " 14100,\n",
       " 72100,\n",
       " 15600,\n",
       " 31700,\n",
       " 14500,\n",
       " 15700,\n",
       " 15800,\n",
       " 33200,\n",
       " 23300,\n",
       " 15300,\n",
       " 17000,\n",
       " 16300,\n",
       " 16800,\n",
       " 73900,\n",
       " 23400,\n",
       " 15800,\n",
       " 15700,\n",
       " 21000,\n",
       " 101500,\n",
       " 35800,\n",
       " 55600,\n",
       " 33900,\n",
       " 23600,\n",
       " 15900,\n",
       " 38100,\n",
       " 13800,\n",
       " 13500,\n",
       " 42600,\n",
       " 42900,\n",
       " 18400,\n",
       " 18900,\n",
       " 12900,\n",
       " 12800,\n",
       " 20900,\n",
       " 31200,\n",
       " 36300,\n",
       " 15800,\n",
       " 14100,\n",
       " 43400,\n",
       " 29500,\n",
       " 19000,\n",
       " 22700,\n",
       " 36000,\n",
       " 62800,\n",
       " 50400,\n",
       " 61000,\n",
       " 32200,\n",
       " 78400,\n",
       " 8100,\n",
       " 19400,\n",
       " 3000,\n",
       " 17600,\n",
       " 17300,\n",
       " 16400,\n",
       " 37700,\n",
       " 17200,\n",
       " 16400,\n",
       " 19200,\n",
       " 15300,\n",
       " 14000,\n",
       " 33700,\n",
       " 13500,\n",
       " 27500,\n",
       " 48000,\n",
       " 68500,\n",
       " 16600,\n",
       " 20400,\n",
       " 7000,\n",
       " 17700,\n",
       " 12600,\n",
       " 14400,\n",
       " 40600,\n",
       " 34500,\n",
       " 72300,\n",
       " 38800,\n",
       " 45000,\n",
       " 24000,\n",
       " 28400,\n",
       " 25700,\n",
       " 39000,\n",
       " 21700,\n",
       " 5700,\n",
       " 40800,\n",
       " 22500,\n",
       " 29000,\n",
       " 120100,\n",
       " 50900,\n",
       " 29500,\n",
       " 142800,\n",
       " 15600,\n",
       " 22400,\n",
       " 18800,\n",
       " 31600,\n",
       " 15500,\n",
       " 14800,\n",
       " 19300,\n",
       " 62100,\n",
       " 16100,\n",
       " 18800,\n",
       " 14100,\n",
       " 18300,\n",
       " 17600,\n",
       " 15700,\n",
       " 16200,\n",
       " 41500,\n",
       " 18300,\n",
       " 15900,\n",
       " 54200,\n",
       " 24600,\n",
       " 21400,\n",
       " 16200,\n",
       " 15900,\n",
       " 50400,\n",
       " 14200,\n",
       " 18200,\n",
       " 20200,\n",
       " 38600,\n",
       " 12000,\n",
       " 36000,\n",
       " 16100,\n",
       " 13400,\n",
       " 16800,\n",
       " 22500,\n",
       " 15200,\n",
       " 17600,\n",
       " 12700,\n",
       " 15400,\n",
       " 21500,\n",
       " 28300,\n",
       " 16300,\n",
       " 13300,\n",
       " 19500,\n",
       " 66600,\n",
       " 17100,\n",
       " 34600,\n",
       " 5700,\n",
       " 35400,\n",
       " 33200,\n",
       " 17900,\n",
       " 27400,\n",
       " 29200,\n",
       " 85500,\n",
       " 16300,\n",
       " 19800,\n",
       " 44600,\n",
       " 41400,\n",
       " 15600,\n",
       " 16400,\n",
       " 24100,\n",
       " 17100,\n",
       " 15500,\n",
       " 18000,\n",
       " 35100,\n",
       " 19000,\n",
       " 43400,\n",
       " 52700,\n",
       " 59900,\n",
       " 15200,\n",
       " 21600,\n",
       " 17000,\n",
       " 11500,\n",
       " 17500,\n",
       " 27800,\n",
       " 114400,\n",
       " 38700,\n",
       " 22100,\n",
       " 29600,\n",
       " 16800,\n",
       " 27400,\n",
       " 16400,\n",
       " 36300,\n",
       " 16600,\n",
       " 22500,\n",
       " 19000,\n",
       " 62500,\n",
       " 27800,\n",
       " 45000,\n",
       " 28100,\n",
       " 32700,\n",
       " 33600,\n",
       " 22100,\n",
       " 30000,\n",
       " 14600,\n",
       " 14900,\n",
       " 15300,\n",
       " 2800,\n",
       " 19700,\n",
       " 21200,\n",
       " 55700,\n",
       " 92500,\n",
       " 13800,\n",
       " 31400,\n",
       " 17300,\n",
       " 20300,\n",
       " 21800,\n",
       " 29400,\n",
       " 59500,\n",
       " 16800,\n",
       " 15300,\n",
       " 14100,\n",
       " 53700,\n",
       " 69200,\n",
       " 27800,\n",
       " 33600,\n",
       " 36300,\n",
       " 31400,\n",
       " 2700,\n",
       " 19400,\n",
       " 13600,\n",
       " 93100,\n",
       " 11700,\n",
       " 21300,\n",
       " 18200,\n",
       " 2700,\n",
       " 14600,\n",
       " 14400,\n",
       " 16100,\n",
       " 23700,\n",
       " 49300,\n",
       " 15200,\n",
       " 27100,\n",
       " 23800,\n",
       " 16200,\n",
       " 17000,\n",
       " 55700,\n",
       " 20600,\n",
       " 41400,\n",
       " 17200,\n",
       " 37200,\n",
       " 42200,\n",
       " 55400,\n",
       " 11900,\n",
       " 14300,\n",
       " 27700,\n",
       " 31200,\n",
       " 16100,\n",
       " 12300,\n",
       " 25400,\n",
       " 41800,\n",
       " 26200,\n",
       " 40300,\n",
       " 20200,\n",
       " 33700,\n",
       " 35500,\n",
       " 41600,\n",
       " 18200,\n",
       " 34200,\n",
       " 16100,\n",
       " 18500,\n",
       " 16300,\n",
       " 24200,\n",
       " 29400,\n",
       " 32000,\n",
       " 19800,\n",
       " 57900,\n",
       " 29100,\n",
       " 39900,\n",
       " 15300,\n",
       " 15000,\n",
       " 14600,\n",
       " 32500,\n",
       " 29200,\n",
       " 16500,\n",
       " 18100,\n",
       " 13200,\n",
       " 23100,\n",
       " 29800,\n",
       " 35500,\n",
       " 23700,\n",
       " 16100,\n",
       " 27600,\n",
       " 22300,\n",
       " 35300,\n",
       " 16400,\n",
       " 36100,\n",
       " 14300,\n",
       " 15400,\n",
       " 59400,\n",
       " 20600,\n",
       " 15100,\n",
       " 30900,\n",
       " 13600,\n",
       " 119500,\n",
       " 21500,\n",
       " 36800,\n",
       " 30600,\n",
       " 22900,\n",
       " 13200,\n",
       " 64900,\n",
       " 14300,\n",
       " 18000,\n",
       " 16900,\n",
       " 19300,\n",
       " 25500,\n",
       " 14600,\n",
       " 17800,\n",
       " 12500,\n",
       " 13900,\n",
       " 15800,\n",
       " 19200,\n",
       " 17500,\n",
       " 19900,\n",
       " 14700,\n",
       " 15100,\n",
       " 24400,\n",
       " 27200,\n",
       " 42700,\n",
       " 14500,\n",
       " 14700,\n",
       " 30200,\n",
       " 29500,\n",
       " 32600,\n",
       " 16000,\n",
       " 15900,\n",
       " 18000,\n",
       " 18300,\n",
       " 14500,\n",
       " 29700,\n",
       " 180300,\n",
       " 24400,\n",
       " 13000,\n",
       " 17200,\n",
       " 40200,\n",
       " 13400,\n",
       " 24600,\n",
       " 17400,\n",
       " 2700,\n",
       " 17900,\n",
       " 19900,\n",
       " 11700,\n",
       " 29200,\n",
       " 13500,\n",
       " 12300,\n",
       " 30500,\n",
       " 7200,\n",
       " 14400,\n",
       " 26300,\n",
       " 33800,\n",
       " 22100,\n",
       " 17000,\n",
       " 35300,\n",
       " 14700,\n",
       " 17900,\n",
       " 16700,\n",
       " 18600,\n",
       " 37200,\n",
       " 35300,\n",
       " 23100,\n",
       " 18600,\n",
       " 17000,\n",
       " 23100,\n",
       " 33500,\n",
       " 35400,\n",
       " 49800,\n",
       " 15700,\n",
       " 14100,\n",
       " 101000,\n",
       " 26200,\n",
       " 15700,\n",
       " 87700,\n",
       " 2500,\n",
       " 33000,\n",
       " 16900,\n",
       " 18200,\n",
       " 23500,\n",
       " 17800,\n",
       " 14800,\n",
       " 34100,\n",
       " 42500,\n",
       " 13300,\n",
       " 14400,\n",
       " 36100,\n",
       " 21700,\n",
       " 25600,\n",
       " 33000,\n",
       " 36500,\n",
       " 12300,\n",
       " 74500,\n",
       " 13000,\n",
       " 19800,\n",
       " 36400,\n",
       " 24400,\n",
       " 15400,\n",
       " 81900,\n",
       " 20800,\n",
       " 31600,\n",
       " 22700,\n",
       " 46700,\n",
       " 20100,\n",
       " 30900,\n",
       " 36900,\n",
       " 39400,\n",
       " 16200,\n",
       " 46200,\n",
       " 35700,\n",
       " 65000,\n",
       " 28700,\n",
       " 18600,\n",
       " 16200,\n",
       " 17000,\n",
       " 40700,\n",
       " 42000,\n",
       " 67000,\n",
       " 14000,\n",
       " 15000,\n",
       " 35400,\n",
       " 15000,\n",
       " 14700,\n",
       " 12700,\n",
       " 29100,\n",
       " 19500,\n",
       " 14700,\n",
       " 31800,\n",
       " 50600,\n",
       " 22300,\n",
       " 18300,\n",
       " 15400,\n",
       " 15200,\n",
       " 67600,\n",
       " 50300,\n",
       " 19600,\n",
       " 136400,\n",
       " 32600,\n",
       " 2500,\n",
       " 38500,\n",
       " 17300,\n",
       " 37200,\n",
       " 19900,\n",
       " 28700,\n",
       " 14500,\n",
       " 38900,\n",
       " 22700,\n",
       " 21300,\n",
       " 2600,\n",
       " 145500,\n",
       " 34800,\n",
       " 55300,\n",
       " 24400,\n",
       " 12200,\n",
       " 15800,\n",
       " 28600,\n",
       " 14900,\n",
       " 23800,\n",
       " 14000,\n",
       " 47200,\n",
       " 30900,\n",
       " 33700,\n",
       " 14500,\n",
       " 43400,\n",
       " 22900,\n",
       " 21800,\n",
       " 29800,\n",
       " 34800,\n",
       " 31600,\n",
       " 16700,\n",
       " 38500,\n",
       " 71400,\n",
       " 24400,\n",
       " 14200,\n",
       " 21900,\n",
       " 38000,\n",
       " 17300,\n",
       " 21500,\n",
       " 18000,\n",
       " 28000,\n",
       " 67100,\n",
       " 17800,\n",
       " 18000,\n",
       " 16300,\n",
       " 81200,\n",
       " 22300,\n",
       " 15700,\n",
       " 40800,\n",
       " 29500,\n",
       " 32800,\n",
       " 14900,\n",
       " 18300,\n",
       " 14400,\n",
       " 21900,\n",
       " 93300,\n",
       " 44300,\n",
       " 19700,\n",
       " 53000,\n",
       " 39100,\n",
       " 19800,\n",
       " 13600,\n",
       " 27200,\n",
       " 2400,\n",
       " 35600,\n",
       " 62700,\n",
       " 15900,\n",
       " 30400,\n",
       " 28600,\n",
       " 14400,\n",
       " 18300,\n",
       " 2000,\n",
       " 13500,\n",
       " 20700,\n",
       " 20400,\n",
       " 15900,\n",
       " 16500,\n",
       " 32900,\n",
       " 55300,\n",
       " 26400,\n",
       " 16400,\n",
       " 17000,\n",
       " 56600,\n",
       " 63300,\n",
       " 19400,\n",
       " 17900,\n",
       " 19300,\n",
       " 22100,\n",
       " 27500,\n",
       " 16000,\n",
       " 14200,\n",
       " 39800,\n",
       " 22200,\n",
       " 16300,\n",
       " 16200,\n",
       " 34900,\n",
       " 18000,\n",
       " 17900,\n",
       " 13700,\n",
       " 26000,\n",
       " 56100,\n",
       " 16100,\n",
       " 36000,\n",
       " 41000,\n",
       " 26100,\n",
       " 444500,\n",
       " 13500,\n",
       " 23500,\n",
       " 14000,\n",
       " 14400,\n",
       " 48700,\n",
       " 15300,\n",
       " 18200,\n",
       " 2700,\n",
       " 17200,\n",
       " 26100,\n",
       " 13900,\n",
       " 23900,\n",
       " 17300,\n",
       " 20800,\n",
       " 19900,\n",
       " 14500,\n",
       " 46000,\n",
       " 10600,\n",
       " 107600,\n",
       " 43500,\n",
       " 14000,\n",
       " 6000,\n",
       " 17200,\n",
       " 55500,\n",
       " 22900,\n",
       " 25300,\n",
       " 2800,\n",
       " 57400,\n",
       " 43200,\n",
       " 34300,\n",
       " 19800,\n",
       " 21000,\n",
       " 41000,\n",
       " 55800,\n",
       " 28200,\n",
       " 11900,\n",
       " 15000,\n",
       " 18800,\n",
       " 21500,\n",
       " 19300,\n",
       " 19600,\n",
       " 53900,\n",
       " 25600,\n",
       " 15000,\n",
       " 14400,\n",
       " 74700,\n",
       " 29400,\n",
       " 15400,\n",
       " 35100,\n",
       " 24000,\n",
       " 25700,\n",
       " 53000,\n",
       " 12800,\n",
       " 16400,\n",
       " 14400,\n",
       " 22400,\n",
       " 13100,\n",
       " 35200,\n",
       " 45700,\n",
       " 14400,\n",
       " 45500,\n",
       " 46400,\n",
       " 37800,\n",
       " 27600,\n",
       " 25000,\n",
       " 44100,\n",
       " 47400,\n",
       " 41500,\n",
       " 51700,\n",
       " 25600,\n",
       " 15700,\n",
       " 45400,\n",
       " 75400,\n",
       " 57000,\n",
       " 35700,\n",
       " 89100,\n",
       " 405200,\n",
       " 32400,\n",
       " 13700,\n",
       " 57700,\n",
       " 16900,\n",
       " 72400,\n",
       " 61300,\n",
       " 8600,\n",
       " 34700,\n",
       " 24900,\n",
       " 155500,\n",
       " 54400,\n",
       " 245700,\n",
       " 42200,\n",
       " 60300,\n",
       " 206000,\n",
       " 124000,\n",
       " 507900,\n",
       " 17500,\n",
       " 26800,\n",
       " 32300,\n",
       " 25400,\n",
       " 160100,\n",
       " 65300,\n",
       " 15800,\n",
       " 106800,\n",
       " 15800,\n",
       " 87000,\n",
       " 173400,\n",
       " 26400,\n",
       " 132900,\n",
       " 155800,\n",
       " 29500,\n",
       " 22400,\n",
       " 24500,\n",
       " 58500,\n",
       " 14300,\n",
       " 15200,\n",
       " 101200,\n",
       " 40300,\n",
       " 41600,\n",
       " 146900,\n",
       " 43700,\n",
       " 182900,\n",
       " 55500,\n",
       " 39900,\n",
       " 197100,\n",
       " 66100,\n",
       " 85600,\n",
       " 36600,\n",
       " 12200,\n",
       " 50300,\n",
       " 45800,\n",
       " 36300,\n",
       " 54700,\n",
       " 52500,\n",
       " 127100,\n",
       " 28200,\n",
       " 25700,\n",
       " 129800,\n",
       " 25500,\n",
       " 94600,\n",
       " 40500,\n",
       " 65800,\n",
       " 16100,\n",
       " 36700,\n",
       " 16200,\n",
       " 128200,\n",
       " 28000,\n",
       " 32400,\n",
       " 44400,\n",
       " 72400,\n",
       " 14300,\n",
       " 31100,\n",
       " 35500,\n",
       " 32200,\n",
       " 15900,\n",
       " 37900,\n",
       " 31100,\n",
       " 35000,\n",
       " 81800,\n",
       " 155600,\n",
       " 72800,\n",
       " 40500,\n",
       " 30300,\n",
       " 44000,\n",
       " 16800,\n",
       " 43000,\n",
       " 106100,\n",
       " 80100,\n",
       " 41600,\n",
       " 68400,\n",
       " 194600,\n",
       " 36800,\n",
       " 24200,\n",
       " 35200,\n",
       " 30900,\n",
       " 24200,\n",
       " 35200,\n",
       " 35000,\n",
       " 11300,\n",
       " 20400,\n",
       " 116000,\n",
       " 101000,\n",
       " 57900,\n",
       " 16500,\n",
       " 45000,\n",
       " 55600,\n",
       " 32000,\n",
       " 30600,\n",
       " 68000,\n",
       " 84800,\n",
       " 33700,\n",
       " 68300,\n",
       " 72700,\n",
       " 39000,\n",
       " 29100,\n",
       " 155200,\n",
       " 93500,\n",
       " 17700,\n",
       " 54100,\n",
       " 13000,\n",
       " 16000,\n",
       " 25700,\n",
       " 21500,\n",
       " 22100,\n",
       " 27300,\n",
       " 13900,\n",
       " 14100,\n",
       " 140900,\n",
       " 45800,\n",
       " 8600,\n",
       " 57000,\n",
       " 16700,\n",
       " 26100,\n",
       " 33800,\n",
       " 18500,\n",
       " 14400,\n",
       " 19700,\n",
       " 13500,\n",
       " 28200,\n",
       " 68400,\n",
       " 108500,\n",
       " 15700,\n",
       " 31500,\n",
       " 43700,\n",
       " 17000,\n",
       " 28300,\n",
       " 30800,\n",
       " 38700,\n",
       " 328300,\n",
       " 236100,\n",
       " 70900,\n",
       " 87500,\n",
       " 80100,\n",
       " 12000,\n",
       " 36000,\n",
       " 79400,\n",
       " 15400,\n",
       " 84500,\n",
       " 8500,\n",
       " 14200,\n",
       " 153500,\n",
       " 41000,\n",
       " 25200,\n",
       " 84600,\n",
       " 36000,\n",
       " 95100,\n",
       " 283500,\n",
       " 31000,\n",
       " 19600,\n",
       " 89000,\n",
       " 17000,\n",
       " 41200,\n",
       " 43200,\n",
       " 139500,\n",
       " 19500,\n",
       " 122200,\n",
       " 191100,\n",
       " 27600,\n",
       " 133900,\n",
       " 82000,\n",
       " 30000,\n",
       " 30400,\n",
       " 75300,\n",
       " 15900,\n",
       " 58900,\n",
       " 24400,\n",
       " 44800,\n",
       " 37100,\n",
       " 53900,\n",
       " 25600,\n",
       " 20600,\n",
       " 63000,\n",
       " 20200,\n",
       " 163900,\n",
       " 49700,\n",
       " 44600,\n",
       " 37600,\n",
       " 13600,\n",
       " 16000,\n",
       " 61800,\n",
       " 86500,\n",
       " 32300,\n",
       " 17700,\n",
       " 35100,\n",
       " 31800,\n",
       " 137800,\n",
       " 38400,\n",
       " 40000,\n",
       " 20400,\n",
       " 33000,\n",
       " 312000,\n",
       " 121400,\n",
       " 19700,\n",
       " 33300,\n",
       " 15300,\n",
       " 104800,\n",
       " 24400,\n",
       " 21100,\n",
       " 27900,\n",
       " 61000,\n",
       " 412600,\n",
       " 38100,\n",
       " 49800,\n",
       " 42800,\n",
       " 44200,\n",
       " 40500,\n",
       " 81100,\n",
       " 58200,\n",
       " 12100,\n",
       " 40100,\n",
       " 25600,\n",
       " 272400,\n",
       " 16500,\n",
       " 19600,\n",
       " 43800,\n",
       " 63900,\n",
       " 38500,\n",
       " 5800,\n",
       " 63400,\n",
       " 13900,\n",
       " 17200,\n",
       " 14000,\n",
       " 26600,\n",
       " 177200,\n",
       " 126000,\n",
       " 55200,\n",
       " 3400,\n",
       " 29100,\n",
       " 15500,\n",
       " ...]"
      ]
     },
     "execution_count": 11,
     "metadata": {},
     "output_type": "execute_result"
    }
   ],
   "source": [
    "customerTotalList"
   ]
  },
  {
   "cell_type": "code",
   "execution_count": 12,
   "metadata": {},
   "outputs": [
    {
     "name": "stdout",
     "output_type": "stream",
     "text": [
      "0\n",
      "3103500\n"
     ]
    }
   ],
   "source": [
    "## 정렬 먼저\n",
    "customerTotalList.sort()\n",
    "\n",
    "## 최솟값과 최댓값 \n",
    "\n",
    "minValue = min(customerTotalList)\n",
    "maxValue = max(customerTotalList)\n",
    "\n",
    "print(minValue)\n",
    "print(maxValue)\n"
   ]
  },
  {
   "cell_type": "code",
   "execution_count": 14,
   "metadata": {},
   "outputs": [
    {
     "name": "stdout",
     "output_type": "stream",
     "text": [
      "256\n",
      "1\n"
     ]
    }
   ],
   "source": [
    "## 최솟값과 최댓값의 중복된 수 체크\n",
    "\n",
    "## 정렬을 했으니, 따로 인덱스를 구할 필요는 없다.\n",
    "\n",
    "minValueNum = customerTotalList.count(minValue)\n",
    "maxValueNum = customerTotalList.count(maxValue)\n",
    "\n",
    "print(minValueNum)\n",
    "print(maxValueNum)"
   ]
  },
  {
   "cell_type": "code",
   "execution_count": 16,
   "metadata": {},
   "outputs": [
    {
     "name": "stdout",
     "output_type": "stream",
     "text": [
      "35248.91490376756\n"
     ]
    }
   ],
   "source": [
    "## 최솟값과 최댓값의 인덱스 값, 즉 그 개수로 최대,최솟값을 제외한 리스트 구하기\n",
    "\n",
    "newList = customerTotalList[minValueNum:-maxValueNum]\n",
    "newList\n",
    "\n",
    "\n",
    "## 평균 구하기\n",
    "\n",
    "average = sum(newList) / len(newList)\n",
    "print(average)\n"
   ]
  },
  {
   "cell_type": "code",
   "execution_count": null,
   "metadata": {},
   "outputs": [],
   "source": []
  },
  {
   "cell_type": "code",
   "execution_count": null,
   "metadata": {},
   "outputs": [],
   "source": []
  },
  {
   "cell_type": "code",
   "execution_count": 60,
   "metadata": {},
   "outputs": [],
   "source": [
    "ListA = [1, 2, 3]\n",
    "ListB = [4, 5, 6]\n",
    "ListC = [7, 8, 9]\n",
    "AllList = [ListA, ListB, ListC]\n",
    "# print를 했을 때 [1,4,7]   {2,5,8}  {3,6,9} 가 출력되게 해보자. "
   ]
  },
  {
   "cell_type": "code",
   "execution_count": 62,
   "metadata": {},
   "outputs": [],
   "source": []
  },
  {
   "cell_type": "code",
   "execution_count": 63,
   "metadata": {},
   "outputs": [],
   "source": [
    "newList.append(ListA[0])\n",
    "newList.append(ListB[0])\n",
    "newList.append(ListC[0])"
   ]
  },
  {
   "cell_type": "code",
   "execution_count": 64,
   "metadata": {},
   "outputs": [
    {
     "data": {
      "text/plain": [
       "[1, 4, 7]"
      ]
     },
     "execution_count": 64,
     "metadata": {},
     "output_type": "execute_result"
    }
   ],
   "source": [
    "newList"
   ]
  },
  {
   "cell_type": "code",
   "execution_count": null,
   "metadata": {},
   "outputs": [],
   "source": []
  },
  {
   "cell_type": "code",
   "execution_count": 109,
   "metadata": {},
   "outputs": [
    {
     "name": "stdout",
     "output_type": "stream",
     "text": [
      "[1, 4, 7]\n",
      "[2, 5, 8]\n",
      "[3, 6, 9]\n"
     ]
    }
   ],
   "source": [
    "newList = []\n",
    "\n",
    "for i in range(0, len(ListA)):\n",
    "\n",
    "    newList.append(ListA[i])\n",
    "    newList.append(ListB[i])\n",
    "    newList.append(ListC[i])\n",
    "   \n",
    "                   \n",
    "\n",
    "  \n",
    "    \n",
    "print(newList[0:3])\n",
    "print(newList[3:6])\n",
    "print(newList[6:9])\n",
    "\n"
   ]
  },
  {
   "cell_type": "code",
   "execution_count": 102,
   "metadata": {},
   "outputs": [
    {
     "data": {
      "text/plain": [
       "[1, 4, 7, 2, 5, 8, 3, 6, 9]"
      ]
     },
     "execution_count": 102,
     "metadata": {},
     "output_type": "execute_result"
    }
   ],
   "source": []
  },
  {
   "cell_type": "code",
   "execution_count": null,
   "metadata": {},
   "outputs": [],
   "source": []
  },
  {
   "cell_type": "code",
   "execution_count": null,
   "metadata": {},
   "outputs": [],
   "source": []
  },
  {
   "cell_type": "code",
   "execution_count": 91,
   "metadata": {},
   "outputs": [
    {
     "name": "stdout",
     "output_type": "stream",
     "text": [
      "[1]\n",
      "[2]\n",
      "[3]\n"
     ]
    }
   ],
   "source": [
    "for i in range (0, len(ListA)):\n",
    "\n",
    "   \n",
    "    eachList = ListA[i]    \n",
    "\n",
    "    \n",
    "\n",
    "    newList.append(eachList)\n",
    "\n",
    "    print(newList)"
   ]
  },
  {
   "cell_type": "code",
   "execution_count": 93,
   "metadata": {},
   "outputs": [
    {
     "name": "stdout",
     "output_type": "stream",
     "text": [
      "[3]\n"
     ]
    }
   ],
   "source": [
    "print(newList)\n"
   ]
  },
  {
   "cell_type": "code",
   "execution_count": null,
   "metadata": {},
   "outputs": [],
   "source": [
    "\n",
    "\n",
    "\n",
    "\n",
    "\n"
   ]
  },
  {
   "cell_type": "code",
   "execution_count": null,
   "metadata": {},
   "outputs": [],
   "source": []
  },
  {
   "cell_type": "code",
   "execution_count": null,
   "metadata": {},
   "outputs": [],
   "source": []
  },
  {
   "cell_type": "code",
   "execution_count": null,
   "metadata": {},
   "outputs": [],
   "source": []
  },
  {
   "cell_type": "code",
   "execution_count": 22,
   "metadata": {},
   "outputs": [],
   "source": []
  },
  {
   "cell_type": "code",
   "execution_count": null,
   "metadata": {},
   "outputs": [],
   "source": []
  },
  {
   "cell_type": "code",
   "execution_count": 23,
   "metadata": {},
   "outputs": [],
   "source": [
    "# 1, 4 ,7 만 뽑을 수 있을까?\n",
    "#A,B,C를 변수로 놓아야 겠다"
   ]
  },
  {
   "cell_type": "code",
   "execution_count": null,
   "metadata": {},
   "outputs": [],
   "source": []
  },
  {
   "cell_type": "code",
   "execution_count": 5,
   "metadata": {},
   "outputs": [
    {
     "name": "stdout",
     "output_type": "stream",
     "text": [
      "[1, 4, 7]\n",
      "[2, 5, 8]\n",
      "[3, 6, 9]\n"
     ]
    }
   ],
   "source": [
    "# 2, 5, 8은 어떻게 해야 나올까?\n",
    "# 뒷 글자를 1로 고정\n",
    "\n",
    "ListA = [1, 2, 3]\n",
    "ListB = [4, 5, 6]\n",
    "ListC = [7, 8, 9]\n",
    "ListAll = [ListA, ListB, ListC]\n",
    "\n",
    "# eachList를 넣을 공간을 만들어야 겠다\n",
    "\n",
    "temp = [0, 0, 0]\n",
    "newList = [0, 0, 0]\n",
    "\n",
    "for i in range(0, 3):\n",
    "    for j in range(0, 3):\n",
    "         temp[j] = ListAll[j][i]\n",
    "    print(temp)\n",
    "        \n",
    "        \n",
    "\n",
    "        \n",
    "    \n",
    "\n",
    "# temp값을 리스트로 만들 수 있을까?\n",
    "\n",
    "\n",
    "\n"
   ]
  },
  {
   "cell_type": "code",
   "execution_count": 77,
   "metadata": {},
   "outputs": [
    {
     "data": {
      "text/plain": [
       "1"
      ]
     },
     "execution_count": 77,
     "metadata": {},
     "output_type": "execute_result"
    }
   ],
   "source": [
    "eachList"
   ]
  },
  {
   "cell_type": "code",
   "execution_count": 16,
   "metadata": {},
   "outputs": [
    {
     "name": "stdout",
     "output_type": "stream",
     "text": [
      "[1, 4, 7]\n"
     ]
    }
   ],
   "source": [
    "\n",
    "\n",
    "temp = [0, 0, 0]\n",
    "for i in range(0, len(ListA)):\n",
    "    temp[i] = ListAll[i][0]\n",
    "\n",
    "    \n",
    "print(temp)"
   ]
  },
  {
   "cell_type": "code",
   "execution_count": null,
   "metadata": {},
   "outputs": [],
   "source": []
  },
  {
   "cell_type": "code",
   "execution_count": 15,
   "metadata": {},
   "outputs": [
    {
     "name": "stdout",
     "output_type": "stream",
     "text": [
      "[3, 6, 9]\n"
     ]
    }
   ],
   "source": [
    "# 3, 6, 9는 어떻게 해야 나올까?\n",
    "\n",
    "temp = [0, 0, 0]\n",
    "for i in range(0, len(ListA)):\n",
    "    temp[i] = ListAll[i][2]\n",
    "\n",
    "    \n",
    "print(temp)"
   ]
  },
  {
   "cell_type": "code",
   "execution_count": null,
   "metadata": {},
   "outputs": [],
   "source": []
  },
  {
   "cell_type": "code",
   "execution_count": null,
   "metadata": {},
   "outputs": [],
   "source": []
  },
  {
   "cell_type": "code",
   "execution_count": null,
   "metadata": {},
   "outputs": [],
   "source": []
  },
  {
   "cell_type": "code",
   "execution_count": 53,
   "metadata": {},
   "outputs": [],
   "source": [
    "\n",
    "\n",
    "# 1, 4 ,7 만 뽑을 수 있을까?\n",
    "#A,B,C를 변수로 놓아야 겠다\n",
    "\n",
    "temp = [0, 0, 0]\n",
    "newList = [0, 0, 0]\n",
    "\n"
   ]
  },
  {
   "cell_type": "code",
   "execution_count": 54,
   "metadata": {},
   "outputs": [
    {
     "name": "stdout",
     "output_type": "stream",
     "text": [
      "[1, 4, 7]\n"
     ]
    }
   ],
   "source": [
    "# 2, 5, 8은 어떻게 해야 나올까?\n",
    "\n",
    "\n",
    "\n",
    "# 1, 4 ,7 만 뽑을 수 있을까?\n",
    "#A,B,C를 변수로 놓아야 겠다\n",
    "\n",
    "for i in range(0, len(ListAll)):  \n",
    "    temp[i] = ListAll[i][0]\n",
    "\n",
    "\n",
    "print(temp)"
   ]
  },
  {
   "cell_type": "code",
   "execution_count": 74,
   "metadata": {},
   "outputs": [
    {
     "ename": "IndentationError",
     "evalue": "unindent does not match any outer indentation level (<tokenize>, line 11)",
     "output_type": "error",
     "traceback": [
      "\u001b[1;36m  File \u001b[1;32m\"<tokenize>\"\u001b[1;36m, line \u001b[1;32m11\u001b[0m\n\u001b[1;33m    print(temp)\u001b[0m\n\u001b[1;37m    ^\u001b[0m\n\u001b[1;31mIndentationError\u001b[0m\u001b[1;31m:\u001b[0m unindent does not match any outer indentation level\n"
     ]
    }
   ],
   "source": [
    "# 2, 5, 8은 어떻게 해야 나올까?\n",
    "\n",
    "\n",
    "\n",
    "# 1, 4 ,7 만 뽑을 수 있을까?\n",
    "#A,B,C를 변수로 놓아야 겠다\n",
    "\n",
    "\n",
    "for i in range(0, len(ListAll)):  \n",
    "     temp[i] = ListAll[i][0]\n",
    "    print(temp)    "
   ]
  },
  {
   "cell_type": "code",
   "execution_count": 67,
   "metadata": {},
   "outputs": [],
   "source": [
    "        newList[i] = temp\n",
    "\n",
    "        \n",
    "        \n",
    "        \n",
    "    \n",
    "print(newList)\n",
    "  "
   ]
  }
 ],
 "metadata": {
  "kernelspec": {
   "display_name": "Python 3",
   "language": "python",
   "name": "python3"
  },
  "language_info": {
   "codemirror_mode": {
    "name": "ipython",
    "version": 3
   },
   "file_extension": ".py",
   "mimetype": "text/x-python",
   "name": "python",
   "nbconvert_exporter": "python",
   "pygments_lexer": "ipython3",
   "version": "3.8.5"
  }
 },
 "nbformat": 4,
 "nbformat_minor": 4
}
