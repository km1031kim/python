{
 "cells": [
  {
   "cell_type": "markdown",
   "metadata": {},
   "source": [
    "## 1. 아트모스에서 반스의 가격표를 가져와보자"
   ]
  },
  {
   "cell_type": "code",
   "execution_count": 1,
   "metadata": {},
   "outputs": [],
   "source": [
    "import pandas as pd\n",
    "\n",
    "from bs4 import BeautifulSoup # 태그 이쁘게 뜨기\n",
    "import requests # 웹페이지 접속 요청\n",
    "targetUrl = \"http://atmos-seoul.com/shop/shopbrand.html?xcode=003&type=N&mcode=003&scode=022\"\n",
    "\n",
    "resp = requests.get(url=targetUrl) ## response 200 = 정상\n",
    "\n",
    "headers = {'User-Agent': 'Mozilla/5.0 (Macintosh; Intel Mac OS X 10.14; rv:71.0) Gecko/20100101 Firefox/71.0'}\n",
    "resp=requests.get(targetUrl,headers=headers) ## response 204 떳을때 요거 달아주구 resp로 넣어주면 오류 안뜬다. 해당 홈페이지에서 막아논거임 크롤링 못하게\n",
    "\n",
    "resp.encoding = \"utf-8\" ## 인코딩\n",
    "html = resp.text\n",
    "htmlObj = BeautifulSoup(html, \"html.parser\") ## beautifulSoup 사용\n",
    "\n",
    "##targetParent = htmlObj.find(name=\"ul\")\n",
    "\n",
    "AllProduct = htmlObj.find(name = \"div\", attrs = {\"class\":\"item-wrap prd-parts\"})"
   ]
  },
  {
   "cell_type": "code",
   "execution_count": 356,
   "metadata": {},
   "outputs": [
    {
     "data": {
      "text/plain": [
       "<Response [200]>"
      ]
     },
     "execution_count": 356,
     "metadata": {},
     "output_type": "execute_result"
    }
   ],
   "source": [
    "resp"
   ]
  },
  {
   "cell_type": "markdown",
   "metadata": {},
   "source": [
    "## 개별 상품의 이름과 가격을 가져오자."
   ]
  },
  {
   "cell_type": "code",
   "execution_count": 252,
   "metadata": {
    "collapsed": true,
    "jupyter": {
     "outputs_hidden": true
    }
   },
   "outputs": [
    {
     "data": {
      "text/plain": [
       "<div class=\"item-wrap prd-parts\">\n",
       "<div class=\"item-cont\">\n",
       "<dl class=\"item-list\">\n",
       "<dt class=\"thumb\"><a href=\"/shop/shopdetail.html?branduid=2115001&amp;xcode=003&amp;mcode=003&amp;scode=022&amp;type=Y&amp;sort=manual&amp;cur_code=003003022&amp;GfDT=bW93UQ%3D%3D\"><img class=\"MS_prod_img_l\" src=\"/shopimages/atmos/001003005269.jpg?1618213753\"/></a></dt>\n",
       "<dd class=\"prd-info\">\n",
       "<ul>\n",
       "<li class=\"list-brand-name\">VANS</li>\n",
       "<li class=\"prd-name\"><a href=\"/shop/shopdetail.html?branduid=2115001&amp;xcode=003&amp;mcode=003&amp;scode=022&amp;type=Y&amp;sort=manual&amp;cur_code=003003022&amp;GfDT=bW93UQ%3D%3D\">COMFYCUSH SLIP-ON SM(PENN) YELLOW/ORANGE</a></li>\n",
       "<li class=\"prd-price\">\n",
       "<span class=\"price\">89,000��</span>\n",
       "<span class=\"prd-icon\"><span class=\"MK-product-icons\"></span></span>\n",
       "</li>\n",
       "</ul>\n",
       "</dd>\n",
       "</dl>\n",
       "<dl class=\"item-list\">\n",
       "<dt class=\"thumb\"><a href=\"/shop/shopdetail.html?branduid=2115000&amp;xcode=003&amp;mcode=003&amp;scode=022&amp;type=Y&amp;sort=manual&amp;cur_code=003003022&amp;GfDT=aW93UA%3D%3D\"><img class=\"MS_prod_img_l\" src=\"/shopimages/atmos/001003005268.jpg?1618213492\"/></a></dt>\n",
       "<dd class=\"prd-info\">\n",
       "<ul>\n",
       "<li class=\"list-brand-name\">VANS</li>\n",
       "<li class=\"prd-name\"><a href=\"/shop/shopdetail.html?branduid=2115000&amp;xcode=003&amp;mcode=003&amp;scode=022&amp;type=Y&amp;sort=manual&amp;cur_code=003003022&amp;GfDT=aW93UA%3D%3D\">LOWLAND CC(PENN) BLANC DE BLANC/NAVY</a></li>\n",
       "<li class=\"prd-price\">\n",
       "<span class=\"price\">119,000��</span>\n",
       "<span class=\"prd-icon\"><span class=\"MK-product-icons\"></span></span>\n",
       "</li>\n",
       "</ul>\n",
       "</dd>\n",
       "</dl>\n",
       "<dl class=\"item-list\">\n",
       "<dt class=\"thumb\"><a href=\"/shop/shopdetail.html?branduid=2115004&amp;xcode=003&amp;mcode=003&amp;scode=022&amp;type=Y&amp;sort=manual&amp;cur_code=003003022&amp;GfDT=bmx%2FW14%3D\"><img class=\"MS_prod_img_l\" src=\"/shopimages/atmos/001003005272.jpg?1618214153\"/></a></dt>\n",
       "<dd class=\"prd-info\">\n",
       "<ul>\n",
       "<li class=\"list-brand-name\">VANS</li>\n",
       "<li class=\"prd-name\"><a href=\"/shop/shopdetail.html?branduid=2115004&amp;xcode=003&amp;mcode=003&amp;scode=022&amp;type=Y&amp;sort=manual&amp;cur_code=003003022&amp;GfDT=bmx%2FW14%3D\">AUTHENTIC 44 DX(ANAHEIM FACTORY) OG WHITE/SCENE AT</a></li>\n",
       "<li class=\"prd-price\">\n",
       "<span class=\"price\">89,000��</span>\n",
       "<span class=\"prd-icon\"><span class=\"MK-product-icons\"></span></span>\n",
       "</li>\n",
       "</ul>\n",
       "</dd>\n",
       "</dl>\n",
       "<dl class=\"item-list\">\n",
       "<dt class=\"thumb\"><a href=\"/shop/shopdetail.html?branduid=2115003&amp;xcode=003&amp;mcode=003&amp;scode=022&amp;type=Y&amp;sort=manual&amp;cur_code=003003022&amp;GfDT=amp3Ug%3D%3D\"><img class=\"MS_prod_img_l\" src=\"/shopimages/atmos/001003005271.jpg?1618214044\"/></a></dt>\n",
       "<dd class=\"prd-info\">\n",
       "<ul>\n",
       "<li class=\"list-brand-name\">VANS</li>\n",
       "<li class=\"prd-name\"><a href=\"/shop/shopdetail.html?branduid=2115003&amp;xcode=003&amp;mcode=003&amp;scode=022&amp;type=Y&amp;sort=manual&amp;cur_code=003003022&amp;GfDT=amp3Ug%3D%3D\">AUTHENTIC 44 DX(ANAHEIM FACTORY) OG YELLOW/SCENE AW</a></li>\n",
       "<li class=\"prd-price\">\n",
       "<span class=\"price\">89,000��</span>\n",
       "<span class=\"prd-icon\"><span class=\"MK-product-icons\"></span></span>\n",
       "</li>\n",
       "</ul>\n",
       "</dd>\n",
       "</dl>\n",
       "</div><div class=\"item-cont\">\n",
       "<dl class=\"item-list\">\n",
       "<dt class=\"thumb\"><a href=\"/shop/shopdetail.html?branduid=2115002&amp;xcode=003&amp;mcode=003&amp;scode=022&amp;type=Y&amp;sort=manual&amp;cur_code=003003022&amp;GfDT=am53VQ%3D%3D\"><img class=\"MS_prod_img_l\" src=\"/shopimages/atmos/001003005270.jpg?1618213962\"/></a></dt>\n",
       "<dd class=\"prd-info\">\n",
       "<ul>\n",
       "<li class=\"list-brand-name\">VANS</li>\n",
       "<li class=\"prd-name\"><a href=\"/shop/shopdetail.html?branduid=2115002&amp;xcode=003&amp;mcode=003&amp;scode=022&amp;type=Y&amp;sort=manual&amp;cur_code=003003022&amp;GfDT=am53VQ%3D%3D\">AUTHENTIC 44 DX(ANAHEIM FACTORY) OG EMERALD/SCENE BG</a></li>\n",
       "<li class=\"prd-price\">\n",
       "<span class=\"price\">89,000��</span>\n",
       "<span class=\"prd-icon\"><span class=\"MK-product-icons\"></span></span>\n",
       "</li>\n",
       "</ul>\n",
       "</dd>\n",
       "</dl>\n",
       "<dl class=\"item-list\">\n",
       "<dt class=\"thumb\"><a href=\"/shop/shopdetail.html?branduid=2114678&amp;xcode=003&amp;mcode=003&amp;scode=022&amp;type=Y&amp;sort=manual&amp;cur_code=003003022&amp;GfDT=bWV4\"><img class=\"MS_prod_img_l\" src=\"/shopimages/atmos/001003005060.jpg?1614235796\"/></a></dt>\n",
       "<dd class=\"prd-info\">\n",
       "<ul>\n",
       "<li class=\"list-brand-name\">VANS</li>\n",
       "<li class=\"prd-name\"><a href=\"/shop/shopdetail.html?branduid=2114678&amp;xcode=003&amp;mcode=003&amp;scode=022&amp;type=Y&amp;sort=manual&amp;cur_code=003003022&amp;GfDT=bWV4\">ERA 95 DX (ANAHEIM FACTORY) OG BLACK/OG HOTLIPS</a></li>\n",
       "<li class=\"prd-price\">\n",
       "<span class=\"price\">89,000��</span>\n",
       "<span class=\"prd-icon\"><span class=\"MK-product-icons\"></span></span>\n",
       "</li>\n",
       "</ul>\n",
       "</dd>\n",
       "</dl>\n",
       "<dl class=\"item-list\">\n",
       "<dt class=\"thumb\"><a href=\"/shop/shopdetail.html?branduid=2114677&amp;xcode=003&amp;mcode=003&amp;scode=022&amp;type=Y&amp;sort=manual&amp;cur_code=003003022&amp;GfDT=Z2x3Vw%3D%3D\"><img class=\"MS_prod_img_l\" src=\"/shopimages/atmos/001003005059.jpg?1614235684\"/></a></dt>\n",
       "<dd class=\"prd-info\">\n",
       "<ul>\n",
       "<li class=\"list-brand-name\">VANS</li>\n",
       "<li class=\"prd-name\"><a href=\"/shop/shopdetail.html?branduid=2114677&amp;xcode=003&amp;mcode=003&amp;scode=022&amp;type=Y&amp;sort=manual&amp;cur_code=003003022&amp;GfDT=Z2x3Vw%3D%3D\">OLD SKOOL 36 DX (ANAHEIM FACTORY) OG RED/OG HOTLIPS</a></li>\n",
       "<li class=\"prd-price\">\n",
       "<span class=\"price\">99,000��</span>\n",
       "<span class=\"prd-icon\"><span class=\"MK-product-icons\"></span></span>\n",
       "</li>\n",
       "</ul>\n",
       "</dd>\n",
       "</dl>\n",
       "<dl class=\"item-list\">\n",
       "<dt class=\"thumb\"><a href=\"/shop/shopdetail.html?branduid=2114676&amp;xcode=003&amp;mcode=003&amp;scode=022&amp;type=Y&amp;sort=manual&amp;cur_code=003003022&amp;GfDT=bml6W1s%3D\"><img class=\"MS_prod_img_l\" src=\"/shopimages/atmos/001003005058.jpg?1614235589\"/></a></dt>\n",
       "<dd class=\"prd-info\">\n",
       "<ul>\n",
       "<li class=\"list-brand-name\">VANS</li>\n",
       "<li class=\"prd-name\"><a href=\"/shop/shopdetail.html?branduid=2114676&amp;xcode=003&amp;mcode=003&amp;scode=022&amp;type=Y&amp;sort=manual&amp;cur_code=003003022&amp;GfDT=bml6W1s%3D\">SK8-HI 38 DX (ANAHEIM FACTORY) OG BLACK/OG HOTLIPS</a></li>\n",
       "<li class=\"prd-price\">\n",
       "<span class=\"price\">105,000��</span>\n",
       "<span class=\"prd-icon\"><span class=\"MK-product-icons\"></span></span>\n",
       "</li>\n",
       "</ul>\n",
       "</dd>\n",
       "</dl>\n",
       "</div><div class=\"item-cont\">\n",
       "<dl class=\"item-list\">\n",
       "<dt class=\"thumb\"><a href=\"/shop/shopdetail.html?branduid=2112116&amp;xcode=003&amp;mcode=003&amp;scode=022&amp;type=Y&amp;sort=manual&amp;cur_code=003003022&amp;GfDT=Zm53WQ%3D%3D\"><img class=\"MS_prod_img_l\" src=\"/shopimages/atmos/001003004116.jpg?1606896407\"/></a></dt>\n",
       "<dd class=\"prd-info\">\n",
       "<ul>\n",
       "<li class=\"list-brand-name\">VANS</li>\n",
       "<li class=\"prd-name\"><a href=\"/shop/shopdetail.html?branduid=2112116&amp;xcode=003&amp;mcode=003&amp;scode=022&amp;type=Y&amp;sort=manual&amp;cur_code=003003022&amp;GfDT=Zm53WQ%3D%3D\">CLASSIC SLIP-ON 98 DX ANAHEIM FACTORY CHECKERBOARD</a></li>\n",
       "<li class=\"prd-price\">\n",
       "<span class=\"price\">85,000��</span>\n",
       "<span class=\"prd-icon\"><span class=\"MK-product-icons\"></span></span>\n",
       "</li>\n",
       "</ul>\n",
       "</dd>\n",
       "</dl>\n",
       "<dl class=\"item-list\">\n",
       "<dt class=\"thumb\"><a href=\"/shop/shopdetail.html?branduid=2108789&amp;xcode=003&amp;mcode=003&amp;scode=022&amp;type=Y&amp;sort=manual&amp;cur_code=003003022&amp;GfDT=a2Z3WA%3D%3D\"><img class=\"MS_prod_img_l\" src=\"/shopimages/atmos/001003005248.jpg?1542697953\"/></a></dt>\n",
       "<dd class=\"prd-info\">\n",
       "<ul>\n",
       "<li class=\"list-brand-name\">VANS</li>\n",
       "<li class=\"prd-name\"><a href=\"/shop/shopdetail.html?branduid=2108789&amp;xcode=003&amp;mcode=003&amp;scode=022&amp;type=Y&amp;sort=manual&amp;cur_code=003003022&amp;GfDT=a2Z3WA%3D%3D\">AUTHENTIC 44 DX (ANAHEIM FACTORY)</a></li>\n",
       "<li class=\"prd-price\">\n",
       "<span class=\"price\">79,000��</span>\n",
       "<span class=\"prd-icon\"><span class=\"MK-product-icons\"></span></span>\n",
       "</li>\n",
       "</ul>\n",
       "</dd>\n",
       "</dl>\n",
       "<dl class=\"item-list\">\n",
       "<dt class=\"thumb\"><a href=\"/shop/shopdetail.html?branduid=2114504&amp;xcode=003&amp;mcode=003&amp;scode=022&amp;type=Y&amp;sort=manual&amp;cur_code=003003022&amp;GfDT=bmp%2BW11E\"><img class=\"MS_prod_img_l\" src=\"/shopimages/atmos/001003004826.jpg?1610694221\"/></a></dt>\n",
       "<dd class=\"prd-info\">\n",
       "<ul>\n",
       "<li class=\"list-brand-name\">VANS</li>\n",
       "<li class=\"prd-name\"><a href=\"/shop/shopdetail.html?branduid=2114504&amp;xcode=003&amp;mcode=003&amp;scode=022&amp;type=Y&amp;sort=manual&amp;cur_code=003003022&amp;GfDT=bmp%2BW11E\">STYLE 73 DX ANAHEIM FACTORY OG</a></li>\n",
       "<li class=\"prd-price\">\n",
       "<span class=\"price\">95,000��</span>\n",
       "<span class=\"prd-icon\"><span class=\"MK-product-icons\"></span></span>\n",
       "</li>\n",
       "</ul>\n",
       "</dd>\n",
       "</dl>\n",
       "<dl class=\"item-list\">\n",
       "<dt class=\"thumb\"><a href=\"/shop/shopdetail.html?branduid=2114503&amp;xcode=003&amp;mcode=003&amp;scode=022&amp;type=Y&amp;sort=manual&amp;cur_code=003003022&amp;GfDT=bmx9W11F\"><img class=\"MS_prod_img_l\" src=\"/shopimages/atmos/001003004825.jpg?1610694077\"/></a></dt>\n",
       "<dd class=\"prd-info\">\n",
       "<ul>\n",
       "<li class=\"list-brand-name\">VANS</li>\n",
       "<li class=\"prd-name\"><a href=\"/shop/shopdetail.html?branduid=2114503&amp;xcode=003&amp;mcode=003&amp;scode=022&amp;type=Y&amp;sort=manual&amp;cur_code=003003022&amp;GfDT=bmx9W11F\">STYLE 73 DX ANAHEIM FACTORY OG</a></li>\n",
       "<li class=\"prd-price\">\n",
       "<span class=\"price\">95,000��</span>\n",
       "<span class=\"prd-icon\"><span class=\"MK-product-icons\"></span></span>\n",
       "</li>\n",
       "</ul>\n",
       "</dd>\n",
       "</dl>\n",
       "</div><div class=\"item-cont\">\n",
       "<dl class=\"item-list\">\n",
       "<dt class=\"thumb\"><a href=\"/shop/shopdetail.html?branduid=2114505&amp;xcode=003&amp;mcode=003&amp;scode=022&amp;type=Y&amp;sort=manual&amp;cur_code=003003022&amp;GfDT=aWl3UF4%3D\"><img class=\"MS_prod_img_l\" src=\"/shopimages/atmos/001003004827.jpg?1610694343\"/></a></dt>\n",
       "<dd class=\"prd-info\">\n",
       "<ul>\n",
       "<li class=\"list-brand-name\">VANS</li>\n",
       "<li class=\"prd-name\"><a href=\"/shop/shopdetail.html?branduid=2114505&amp;xcode=003&amp;mcode=003&amp;scode=022&amp;type=Y&amp;sort=manual&amp;cur_code=003003022&amp;GfDT=aWl3UF4%3D\">ERA 95 DX ANAHEIM FACTORY OG</a></li>\n",
       "<li class=\"prd-price\">\n",
       "<span class=\"price\">85,000��</span>\n",
       "<span class=\"prd-icon\"><span class=\"MK-product-icons\"></span></span>\n",
       "</li>\n",
       "</ul>\n",
       "</dd>\n",
       "</dl>\n",
       "<dl class=\"item-list\">\n",
       "<dt class=\"thumb\"><a href=\"/shop/shopdetail.html?branduid=2114501&amp;xcode=003&amp;mcode=003&amp;scode=022&amp;type=Y&amp;sort=manual&amp;cur_code=003003022&amp;GfDT=bmp%2BW11H\"><img class=\"MS_prod_img_l\" src=\"/shopimages/atmos/001003004823.jpg?1610693874\"/></a></dt>\n",
       "<dd class=\"prd-info\">\n",
       "<ul>\n",
       "<li class=\"list-brand-name\">VANS</li>\n",
       "<li class=\"prd-name\"><a href=\"/shop/shopdetail.html?branduid=2114501&amp;xcode=003&amp;mcode=003&amp;scode=022&amp;type=Y&amp;sort=manual&amp;cur_code=003003022&amp;GfDT=bmp%2BW11H\">OLD SKOOL 36 DX AHAHEIM FACTORY</a></li>\n",
       "<li class=\"prd-price\">\n",
       "<span class=\"price\">95,000��</span>\n",
       "<span class=\"prd-icon\"><span class=\"MK-product-icons\"></span></span>\n",
       "</li>\n",
       "</ul>\n",
       "</dd>\n",
       "</dl>\n",
       "<dl class=\"item-list\">\n",
       "<dt class=\"thumb\"><a href=\"/shop/shopdetail.html?branduid=2112127&amp;xcode=003&amp;mcode=003&amp;scode=022&amp;type=Y&amp;sort=manual&amp;cur_code=003003022&amp;GfDT=bm9%2FW11A\"><img class=\"MS_prod_img_l\" src=\"/shopimages/atmos/001003003800.jpg?1606896344\"/></a></dt>\n",
       "<dd class=\"prd-info\">\n",
       "<ul>\n",
       "<li class=\"list-brand-name\">VANS</li>\n",
       "<li class=\"prd-name\"><a href=\"/shop/shopdetail.html?branduid=2112127&amp;xcode=003&amp;mcode=003&amp;scode=022&amp;type=Y&amp;sort=manual&amp;cur_code=003003022&amp;GfDT=bm9%2FW11A\">AUTHENTIC 44 DX</a></li>\n",
       "<li class=\"prd-price\">\n",
       "<span class=\"price\">85,000��</span>\n",
       "<span class=\"prd-icon\"><span class=\"MK-product-icons\"></span></span>\n",
       "</li>\n",
       "</ul>\n",
       "</dd>\n",
       "</dl>\n",
       "<dl class=\"item-list\">\n",
       "<dt class=\"thumb\"><a href=\"/shop/shopdetail.html?branduid=2113988&amp;xcode=003&amp;mcode=003&amp;scode=022&amp;type=Y&amp;sort=manual&amp;cur_code=003003022&amp;GfDT=bWh3UFk%3D\"><img class=\"MS_prod_img_l\" src=\"/shopimages/atmos/001003004299.jpg?1606896544\"/></a></dt>\n",
       "<dd class=\"prd-info\">\n",
       "<ul>\n",
       "<li class=\"list-brand-name\">VANS</li>\n",
       "<li class=\"prd-name\"><a href=\"/shop/shopdetail.html?branduid=2113988&amp;xcode=003&amp;mcode=003&amp;scode=022&amp;type=Y&amp;sort=manual&amp;cur_code=003003022&amp;GfDT=bWh3UFk%3D\">OLD SKOOL 36 DX</a></li>\n",
       "<li class=\"prd-price\">\n",
       "<span class=\"price\">95,000��</span>\n",
       "<span class=\"prd-icon\"><span class=\"MK-product-icons\"></span></span>\n",
       "</li>\n",
       "</ul>\n",
       "</dd>\n",
       "</dl>\n",
       "</div><div class=\"item-cont\">\n",
       "</div>\n",
       "<div class=\"paging\">\n",
       "<a class=\"now\" href=\"/shop/shopbrand.html?type=Y&amp;xcode=003&amp;mcode=003&amp;scode=022&amp;sort=&amp;page=1\">1</a>\n",
       "<a href=\"/shop/shopbrand.html?type=Y&amp;xcode=003&amp;mcode=003&amp;scode=022&amp;sort=&amp;page=2\">2</a>\n",
       "<a class=\"last\" href=\"/shop/shopbrand.html?type=Y&amp;xcode=003&amp;mcode=003&amp;scode=022&amp;sort=&amp;page=2\">&gt;&gt;</a>\n",
       "</div>\n",
       "</div>"
      ]
     },
     "execution_count": 252,
     "metadata": {},
     "output_type": "execute_result"
    }
   ],
   "source": [
    "AllProduct"
   ]
  },
  {
   "cell_type": "markdown",
   "metadata": {},
   "source": [
    "## 다 했다. 이제 rowList와 columnList를 만들자"
   ]
  },
  {
   "cell_type": "code",
   "execution_count": 253,
   "metadata": {},
   "outputs": [],
   "source": [
    "rowList = []\n",
    "columnList = []"
   ]
  },
  {
   "cell_type": "code",
   "execution_count": 254,
   "metadata": {},
   "outputs": [],
   "source": [
    "allName = AllProduct.findAll(name = \"li\", attrs = {\"class\":\"prd-name\"})\n"
   ]
  },
  {
   "cell_type": "code",
   "execution_count": 255,
   "metadata": {},
   "outputs": [
    {
     "data": {
      "text/html": [
       "<div>\n",
       "<style scoped>\n",
       "    .dataframe tbody tr th:only-of-type {\n",
       "        vertical-align: middle;\n",
       "    }\n",
       "\n",
       "    .dataframe tbody tr th {\n",
       "        vertical-align: top;\n",
       "    }\n",
       "\n",
       "    .dataframe thead th {\n",
       "        text-align: right;\n",
       "    }\n",
       "</style>\n",
       "<table border=\"1\" class=\"dataframe\">\n",
       "  <thead>\n",
       "    <tr style=\"text-align: right;\">\n",
       "      <th></th>\n",
       "      <th>브랜드</th>\n",
       "      <th>이름</th>\n",
       "      <th>가격</th>\n",
       "    </tr>\n",
       "  </thead>\n",
       "  <tbody>\n",
       "    <tr>\n",
       "      <th>0</th>\n",
       "      <td>VANS</td>\n",
       "      <td>COMFYCUSH SLIP-ON SM(PENN) YELLOW/ORANGE</td>\n",
       "      <td>89,000</td>\n",
       "    </tr>\n",
       "    <tr>\n",
       "      <th>1</th>\n",
       "      <td>VANS</td>\n",
       "      <td>LOWLAND CC(PENN) BLANC DE BLANC/NAVY</td>\n",
       "      <td>119,000</td>\n",
       "    </tr>\n",
       "    <tr>\n",
       "      <th>2</th>\n",
       "      <td>VANS</td>\n",
       "      <td>AUTHENTIC 44 DX(ANAHEIM FACTORY) OG WHITE/SCEN...</td>\n",
       "      <td>89,000</td>\n",
       "    </tr>\n",
       "    <tr>\n",
       "      <th>3</th>\n",
       "      <td>VANS</td>\n",
       "      <td>AUTHENTIC 44 DX(ANAHEIM FACTORY) OG YELLOW/SCE...</td>\n",
       "      <td>89,000</td>\n",
       "    </tr>\n",
       "    <tr>\n",
       "      <th>4</th>\n",
       "      <td>VANS</td>\n",
       "      <td>AUTHENTIC 44 DX(ANAHEIM FACTORY) OG EMERALD/SC...</td>\n",
       "      <td>89,000</td>\n",
       "    </tr>\n",
       "    <tr>\n",
       "      <th>5</th>\n",
       "      <td>VANS</td>\n",
       "      <td>ERA 95 DX (ANAHEIM FACTORY) OG BLACK/OG HOTLIPS</td>\n",
       "      <td>89,000</td>\n",
       "    </tr>\n",
       "    <tr>\n",
       "      <th>6</th>\n",
       "      <td>VANS</td>\n",
       "      <td>OLD SKOOL 36 DX (ANAHEIM FACTORY) OG RED/OG HO...</td>\n",
       "      <td>99,000</td>\n",
       "    </tr>\n",
       "    <tr>\n",
       "      <th>7</th>\n",
       "      <td>VANS</td>\n",
       "      <td>SK8-HI 38 DX (ANAHEIM FACTORY) OG BLACK/OG HOT...</td>\n",
       "      <td>105,000</td>\n",
       "    </tr>\n",
       "    <tr>\n",
       "      <th>8</th>\n",
       "      <td>VANS</td>\n",
       "      <td>CLASSIC SLIP-ON 98 DX ANAHEIM FACTORY CHECKERB...</td>\n",
       "      <td>85,000</td>\n",
       "    </tr>\n",
       "    <tr>\n",
       "      <th>9</th>\n",
       "      <td>VANS</td>\n",
       "      <td>AUTHENTIC 44 DX (ANAHEIM FACTORY)</td>\n",
       "      <td>79,000</td>\n",
       "    </tr>\n",
       "    <tr>\n",
       "      <th>10</th>\n",
       "      <td>VANS</td>\n",
       "      <td>STYLE 73 DX ANAHEIM FACTORY OG</td>\n",
       "      <td>95,000</td>\n",
       "    </tr>\n",
       "    <tr>\n",
       "      <th>11</th>\n",
       "      <td>VANS</td>\n",
       "      <td>STYLE 73 DX ANAHEIM FACTORY OG</td>\n",
       "      <td>95,000</td>\n",
       "    </tr>\n",
       "    <tr>\n",
       "      <th>12</th>\n",
       "      <td>VANS</td>\n",
       "      <td>ERA 95 DX ANAHEIM FACTORY OG</td>\n",
       "      <td>85,000</td>\n",
       "    </tr>\n",
       "    <tr>\n",
       "      <th>13</th>\n",
       "      <td>VANS</td>\n",
       "      <td>OLD SKOOL 36 DX AHAHEIM FACTORY</td>\n",
       "      <td>95,000</td>\n",
       "    </tr>\n",
       "    <tr>\n",
       "      <th>14</th>\n",
       "      <td>VANS</td>\n",
       "      <td>AUTHENTIC 44 DX</td>\n",
       "      <td>85,000</td>\n",
       "    </tr>\n",
       "    <tr>\n",
       "      <th>15</th>\n",
       "      <td>VANS</td>\n",
       "      <td>OLD SKOOL 36 DX</td>\n",
       "      <td>95,000</td>\n",
       "    </tr>\n",
       "  </tbody>\n",
       "</table>\n",
       "</div>"
      ],
      "text/plain": [
       "     브랜드                                                 이름       가격\n",
       "0   VANS           COMFYCUSH SLIP-ON SM(PENN) YELLOW/ORANGE   89,000\n",
       "1   VANS               LOWLAND CC(PENN) BLANC DE BLANC/NAVY  119,000\n",
       "2   VANS  AUTHENTIC 44 DX(ANAHEIM FACTORY) OG WHITE/SCEN...   89,000\n",
       "3   VANS  AUTHENTIC 44 DX(ANAHEIM FACTORY) OG YELLOW/SCE...   89,000\n",
       "4   VANS  AUTHENTIC 44 DX(ANAHEIM FACTORY) OG EMERALD/SC...   89,000\n",
       "5   VANS    ERA 95 DX (ANAHEIM FACTORY) OG BLACK/OG HOTLIPS   89,000\n",
       "6   VANS  OLD SKOOL 36 DX (ANAHEIM FACTORY) OG RED/OG HO...   99,000\n",
       "7   VANS  SK8-HI 38 DX (ANAHEIM FACTORY) OG BLACK/OG HOT...  105,000\n",
       "8   VANS  CLASSIC SLIP-ON 98 DX ANAHEIM FACTORY CHECKERB...   85,000\n",
       "9   VANS                  AUTHENTIC 44 DX (ANAHEIM FACTORY)   79,000\n",
       "10  VANS                     STYLE 73 DX ANAHEIM FACTORY OG   95,000\n",
       "11  VANS                     STYLE 73 DX ANAHEIM FACTORY OG   95,000\n",
       "12  VANS                       ERA 95 DX ANAHEIM FACTORY OG   85,000\n",
       "13  VANS                    OLD SKOOL 36 DX AHAHEIM FACTORY   95,000\n",
       "14  VANS                                    AUTHENTIC 44 DX   85,000\n",
       "15  VANS                                    OLD SKOOL 36 DX   95,000"
      ]
     },
     "execution_count": 255,
     "metadata": {},
     "output_type": "execute_result"
    }
   ],
   "source": [
    "for i in range(0,len(allName)):\n",
    "\n",
    "    refinedEachName = allName[i].text\n",
    "\n",
    "    #refinedEachName\n",
    "\n",
    "    brandName = AllProduct.findAll(name = \"li\", attrs =  {\"class\":\"list-brand-name\"})\n",
    "\n",
    "    refinedBrandName = brandName[i].text\n",
    "\n",
    "    #refinedBrandName\n",
    "\n",
    "    allPrice = AllProduct.findAll(name = \"span\", attrs = {\"class\":\"price\"})\n",
    "\n",
    "    refinedEachPrice = allPrice[i].text\n",
    "\n",
    "    refinedEachPriceNum = refinedEachPrice.replace(\"�\",\"\")\n",
    "\n",
    "    #refinedEachPriceNum\n",
    "\n",
    "    ## 이제 columnList 안에 ppend 해주고 row에 넣어주자\n",
    "\n",
    "    columnList.append(refinedBrandName)\n",
    "    columnList.append(refinedEachName)\n",
    "    columnList.append(refinedEachPriceNum)\n",
    "\n",
    "    rowList.append(columnList)\n",
    "    columnList = []\n",
    "\n",
    "df1 = pd.DataFrame(rowList)\n",
    "\n",
    "columnTitle = [\"브랜드\",\"이름\",\"가격\"]\n",
    "\n",
    "df1.columns = columnTitle\n",
    "\n",
    "df1"
   ]
  },
  {
   "cell_type": "code",
   "execution_count": null,
   "metadata": {},
   "outputs": [],
   "source": [
    "targetParent = htmlObj.find(name=\"div\",attrs = {\"id\":\"id_spark_quiz\"})"
   ]
  },
  {
   "cell_type": "code",
   "execution_count": null,
   "metadata": {},
   "outputs": [],
   "source": []
  },
  {
   "cell_type": "markdown",
   "metadata": {},
   "source": [
    "## 2. 테이블 데이터 수집하기. 한국의 연휴 정보"
   ]
  },
  {
   "cell_type": "code",
   "execution_count": 357,
   "metadata": {},
   "outputs": [
    {
     "data": {
      "text/plain": [
       "'1월 1일'"
      ]
     },
     "execution_count": 357,
     "metadata": {},
     "output_type": "execute_result"
    }
   ],
   "source": [
    "import pandas as pd\n",
    "\n",
    "from bs4 import BeautifulSoup # 태그 이쁘게 뜨기\n",
    "import requests # 웹페이지 접속 요청\n",
    "targetUrl = \"https://www.timeanddate.com/holidays/south-korea/\"\n",
    "\n",
    "resp = requests.get(url=targetUrl) ## response 200 = 정상인지 아닌지 먼저 확인해보자. 이 사이트의 경우 정상!\n",
    "\n",
    "\n",
    "resp.encoding = \"utf-8\" ## 인코딩\n",
    "html = resp.text\n",
    "htmlObj = BeautifulSoup(html, \"html.parser\") ## beautifulSoup 사용\n",
    "\n",
    "##targetParent = htmlObj.find(name=\"ul\")\n",
    "\n",
    "Alltable = htmlObj.find(name = \"table\", attrs = {\"id\":\"holidays-table\"})\n",
    "\n",
    "### 전체 테이블 추출 완료. 세부적으로 들어가자. 1. 일/월, 2. 요일, 3. 연휴이름, 4. 연휴타입\n",
    "\n",
    "Alltable\n",
    "\n",
    "#### 일/월 먼저 찾자\n",
    "\n",
    "AllmonthDate = Alltable.findAll(name=\"th\",attrs = {\"class\":\"nw\"})\n",
    "\n",
    "eachMonthDate = AllmonthDate[0].text\n",
    "\n",
    "eachMonthDate ## 완료"
   ]
  },
  {
   "cell_type": "code",
   "execution_count": 358,
   "metadata": {},
   "outputs": [
    {
     "data": {
      "text/plain": [
       "'금요일'"
      ]
     },
     "execution_count": 358,
     "metadata": {},
     "output_type": "execute_result"
    }
   ],
   "source": [
    "#### 요일 찾자\n",
    "\n",
    "Alldays = Alltable.findAll(name=\"td\",attrs = {\"class\":\"nw\"})\n",
    "\n",
    "eachDayName = Alldays[0].text\n",
    "\n",
    "eachDayName"
   ]
  },
  {
   "cell_type": "code",
   "execution_count": 359,
   "metadata": {},
   "outputs": [
    {
     "data": {
      "text/plain": [
       "\"New Year's Day\""
      ]
     },
     "execution_count": 359,
     "metadata": {},
     "output_type": "execute_result"
    }
   ],
   "source": [
    "#### 연휴이름찾자\n",
    "\n",
    "Allatags = Alltable.findAll(name=\"a\")\n",
    "\n",
    "Allatags\n",
    "\n",
    "eachHolidayName = Allatags[0].text\n",
    "\n",
    "eachHolidayName"
   ]
  },
  {
   "cell_type": "code",
   "execution_count": 360,
   "metadata": {},
   "outputs": [
    {
     "data": {
      "text/plain": [
       "'Public Holiday'"
      ]
     },
     "execution_count": 360,
     "metadata": {},
     "output_type": "execute_result"
    }
   ],
   "source": [
    "#### 연휴 타입찾자\n",
    "\n",
    "\n",
    "\n",
    "Alltd = Alltable.findAll(name=\"td\")\n",
    "\n",
    "Alltd\n",
    "\n",
    "##### 2, 5, 8, 11, 14, 17 순서로 데이터 등장. 따로 규칙을 써야겠다.\n",
    "\n",
    "eachHolidayType = Alltd[2].text\n",
    "\n",
    "eachHolidayType"
   ]
  },
  {
   "cell_type": "code",
   "execution_count": 361,
   "metadata": {},
   "outputs": [
    {
     "data": {
      "text/html": [
       "<div>\n",
       "<style scoped>\n",
       "    .dataframe tbody tr th:only-of-type {\n",
       "        vertical-align: middle;\n",
       "    }\n",
       "\n",
       "    .dataframe tbody tr th {\n",
       "        vertical-align: top;\n",
       "    }\n",
       "\n",
       "    .dataframe thead th {\n",
       "        text-align: right;\n",
       "    }\n",
       "</style>\n",
       "<table border=\"1\" class=\"dataframe\">\n",
       "  <thead>\n",
       "    <tr style=\"text-align: right;\">\n",
       "      <th></th>\n",
       "      <th>월/일</th>\n",
       "      <th>요일</th>\n",
       "      <th>연휴이름</th>\n",
       "      <th>연휴타입</th>\n",
       "    </tr>\n",
       "  </thead>\n",
       "  <tbody>\n",
       "    <tr>\n",
       "      <th>0</th>\n",
       "      <td>1월 1일</td>\n",
       "      <td>금요일</td>\n",
       "      <td>New Year's Day</td>\n",
       "      <td>Public Holiday</td>\n",
       "    </tr>\n",
       "    <tr>\n",
       "      <th>1</th>\n",
       "      <td>2월 11일</td>\n",
       "      <td>목요일</td>\n",
       "      <td>Seollal Holiday</td>\n",
       "      <td>Public Holiday</td>\n",
       "    </tr>\n",
       "    <tr>\n",
       "      <th>2</th>\n",
       "      <td>2월 12일</td>\n",
       "      <td>금요일</td>\n",
       "      <td>Seollal</td>\n",
       "      <td>Public Holiday</td>\n",
       "    </tr>\n",
       "    <tr>\n",
       "      <th>3</th>\n",
       "      <td>2월 13일</td>\n",
       "      <td>토요일</td>\n",
       "      <td>Seollal Holiday</td>\n",
       "      <td>Public Holiday</td>\n",
       "    </tr>\n",
       "    <tr>\n",
       "      <th>4</th>\n",
       "      <td>2월 14일</td>\n",
       "      <td>일요일</td>\n",
       "      <td>Valentine's Day</td>\n",
       "      <td>Observance</td>\n",
       "    </tr>\n",
       "    <tr>\n",
       "      <th>5</th>\n",
       "      <td>3월 1일</td>\n",
       "      <td>월요일</td>\n",
       "      <td>Independence Movement Day</td>\n",
       "      <td>National holiday</td>\n",
       "    </tr>\n",
       "    <tr>\n",
       "      <th>6</th>\n",
       "      <td>3월 20일</td>\n",
       "      <td>토요일</td>\n",
       "      <td>March Equinox</td>\n",
       "      <td>Season</td>\n",
       "    </tr>\n",
       "    <tr>\n",
       "      <th>7</th>\n",
       "      <td>4월 5일</td>\n",
       "      <td>월요일</td>\n",
       "      <td>Arbor Day</td>\n",
       "      <td>Observance</td>\n",
       "    </tr>\n",
       "    <tr>\n",
       "      <th>8</th>\n",
       "      <td>5월 1일</td>\n",
       "      <td>토요일</td>\n",
       "      <td>Labor Day</td>\n",
       "      <td>Bank Holiday</td>\n",
       "    </tr>\n",
       "    <tr>\n",
       "      <th>9</th>\n",
       "      <td>5월 5일</td>\n",
       "      <td>수요일</td>\n",
       "      <td>Children's Day</td>\n",
       "      <td>Public Holiday</td>\n",
       "    </tr>\n",
       "    <tr>\n",
       "      <th>10</th>\n",
       "      <td>5월 8일</td>\n",
       "      <td>토요일</td>\n",
       "      <td>Parents' Day</td>\n",
       "      <td>Observance</td>\n",
       "    </tr>\n",
       "    <tr>\n",
       "      <th>11</th>\n",
       "      <td>5월 15일</td>\n",
       "      <td>토요일</td>\n",
       "      <td>Teacher's Day</td>\n",
       "      <td>Observance</td>\n",
       "    </tr>\n",
       "    <tr>\n",
       "      <th>12</th>\n",
       "      <td>5월 19일</td>\n",
       "      <td>수요일</td>\n",
       "      <td>Buddha's Birthday</td>\n",
       "      <td>Public Holiday</td>\n",
       "    </tr>\n",
       "    <tr>\n",
       "      <th>13</th>\n",
       "      <td>6월 6일</td>\n",
       "      <td>일요일</td>\n",
       "      <td>Memorial Day</td>\n",
       "      <td>Public Holiday</td>\n",
       "    </tr>\n",
       "    <tr>\n",
       "      <th>14</th>\n",
       "      <td>6월 21일</td>\n",
       "      <td>월요일</td>\n",
       "      <td>June Solstice</td>\n",
       "      <td>Season</td>\n",
       "    </tr>\n",
       "    <tr>\n",
       "      <th>15</th>\n",
       "      <td>7월 17일</td>\n",
       "      <td>토요일</td>\n",
       "      <td>Constitution Day</td>\n",
       "      <td>Observance</td>\n",
       "    </tr>\n",
       "    <tr>\n",
       "      <th>16</th>\n",
       "      <td>8월 15일</td>\n",
       "      <td>일요일</td>\n",
       "      <td>Liberation Day</td>\n",
       "      <td>National holiday</td>\n",
       "    </tr>\n",
       "    <tr>\n",
       "      <th>17</th>\n",
       "      <td>9월 20일</td>\n",
       "      <td>월요일</td>\n",
       "      <td>Chuseok Holiday</td>\n",
       "      <td>Public Holiday</td>\n",
       "    </tr>\n",
       "    <tr>\n",
       "      <th>18</th>\n",
       "      <td>9월 21일</td>\n",
       "      <td>화요일</td>\n",
       "      <td>Chuseok</td>\n",
       "      <td>Public Holiday</td>\n",
       "    </tr>\n",
       "    <tr>\n",
       "      <th>19</th>\n",
       "      <td>9월 22일</td>\n",
       "      <td>수요일</td>\n",
       "      <td>Chuseok Holiday</td>\n",
       "      <td>Public Holiday</td>\n",
       "    </tr>\n",
       "    <tr>\n",
       "      <th>20</th>\n",
       "      <td>9월 23일</td>\n",
       "      <td>목요일</td>\n",
       "      <td>September Equinox</td>\n",
       "      <td>Season</td>\n",
       "    </tr>\n",
       "    <tr>\n",
       "      <th>21</th>\n",
       "      <td>10월 1일</td>\n",
       "      <td>금요일</td>\n",
       "      <td>Armed Forces Day</td>\n",
       "      <td>Observance</td>\n",
       "    </tr>\n",
       "    <tr>\n",
       "      <th>22</th>\n",
       "      <td>10월 3일</td>\n",
       "      <td>일요일</td>\n",
       "      <td>National Foundation Day</td>\n",
       "      <td>National holiday</td>\n",
       "    </tr>\n",
       "    <tr>\n",
       "      <th>23</th>\n",
       "      <td>10월 9일</td>\n",
       "      <td>토요일</td>\n",
       "      <td>Hangeul Proclamation Day</td>\n",
       "      <td>National holiday</td>\n",
       "    </tr>\n",
       "    <tr>\n",
       "      <th>24</th>\n",
       "      <td>10월 31일</td>\n",
       "      <td>일요일</td>\n",
       "      <td>Halloween</td>\n",
       "      <td>Observance</td>\n",
       "    </tr>\n",
       "    <tr>\n",
       "      <th>25</th>\n",
       "      <td>12월 22일</td>\n",
       "      <td>수요일</td>\n",
       "      <td>December Solstice</td>\n",
       "      <td>Season</td>\n",
       "    </tr>\n",
       "    <tr>\n",
       "      <th>26</th>\n",
       "      <td>12월 24일</td>\n",
       "      <td>금요일</td>\n",
       "      <td>Christmas Eve</td>\n",
       "      <td>Observance</td>\n",
       "    </tr>\n",
       "    <tr>\n",
       "      <th>27</th>\n",
       "      <td>12월 25일</td>\n",
       "      <td>토요일</td>\n",
       "      <td>Christmas Day</td>\n",
       "      <td>Public Holiday</td>\n",
       "    </tr>\n",
       "    <tr>\n",
       "      <th>28</th>\n",
       "      <td>12월 31일</td>\n",
       "      <td>금요일</td>\n",
       "      <td>New Year's Eve</td>\n",
       "      <td>Observance</td>\n",
       "    </tr>\n",
       "  </tbody>\n",
       "</table>\n",
       "</div>"
      ],
      "text/plain": [
       "        월/일   요일                       연휴이름              연휴타입\n",
       "0     1월 1일  금요일             New Year's Day    Public Holiday\n",
       "1    2월 11일  목요일            Seollal Holiday    Public Holiday\n",
       "2    2월 12일  금요일                    Seollal    Public Holiday\n",
       "3    2월 13일  토요일            Seollal Holiday    Public Holiday\n",
       "4    2월 14일  일요일            Valentine's Day        Observance\n",
       "5     3월 1일  월요일  Independence Movement Day  National holiday\n",
       "6    3월 20일  토요일              March Equinox            Season\n",
       "7     4월 5일  월요일                  Arbor Day        Observance\n",
       "8     5월 1일  토요일                  Labor Day      Bank Holiday\n",
       "9     5월 5일  수요일             Children's Day    Public Holiday\n",
       "10    5월 8일  토요일               Parents' Day        Observance\n",
       "11   5월 15일  토요일              Teacher's Day        Observance\n",
       "12   5월 19일  수요일          Buddha's Birthday    Public Holiday\n",
       "13    6월 6일  일요일               Memorial Day    Public Holiday\n",
       "14   6월 21일  월요일              June Solstice            Season\n",
       "15   7월 17일  토요일           Constitution Day        Observance\n",
       "16   8월 15일  일요일             Liberation Day  National holiday\n",
       "17   9월 20일  월요일            Chuseok Holiday    Public Holiday\n",
       "18   9월 21일  화요일                    Chuseok    Public Holiday\n",
       "19   9월 22일  수요일            Chuseok Holiday    Public Holiday\n",
       "20   9월 23일  목요일          September Equinox            Season\n",
       "21   10월 1일  금요일           Armed Forces Day        Observance\n",
       "22   10월 3일  일요일    National Foundation Day  National holiday\n",
       "23   10월 9일  토요일   Hangeul Proclamation Day  National holiday\n",
       "24  10월 31일  일요일                  Halloween        Observance\n",
       "25  12월 22일  수요일          December Solstice            Season\n",
       "26  12월 24일  금요일              Christmas Eve        Observance\n",
       "27  12월 25일  토요일              Christmas Day    Public Holiday\n",
       "28  12월 31일  금요일             New Year's Eve        Observance"
      ]
     },
     "execution_count": 361,
     "metadata": {},
     "output_type": "execute_result"
    }
   ],
   "source": [
    "#### 데이터를 종합하자\n",
    "\n",
    "rowList = []\n",
    "columnList = []\n",
    "\n",
    "for i in range(0, len(AllmonthDate)):\n",
    "    eachMonthDate = AllmonthDate[i].text\n",
    "    eachDayName = Alldays[i].text\n",
    "    eachHolidayName = Allatags[i].text\n",
    "    eachHolidayType = Alltd[2+(i*3)].text\n",
    "    \n",
    "    columnList.append(eachMonthDate)\n",
    "    columnList.append(eachDayName)\n",
    "    columnList.append(eachHolidayName)\n",
    "    columnList.append(eachHolidayType)\n",
    "    rowList.append(columnList)\n",
    "    columnList = []\n",
    "\n",
    "resultData = pd.DataFrame(rowList)\n",
    "\n",
    "columnNameList = [\"월/일\", \"요일\", \"연휴이름\", \"연휴타입\"]\n",
    "\n",
    "resultData.columns = columnNameList\n",
    "\n",
    "resultData"
   ]
  },
  {
   "cell_type": "markdown",
   "metadata": {},
   "source": [
    "### 3. 테이블 데이터 수집하기. 한국의 연휴 정보 - td/ tr 사용해서 해보자"
   ]
  },
  {
   "cell_type": "code",
   "execution_count": 1,
   "metadata": {},
   "outputs": [],
   "source": [
    "import pandas as pd\n",
    "\n",
    "from bs4 import BeautifulSoup # 태그 이쁘게 뜨기\n",
    "import requests # 웹페이지 접속 요청\n",
    "targetUrl = \"https://www.timeanddate.com/holidays/south-korea/\"\n",
    "\n",
    "resp = requests.get(url=targetUrl) ## response 200 = 정상인지 아닌지 먼저 확인해보자. 이 사이트의 경우 정상!\n",
    "\n",
    "\n",
    "\n",
    "resp.encoding = \"utf-8\" ## 인코딩\n",
    "html = resp.text\n",
    "htmlObj = BeautifulSoup(html, \"html.parser\") ## beautifulSoup 사용\n",
    "\n",
    "##targetParent = htmlObj.find(name=\"ul\")\n",
    "\n",
    "TargetTable = htmlObj.find(name = \"table\", attrs = {\"id\":\"holidays-table\"})\n",
    "\n",
    "### 전체 테이블 추출 완료. 세부적으로 들어가자. 1. tr추출, 2. td추출, 3. 종합하기"
   ]
  },
  {
   "cell_type": "code",
   "execution_count": 9,
   "metadata": {},
   "outputs": [],
   "source": [
    "Alltrs = TargetTable.findAll(\"tr\")"
   ]
  },
  {
   "cell_type": "code",
   "execution_count": 10,
   "metadata": {},
   "outputs": [
    {
     "data": {
      "text/plain": [
       "[<tr><th rowspan=\"2\">Date</th><th rowspan=\"2\"> </th><th rowspan=\"2\">Name</th><th rowspan=\"2\">Type</th></tr>,\n",
       " <tr></tr>,\n",
       " <tr id=\"hol_jan\"></tr>,\n",
       " <tr data-date=\"1609459200000\" data-mask=\"1\" id=\"tr1\"><th class=\"nw\">1월 1일</th><td class=\"nw\">금요일</td><td><a href=\"/holidays/south-korea/new-year-day\">New Year's Day</a></td><td>Public Holiday</td></tr>,\n",
       " <tr id=\"hol_feb\"></tr>,\n",
       " <tr data-date=\"1613001600000\" data-mask=\"1\" id=\"tr3\"><th class=\"nw\">2월 11일</th><td class=\"nw\">목요일</td><td><a href=\"/holidays/south-korea/seollal-holiday-1\">Seollal Holiday</a></td><td>Public Holiday</td></tr>,\n",
       " <tr data-date=\"1613088000000\" data-mask=\"1\" id=\"tr4\"><th class=\"nw\">2월 12일</th><td class=\"nw\">금요일</td><td><a href=\"/holidays/south-korea/seollal-holiday-2\">Seollal</a></td><td>Public Holiday</td></tr>,\n",
       " <tr data-date=\"1613174400000\" data-mask=\"1\" id=\"tr5\"><th class=\"nw\">2월 13일</th><td class=\"nw\">토요일</td><td><a href=\"/holidays/south-korea/seollal-holiday-3\">Seollal Holiday</a></td><td>Public Holiday</td></tr>,\n",
       " <tr data-date=\"1613260800000\" data-mask=\"32\" id=\"tr6\"><th class=\"nw\">2월 14일</th><td class=\"nw\">일요일</td><td><a href=\"/holidays/south-korea/valentines-day\">Valentine's Day</a></td><td>Observance</td></tr>,\n",
       " <tr id=\"hol_mar\"></tr>,\n",
       " <tr data-date=\"1614556800000\" data-mask=\"1\" id=\"tr8\"><th class=\"nw\">3월 1일</th><td class=\"nw\">월요일</td><td><a href=\"/holidays/south-korea/independence-movement-day\">Independence Movement Day</a></td><td>National holiday</td></tr>,\n",
       " <tr data-date=\"1616265451000\" data-mask=\"256\" id=\"tr9\"><th class=\"nw\">3월 20일</th><td class=\"nw\">토요일</td><td><a href=\"/calendar/march-equinox.html\">March Equinox</a></td><td>Season</td></tr>,\n",
       " <tr id=\"hol_apr\"></tr>,\n",
       " <tr data-date=\"1617580800000\" data-mask=\"16\" id=\"tr11\"><th class=\"nw\">4월 5일</th><td class=\"nw\">월요일</td><td><a href=\"/holidays/south-korea/arbor-day\">Arbor Day</a></td><td>Observance</td></tr>,\n",
       " <tr id=\"hol_may\"></tr>,\n",
       " <tr data-date=\"1619827200000\" data-mask=\"4194304\" id=\"tr13\"><th class=\"nw\">5월 1일</th><td class=\"nw\">토요일</td><td><a href=\"/holidays/south-korea/labor-day\">Labor Day</a></td><td>Bank Holiday</td></tr>,\n",
       " <tr data-date=\"1620172800000\" data-mask=\"1\" id=\"tr14\"><th class=\"nw\">5월 5일</th><td class=\"nw\">수요일</td><td><a href=\"/holidays/south-korea/childrens-day\">Children's Day</a></td><td>Public Holiday</td></tr>,\n",
       " <tr data-date=\"1620432000000\" data-mask=\"16\" id=\"tr15\"><th class=\"nw\">5월 8일</th><td class=\"nw\">토요일</td><td><a href=\"/holidays/south-korea/parents-day\">Parents' Day</a></td><td>Observance</td></tr>,\n",
       " <tr data-date=\"1621036800000\" data-mask=\"16\" id=\"tr16\"><th class=\"nw\">5월 15일</th><td class=\"nw\">토요일</td><td><a href=\"/holidays/south-korea/teachers-day\">Teacher's Day</a></td><td>Observance</td></tr>,\n",
       " <tr data-date=\"1621382400000\" data-mask=\"1\" id=\"tr17\"><th class=\"nw\">5월 19일</th><td class=\"nw\">수요일</td><td><a href=\"/holidays/south-korea/buddha-birthday\">Buddha's Birthday</a></td><td>Public Holiday</td></tr>,\n",
       " <tr id=\"hol_jun\"></tr>,\n",
       " <tr data-date=\"1622937600000\" data-mask=\"1\" id=\"tr19\"><th class=\"nw\">6월 6일</th><td class=\"nw\">일요일</td><td><a href=\"/holidays/south-korea/memorial-day\">Memorial Day</a></td><td>Public Holiday</td></tr>,\n",
       " <tr data-date=\"1624278729000\" data-mask=\"256\" id=\"tr20\"><th class=\"nw\">6월 21일</th><td class=\"nw\">월요일</td><td><a href=\"/calendar/june-solstice.html\">June Solstice</a></td><td>Season</td></tr>,\n",
       " <tr id=\"hol_jul\"></tr>,\n",
       " <tr data-date=\"1626480000000\" data-mask=\"16\" id=\"tr22\"><th class=\"nw\">7월 17일</th><td class=\"nw\">토요일</td><td><a href=\"/holidays/south-korea/constitution-day\">Constitution Day</a></td><td>Observance</td></tr>,\n",
       " <tr id=\"hol_aug\"></tr>,\n",
       " <tr data-date=\"1628985600000\" data-mask=\"1\" id=\"tr24\"><th class=\"nw\">8월 15일</th><td class=\"nw\">일요일</td><td><a href=\"/holidays/south-korea/liberation-day\">Liberation Day</a></td><td>National holiday</td></tr>,\n",
       " <tr id=\"hol_sep\"></tr>,\n",
       " <tr data-date=\"1632096000000\" data-mask=\"1\" id=\"tr26\"><th class=\"nw\">9월 20일</th><td class=\"nw\">월요일</td><td><a href=\"/holidays/south-korea/mid-autumn-festival-day-1\">Chuseok Holiday</a></td><td>Public Holiday</td></tr>,\n",
       " <tr data-date=\"1632182400000\" data-mask=\"1\" id=\"tr27\"><th class=\"nw\">9월 21일</th><td class=\"nw\">화요일</td><td><a href=\"/holidays/south-korea/mid-autumn-festival-day-2\">Chuseok</a></td><td>Public Holiday</td></tr>,\n",
       " <tr data-date=\"1632268800000\" data-mask=\"1\" id=\"tr28\"><th class=\"nw\">9월 22일</th><td class=\"nw\">수요일</td><td><a href=\"/holidays/south-korea/mid-autumn-festival-day-3\">Chuseok Holiday</a></td><td>Public Holiday</td></tr>,\n",
       " <tr data-date=\"1632370871000\" data-mask=\"256\" id=\"tr29\"><th class=\"nw\">9월 23일</th><td class=\"nw\">목요일</td><td><a href=\"/calendar/september-equinox.html\">September Equinox</a></td><td>Season</td></tr>,\n",
       " <tr id=\"hol_oct\"></tr>,\n",
       " <tr data-date=\"1633046400000\" data-mask=\"16\" id=\"tr31\"><th class=\"nw\">10월 1일</th><td class=\"nw\">금요일</td><td><a href=\"/holidays/south-korea/armed-forces-day\">Armed Forces Day</a></td><td>Observance</td></tr>,\n",
       " <tr data-date=\"1633219200000\" data-mask=\"1\" id=\"tr32\"><th class=\"nw\">10월 3일</th><td class=\"nw\">일요일</td><td><a href=\"/holidays/south-korea/national-foundation-day\">National Foundation Day</a></td><td>National holiday</td></tr>,\n",
       " <tr data-date=\"1633737600000\" data-mask=\"1\" id=\"tr33\"><th class=\"nw\">10월 9일</th><td class=\"nw\">토요일</td><td><a href=\"/holidays/south-korea/hangeul-day\">Hangeul Proclamation Day</a></td><td>National holiday</td></tr>,\n",
       " <tr data-date=\"1635638400000\" data-mask=\"32\" id=\"tr34\"><th class=\"nw\">10월 31일</th><td class=\"nw\">일요일</td><td><a href=\"/holidays/south-korea/halloween\">Halloween</a></td><td>Observance</td></tr>,\n",
       " <tr id=\"hol_nov\"></tr>,\n",
       " <tr id=\"hol_dec\"></tr>,\n",
       " <tr data-date=\"1640134758000\" data-mask=\"256\" id=\"tr37\"><th class=\"nw\">12월 22일</th><td class=\"nw\">수요일</td><td><a href=\"/calendar/december-solstice.html\">December Solstice</a></td><td>Season</td></tr>,\n",
       " <tr data-date=\"1640304000000\" data-mask=\"16\" id=\"tr38\"><th class=\"nw\">12월 24일</th><td class=\"nw\">금요일</td><td><a href=\"/holidays/south-korea/christmas-eve\">Christmas Eve</a></td><td>Observance</td></tr>,\n",
       " <tr data-date=\"1640390400000\" data-mask=\"1\" id=\"tr39\"><th class=\"nw\">12월 25일</th><td class=\"nw\">토요일</td><td><a href=\"/holidays/south-korea/christmas-day\">Christmas Day</a></td><td>Public Holiday</td></tr>,\n",
       " <tr data-date=\"1640908800000\" data-mask=\"16\" id=\"tr40\"><th class=\"nw\">12월 31일</th><td class=\"nw\">금요일</td><td><a href=\"/holidays/south-korea/new-year-eve\">New Year's Eve</a></td><td>Observance</td></tr>]"
      ]
     },
     "execution_count": 10,
     "metadata": {},
     "output_type": "execute_result"
    }
   ],
   "source": [
    "Alltrs"
   ]
  },
  {
   "cell_type": "code",
   "execution_count": 7,
   "metadata": {},
   "outputs": [
    {
     "ename": "NameError",
     "evalue": "name 'Alltds' is not defined",
     "output_type": "error",
     "traceback": [
      "\u001b[1;31m---------------------------------------------------------------------------\u001b[0m",
      "\u001b[1;31mNameError\u001b[0m                                 Traceback (most recent call last)",
      "\u001b[1;32m<ipython-input-7-b1b28017f1bb>\u001b[0m in \u001b[0;36m<module>\u001b[1;34m\u001b[0m\n\u001b[1;32m----> 1\u001b[1;33m \u001b[0mlen\u001b[0m\u001b[1;33m(\u001b[0m\u001b[0mAlltds\u001b[0m\u001b[1;33m)\u001b[0m\u001b[1;33m\u001b[0m\u001b[1;33m\u001b[0m\u001b[0m\n\u001b[0m",
      "\u001b[1;31mNameError\u001b[0m: name 'Alltds' is not defined"
     ]
    }
   ],
   "source": [
    "len(Alltds)"
   ]
  },
  {
   "cell_type": "code",
   "execution_count": null,
   "metadata": {},
   "outputs": [],
   "source": [
    "Alltrs = tbodyTable.findAll(\"tr\")"
   ]
  },
  {
   "cell_type": "code",
   "execution_count": 489,
   "metadata": {},
   "outputs": [
    {
     "data": {
      "text/plain": [
       "<tr id=\"hol_jan\"></tr>"
      ]
     },
     "execution_count": 489,
     "metadata": {},
     "output_type": "execute_result"
    }
   ],
   "source": [
    "Alltrs[0]"
   ]
  },
  {
   "cell_type": "code",
   "execution_count": 458,
   "metadata": {},
   "outputs": [
    {
     "ename": "AttributeError",
     "evalue": "ResultSet object has no attribute 'findAll'. You're probably treating a list of elements like a single element. Did you call find_all() when you meant to call find()?",
     "output_type": "error",
     "traceback": [
      "\u001b[1;31m---------------------------------------------------------------------------\u001b[0m",
      "\u001b[1;31mAttributeError\u001b[0m                            Traceback (most recent call last)",
      "\u001b[1;32m<ipython-input-458-af95270edd98>\u001b[0m in \u001b[0;36m<module>\u001b[1;34m\u001b[0m\n\u001b[1;32m----> 1\u001b[1;33m \u001b[0mAllrows\u001b[0m \u001b[1;33m=\u001b[0m \u001b[0mAlltrs\u001b[0m\u001b[1;33m.\u001b[0m\u001b[0mfindAll\u001b[0m\u001b[1;33m(\u001b[0m\u001b[1;34m\"id\"\u001b[0m\u001b[1;33m)\u001b[0m\u001b[1;33m\u001b[0m\u001b[1;33m\u001b[0m\u001b[0m\n\u001b[0m",
      "\u001b[1;32m~\\anaconda3\\lib\\site-packages\\bs4\\element.py\u001b[0m in \u001b[0;36m__getattr__\u001b[1;34m(self, key)\u001b[0m\n\u001b[0;32m   2171\u001b[0m     \u001b[1;32mdef\u001b[0m \u001b[0m__getattr__\u001b[0m\u001b[1;33m(\u001b[0m\u001b[0mself\u001b[0m\u001b[1;33m,\u001b[0m \u001b[0mkey\u001b[0m\u001b[1;33m)\u001b[0m\u001b[1;33m:\u001b[0m\u001b[1;33m\u001b[0m\u001b[1;33m\u001b[0m\u001b[0m\n\u001b[0;32m   2172\u001b[0m         \u001b[1;34m\"\"\"Raise a helpful exception to explain a common code fix.\"\"\"\u001b[0m\u001b[1;33m\u001b[0m\u001b[1;33m\u001b[0m\u001b[0m\n\u001b[1;32m-> 2173\u001b[1;33m         raise AttributeError(\n\u001b[0m\u001b[0;32m   2174\u001b[0m             \u001b[1;34m\"ResultSet object has no attribute '%s'. You're probably treating a list of elements like a single element. Did you call find_all() when you meant to call find()?\"\u001b[0m \u001b[1;33m%\u001b[0m \u001b[0mkey\u001b[0m\u001b[1;33m\u001b[0m\u001b[1;33m\u001b[0m\u001b[0m\n\u001b[0;32m   2175\u001b[0m         )\n",
      "\u001b[1;31mAttributeError\u001b[0m: ResultSet object has no attribute 'findAll'. You're probably treating a list of elements like a single element. Did you call find_all() when you meant to call find()?"
     ]
    }
   ],
   "source": [
    "Allrows = Alltrs.findAll()"
   ]
  },
  {
   "cell_type": "code",
   "execution_count": 506,
   "metadata": {},
   "outputs": [
    {
     "ename": "TypeError",
     "evalue": "'NoneType' object is not callable",
     "output_type": "error",
     "traceback": [
      "\u001b[1;31m---------------------------------------------------------------------------\u001b[0m",
      "\u001b[1;31mTypeError\u001b[0m                                 Traceback (most recent call last)",
      "\u001b[1;32m<ipython-input-506-80ebb8ae05e6>\u001b[0m in \u001b[0;36m<module>\u001b[1;34m\u001b[0m\n\u001b[1;32m----> 1\u001b[1;33m \u001b[0mcolumnList\u001b[0m \u001b[1;33m=\u001b[0m \u001b[0mtbodyTable\u001b[0m\u001b[1;33m.\u001b[0m\u001b[0mFindAll\u001b[0m\u001b[1;33m(\u001b[0m\u001b[0mname\u001b[0m \u001b[1;33m=\u001b[0m \u001b[1;34m\"tr\"\u001b[0m\u001b[1;33m,\u001b[0m \u001b[0mattrs\u001b[0m \u001b[1;33m=\u001b[0m \u001b[1;33m{\u001b[0m\u001b[1;34m\"class\"\u001b[0m\u001b[1;33m:\u001b[0m\u001b[1;34m\"showrow\"\u001b[0m\u001b[1;33m}\u001b[0m\u001b[1;33m)\u001b[0m\u001b[1;33m\u001b[0m\u001b[1;33m\u001b[0m\u001b[0m\n\u001b[0m",
      "\u001b[1;31mTypeError\u001b[0m: 'NoneType' object is not callable"
     ]
    }
   ],
   "source": [
    "columnList = tbodyTable.FindAll(name = \"tr\", attrs = {\"class\":\"showrow\"})"
   ]
  },
  {
   "cell_type": "code",
   "execution_count": 496,
   "metadata": {},
   "outputs": [
    {
     "data": {
      "text/plain": [
       "[]"
      ]
     },
     "execution_count": 496,
     "metadata": {},
     "output_type": "execute_result"
    }
   ],
   "source": [
    "tr_tag"
   ]
  },
  {
   "cell_type": "code",
   "execution_count": null,
   "metadata": {},
   "outputs": [],
   "source": [
    "DataTable = []\n",
    "\n",
    "for i in range(1, 41):\n",
    "    numberStr = str(i)\n",
    "    name = 'tr'+numberStr\n",
    "    AllmonthDate = TargetTable.find(name=\"tr\", attrs = {\"id\":name})\n",
    "    if AllmonthDate != None:\n",
    "        DataTable.append(AllmonthDate)\n",
    "    "
   ]
  },
  {
   "cell_type": "code",
   "execution_count": 686,
   "metadata": {
    "collapsed": true,
    "jupyter": {
     "outputs_hidden": true
    }
   },
   "outputs": [
    {
     "data": {
      "text/plain": [
       "[<tr data-date=\"1609459200000\" data-mask=\"1\" id=\"tr1\"><th class=\"nw\">1월 1일</th><td class=\"nw\">금요일</td><td><a href=\"/holidays/south-korea/new-year-day\">New Year's Day</a></td><td>Public Holiday</td></tr>,\n",
       " <tr data-date=\"1613001600000\" data-mask=\"1\" id=\"tr3\"><th class=\"nw\">2월 11일</th><td class=\"nw\">목요일</td><td><a href=\"/holidays/south-korea/seollal-holiday-1\">Seollal Holiday</a></td><td>Public Holiday</td></tr>,\n",
       " <tr data-date=\"1613088000000\" data-mask=\"1\" id=\"tr4\"><th class=\"nw\">2월 12일</th><td class=\"nw\">금요일</td><td><a href=\"/holidays/south-korea/seollal-holiday-2\">Seollal</a></td><td>Public Holiday</td></tr>,\n",
       " <tr data-date=\"1613174400000\" data-mask=\"1\" id=\"tr5\"><th class=\"nw\">2월 13일</th><td class=\"nw\">토요일</td><td><a href=\"/holidays/south-korea/seollal-holiday-3\">Seollal Holiday</a></td><td>Public Holiday</td></tr>,\n",
       " <tr data-date=\"1613260800000\" data-mask=\"32\" id=\"tr6\"><th class=\"nw\">2월 14일</th><td class=\"nw\">일요일</td><td><a href=\"/holidays/south-korea/valentines-day\">Valentine's Day</a></td><td>Observance</td></tr>,\n",
       " <tr data-date=\"1614556800000\" data-mask=\"1\" id=\"tr8\"><th class=\"nw\">3월 1일</th><td class=\"nw\">월요일</td><td><a href=\"/holidays/south-korea/independence-movement-day\">Independence Movement Day</a></td><td>National holiday</td></tr>,\n",
       " <tr data-date=\"1616265451000\" data-mask=\"256\" id=\"tr9\"><th class=\"nw\">3월 20일</th><td class=\"nw\">토요일</td><td><a href=\"/calendar/march-equinox.html\">March Equinox</a></td><td>Season</td></tr>,\n",
       " <tr data-date=\"1617580800000\" data-mask=\"16\" id=\"tr11\"><th class=\"nw\">4월 5일</th><td class=\"nw\">월요일</td><td><a href=\"/holidays/south-korea/arbor-day\">Arbor Day</a></td><td>Observance</td></tr>,\n",
       " <tr data-date=\"1619827200000\" data-mask=\"4194304\" id=\"tr13\"><th class=\"nw\">5월 1일</th><td class=\"nw\">토요일</td><td><a href=\"/holidays/south-korea/labor-day\">Labor Day</a></td><td>Bank Holiday</td></tr>,\n",
       " <tr data-date=\"1620172800000\" data-mask=\"1\" id=\"tr14\"><th class=\"nw\">5월 5일</th><td class=\"nw\">수요일</td><td><a href=\"/holidays/south-korea/childrens-day\">Children's Day</a></td><td>Public Holiday</td></tr>,\n",
       " <tr data-date=\"1620432000000\" data-mask=\"16\" id=\"tr15\"><th class=\"nw\">5월 8일</th><td class=\"nw\">토요일</td><td><a href=\"/holidays/south-korea/parents-day\">Parents' Day</a></td><td>Observance</td></tr>,\n",
       " <tr data-date=\"1621036800000\" data-mask=\"16\" id=\"tr16\"><th class=\"nw\">5월 15일</th><td class=\"nw\">토요일</td><td><a href=\"/holidays/south-korea/teachers-day\">Teacher's Day</a></td><td>Observance</td></tr>,\n",
       " <tr data-date=\"1621382400000\" data-mask=\"1\" id=\"tr17\"><th class=\"nw\">5월 19일</th><td class=\"nw\">수요일</td><td><a href=\"/holidays/south-korea/buddha-birthday\">Buddha's Birthday</a></td><td>Public Holiday</td></tr>,\n",
       " <tr data-date=\"1622937600000\" data-mask=\"1\" id=\"tr19\"><th class=\"nw\">6월 6일</th><td class=\"nw\">일요일</td><td><a href=\"/holidays/south-korea/memorial-day\">Memorial Day</a></td><td>Public Holiday</td></tr>,\n",
       " <tr data-date=\"1624278729000\" data-mask=\"256\" id=\"tr20\"><th class=\"nw\">6월 21일</th><td class=\"nw\">월요일</td><td><a href=\"/calendar/june-solstice.html\">June Solstice</a></td><td>Season</td></tr>,\n",
       " <tr data-date=\"1626480000000\" data-mask=\"16\" id=\"tr22\"><th class=\"nw\">7월 17일</th><td class=\"nw\">토요일</td><td><a href=\"/holidays/south-korea/constitution-day\">Constitution Day</a></td><td>Observance</td></tr>,\n",
       " <tr data-date=\"1628985600000\" data-mask=\"1\" id=\"tr24\"><th class=\"nw\">8월 15일</th><td class=\"nw\">일요일</td><td><a href=\"/holidays/south-korea/liberation-day\">Liberation Day</a></td><td>National holiday</td></tr>,\n",
       " <tr data-date=\"1632096000000\" data-mask=\"1\" id=\"tr26\"><th class=\"nw\">9월 20일</th><td class=\"nw\">월요일</td><td><a href=\"/holidays/south-korea/mid-autumn-festival-day-1\">Chuseok Holiday</a></td><td>Public Holiday</td></tr>,\n",
       " <tr data-date=\"1632182400000\" data-mask=\"1\" id=\"tr27\"><th class=\"nw\">9월 21일</th><td class=\"nw\">화요일</td><td><a href=\"/holidays/south-korea/mid-autumn-festival-day-2\">Chuseok</a></td><td>Public Holiday</td></tr>,\n",
       " <tr data-date=\"1632268800000\" data-mask=\"1\" id=\"tr28\"><th class=\"nw\">9월 22일</th><td class=\"nw\">수요일</td><td><a href=\"/holidays/south-korea/mid-autumn-festival-day-3\">Chuseok Holiday</a></td><td>Public Holiday</td></tr>,\n",
       " <tr data-date=\"1632370871000\" data-mask=\"256\" id=\"tr29\"><th class=\"nw\">9월 23일</th><td class=\"nw\">목요일</td><td><a href=\"/calendar/september-equinox.html\">September Equinox</a></td><td>Season</td></tr>,\n",
       " <tr data-date=\"1633046400000\" data-mask=\"16\" id=\"tr31\"><th class=\"nw\">10월 1일</th><td class=\"nw\">금요일</td><td><a href=\"/holidays/south-korea/armed-forces-day\">Armed Forces Day</a></td><td>Observance</td></tr>,\n",
       " <tr data-date=\"1633219200000\" data-mask=\"1\" id=\"tr32\"><th class=\"nw\">10월 3일</th><td class=\"nw\">일요일</td><td><a href=\"/holidays/south-korea/national-foundation-day\">National Foundation Day</a></td><td>National holiday</td></tr>,\n",
       " <tr data-date=\"1633737600000\" data-mask=\"1\" id=\"tr33\"><th class=\"nw\">10월 9일</th><td class=\"nw\">토요일</td><td><a href=\"/holidays/south-korea/hangeul-day\">Hangeul Proclamation Day</a></td><td>National holiday</td></tr>,\n",
       " <tr data-date=\"1635638400000\" data-mask=\"32\" id=\"tr34\"><th class=\"nw\">10월 31일</th><td class=\"nw\">일요일</td><td><a href=\"/holidays/south-korea/halloween\">Halloween</a></td><td>Observance</td></tr>,\n",
       " <tr data-date=\"1640134758000\" data-mask=\"256\" id=\"tr37\"><th class=\"nw\">12월 22일</th><td class=\"nw\">수요일</td><td><a href=\"/calendar/december-solstice.html\">December Solstice</a></td><td>Season</td></tr>,\n",
       " <tr data-date=\"1640304000000\" data-mask=\"16\" id=\"tr38\"><th class=\"nw\">12월 24일</th><td class=\"nw\">금요일</td><td><a href=\"/holidays/south-korea/christmas-eve\">Christmas Eve</a></td><td>Observance</td></tr>,\n",
       " <tr data-date=\"1640390400000\" data-mask=\"1\" id=\"tr39\"><th class=\"nw\">12월 25일</th><td class=\"nw\">토요일</td><td><a href=\"/holidays/south-korea/christmas-day\">Christmas Day</a></td><td>Public Holiday</td></tr>,\n",
       " <tr data-date=\"1640908800000\" data-mask=\"16\" id=\"tr40\"><th class=\"nw\">12월 31일</th><td class=\"nw\">금요일</td><td><a href=\"/holidays/south-korea/new-year-eve\">New Year's Eve</a></td><td>Observance</td></tr>]"
      ]
     },
     "execution_count": 686,
     "metadata": {},
     "output_type": "execute_result"
    }
   ],
   "source": [
    "DataTable"
   ]
  },
  {
   "cell_type": "code",
   "execution_count": 647,
   "metadata": {},
   "outputs": [],
   "source": [
    "eachData = DataTable[0]"
   ]
  },
  {
   "cell_type": "code",
   "execution_count": 648,
   "metadata": {},
   "outputs": [],
   "source": [
    "eachMAD = eachData.find(name = \"th\", attrs = {\"class\":\"nw\"})"
   ]
  },
  {
   "cell_type": "code",
   "execution_count": 649,
   "metadata": {},
   "outputs": [],
   "source": [
    "MonthAndDate = eachMAD.text"
   ]
  },
  {
   "cell_type": "code",
   "execution_count": 650,
   "metadata": {},
   "outputs": [
    {
     "data": {
      "text/plain": [
       "'1월 1일'"
      ]
     },
     "execution_count": 650,
     "metadata": {},
     "output_type": "execute_result"
    }
   ],
   "source": [
    "MonthAndDate"
   ]
  },
  {
   "cell_type": "code",
   "execution_count": 651,
   "metadata": {},
   "outputs": [],
   "source": [
    "eacHdayName = eachData.find(\"a\")"
   ]
  },
  {
   "cell_type": "code",
   "execution_count": 652,
   "metadata": {},
   "outputs": [],
   "source": [
    "Holiday = eacHdayName.text"
   ]
  },
  {
   "cell_type": "code",
   "execution_count": 653,
   "metadata": {},
   "outputs": [
    {
     "data": {
      "text/plain": [
       "\"New Year's Day\""
      ]
     },
     "execution_count": 653,
     "metadata": {},
     "output_type": "execute_result"
    }
   ],
   "source": [
    "Holiday"
   ]
  },
  {
   "cell_type": "code",
   "execution_count": 654,
   "metadata": {},
   "outputs": [],
   "source": []
  },
  {
   "cell_type": "code",
   "execution_count": 655,
   "metadata": {},
   "outputs": [],
   "source": [
    "Day = tds[0].text"
   ]
  },
  {
   "cell_type": "code",
   "execution_count": 656,
   "metadata": {},
   "outputs": [
    {
     "data": {
      "text/plain": [
       "'금요일'"
      ]
     },
     "execution_count": 656,
     "metadata": {},
     "output_type": "execute_result"
    }
   ],
   "source": [
    "Day"
   ]
  },
  {
   "cell_type": "code",
   "execution_count": 657,
   "metadata": {},
   "outputs": [],
   "source": [
    "Name = tds[1].text"
   ]
  },
  {
   "cell_type": "code",
   "execution_count": 658,
   "metadata": {},
   "outputs": [],
   "source": [
    "Type = tds[2].text"
   ]
  },
  {
   "cell_type": "code",
   "execution_count": 12,
   "metadata": {},
   "outputs": [],
   "source": [
    "columnList = []\n",
    "rowList = []"
   ]
  },
  {
   "cell_type": "code",
   "execution_count": 1,
   "metadata": {},
   "outputs": [
    {
     "ename": "NameError",
     "evalue": "name 'DataTable' is not defined",
     "output_type": "error",
     "traceback": [
      "\u001b[1;31m---------------------------------------------------------------------------\u001b[0m",
      "\u001b[1;31mNameError\u001b[0m                                 Traceback (most recent call last)",
      "\u001b[1;32m<ipython-input-1-01ce7d364e2e>\u001b[0m in \u001b[0;36m<module>\u001b[1;34m\u001b[0m\n\u001b[1;32m----> 1\u001b[1;33m \u001b[0mDataTable\u001b[0m\u001b[1;33m\u001b[0m\u001b[1;33m\u001b[0m\u001b[0m\n\u001b[0m",
      "\u001b[1;31mNameError\u001b[0m: name 'DataTable' is not defined"
     ]
    }
   ],
   "source": []
  },
  {
   "cell_type": "code",
   "execution_count": 2,
   "metadata": {},
   "outputs": [],
   "source": []
  },
  {
   "cell_type": "code",
   "execution_count": 4,
   "metadata": {
    "collapsed": true,
    "jupyter": {
     "outputs_hidden": true
    }
   },
   "outputs": [
    {
     "data": {
      "text/plain": [
       "[<tr><th rowspan=\"2\">Date</th><th rowspan=\"2\"> </th><th rowspan=\"2\">Name</th><th rowspan=\"2\">Type</th></tr>,\n",
       " <tr></tr>,\n",
       " <tr id=\"hol_jan\"></tr>,\n",
       " <tr data-date=\"1609459200000\" data-mask=\"1\" id=\"tr1\"><th class=\"nw\">1월 1일</th><td class=\"nw\">금요일</td><td><a href=\"/holidays/south-korea/new-year-day\">New Year's Day</a></td><td>Public Holiday</td></tr>,\n",
       " <tr id=\"hol_feb\"></tr>,\n",
       " <tr data-date=\"1613001600000\" data-mask=\"1\" id=\"tr3\"><th class=\"nw\">2월 11일</th><td class=\"nw\">목요일</td><td><a href=\"/holidays/south-korea/seollal-holiday-1\">Seollal Holiday</a></td><td>Public Holiday</td></tr>,\n",
       " <tr data-date=\"1613088000000\" data-mask=\"1\" id=\"tr4\"><th class=\"nw\">2월 12일</th><td class=\"nw\">금요일</td><td><a href=\"/holidays/south-korea/seollal-holiday-2\">Seollal</a></td><td>Public Holiday</td></tr>,\n",
       " <tr data-date=\"1613174400000\" data-mask=\"1\" id=\"tr5\"><th class=\"nw\">2월 13일</th><td class=\"nw\">토요일</td><td><a href=\"/holidays/south-korea/seollal-holiday-3\">Seollal Holiday</a></td><td>Public Holiday</td></tr>,\n",
       " <tr data-date=\"1613260800000\" data-mask=\"32\" id=\"tr6\"><th class=\"nw\">2월 14일</th><td class=\"nw\">일요일</td><td><a href=\"/holidays/south-korea/valentines-day\">Valentine's Day</a></td><td>Observance</td></tr>,\n",
       " <tr id=\"hol_mar\"></tr>,\n",
       " <tr data-date=\"1614556800000\" data-mask=\"1\" id=\"tr8\"><th class=\"nw\">3월 1일</th><td class=\"nw\">월요일</td><td><a href=\"/holidays/south-korea/independence-movement-day\">Independence Movement Day</a></td><td>National holiday</td></tr>,\n",
       " <tr data-date=\"1616265451000\" data-mask=\"256\" id=\"tr9\"><th class=\"nw\">3월 20일</th><td class=\"nw\">토요일</td><td><a href=\"/calendar/march-equinox.html\">March Equinox</a></td><td>Season</td></tr>,\n",
       " <tr id=\"hol_apr\"></tr>,\n",
       " <tr data-date=\"1617580800000\" data-mask=\"16\" id=\"tr11\"><th class=\"nw\">4월 5일</th><td class=\"nw\">월요일</td><td><a href=\"/holidays/south-korea/arbor-day\">Arbor Day</a></td><td>Observance</td></tr>,\n",
       " <tr id=\"hol_may\"></tr>,\n",
       " <tr data-date=\"1619827200000\" data-mask=\"4194304\" id=\"tr13\"><th class=\"nw\">5월 1일</th><td class=\"nw\">토요일</td><td><a href=\"/holidays/south-korea/labor-day\">Labor Day</a></td><td>Bank Holiday</td></tr>,\n",
       " <tr data-date=\"1620172800000\" data-mask=\"1\" id=\"tr14\"><th class=\"nw\">5월 5일</th><td class=\"nw\">수요일</td><td><a href=\"/holidays/south-korea/childrens-day\">Children's Day</a></td><td>Public Holiday</td></tr>,\n",
       " <tr data-date=\"1620432000000\" data-mask=\"16\" id=\"tr15\"><th class=\"nw\">5월 8일</th><td class=\"nw\">토요일</td><td><a href=\"/holidays/south-korea/parents-day\">Parents' Day</a></td><td>Observance</td></tr>,\n",
       " <tr data-date=\"1621036800000\" data-mask=\"16\" id=\"tr16\"><th class=\"nw\">5월 15일</th><td class=\"nw\">토요일</td><td><a href=\"/holidays/south-korea/teachers-day\">Teacher's Day</a></td><td>Observance</td></tr>,\n",
       " <tr data-date=\"1621382400000\" data-mask=\"1\" id=\"tr17\"><th class=\"nw\">5월 19일</th><td class=\"nw\">수요일</td><td><a href=\"/holidays/south-korea/buddha-birthday\">Buddha's Birthday</a></td><td>Public Holiday</td></tr>,\n",
       " <tr id=\"hol_jun\"></tr>,\n",
       " <tr data-date=\"1622937600000\" data-mask=\"1\" id=\"tr19\"><th class=\"nw\">6월 6일</th><td class=\"nw\">일요일</td><td><a href=\"/holidays/south-korea/memorial-day\">Memorial Day</a></td><td>Public Holiday</td></tr>,\n",
       " <tr data-date=\"1624278729000\" data-mask=\"256\" id=\"tr20\"><th class=\"nw\">6월 21일</th><td class=\"nw\">월요일</td><td><a href=\"/calendar/june-solstice.html\">June Solstice</a></td><td>Season</td></tr>,\n",
       " <tr id=\"hol_jul\"></tr>,\n",
       " <tr data-date=\"1626480000000\" data-mask=\"16\" id=\"tr22\"><th class=\"nw\">7월 17일</th><td class=\"nw\">토요일</td><td><a href=\"/holidays/south-korea/constitution-day\">Constitution Day</a></td><td>Observance</td></tr>,\n",
       " <tr id=\"hol_aug\"></tr>,\n",
       " <tr data-date=\"1628985600000\" data-mask=\"1\" id=\"tr24\"><th class=\"nw\">8월 15일</th><td class=\"nw\">일요일</td><td><a href=\"/holidays/south-korea/liberation-day\">Liberation Day</a></td><td>National holiday</td></tr>,\n",
       " <tr id=\"hol_sep\"></tr>,\n",
       " <tr data-date=\"1632096000000\" data-mask=\"1\" id=\"tr26\"><th class=\"nw\">9월 20일</th><td class=\"nw\">월요일</td><td><a href=\"/holidays/south-korea/mid-autumn-festival-day-1\">Chuseok Holiday</a></td><td>Public Holiday</td></tr>,\n",
       " <tr data-date=\"1632182400000\" data-mask=\"1\" id=\"tr27\"><th class=\"nw\">9월 21일</th><td class=\"nw\">화요일</td><td><a href=\"/holidays/south-korea/mid-autumn-festival-day-2\">Chuseok</a></td><td>Public Holiday</td></tr>,\n",
       " <tr data-date=\"1632268800000\" data-mask=\"1\" id=\"tr28\"><th class=\"nw\">9월 22일</th><td class=\"nw\">수요일</td><td><a href=\"/holidays/south-korea/mid-autumn-festival-day-3\">Chuseok Holiday</a></td><td>Public Holiday</td></tr>,\n",
       " <tr data-date=\"1632370871000\" data-mask=\"256\" id=\"tr29\"><th class=\"nw\">9월 23일</th><td class=\"nw\">목요일</td><td><a href=\"/calendar/september-equinox.html\">September Equinox</a></td><td>Season</td></tr>,\n",
       " <tr id=\"hol_oct\"></tr>,\n",
       " <tr data-date=\"1633046400000\" data-mask=\"16\" id=\"tr31\"><th class=\"nw\">10월 1일</th><td class=\"nw\">금요일</td><td><a href=\"/holidays/south-korea/armed-forces-day\">Armed Forces Day</a></td><td>Observance</td></tr>,\n",
       " <tr data-date=\"1633219200000\" data-mask=\"1\" id=\"tr32\"><th class=\"nw\">10월 3일</th><td class=\"nw\">일요일</td><td><a href=\"/holidays/south-korea/national-foundation-day\">National Foundation Day</a></td><td>National holiday</td></tr>,\n",
       " <tr data-date=\"1633737600000\" data-mask=\"1\" id=\"tr33\"><th class=\"nw\">10월 9일</th><td class=\"nw\">토요일</td><td><a href=\"/holidays/south-korea/hangeul-day\">Hangeul Proclamation Day</a></td><td>National holiday</td></tr>,\n",
       " <tr data-date=\"1635638400000\" data-mask=\"32\" id=\"tr34\"><th class=\"nw\">10월 31일</th><td class=\"nw\">일요일</td><td><a href=\"/holidays/south-korea/halloween\">Halloween</a></td><td>Observance</td></tr>,\n",
       " <tr id=\"hol_nov\"></tr>,\n",
       " <tr id=\"hol_dec\"></tr>,\n",
       " <tr data-date=\"1640134758000\" data-mask=\"256\" id=\"tr37\"><th class=\"nw\">12월 22일</th><td class=\"nw\">수요일</td><td><a href=\"/calendar/december-solstice.html\">December Solstice</a></td><td>Season</td></tr>,\n",
       " <tr data-date=\"1640304000000\" data-mask=\"16\" id=\"tr38\"><th class=\"nw\">12월 24일</th><td class=\"nw\">금요일</td><td><a href=\"/holidays/south-korea/christmas-eve\">Christmas Eve</a></td><td>Observance</td></tr>,\n",
       " <tr data-date=\"1640390400000\" data-mask=\"1\" id=\"tr39\"><th class=\"nw\">12월 25일</th><td class=\"nw\">토요일</td><td><a href=\"/holidays/south-korea/christmas-day\">Christmas Day</a></td><td>Public Holiday</td></tr>,\n",
       " <tr data-date=\"1640908800000\" data-mask=\"16\" id=\"tr40\"><th class=\"nw\">12월 31일</th><td class=\"nw\">금요일</td><td><a href=\"/holidays/south-korea/new-year-eve\">New Year's Eve</a></td><td>Observance</td></tr>]"
      ]
     },
     "execution_count": 4,
     "metadata": {},
     "output_type": "execute_result"
    }
   ],
   "source": [
    "Alltrs"
   ]
  },
  {
   "cell_type": "code",
   "execution_count": 3,
   "metadata": {},
   "outputs": [
    {
     "data": {
      "text/plain": [
       "43"
      ]
     },
     "execution_count": 3,
     "metadata": {},
     "output_type": "execute_result"
    }
   ],
   "source": [
    "len(Alltrs)"
   ]
  },
  {
   "cell_type": "code",
   "execution_count": 12,
   "metadata": {},
   "outputs": [],
   "source": [
    "DataTable = [] ## 추출에 필요한 데이터 넣는 DataTable"
   ]
  },
  {
   "cell_type": "code",
   "execution_count": 7,
   "metadata": {},
   "outputs": [
    {
     "data": {
      "text/plain": [
       "'tr1'"
      ]
     },
     "execution_count": 7,
     "metadata": {},
     "output_type": "execute_result"
    }
   ],
   "source": [
    "'tr' + '1'"
   ]
  },
  {
   "cell_type": "code",
   "execution_count": 1,
   "metadata": {},
   "outputs": [
    {
     "ename": "NameError",
     "evalue": "name 'DataTable' is not defined",
     "output_type": "error",
     "traceback": [
      "\u001b[1;31m---------------------------------------------------------------------------\u001b[0m",
      "\u001b[1;31mNameError\u001b[0m                                 Traceback (most recent call last)",
      "\u001b[1;32m<ipython-input-1-cdbafb272205>\u001b[0m in \u001b[0;36m<module>\u001b[1;34m\u001b[0m\n\u001b[0;32m     22\u001b[0m     \u001b[0mAllmonthDate\u001b[0m \u001b[1;33m=\u001b[0m \u001b[0mTargetTable\u001b[0m\u001b[1;33m.\u001b[0m\u001b[0mfind\u001b[0m\u001b[1;33m(\u001b[0m\u001b[0mname\u001b[0m\u001b[1;33m=\u001b[0m\u001b[1;34m\"tr\"\u001b[0m\u001b[1;33m,\u001b[0m \u001b[0mattrs\u001b[0m \u001b[1;33m=\u001b[0m \u001b[1;33m{\u001b[0m\u001b[1;34m\"id\"\u001b[0m\u001b[1;33m:\u001b[0m\u001b[0mname\u001b[0m\u001b[1;33m}\u001b[0m\u001b[1;33m)\u001b[0m\u001b[1;33m\u001b[0m\u001b[1;33m\u001b[0m\u001b[0m\n\u001b[0;32m     23\u001b[0m     \u001b[1;32mif\u001b[0m \u001b[0mAllmonthDate\u001b[0m \u001b[1;33m!=\u001b[0m \u001b[1;32mNone\u001b[0m\u001b[1;33m:\u001b[0m\u001b[1;33m\u001b[0m\u001b[1;33m\u001b[0m\u001b[0m\n\u001b[1;32m---> 24\u001b[1;33m         \u001b[0mDataTable\u001b[0m\u001b[1;33m.\u001b[0m\u001b[0mappend\u001b[0m\u001b[1;33m(\u001b[0m\u001b[0mAllmonthDate\u001b[0m\u001b[1;33m)\u001b[0m\u001b[1;33m\u001b[0m\u001b[1;33m\u001b[0m\u001b[0m\n\u001b[0m\u001b[0;32m     25\u001b[0m \u001b[1;33m\u001b[0m\u001b[0m\n\u001b[0;32m     26\u001b[0m \u001b[1;31m### 전체 테이블 추출 완료. 세부적으로 들어가자. 1. th추출, 2. td추출, 3. 종합하기\u001b[0m\u001b[1;33m\u001b[0m\u001b[1;33m\u001b[0m\u001b[1;33m\u001b[0m\u001b[0m\n",
      "\u001b[1;31mNameError\u001b[0m: name 'DataTable' is not defined"
     ]
    }
   ],
   "source": [
    "import pandas as pd\n",
    "\n",
    "from bs4 import BeautifulSoup # 태그 이쁘게 뜨기\n",
    "import requests # 웹페이지 접속 요청\n",
    "targetUrl = \"https://www.timeanddate.com/holidays/south-korea/\"\n",
    "\n",
    "resp = requests.get(url=targetUrl) ## response 200 = 정상인지 아닌지 먼저 확인해보자. 이 사이트의 경우 정상!\n",
    "\n",
    "resp.encoding = \"utf-8\" ## 인코딩\n",
    "html = resp.text\n",
    "htmlObj = BeautifulSoup(html, \"html.parser\") ## beautifulSoup 사용\n",
    "##targetParent = htmlObj.find(name=\"ul\")\n",
    "TargetTable = htmlObj.find(name = \"table\", attrs = {\"id\":\"holidays-table\"})\n",
    "\n",
    "Alltrs = TargetTable.findAll('tr') ## 전체 tr 데이터 추출.\n",
    "\n",
    "\n",
    "## 필요한 데이터만 먼저 DataTable에 넣기. None타입을 제외하고 따로 DataTable 변수에 담는다.\n",
    "for i in range(0, len(Alltrs)):\n",
    "    numberStr = str(i)\n",
    "    name = 'tr'+numberStr\n",
    "    AllmonthDate = TargetTable.find(name=\"tr\", attrs = {\"id\":name})\n",
    "    if AllmonthDate != None:\n",
    "        DataTable.append(AllmonthDate)\n",
    "    \n",
    "### 전체 테이블 추출 완료. 세부적으로 들어가자. 1. th추출, 2. td추출, 3. 종합하기\n",
    "    \n",
    "\n",
    "columnList = []\n",
    "rowList = []\n",
    "\n",
    "\n",
    "## for문으로 데이터 수집. \n",
    "for j in range(0, len(DataTable)):\n",
    "    eachData = DataTable[j]\n",
    "    eachMAD = eachData.find(name = \"th\", attrs = {\"class\":\"nw\"}) ## 0번째 열에 들어갈 월/일 데이터 수집.\n",
    "    MonthAndDate = eachMAD.text\n",
    "    columnList.append(MonthAndDate)\n",
    "    tds = eachData.findAll(name = \"td\")\n",
    "    \n",
    "    for i in range(0, len(tds)): # 1,2,3번째 컬럼에 들어갈 td 컬럼이 중복되므로 따로 for문 사용해 데이터 수집.\n",
    "        \n",
    "        columnList.append(tds[i].text)\n",
    "    \n",
    "    \n",
    "    rowList.append(columnList)    \n",
    "    columnList = []\n",
    "\n",
    "columnNameList = [\"월/일\", \"요일\", \"휴일\", \"타입\"]\n",
    "\n",
    "resultTable = pd.DataFrame(rowList)\n",
    "\n",
    "resultTable.columns = columnNameList\n",
    "resultTable "
   ]
  },
  {
   "cell_type": "code",
   "execution_count": null,
   "metadata": {},
   "outputs": [],
   "source": []
  },
  {
   "cell_type": "code",
   "execution_count": null,
   "metadata": {},
   "outputs": [],
   "source": []
  }
 ],
 "metadata": {
  "kernelspec": {
   "display_name": "Python 3",
   "language": "python",
   "name": "python3"
  },
  "language_info": {
   "codemirror_mode": {
    "name": "ipython",
    "version": 3
   },
   "file_extension": ".py",
   "mimetype": "text/x-python",
   "name": "python",
   "nbconvert_exporter": "python",
   "pygments_lexer": "ipython3",
   "version": "3.8.5"
  }
 },
 "nbformat": 4,
 "nbformat_minor": 4
}
