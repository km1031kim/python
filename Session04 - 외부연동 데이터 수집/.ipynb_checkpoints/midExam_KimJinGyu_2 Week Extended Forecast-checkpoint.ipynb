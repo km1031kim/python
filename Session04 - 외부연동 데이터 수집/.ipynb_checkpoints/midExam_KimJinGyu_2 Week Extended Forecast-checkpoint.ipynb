{
 "cells": [
  {
   "cell_type": "markdown",
   "metadata": {},
   "source": [
    "## 서울의 현재 날짜로부터 2주동안의 날씨 정보를 크롤링 해보자"
   ]
  },
  {
   "cell_type": "markdown",
   "metadata": {},
   "source": [
    "##### 1.셀레니움 활용 웹브라우져 자동화"
   ]
  },
  {
   "cell_type": "code",
   "execution_count": 25,
   "metadata": {},
   "outputs": [],
   "source": [
    "### 1-1. 라이브러리 선언\n",
    "from selenium import webdriver\n",
    "import pandas as pd\n",
    "from selenium.webdriver.common.by import By ## 커서 이동을 위해 라이브러리 추가."
   ]
  },
  {
   "cell_type": "code",
   "execution_count": 86,
   "metadata": {},
   "outputs": [],
   "source": [
    "### 1-2. 웹브라우저 설정\n",
    "options = webdriver.ChromeOptions()\n",
    "\n",
    "\n",
    "# 일반옵션 - 브라우저를 진짜 띄운다.\n",
    "\n",
    "options.add_argument(\"window-size=1920*1080\") #pypi.org에 정보\n",
    "#options.add_argument(\"--headless\") ## headless로 실행.\n",
    "driverLoc = \"../addon/chromedriver/chromedriver.exe\" # 상대경로 지정.\n",
    "\n",
    "driver = webdriver.Chrome(executable_path=driverLoc, options=options) # 파라미터를 지정(변수로 지정해주면) 했으면 둘다 변수로 지정해줘야한다. \n",
    "\n",
    "driver.implicitly_wait(3) ### 웹페이지 파싱 될때까지 최대 3초 기다림"
   ]
  },
  {
   "cell_type": "code",
   "execution_count": 87,
   "metadata": {},
   "outputs": [],
   "source": [
    "### 1-3. 브라우저 열기\n",
    "targetUrl = \"https://www.timeanddate.com/\"\n",
    "# https://www.timeanddate.com/weather/south-korea/seoul/ext"
   ]
  },
  {
   "cell_type": "code",
   "execution_count": 88,
   "metadata": {},
   "outputs": [],
   "source": [
    "## get 함수를 사용 url정보를 던져줘서 이동시키기.\n",
    "driver.get(targetUrl)"
   ]
  },
  {
   "cell_type": "code",
   "execution_count": 90,
   "metadata": {},
   "outputs": [],
   "source": [
    "## 마우스 커서를 가져다 대야 원하는 창 선택이 가능하다. 해당 메뉴로 커서를 이동시키자.\n",
    "weatherMenu = driver.find_element(By.XPATH, '//*[@id=\"site-nav\"]/li[5]/a')\n",
    "webdriver.ActionChains(driver).move_to_element(weatherMenu).perform()"
   ]
  },
  {
   "cell_type": "code",
   "execution_count": 91,
   "metadata": {},
   "outputs": [],
   "source": [
    "## 여기서 다시 2-Week Forecast 클릭 실행\n",
    "twoWeekForecastXpath = '//*[@id=\"site-nav\"]/li[5]/ul/li[4]/a'\n",
    "twoWeekForecastXpathBtn = driver.find_element_by_xpath(twoWeekForecastXpath)\n",
    "twoWeekForecastXpathBtn.click() ## 클릭으로 창 이동."
   ]
  },
  {
   "cell_type": "code",
   "execution_count": 92,
   "metadata": {},
   "outputs": [],
   "source": [
    "## 현재 창에서 크롤링 진행.\n",
    "## 셀레니움의 역활은 여기까지\n",
    "targetUrl = driver.current_url\n",
    "pgSource = driver.page_source"
   ]
  },
  {
   "cell_type": "markdown",
   "metadata": {},
   "source": [
    "##### 2. 크롤링하기. 오늘부터 2주동안의 서울 날씨를 크롤링해보자."
   ]
  },
  {
   "cell_type": "code",
   "execution_count": 42,
   "metadata": {},
   "outputs": [],
   "source": [
    "### 2-1 라이브러리 선언\n",
    "from bs4 import BeautifulSoup # 태그 이쁘게 뜨기\n",
    "import requests # 웹페이지 접속 요청\n",
    "resp = requests.get(url=targetUrl) ## response 200 = 정상, 확인완료\n",
    "resp.encoding = \"utf-8\" ## 인코딩\n",
    "html = resp.text\n",
    "htmlObj = BeautifulSoup(html, \"html.parser\") ## beautifulSoup 사용\n",
    "\n",
    "##targetParent = htmlObj.find(name=\"ul\")\n",
    "Allinfomation = htmlObj.find(name=\"tbody\")"
   ]
  },
  {
   "cell_type": "code",
   "execution_count": 44,
   "metadata": {},
   "outputs": [],
   "source": [
    "Alltrs = Allinfomation.findAll(\"tr\")"
   ]
  },
  {
   "cell_type": "code",
   "execution_count": 47,
   "metadata": {},
   "outputs": [],
   "source": [
    "eachTr = Alltrs[0]"
   ]
  },
  {
   "cell_type": "code",
   "execution_count": 59,
   "metadata": {},
   "outputs": [
    {
     "data": {
      "text/plain": [
       "<td class=\"wt-ic\"><img class=\"mtt\" height=\"40\" src=\"//c.tadst.com/gfx/w/svg/wt-4.svg\" title=\"Morning clouds.\" width=\"40\"/></td>"
      ]
     },
     "execution_count": 59,
     "metadata": {},
     "output_type": "execute_result"
    }
   ],
   "source": [
    "## eachTr.find(\"td\") 그림 데이터라 생략하도록 한다."
   ]
  },
  {
   "cell_type": "code",
   "execution_count": 70,
   "metadata": {},
   "outputs": [],
   "source": [
    "date = eachTr.find(\"th\").text"
   ]
  },
  {
   "cell_type": "code",
   "execution_count": 72,
   "metadata": {},
   "outputs": [],
   "source": [
    "eachDate = date.replace(\"요일\",\"요일 \")"
   ]
  },
  {
   "cell_type": "code",
   "execution_count": 73,
   "metadata": {},
   "outputs": [
    {
     "data": {
      "text/plain": [
       "'토요일 4월 24일'"
      ]
     },
     "execution_count": 73,
     "metadata": {},
     "output_type": "execute_result"
    }
   ],
   "source": [
    "## 요일, 월, 일 추출 완료\n",
    "eachDate"
   ]
  },
  {
   "cell_type": "code",
   "execution_count": 82,
   "metadata": {},
   "outputs": [],
   "source": [
    "weather = eachTr.find(name=\"td\", attrs={\"class\":\"small\"})"
   ]
  },
  {
   "cell_type": "code",
   "execution_count": 93,
   "metadata": {},
   "outputs": [],
   "source": [
    "eachWether = weather.text"
   ]
  },
  {
   "cell_type": "code",
   "execution_count": 94,
   "metadata": {},
   "outputs": [
    {
     "data": {
      "text/plain": [
       "'Morning clouds.'"
      ]
     },
     "execution_count": 94,
     "metadata": {},
     "output_type": "execute_result"
    }
   ],
   "source": [
    "## 날씨 추출 완료.\n",
    "eachWether"
   ]
  },
  {
   "cell_type": "code",
   "execution_count": 95,
   "metadata": {},
   "outputs": [],
   "source": [
    "FeelsLike = eachTr.find(name=\"td\", attrs={\"class\":\"sep\"})"
   ]
  },
  {
   "cell_type": "code",
   "execution_count": 98,
   "metadata": {},
   "outputs": [],
   "source": [
    "weatherFeel = FeelsLike.text"
   ]
  },
  {
   "cell_type": "code",
   "execution_count": 100,
   "metadata": {},
   "outputs": [],
   "source": [
    "Feelsliketemp =  weatherFeel.replace(\"\\xa0\",\"\")"
   ]
  },
  {
   "cell_type": "code",
   "execution_count": 101,
   "metadata": {},
   "outputs": [
    {
     "data": {
      "text/plain": [
       "'25°C'"
      ]
     },
     "execution_count": 101,
     "metadata": {},
     "output_type": "execute_result"
    }
   ],
   "source": [
    "## 체감온도 추출 완료.\n",
    "Feelsliketemp"
   ]
  },
  {
   "cell_type": "code",
   "execution_count": 178,
   "metadata": {},
   "outputs": [],
   "source": [
    "Alltd = eachTr.findAll(name=\"td\")"
   ]
  },
  {
   "cell_type": "code",
   "execution_count": 179,
   "metadata": {},
   "outputs": [
    {
     "data": {
      "text/plain": [
       "[<td class=\"wt-ic\"><img class=\"mtt\" height=\"40\" src=\"//c.tadst.com/gfx/w/svg/wt-4.svg\" title=\"Morning clouds.\" width=\"40\"/></td>,\n",
       " <td>24 / 14 °C</td>,\n",
       " <td class=\"small\">Morning clouds.</td>,\n",
       " <td class=\"sep\">25 °C</td>,\n",
       " <td>11 km/h</td>,\n",
       " <td><span class=\"comp sa22\" title=\"Wind blowing from 74° East-northeast to West-southwest\">↑</span></td>,\n",
       " <td>27%</td>,\n",
       " <td class=\"sep\">6%</td>,\n",
       " <td>-</td>,\n",
       " <td class=\"sep\"><span title=\"Moderate\">5</span> <span class=\"smaller\">(Moderate)</span></td>,\n",
       " <td>오전 05:45.</td>,\n",
       " <td>오후 07:15.</td>]"
      ]
     },
     "execution_count": 179,
     "metadata": {},
     "output_type": "execute_result"
    }
   ],
   "source": [
    "Alltd"
   ]
  },
  {
   "cell_type": "code",
   "execution_count": 180,
   "metadata": {},
   "outputs": [],
   "source": [
    "temp = Alltd[1].text"
   ]
  },
  {
   "cell_type": "code",
   "execution_count": 181,
   "metadata": {},
   "outputs": [
    {
     "data": {
      "text/plain": [
       "'24 / 14\\xa0°C'"
      ]
     },
     "execution_count": 181,
     "metadata": {},
     "output_type": "execute_result"
    }
   ],
   "source": []
  },
  {
   "cell_type": "code",
   "execution_count": null,
   "metadata": {},
   "outputs": [],
   "source": []
  }
 ],
 "metadata": {
  "kernelspec": {
   "display_name": "Python 3",
   "language": "python",
   "name": "python3"
  },
  "language_info": {
   "codemirror_mode": {
    "name": "ipython",
    "version": 3
   },
   "file_extension": ".py",
   "mimetype": "text/x-python",
   "name": "python",
   "nbconvert_exporter": "python",
   "pygments_lexer": "ipython3",
   "version": "3.8.5"
  }
 },
 "nbformat": 4,
 "nbformat_minor": 4
}
